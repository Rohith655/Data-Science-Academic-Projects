{
 "cells": [
  {
   "cell_type": "markdown",
   "metadata": {},
   "source": [
    "\n",
    "# Creating a Spark Session"
   ]
  },
  {
   "cell_type": "code",
   "execution_count": 1,
   "metadata": {},
   "outputs": [],
   "source": [
    "from pyspark.sql import SparkSession"
   ]
  },
  {
   "cell_type": "code",
   "execution_count": 2,
   "metadata": {},
   "outputs": [],
   "source": [
    "spark = SparkSession.builder.appName(\"PySparkShell\").getOrCreate();"
   ]
  },
  {
   "cell_type": "code",
   "execution_count": 3,
   "metadata": {},
   "outputs": [
    {
     "data": {
      "text/html": [
       "\n",
       "            <div>\n",
       "                <p><b>SparkSession - hive</b></p>\n",
       "                \n",
       "        <div>\n",
       "            <p><b>SparkContext</b></p>\n",
       "\n",
       "            <p><a href=\"http://192.168.0.62:4040\">Spark UI</a></p>\n",
       "\n",
       "            <dl>\n",
       "              <dt>Version</dt>\n",
       "                <dd><code>v2.3.0</code></dd>\n",
       "              <dt>Master</dt>\n",
       "                <dd><code>local[*]</code></dd>\n",
       "              <dt>AppName</dt>\n",
       "                <dd><code>PySparkShell</code></dd>\n",
       "            </dl>\n",
       "        </div>\n",
       "        \n",
       "            </div>\n",
       "        "
      ],
      "text/plain": [
       "<pyspark.sql.session.SparkSession at 0x7fbf41c95190>"
      ]
     },
     "execution_count": 3,
     "metadata": {},
     "output_type": "execute_result"
    }
   ],
   "source": [
    "spark"
   ]
  },
  {
   "cell_type": "markdown",
   "metadata": {},
   "source": [
    "# Loading data through RDD"
   ]
  },
  {
   "cell_type": "code",
   "execution_count": 4,
   "metadata": {},
   "outputs": [
    {
     "data": {
      "text/plain": [
       "'Area Abbreviation,Area Code,Area,Item Code,Item,Element Code,Element,Unit,latitude,longitude,Y1961,Y1962,Y1963,Y1964,Y1965,Y1966,Y1967,Y1968,Y1969,Y1970,Y1971,Y1972,Y1973,Y1974,Y1975,Y1976,Y1977,Y1978,Y1979,Y1980,Y1981,Y1982,Y1983,Y1984,Y1985,Y1986,Y1987,Y1988,Y1989,Y1990,Y1991,Y1992,Y1993,Y1994,Y1995,Y1996,Y1997,Y1998,Y1999,Y2000,Y2001,Y2002,Y2003,Y2004,Y2005,Y2006,Y2007,Y2008,Y2009,Y2010,Y2011,Y2012,Y2013'"
      ]
     },
     "execution_count": 4,
     "metadata": {},
     "output_type": "execute_result"
    }
   ],
   "source": [
    "rdd = sc.textFile('FAO.csv')\n",
    "rdd.first()"
   ]
  },
  {
   "cell_type": "code",
   "execution_count": 5,
   "metadata": {},
   "outputs": [
    {
     "data": {
      "text/plain": [
       "'AFG,2,Afghanistan,2511,Wheat and products,5142,Food,1000 tonnes,33.94,67.71,1928,1904,1666,1950,2001,1808,2053,2045,2154,1819,1963,2215,2310,2335,2434,2512,2282,2454,2443,2129,2133,2068,1994,1851,1791,1683,2194,1801,1754,1640,1539,1582,1840,1855,1853,2177,2343,2407,2463,2600,2668,2776,3095,3249,3486,3704,4164,4252,4538,4605,4711,4810,4895'"
      ]
     },
     "execution_count": 5,
     "metadata": {},
     "output_type": "execute_result"
    }
   ],
   "source": [
    "rdd_head= rdd.first()\n",
    "rdd1 = rdd.filter(lambda line:line!=rdd_head)\n",
    "rdd1.first()"
   ]
  },
  {
   "cell_type": "code",
   "execution_count": 6,
   "metadata": {},
   "outputs": [
    {
     "data": {
      "text/plain": [
       "21478"
      ]
     },
     "execution_count": 6,
     "metadata": {},
     "output_type": "execute_result"
    }
   ],
   "source": [
    "rdd.count()"
   ]
  },
  {
   "cell_type": "code",
   "execution_count": 7,
   "metadata": {},
   "outputs": [
    {
     "data": {
      "text/plain": [
       "[['AFG',\n",
       "  '2',\n",
       "  'Afghanistan',\n",
       "  '2511',\n",
       "  'Wheat and products',\n",
       "  '5142',\n",
       "  'Food',\n",
       "  '1000 tonnes',\n",
       "  '33.94',\n",
       "  '67.71',\n",
       "  '1928',\n",
       "  '1904',\n",
       "  '1666',\n",
       "  '1950',\n",
       "  '2001',\n",
       "  '1808',\n",
       "  '2053',\n",
       "  '2045',\n",
       "  '2154',\n",
       "  '1819',\n",
       "  '1963',\n",
       "  '2215',\n",
       "  '2310',\n",
       "  '2335',\n",
       "  '2434',\n",
       "  '2512',\n",
       "  '2282',\n",
       "  '2454',\n",
       "  '2443',\n",
       "  '2129',\n",
       "  '2133',\n",
       "  '2068',\n",
       "  '1994',\n",
       "  '1851',\n",
       "  '1791',\n",
       "  '1683',\n",
       "  '2194',\n",
       "  '1801',\n",
       "  '1754',\n",
       "  '1640',\n",
       "  '1539',\n",
       "  '1582',\n",
       "  '1840',\n",
       "  '1855',\n",
       "  '1853',\n",
       "  '2177',\n",
       "  '2343',\n",
       "  '2407',\n",
       "  '2463',\n",
       "  '2600',\n",
       "  '2668',\n",
       "  '2776',\n",
       "  '3095',\n",
       "  '3249',\n",
       "  '3486',\n",
       "  '3704',\n",
       "  '4164',\n",
       "  '4252',\n",
       "  '4538',\n",
       "  '4605',\n",
       "  '4711',\n",
       "  '4810',\n",
       "  '4895']]"
      ]
     },
     "execution_count": 7,
     "metadata": {},
     "output_type": "execute_result"
    }
   ],
   "source": [
    "rdd1.map(lambda line:line.split(',')).take(1)"
   ]
  },
  {
   "cell_type": "markdown",
   "metadata": {},
   "source": [
    "# Loading data through DataFrame"
   ]
  },
  {
   "cell_type": "code",
   "execution_count": 8,
   "metadata": {},
   "outputs": [],
   "source": [
    " df_fao= spark.read.format('csv').options(delimiter=',', header=True).load('FAO.csv')"
   ]
  },
  {
   "cell_type": "code",
   "execution_count": 9,
   "metadata": {
    "scrolled": true
   },
   "outputs": [
    {
     "data": {
      "text/plain": [
       "DataFrame[Area Abbreviation: string, Area Code: string, Area: string, Item Code: string, Item: string, Element Code: string, Element: string, Unit: string, latitude: string, longitude: string, Y1961: string, Y1962: string, Y1963: string, Y1964: string, Y1965: string, Y1966: string, Y1967: string, Y1968: string, Y1969: string, Y1970: string, Y1971: string, Y1972: string, Y1973: string, Y1974: string, Y1975: string, Y1976: string, Y1977: string, Y1978: string, Y1979: string, Y1980: string, Y1981: string, Y1982: string, Y1983: string, Y1984: string, Y1985: string, Y1986: string, Y1987: string, Y1988: string, Y1989: string, Y1990: string, Y1991: string, Y1992: string, Y1993: string, Y1994: string, Y1995: string, Y1996: string, Y1997: string, Y1998: string, Y1999: string, Y2000: string, Y2001: string, Y2002: string, Y2003: string, Y2004: string, Y2005: string, Y2006: string, Y2007: string, Y2008: string, Y2009: string, Y2010: string, Y2011: string, Y2012: string, Y2013: string]"
      ]
     },
     "execution_count": 9,
     "metadata": {},
     "output_type": "execute_result"
    }
   ],
   "source": [
    "df_fao"
   ]
  },
  {
   "cell_type": "markdown",
   "metadata": {},
   "source": [
    "# Finding the datatypes"
   ]
  },
  {
   "cell_type": "code",
   "execution_count": 10,
   "metadata": {},
   "outputs": [
    {
     "name": "stdout",
     "output_type": "stream",
     "text": [
      "root\n",
      " |-- Area Abbreviation: string (nullable = true)\n",
      " |-- Area Code: string (nullable = true)\n",
      " |-- Area: string (nullable = true)\n",
      " |-- Item Code: string (nullable = true)\n",
      " |-- Item: string (nullable = true)\n",
      " |-- Element Code: string (nullable = true)\n",
      " |-- Element: string (nullable = true)\n",
      " |-- Unit: string (nullable = true)\n",
      " |-- latitude: string (nullable = true)\n",
      " |-- longitude: string (nullable = true)\n",
      " |-- Y1961: string (nullable = true)\n",
      " |-- Y1962: string (nullable = true)\n",
      " |-- Y1963: string (nullable = true)\n",
      " |-- Y1964: string (nullable = true)\n",
      " |-- Y1965: string (nullable = true)\n",
      " |-- Y1966: string (nullable = true)\n",
      " |-- Y1967: string (nullable = true)\n",
      " |-- Y1968: string (nullable = true)\n",
      " |-- Y1969: string (nullable = true)\n",
      " |-- Y1970: string (nullable = true)\n",
      " |-- Y1971: string (nullable = true)\n",
      " |-- Y1972: string (nullable = true)\n",
      " |-- Y1973: string (nullable = true)\n",
      " |-- Y1974: string (nullable = true)\n",
      " |-- Y1975: string (nullable = true)\n",
      " |-- Y1976: string (nullable = true)\n",
      " |-- Y1977: string (nullable = true)\n",
      " |-- Y1978: string (nullable = true)\n",
      " |-- Y1979: string (nullable = true)\n",
      " |-- Y1980: string (nullable = true)\n",
      " |-- Y1981: string (nullable = true)\n",
      " |-- Y1982: string (nullable = true)\n",
      " |-- Y1983: string (nullable = true)\n",
      " |-- Y1984: string (nullable = true)\n",
      " |-- Y1985: string (nullable = true)\n",
      " |-- Y1986: string (nullable = true)\n",
      " |-- Y1987: string (nullable = true)\n",
      " |-- Y1988: string (nullable = true)\n",
      " |-- Y1989: string (nullable = true)\n",
      " |-- Y1990: string (nullable = true)\n",
      " |-- Y1991: string (nullable = true)\n",
      " |-- Y1992: string (nullable = true)\n",
      " |-- Y1993: string (nullable = true)\n",
      " |-- Y1994: string (nullable = true)\n",
      " |-- Y1995: string (nullable = true)\n",
      " |-- Y1996: string (nullable = true)\n",
      " |-- Y1997: string (nullable = true)\n",
      " |-- Y1998: string (nullable = true)\n",
      " |-- Y1999: string (nullable = true)\n",
      " |-- Y2000: string (nullable = true)\n",
      " |-- Y2001: string (nullable = true)\n",
      " |-- Y2002: string (nullable = true)\n",
      " |-- Y2003: string (nullable = true)\n",
      " |-- Y2004: string (nullable = true)\n",
      " |-- Y2005: string (nullable = true)\n",
      " |-- Y2006: string (nullable = true)\n",
      " |-- Y2007: string (nullable = true)\n",
      " |-- Y2008: string (nullable = true)\n",
      " |-- Y2009: string (nullable = true)\n",
      " |-- Y2010: string (nullable = true)\n",
      " |-- Y2011: string (nullable = true)\n",
      " |-- Y2012: string (nullable = true)\n",
      " |-- Y2013: string (nullable = true)\n",
      "\n"
     ]
    }
   ],
   "source": [
    "df_fao.printSchema()"
   ]
  },
  {
   "cell_type": "markdown",
   "metadata": {},
   "source": [
    "# Displaying column names"
   ]
  },
  {
   "cell_type": "code",
   "execution_count": 11,
   "metadata": {},
   "outputs": [
    {
     "data": {
      "text/plain": [
       "['Area Abbreviation',\n",
       " 'Area Code',\n",
       " 'Area',\n",
       " 'Item Code',\n",
       " 'Item',\n",
       " 'Element Code',\n",
       " 'Element',\n",
       " 'Unit',\n",
       " 'latitude',\n",
       " 'longitude',\n",
       " 'Y1961',\n",
       " 'Y1962',\n",
       " 'Y1963',\n",
       " 'Y1964',\n",
       " 'Y1965',\n",
       " 'Y1966',\n",
       " 'Y1967',\n",
       " 'Y1968',\n",
       " 'Y1969',\n",
       " 'Y1970',\n",
       " 'Y1971',\n",
       " 'Y1972',\n",
       " 'Y1973',\n",
       " 'Y1974',\n",
       " 'Y1975',\n",
       " 'Y1976',\n",
       " 'Y1977',\n",
       " 'Y1978',\n",
       " 'Y1979',\n",
       " 'Y1980',\n",
       " 'Y1981',\n",
       " 'Y1982',\n",
       " 'Y1983',\n",
       " 'Y1984',\n",
       " 'Y1985',\n",
       " 'Y1986',\n",
       " 'Y1987',\n",
       " 'Y1988',\n",
       " 'Y1989',\n",
       " 'Y1990',\n",
       " 'Y1991',\n",
       " 'Y1992',\n",
       " 'Y1993',\n",
       " 'Y1994',\n",
       " 'Y1995',\n",
       " 'Y1996',\n",
       " 'Y1997',\n",
       " 'Y1998',\n",
       " 'Y1999',\n",
       " 'Y2000',\n",
       " 'Y2001',\n",
       " 'Y2002',\n",
       " 'Y2003',\n",
       " 'Y2004',\n",
       " 'Y2005',\n",
       " 'Y2006',\n",
       " 'Y2007',\n",
       " 'Y2008',\n",
       " 'Y2009',\n",
       " 'Y2010',\n",
       " 'Y2011',\n",
       " 'Y2012',\n",
       " 'Y2013']"
      ]
     },
     "execution_count": 11,
     "metadata": {},
     "output_type": "execute_result"
    }
   ],
   "source": [
    "df_fao.columns"
   ]
  },
  {
   "cell_type": "code",
   "execution_count": 12,
   "metadata": {},
   "outputs": [
    {
     "data": {
      "text/plain": [
       "21477"
      ]
     },
     "execution_count": 12,
     "metadata": {},
     "output_type": "execute_result"
    }
   ],
   "source": [
    "df_fao.count()"
   ]
  },
  {
   "cell_type": "code",
   "execution_count": 13,
   "metadata": {},
   "outputs": [
    {
     "name": "stdout",
     "output_type": "stream",
     "text": [
      "+-----------------+---------+-----------+---------+--------------------+------------+-------+-----------+--------+---------+-----+-----+-----+-----+-----+-----+-----+-----+-----+-----+-----+-----+-----+-----+-----+-----+-----+-----+-----+-----+-----+-----+-----+-----+-----+-----+-----+-----+-----+-----+-----+-----+-----+-----+-----+-----+-----+-----+-----+-----+-----+-----+-----+-----+-----+-----+-----+-----+-----+-----+-----+-----+-----+\n",
      "|Area Abbreviation|Area Code|       Area|Item Code|                Item|Element Code|Element|       Unit|latitude|longitude|Y1961|Y1962|Y1963|Y1964|Y1965|Y1966|Y1967|Y1968|Y1969|Y1970|Y1971|Y1972|Y1973|Y1974|Y1975|Y1976|Y1977|Y1978|Y1979|Y1980|Y1981|Y1982|Y1983|Y1984|Y1985|Y1986|Y1987|Y1988|Y1989|Y1990|Y1991|Y1992|Y1993|Y1994|Y1995|Y1996|Y1997|Y1998|Y1999|Y2000|Y2001|Y2002|Y2003|Y2004|Y2005|Y2006|Y2007|Y2008|Y2009|Y2010|Y2011|Y2012|Y2013|\n",
      "+-----------------+---------+-----------+---------+--------------------+------------+-------+-----------+--------+---------+-----+-----+-----+-----+-----+-----+-----+-----+-----+-----+-----+-----+-----+-----+-----+-----+-----+-----+-----+-----+-----+-----+-----+-----+-----+-----+-----+-----+-----+-----+-----+-----+-----+-----+-----+-----+-----+-----+-----+-----+-----+-----+-----+-----+-----+-----+-----+-----+-----+-----+-----+-----+-----+\n",
      "|              AFG|        2|Afghanistan|     2511|  Wheat and products|        5142|   Food|1000 tonnes|   33.94|    67.71| 1928| 1904| 1666| 1950| 2001| 1808| 2053| 2045| 2154| 1819| 1963| 2215| 2310| 2335| 2434| 2512| 2282| 2454| 2443| 2129| 2133| 2068| 1994| 1851| 1791| 1683| 2194| 1801| 1754| 1640| 1539| 1582| 1840| 1855| 1853| 2177| 2343| 2407| 2463| 2600| 2668| 2776| 3095| 3249| 3486| 3704| 4164| 4252| 4538| 4605| 4711| 4810| 4895|\n",
      "|              AFG|        2|Afghanistan|     2805|Rice (Milled Equi...|        5142|   Food|1000 tonnes|   33.94|    67.71|  183|  183|  182|  220|  220|  195|  231|  235|  238|  213|  205|  233|  246|  246|  255|  263|  235|  254|  270|  259|  248|  217|  217|  197|  186|  200|  193|  202|  191|  199|  197|  249|  218|  260|  319|  254|  326|  347|  270|  372|  411|  448|  460|  419|  445|  546|  455|  490|  415|  442|  476|  425|  422|\n",
      "+-----------------+---------+-----------+---------+--------------------+------------+-------+-----------+--------+---------+-----+-----+-----+-----+-----+-----+-----+-----+-----+-----+-----+-----+-----+-----+-----+-----+-----+-----+-----+-----+-----+-----+-----+-----+-----+-----+-----+-----+-----+-----+-----+-----+-----+-----+-----+-----+-----+-----+-----+-----+-----+-----+-----+-----+-----+-----+-----+-----+-----+-----+-----+-----+-----+\n",
      "only showing top 2 rows\n",
      "\n"
     ]
    }
   ],
   "source": [
    "df_fao.show(2, truncate=True)"
   ]
  },
  {
   "cell_type": "code",
   "execution_count": 14,
   "metadata": {},
   "outputs": [
    {
     "data": {
      "text/plain": [
       "Row(Area Abbreviation='AFG', Area Code='2', Area='Afghanistan', Item Code='2511', Item='Wheat and products', Element Code='5142', Element='Food', Unit='1000 tonnes', latitude='33.94', longitude='67.71', Y1961='1928', Y1962='1904', Y1963='1666', Y1964='1950', Y1965='2001', Y1966='1808', Y1967='2053', Y1968='2045', Y1969='2154', Y1970='1819', Y1971='1963', Y1972='2215', Y1973='2310', Y1974='2335', Y1975='2434', Y1976='2512', Y1977='2282', Y1978='2454', Y1979='2443', Y1980='2129', Y1981='2133', Y1982='2068', Y1983='1994', Y1984='1851', Y1985='1791', Y1986='1683', Y1987='2194', Y1988='1801', Y1989='1754', Y1990='1640', Y1991='1539', Y1992='1582', Y1993='1840', Y1994='1855', Y1995='1853', Y1996='2177', Y1997='2343', Y1998='2407', Y1999='2463', Y2000='2600', Y2001='2668', Y2002='2776', Y2003='3095', Y2004='3249', Y2005='3486', Y2006='3704', Y2007='4164', Y2008='4252', Y2009='4538', Y2010='4605', Y2011='4711', Y2012='4810', Y2013='4895')"
      ]
     },
     "execution_count": 14,
     "metadata": {},
     "output_type": "execute_result"
    }
   ],
   "source": [
    "df_fao.head()"
   ]
  },
  {
   "cell_type": "markdown",
   "metadata": {},
   "source": [
    "# Dropping Duplicate values"
   ]
  },
  {
   "cell_type": "code",
   "execution_count": 15,
   "metadata": {},
   "outputs": [
    {
     "data": {
      "text/plain": [
       "DataFrame[Area Abbreviation: string, Area Code: string, Area: string, Item Code: string, Item: string, Element Code: string, Element: string, Unit: string, latitude: string, longitude: string, Y1961: string, Y1962: string, Y1963: string, Y1964: string, Y1965: string, Y1966: string, Y1967: string, Y1968: string, Y1969: string, Y1970: string, Y1971: string, Y1972: string, Y1973: string, Y1974: string, Y1975: string, Y1976: string, Y1977: string, Y1978: string, Y1979: string, Y1980: string, Y1981: string, Y1982: string, Y1983: string, Y1984: string, Y1985: string, Y1986: string, Y1987: string, Y1988: string, Y1989: string, Y1990: string, Y1991: string, Y1992: string, Y1993: string, Y1994: string, Y1995: string, Y1996: string, Y1997: string, Y1998: string, Y1999: string, Y2000: string, Y2001: string, Y2002: string, Y2003: string, Y2004: string, Y2005: string, Y2006: string, Y2007: string, Y2008: string, Y2009: string, Y2010: string, Y2011: string, Y2012: string, Y2013: string]"
      ]
     },
     "execution_count": 15,
     "metadata": {},
     "output_type": "execute_result"
    }
   ],
   "source": [
    "df_fao.dropDuplicates()"
   ]
  },
  {
   "cell_type": "markdown",
   "metadata": {},
   "source": [
    "# Distinct() to Display Single Column"
   ]
  },
  {
   "cell_type": "code",
   "execution_count": 16,
   "metadata": {},
   "outputs": [
    {
     "name": "stdout",
     "output_type": "stream",
     "text": [
      "+--------------------+\n",
      "|                Area|\n",
      "+--------------------+\n",
      "|                Chad|\n",
      "|            Paraguay|\n",
      "|The former Yugosl...|\n",
      "|               Yemen|\n",
      "|             Senegal|\n",
      "|          Cabo Verde|\n",
      "|              Sweden|\n",
      "|            Kiribati|\n",
      "|   Republic of Korea|\n",
      "|              Guyana|\n",
      "|         Philippines|\n",
      "|            Djibouti|\n",
      "|            Malaysia|\n",
      "|                Fiji|\n",
      "|              Turkey|\n",
      "|              Malawi|\n",
      "|                Iraq|\n",
      "|             Germany|\n",
      "|China, Taiwan Pro...|\n",
      "|         Afghanistan|\n",
      "+--------------------+\n",
      "only showing top 20 rows\n",
      "\n"
     ]
    }
   ],
   "source": [
    "df_fao.select('Area').distinct().show()"
   ]
  },
  {
   "cell_type": "code",
   "execution_count": 17,
   "metadata": {},
   "outputs": [
    {
     "name": "stdout",
     "output_type": "stream",
     "text": [
      "+-----------------+---------+-----------+\n",
      "|Area Abbreviation|Area code|       Area|\n",
      "+-----------------+---------+-----------+\n",
      "|              AFG|        2|Afghanistan|\n",
      "|              AFG|        2|Afghanistan|\n",
      "|              AFG|        2|Afghanistan|\n",
      "|              AFG|        2|Afghanistan|\n",
      "|              AFG|        2|Afghanistan|\n",
      "|              AFG|        2|Afghanistan|\n",
      "|              AFG|        2|Afghanistan|\n",
      "|              AFG|        2|Afghanistan|\n",
      "|              AFG|        2|Afghanistan|\n",
      "|              AFG|        2|Afghanistan|\n",
      "|              AFG|        2|Afghanistan|\n",
      "|              AFG|        2|Afghanistan|\n",
      "|              AFG|        2|Afghanistan|\n",
      "|              AFG|        2|Afghanistan|\n",
      "|              AFG|        2|Afghanistan|\n",
      "|              AFG|        2|Afghanistan|\n",
      "|              AFG|        2|Afghanistan|\n",
      "|              AFG|        2|Afghanistan|\n",
      "|              AFG|        2|Afghanistan|\n",
      "|              AFG|        2|Afghanistan|\n",
      "+-----------------+---------+-----------+\n",
      "only showing top 20 rows\n",
      "\n"
     ]
    }
   ],
   "source": [
    "df_fao.select(['Area Abbreviation', 'Area code','Area']).show()"
   ]
  },
  {
   "cell_type": "markdown",
   "metadata": {},
   "source": [
    "# Dropping Unwanted Columns"
   ]
  },
  {
   "cell_type": "code",
   "execution_count": 18,
   "metadata": {},
   "outputs": [
    {
     "data": {
      "text/plain": [
       "['Area',\n",
       " 'Item',\n",
       " 'Element',\n",
       " 'Y1961',\n",
       " 'Y1962',\n",
       " 'Y1963',\n",
       " 'Y1964',\n",
       " 'Y1965',\n",
       " 'Y1966',\n",
       " 'Y1967',\n",
       " 'Y1968',\n",
       " 'Y1969',\n",
       " 'Y1970',\n",
       " 'Y1971',\n",
       " 'Y1972',\n",
       " 'Y1973',\n",
       " 'Y1974',\n",
       " 'Y1975',\n",
       " 'Y1976',\n",
       " 'Y1977',\n",
       " 'Y1978',\n",
       " 'Y1979',\n",
       " 'Y1980',\n",
       " 'Y1981',\n",
       " 'Y1982',\n",
       " 'Y1983',\n",
       " 'Y1984',\n",
       " 'Y1985',\n",
       " 'Y1986',\n",
       " 'Y1987',\n",
       " 'Y1988',\n",
       " 'Y1989',\n",
       " 'Y1990',\n",
       " 'Y1991',\n",
       " 'Y1992',\n",
       " 'Y1993',\n",
       " 'Y1994',\n",
       " 'Y1995',\n",
       " 'Y1996',\n",
       " 'Y1997',\n",
       " 'Y1998',\n",
       " 'Y1999',\n",
       " 'Y2000',\n",
       " 'Y2001',\n",
       " 'Y2002',\n",
       " 'Y2003',\n",
       " 'Y2004',\n",
       " 'Y2005',\n",
       " 'Y2006',\n",
       " 'Y2007',\n",
       " 'Y2008',\n",
       " 'Y2009',\n",
       " 'Y2010',\n",
       " 'Y2011',\n",
       " 'Y2012',\n",
       " 'Y2013']"
      ]
     },
     "execution_count": 18,
     "metadata": {},
     "output_type": "execute_result"
    }
   ],
   "source": [
    "df_fao1 = df_fao.drop('Area Abbreviation','Area code','Element code','Item code','Unit','latitude','longitude')\n",
    "df_fao1.columns"
   ]
  },
  {
   "cell_type": "code",
   "execution_count": 19,
   "metadata": {},
   "outputs": [
    {
     "data": {
      "text/plain": [
       "Row(Area='Afghanistan', Item='Wheat and products', Element='Food', Y1961='1928', Y1962='1904', Y1963='1666', Y1964='1950', Y1965='2001', Y1966='1808', Y1967='2053', Y1968='2045', Y1969='2154', Y1970='1819', Y1971='1963', Y1972='2215', Y1973='2310', Y1974='2335', Y1975='2434', Y1976='2512', Y1977='2282', Y1978='2454', Y1979='2443', Y1980='2129', Y1981='2133', Y1982='2068', Y1983='1994', Y1984='1851', Y1985='1791', Y1986='1683', Y1987='2194', Y1988='1801', Y1989='1754', Y1990='1640', Y1991='1539', Y1992='1582', Y1993='1840', Y1994='1855', Y1995='1853', Y1996='2177', Y1997='2343', Y1998='2407', Y1999='2463', Y2000='2600', Y2001='2668', Y2002='2776', Y2003='3095', Y2004='3249', Y2005='3486', Y2006='3704', Y2007='4164', Y2008='4252', Y2009='4538', Y2010='4605', Y2011='4711', Y2012='4810', Y2013='4895')"
      ]
     },
     "execution_count": 19,
     "metadata": {},
     "output_type": "execute_result"
    }
   ],
   "source": [
    "df_fao1.first()"
   ]
  },
  {
   "cell_type": "markdown",
   "metadata": {},
   "source": [
    "# groupBy()\n"
   ]
  },
  {
   "cell_type": "code",
   "execution_count": 20,
   "metadata": {},
   "outputs": [
    {
     "name": "stdout",
     "output_type": "stream",
     "text": [
      "+-----+\n",
      "|count|\n",
      "+-----+\n",
      "|  174|\n",
      "+-----+\n",
      "\n"
     ]
    }
   ],
   "source": [
    "# Count of areas\n",
    "df_fao.select('Area').distinct().groupBy().count().show()"
   ]
  },
  {
   "cell_type": "code",
   "execution_count": 21,
   "metadata": {},
   "outputs": [
    {
     "name": "stdout",
     "output_type": "stream",
     "text": [
      "+-----+\n",
      "|count|\n",
      "+-----+\n",
      "|  115|\n",
      "+-----+\n",
      "\n"
     ]
    }
   ],
   "source": [
    "# Count of Items\n",
    "df_fao.select('Item').distinct().groupBy().count().show()"
   ]
  },
  {
   "cell_type": "markdown",
   "metadata": {},
   "source": [
    "# Dropping Null/Missing Values"
   ]
  },
  {
   "cell_type": "code",
   "execution_count": 22,
   "metadata": {},
   "outputs": [
    {
     "name": "stdout",
     "output_type": "stream",
     "text": [
      "+-----------+--------------------+-------+-----+-----+-----+-----+-----+-----+-----+-----+-----+-----+-----+-----+-----+-----+-----+-----+-----+-----+-----+-----+-----+-----+-----+-----+-----+-----+-----+-----+-----+-----+-----+-----+-----+-----+-----+-----+-----+-----+-----+-----+-----+-----+-----+-----+-----+-----+-----+-----+-----+-----+-----+-----+-----+\n",
      "|       Area|                Item|Element|Y1961|Y1962|Y1963|Y1964|Y1965|Y1966|Y1967|Y1968|Y1969|Y1970|Y1971|Y1972|Y1973|Y1974|Y1975|Y1976|Y1977|Y1978|Y1979|Y1980|Y1981|Y1982|Y1983|Y1984|Y1985|Y1986|Y1987|Y1988|Y1989|Y1990|Y1991|Y1992|Y1993|Y1994|Y1995|Y1996|Y1997|Y1998|Y1999|Y2000|Y2001|Y2002|Y2003|Y2004|Y2005|Y2006|Y2007|Y2008|Y2009|Y2010|Y2011|Y2012|Y2013|\n",
      "+-----------+--------------------+-------+-----+-----+-----+-----+-----+-----+-----+-----+-----+-----+-----+-----+-----+-----+-----+-----+-----+-----+-----+-----+-----+-----+-----+-----+-----+-----+-----+-----+-----+-----+-----+-----+-----+-----+-----+-----+-----+-----+-----+-----+-----+-----+-----+-----+-----+-----+-----+-----+-----+-----+-----+-----+-----+\n",
      "|Afghanistan|  Wheat and products|   Food| 1928| 1904| 1666| 1950| 2001| 1808| 2053| 2045| 2154| 1819| 1963| 2215| 2310| 2335| 2434| 2512| 2282| 2454| 2443| 2129| 2133| 2068| 1994| 1851| 1791| 1683| 2194| 1801| 1754| 1640| 1539| 1582| 1840| 1855| 1853| 2177| 2343| 2407| 2463| 2600| 2668| 2776| 3095| 3249| 3486| 3704| 4164| 4252| 4538| 4605| 4711| 4810| 4895|\n",
      "|Afghanistan|Rice (Milled Equi...|   Food|  183|  183|  182|  220|  220|  195|  231|  235|  238|  213|  205|  233|  246|  246|  255|  263|  235|  254|  270|  259|  248|  217|  217|  197|  186|  200|  193|  202|  191|  199|  197|  249|  218|  260|  319|  254|  326|  347|  270|  372|  411|  448|  460|  419|  445|  546|  455|  490|  415|  442|  476|  425|  422|\n",
      "+-----------+--------------------+-------+-----+-----+-----+-----+-----+-----+-----+-----+-----+-----+-----+-----+-----+-----+-----+-----+-----+-----+-----+-----+-----+-----+-----+-----+-----+-----+-----+-----+-----+-----+-----+-----+-----+-----+-----+-----+-----+-----+-----+-----+-----+-----+-----+-----+-----+-----+-----+-----+-----+-----+-----+-----+-----+\n",
      "only showing top 2 rows\n",
      "\n"
     ]
    }
   ],
   "source": [
    "df_fao1.na.drop(how='any').show(2)"
   ]
  },
  {
   "cell_type": "code",
   "execution_count": 23,
   "metadata": {},
   "outputs": [
    {
     "name": "stdout",
     "output_type": "stream",
     "text": [
      "+-----------+--------------------+-------+-----+-----+-----+-----+-----+-----+-----+-----+-----+-----+-----+-----+-----+-----+-----+-----+-----+-----+-----+-----+-----+-----+-----+-----+-----+-----+-----+-----+-----+-----+-----+-----+-----+-----+-----+-----+-----+-----+-----+-----+-----+-----+-----+-----+-----+-----+-----+-----+-----+-----+-----+-----+-----+\n",
      "|       Area|                Item|Element|Y1961|Y1962|Y1963|Y1964|Y1965|Y1966|Y1967|Y1968|Y1969|Y1970|Y1971|Y1972|Y1973|Y1974|Y1975|Y1976|Y1977|Y1978|Y1979|Y1980|Y1981|Y1982|Y1983|Y1984|Y1985|Y1986|Y1987|Y1988|Y1989|Y1990|Y1991|Y1992|Y1993|Y1994|Y1995|Y1996|Y1997|Y1998|Y1999|Y2000|Y2001|Y2002|Y2003|Y2004|Y2005|Y2006|Y2007|Y2008|Y2009|Y2010|Y2011|Y2012|Y2013|\n",
      "+-----------+--------------------+-------+-----+-----+-----+-----+-----+-----+-----+-----+-----+-----+-----+-----+-----+-----+-----+-----+-----+-----+-----+-----+-----+-----+-----+-----+-----+-----+-----+-----+-----+-----+-----+-----+-----+-----+-----+-----+-----+-----+-----+-----+-----+-----+-----+-----+-----+-----+-----+-----+-----+-----+-----+-----+-----+\n",
      "|Afghanistan|  Wheat and products|   Food| 1928| 1904| 1666| 1950| 2001| 1808| 2053| 2045| 2154| 1819| 1963| 2215| 2310| 2335| 2434| 2512| 2282| 2454| 2443| 2129| 2133| 2068| 1994| 1851| 1791| 1683| 2194| 1801| 1754| 1640| 1539| 1582| 1840| 1855| 1853| 2177| 2343| 2407| 2463| 2600| 2668| 2776| 3095| 3249| 3486| 3704| 4164| 4252| 4538| 4605| 4711| 4810| 4895|\n",
      "|Afghanistan|Rice (Milled Equi...|   Food|  183|  183|  182|  220|  220|  195|  231|  235|  238|  213|  205|  233|  246|  246|  255|  263|  235|  254|  270|  259|  248|  217|  217|  197|  186|  200|  193|  202|  191|  199|  197|  249|  218|  260|  319|  254|  326|  347|  270|  372|  411|  448|  460|  419|  445|  546|  455|  490|  415|  442|  476|  425|  422|\n",
      "|Afghanistan| Barley and products|   Feed|   76|   76|   76|   76|   76|   75|   71|   72|   73|   74|   71|   70|   72|   76|   77|   80|   60|   65|   64|   64|   60|   55|   53|   51|   48|   46|   46|   47|   46|   43|   43|   40|   50|   46|   41|   44|   50|   48|   43|   26|   29|   70|   48|   58|  236|  262|  263|  230|  379|  315|  203|  367|  360|\n",
      "|Afghanistan| Barley and products|   Food|  237|  237|  237|  238|  238|  237|  225|  227|  230|  234|  223|  219|  225|  240|  244|  255|  185|  203|  198|  202|  189|  174|  167|  160|  151|  145|  145|  148|  145|  135|  132|  120|  155|  143|  125|  138|  159|  154|  141|   84|   83|  122|  144|  185|   43|   44|   48|   62|   55|   60|   72|   78|   89|\n",
      "|Afghanistan|  Maize and products|   Feed|  210|  210|  214|  216|  216|  216|  235|  232|  236|  200|  201|  216|  228|  231|  234|  240|  228|  234|  228|  226|  210|  199|  192|  182|  173|  170|  154|  148|  137|  144|  126|   90|  141|  150|  159|  108|   90|   99|   72|   35|   48|   89|   63|  120|  208|  233|  249|  247|  195|  178|  191|  200|  200|\n",
      "|Afghanistan|  Maize and products|   Food|  403|  403|  410|  415|  415|  413|  454|  448|  455|  383|  386|  416|  439|  445|  451|  463|  439|  451|  440|  437|  407|  384|  371|  353|  334|  330|  298|  287|  265|  279|  245|  170|  272|  289|  310|  209|  173|  192|  141|   66|   93|  170|  117|  231|   67|   82|   67|   69|   71|   82|   73|   77|   76|\n",
      "|Afghanistan| Millet and products|   Food|   17|   18|   19|   20|   21|   22|   23|   24|   25|   26|   26|   27|   27|   28|   29|   37|   32|   33|   31|   31|   29|   27|   28|   26|   25|   23|   23|   23|   23|   24|   24|   18|   22|   20|   21|   17|   20|   21|   17|   20|   20|   18|   16|   15|   21|   11|   19|   21|   18|   14|   14|   14|   12|\n",
      "|Afghanistan|      Cereals, Other|   Food|    0|    0|    0|    0|    0|    0|    0|    0|    0|    0|    0|    0|    0|    0|    0|    0|    0|    0|    0|    0|    0|    0|    0|    0|    0|    0|    0|    0|    0|    0|    0|    0|    0|    0|    0|    0|    0|    0|    0|    0|    0|    0|    1|    2|    1|    1|    0|    0|    0|    0|    0|    0|    0|\n",
      "|Afghanistan|Potatoes and prod...|   Food|  111|   97|  103|  110|  113|  117|  128|  130|  134|  125|  147|  138|  143|  160|  169|  324|  176|  225|  232|  240|  247|  248|  242|  235|  226|  217|  196|  198|  184|  205|  203|  210|  210|  211|  212|  213|  214|  214|  217|  219|  215|  217|  347|  276|  294|  294|  260|  242|  250|  192|  169|  196|  230|\n",
      "|Afghanistan|          Sugar cane|   Feed|   45|   45|   45|   45|   31|   14|   19|   30|   34|   15|    0|    0|   28|   32|   20|   28|   24|   24|   34|   61|   50|   43|   38|   46|   23|   25|    3|   45|   54|   47|   29|   29|   29|   29|   29|   29|   28|   28|   28|   29|   29|   29|   51|   50|   29|   61|   65|   54|  114|   83|   83|   69|   81|\n",
      "|Afghanistan|          Sugar beet|   Feed|    0|    0|    0|    0|    0|   16|   23|   31|   28|    9|   13|   13|    6|    0|    0|   10|   16|   13|    6|   15|    0|    0|    0|    0|    0|    0|    0|    0|    0|    0|    0|    0|    0|    0|    0|    0|    0|    0|    0|    0|    0|    0|    0|    0|    0|    0|    0|    0|    0|    0|    0|    0|    0|\n",
      "|Afghanistan|Sugar (Raw Equiva...|   Food|   45|   41|   43|   52|   55|   58|   62|   65|   54|   73|   63|   60|   60|   63|   65|   70|   75|   80|   90|   94|   76|   90|  109|  100|   80|   80|   80|   80|   56|   40|   41|   50|   47|   46|   50|   45|   51|   55|   60|   61|   61|   71|   92|  124|  152|  169|  192|  217|  231|  240|  240|  250|  255|\n",
      "|Afghanistan|   Sweeteners, Other|   Food|    0|    0|    0|    0|    0|    0|    0|    0|    0|    0|    0|    0|    0|    0|    0|    0|    0|    0|    0|    0|    0|    0|    0|    0|    0|    0|    0|    0|    0|    0|    0|    0|    0|    0|    0|    0|    0|    0|    0|    0|    0|    1|    6|    9|   15|   12|    6|   11|    2|    9|   21|   24|   16|\n",
      "|Afghanistan|               Honey|   Food|    2|    2|    2|    2|    3|    3|    3|    3|    3|    3|    3|    3|    3|    3|    3|    3|    3|    4|    4|    3|    3|    3|    3|    3|    3|    3|    3|    3|    3|    3|    3|    4|    4|    4|    4|    4|    4|    4|    4|    5|    5|    4|    5|    3|    3|    3|    3|    3|    3|    3|    2|    2|    2|\n",
      "|Afghanistan|Pulses, Other and...|   Feed|    1|    1|    1|    1|    1|    1|    2|    1|    1|    1|    1|    1|    2|    2|    2|    2|    2|    2|    2|    2|    2|    2|    2|    2|    2|    2|    2|    2|    1|    2|    2|    2|    2|    2|    3|    3|    3|    2|    2|    3|    3|    3|    3|    3|    2|    3|    3|    3|    5|    4|    5|    4|    4|\n",
      "|Afghanistan|Pulses, Other and...|   Food|   15|   16|   17|   18|   18|   20|   26|   21|   22|   23|   24|   24|   26|   27|   27|   29|   30|   31|   31|   33|   26|   26|   25|   24|   23|   24|   24|   27|   24|   23|   27|   29|   36|   42|   31|   31|   28|   33|   25|   22|   39|   23|   23|   17|   35|   37|   40|   54|   80|   66|   81|   63|   74|\n",
      "|Afghanistan|   Nuts and products|   Food|    2|    3|    1|    1|    2|    2|    1|    1|    0|    3|    1|    5|    5|    6|    4|    7|    4|    4|    7|   20|   17|   21|   19|   12|   13|   15|   11|    7|   11|   13|   14|   17|   16|   16|   16|   16|   15|   12|   17|   13|   12|   13|   10|   11|   13|   24|   34|   42|   28|   66|   71|   70|   44|\n",
      "|Afghanistan|Coconuts - Incl C...|   Food|    0|    0|    0|    0|    0|    0|    0|    0|    0|    0|    0|    0|    0|    0|    0|    0|    0|    0|    0|    0|    0|    0|    0|    0|    0|    0|    0|    0|    0|    0|    1|    0|    0|    0|    0|    0|    1|    0|    0|    0|    0|    0|    0|    0|    0|    0|    0|    0|    0|    0|    0|    0|    0|\n",
      "|Afghanistan|         Sesame seed|   Food|   10|   10|   10|   10|   10|   11|   11|   11|   11|   11|    8|   11|   13|   12|   12|   12|   11|   11|   13|   13|   13|   14|   14|   14|   14|   14|   13|   13|   13|   12|   12|   14|   12|   13|   12|   11|   11|   11|   12|   12|   12|   12|   15|   16|   16|   13|   16|   16|   16|   19|   17|   16|   16|\n",
      "|Afghanistan|Olives (including...|   Food|    0|    0|    0|    0|    0|    0|    0|    0|    0|    0|    0|    0|    0|    0|    0|    0|    0|    0|    0|    0|    0|    0|    0|    0|    0|    1|    0|    0|    0|    0|    0|    0|    0|    0|    0|    0|    0|    0|    0|    0|    0|    0|    1|    1|    1|    0|    0|    2|    3|    2|    2|    2|    2|\n",
      "+-----------+--------------------+-------+-----+-----+-----+-----+-----+-----+-----+-----+-----+-----+-----+-----+-----+-----+-----+-----+-----+-----+-----+-----+-----+-----+-----+-----+-----+-----+-----+-----+-----+-----+-----+-----+-----+-----+-----+-----+-----+-----+-----+-----+-----+-----+-----+-----+-----+-----+-----+-----+-----+-----+-----+-----+-----+\n",
      "only showing top 20 rows\n",
      "\n"
     ]
    }
   ],
   "source": [
    "##subset\n",
    "\n",
    "df_fao1.na.drop(how='any', subset= ['Element']).show()"
   ]
  },
  {
   "cell_type": "markdown",
   "metadata": {},
   "source": [
    "# Filling Missing Values"
   ]
  },
  {
   "cell_type": "code",
   "execution_count": 24,
   "metadata": {},
   "outputs": [
    {
     "name": "stdout",
     "output_type": "stream",
     "text": [
      "+-----------+--------------------+-------+-----+-----+-----+-----+-----+-----+-----+-----+-----+-----+-----+-----+-----+-----+-----+-----+-----+-----+-----+-----+-----+-----+-----+-----+-----+-----+-----+-----+-----+-----+-----+-----+-----+-----+-----+-----+-----+-----+-----+-----+-----+-----+-----+-----+-----+-----+-----+-----+-----+-----+-----+-----+-----+\n",
      "|       Area|                Item|Element|Y1961|Y1962|Y1963|Y1964|Y1965|Y1966|Y1967|Y1968|Y1969|Y1970|Y1971|Y1972|Y1973|Y1974|Y1975|Y1976|Y1977|Y1978|Y1979|Y1980|Y1981|Y1982|Y1983|Y1984|Y1985|Y1986|Y1987|Y1988|Y1989|Y1990|Y1991|Y1992|Y1993|Y1994|Y1995|Y1996|Y1997|Y1998|Y1999|Y2000|Y2001|Y2002|Y2003|Y2004|Y2005|Y2006|Y2007|Y2008|Y2009|Y2010|Y2011|Y2012|Y2013|\n",
      "+-----------+--------------------+-------+-----+-----+-----+-----+-----+-----+-----+-----+-----+-----+-----+-----+-----+-----+-----+-----+-----+-----+-----+-----+-----+-----+-----+-----+-----+-----+-----+-----+-----+-----+-----+-----+-----+-----+-----+-----+-----+-----+-----+-----+-----+-----+-----+-----+-----+-----+-----+-----+-----+-----+-----+-----+-----+\n",
      "|Afghanistan|  Wheat and products|   Food| 1928| 1904| 1666| 1950| 2001| 1808| 2053| 2045| 2154| 1819| 1963| 2215| 2310| 2335| 2434| 2512| 2282| 2454| 2443| 2129| 2133| 2068| 1994| 1851| 1791| 1683| 2194| 1801| 1754| 1640| 1539| 1582| 1840| 1855| 1853| 2177| 2343| 2407| 2463| 2600| 2668| 2776| 3095| 3249| 3486| 3704| 4164| 4252| 4538| 4605| 4711| 4810| 4895|\n",
      "|Afghanistan|Rice (Milled Equi...|   Food|  183|  183|  182|  220|  220|  195|  231|  235|  238|  213|  205|  233|  246|  246|  255|  263|  235|  254|  270|  259|  248|  217|  217|  197|  186|  200|  193|  202|  191|  199|  197|  249|  218|  260|  319|  254|  326|  347|  270|  372|  411|  448|  460|  419|  445|  546|  455|  490|  415|  442|  476|  425|  422|\n",
      "|Afghanistan| Barley and products|   Feed|   76|   76|   76|   76|   76|   75|   71|   72|   73|   74|   71|   70|   72|   76|   77|   80|   60|   65|   64|   64|   60|   55|   53|   51|   48|   46|   46|   47|   46|   43|   43|   40|   50|   46|   41|   44|   50|   48|   43|   26|   29|   70|   48|   58|  236|  262|  263|  230|  379|  315|  203|  367|  360|\n",
      "|Afghanistan| Barley and products|   Food|  237|  237|  237|  238|  238|  237|  225|  227|  230|  234|  223|  219|  225|  240|  244|  255|  185|  203|  198|  202|  189|  174|  167|  160|  151|  145|  145|  148|  145|  135|  132|  120|  155|  143|  125|  138|  159|  154|  141|   84|   83|  122|  144|  185|   43|   44|   48|   62|   55|   60|   72|   78|   89|\n",
      "|Afghanistan|  Maize and products|   Feed|  210|  210|  214|  216|  216|  216|  235|  232|  236|  200|  201|  216|  228|  231|  234|  240|  228|  234|  228|  226|  210|  199|  192|  182|  173|  170|  154|  148|  137|  144|  126|   90|  141|  150|  159|  108|   90|   99|   72|   35|   48|   89|   63|  120|  208|  233|  249|  247|  195|  178|  191|  200|  200|\n",
      "+-----------+--------------------+-------+-----+-----+-----+-----+-----+-----+-----+-----+-----+-----+-----+-----+-----+-----+-----+-----+-----+-----+-----+-----+-----+-----+-----+-----+-----+-----+-----+-----+-----+-----+-----+-----+-----+-----+-----+-----+-----+-----+-----+-----+-----+-----+-----+-----+-----+-----+-----+-----+-----+-----+-----+-----+-----+\n",
      "only showing top 5 rows\n",
      "\n"
     ]
    }
   ],
   "source": [
    "#filling missing values\n",
    "\n",
    "df_fao1 = df_fao1.na.fill('Missing Values')\n",
    "df_fao1.show(5)"
   ]
  },
  {
   "cell_type": "code",
   "execution_count": 25,
   "metadata": {},
   "outputs": [
    {
     "name": "stdout",
     "output_type": "stream",
     "text": [
      "+-----------+--------------------+-------+-----+-----+-----+-----+-----+-----+-----+-----+-----+-----+-----+-----+-----+-----+-----+-----+-----+-----+-----+-----+-----+-----+-----+-----+-----+-----+-----+-----+-----+-----+-----+-----+-----+-----+-----+-----+-----+-----+-----+-----+-----+-----+-----+-----+-----+-----+-----+-----+-----+-----+-----+-----+-----+\n",
      "|       Area|                Item|Element|Y1961|Y1962|Y1963|Y1964|Y1965|Y1966|Y1967|Y1968|Y1969|Y1970|Y1971|Y1972|Y1973|Y1974|Y1975|Y1976|Y1977|Y1978|Y1979|Y1980|Y1981|Y1982|Y1983|Y1984|Y1985|Y1986|Y1987|Y1988|Y1989|Y1990|Y1991|Y1992|Y1993|Y1994|Y1995|Y1996|Y1997|Y1998|Y1999|Y2000|Y2001|Y2002|Y2003|Y2004|Y2005|Y2006|Y2007|Y2008|Y2009|Y2010|Y2011|Y2012|Y2013|\n",
      "+-----------+--------------------+-------+-----+-----+-----+-----+-----+-----+-----+-----+-----+-----+-----+-----+-----+-----+-----+-----+-----+-----+-----+-----+-----+-----+-----+-----+-----+-----+-----+-----+-----+-----+-----+-----+-----+-----+-----+-----+-----+-----+-----+-----+-----+-----+-----+-----+-----+-----+-----+-----+-----+-----+-----+-----+-----+\n",
      "|Afghanistan|  Wheat and products|   Food| 1928| 1904| 1666| 1950| 2001| 1808| 2053| 2045| 2154| 1819| 1963| 2215| 2310| 2335| 2434| 2512| 2282| 2454| 2443| 2129| 2133| 2068| 1994| 1851| 1791| 1683| 2194| 1801| 1754| 1640| 1539| 1582| 1840| 1855| 1853| 2177| 2343| 2407| 2463| 2600| 2668| 2776| 3095| 3249| 3486| 3704| 4164| 4252| 4538| 4605| 4711| 4810| 4895|\n",
      "|Afghanistan|Rice (Milled Equi...|   Food|  183|  183|  182|  220|  220|  195|  231|  235|  238|  213|  205|  233|  246|  246|  255|  263|  235|  254|  270|  259|  248|  217|  217|  197|  186|  200|  193|  202|  191|  199|  197|  249|  218|  260|  319|  254|  326|  347|  270|  372|  411|  448|  460|  419|  445|  546|  455|  490|  415|  442|  476|  425|  422|\n",
      "|Afghanistan| Barley and products|   Feed|   76|   76|   76|   76|   76|   75|   71|   72|   73|   74|   71|   70|   72|   76|   77|   80|   60|   65|   64|   64|   60|   55|   53|   51|   48|   46|   46|   47|   46|   43|   43|   40|   50|   46|   41|   44|   50|   48|   43|   26|   29|   70|   48|   58|  236|  262|  263|  230|  379|  315|  203|  367|  360|\n",
      "|Afghanistan| Barley and products|   Food|  237|  237|  237|  238|  238|  237|  225|  227|  230|  234|  223|  219|  225|  240|  244|  255|  185|  203|  198|  202|  189|  174|  167|  160|  151|  145|  145|  148|  145|  135|  132|  120|  155|  143|  125|  138|  159|  154|  141|   84|   83|  122|  144|  185|   43|   44|   48|   62|   55|   60|   72|   78|   89|\n",
      "|Afghanistan|  Maize and products|   Feed|  210|  210|  214|  216|  216|  216|  235|  232|  236|  200|  201|  216|  228|  231|  234|  240|  228|  234|  228|  226|  210|  199|  192|  182|  173|  170|  154|  148|  137|  144|  126|   90|  141|  150|  159|  108|   90|   99|   72|   35|   48|   89|   63|  120|  208|  233|  249|  247|  195|  178|  191|  200|  200|\n",
      "+-----------+--------------------+-------+-----+-----+-----+-----+-----+-----+-----+-----+-----+-----+-----+-----+-----+-----+-----+-----+-----+-----+-----+-----+-----+-----+-----+-----+-----+-----+-----+-----+-----+-----+-----+-----+-----+-----+-----+-----+-----+-----+-----+-----+-----+-----+-----+-----+-----+-----+-----+-----+-----+-----+-----+-----+-----+\n",
      "only showing top 5 rows\n",
      "\n"
     ]
    }
   ],
   "source": [
    "df_fao1.na.fill(value='missingvalues', subset=['Area','Element','Y1961','Y1962','Y1963','Y1964',\n",
    "'Y1965','Y1966','Y1967','Y1968','Y1969','Y1970','Y1971','Y1972',\n",
    "'Y1973','Y1974','Y1975','Y1976','Y1977','Y1978','Y1979','Y1980','Y1981','Y1982',\n",
    "'Y1983','Y1984','Y1985','Y1986','Y1987','Y1988','Y1989','Y1990','Y1991','Y1992','Y1993','Y1994','Y1995',\n",
    "'Y1996','Y1997','Y1998','Y1999','Y2000','Y2001','Y2002','Y2003','Y2004','Y2005','Y2006','Y2007','Y2008',\n",
    "'Y2009','Y2010','Y2011','Y2012','Y2013']).show(5)\n"
   ]
  },
  {
   "cell_type": "markdown",
   "metadata": {},
   "source": [
    "# Converting Categorical Variables into Numeric Using StringIndexer"
   ]
  },
  {
   "cell_type": "code",
   "execution_count": 26,
   "metadata": {},
   "outputs": [],
   "source": [
    "from pyspark.ml.feature import StringIndexer\n"
   ]
  },
  {
   "cell_type": "code",
   "execution_count": 27,
   "metadata": {},
   "outputs": [
    {
     "name": "stdout",
     "output_type": "stream",
     "text": [
      "+-----------+--------------------+-------+-----+-----+-----+-----+-----+-----+-----+-----+-----+-----+-----+-----+-----+-----+-----+-----+-----+-----+-----+-----+-----+-----+-----+-----+-----+-----+-----+-----+-----+-----+-----+-----+-----+-----+-----+-----+-----+-----+-----+-----+-----+-----+-----+-----+-----+-----+-----+-----+-----+-----+-----+-----+-----+------------+\n",
      "|       Area|                Item|Element|Y1961|Y1962|Y1963|Y1964|Y1965|Y1966|Y1967|Y1968|Y1969|Y1970|Y1971|Y1972|Y1973|Y1974|Y1975|Y1976|Y1977|Y1978|Y1979|Y1980|Y1981|Y1982|Y1983|Y1984|Y1985|Y1986|Y1987|Y1988|Y1989|Y1990|Y1991|Y1992|Y1993|Y1994|Y1995|Y1996|Y1997|Y1998|Y1999|Y2000|Y2001|Y2002|Y2003|Y2004|Y2005|Y2006|Y2007|Y2008|Y2009|Y2010|Y2011|Y2012|Y2013|Area_indexed|\n",
      "+-----------+--------------------+-------+-----+-----+-----+-----+-----+-----+-----+-----+-----+-----+-----+-----+-----+-----+-----+-----+-----+-----+-----+-----+-----+-----+-----+-----+-----+-----+-----+-----+-----+-----+-----+-----+-----+-----+-----+-----+-----+-----+-----+-----+-----+-----+-----+-----+-----+-----+-----+-----+-----+-----+-----+-----+-----+------------+\n",
      "|Afghanistan|  Wheat and products|   Food| 1928| 1904| 1666| 1950| 2001| 1808| 2053| 2045| 2154| 1819| 1963| 2215| 2310| 2335| 2434| 2512| 2282| 2454| 2443| 2129| 2133| 2068| 1994| 1851| 1791| 1683| 2194| 1801| 1754| 1640| 1539| 1582| 1840| 1855| 1853| 2177| 2343| 2407| 2463| 2600| 2668| 2776| 3095| 3249| 3486| 3704| 4164| 4252| 4538| 4605| 4711| 4810| 4895|       172.0|\n",
      "|Afghanistan|Rice (Milled Equi...|   Food|  183|  183|  182|  220|  220|  195|  231|  235|  238|  213|  205|  233|  246|  246|  255|  263|  235|  254|  270|  259|  248|  217|  217|  197|  186|  200|  193|  202|  191|  199|  197|  249|  218|  260|  319|  254|  326|  347|  270|  372|  411|  448|  460|  419|  445|  546|  455|  490|  415|  442|  476|  425|  422|       172.0|\n",
      "+-----------+--------------------+-------+-----+-----+-----+-----+-----+-----+-----+-----+-----+-----+-----+-----+-----+-----+-----+-----+-----+-----+-----+-----+-----+-----+-----+-----+-----+-----+-----+-----+-----+-----+-----+-----+-----+-----+-----+-----+-----+-----+-----+-----+-----+-----+-----+-----+-----+-----+-----+-----+-----+-----+-----+-----+-----+------------+\n",
      "only showing top 2 rows\n",
      "\n"
     ]
    }
   ],
   "source": [
    "indexer = StringIndexer(inputCol = 'Area',outputCol = 'Area_indexed')\n",
    "df_fao1 = indexer.fit(df_fao1).transform(df_fao1)\n",
    "df_fao1.show(2)\n"
   ]
  },
  {
   "cell_type": "code",
   "execution_count": 28,
   "metadata": {},
   "outputs": [
    {
     "name": "stdout",
     "output_type": "stream",
     "text": [
      "+-----------+--------------------+-------+-----+-----+-----+-----+-----+-----+-----+-----+-----+-----+-----+-----+-----+-----+-----+-----+-----+-----+-----+-----+-----+-----+-----+-----+-----+-----+-----+-----+-----+-----+-----+-----+-----+-----+-----+-----+-----+-----+-----+-----+-----+-----+-----+-----+-----+-----+-----+-----+-----+-----+-----+-----+-----+------------+---------------+\n",
      "|       Area|                Item|Element|Y1961|Y1962|Y1963|Y1964|Y1965|Y1966|Y1967|Y1968|Y1969|Y1970|Y1971|Y1972|Y1973|Y1974|Y1975|Y1976|Y1977|Y1978|Y1979|Y1980|Y1981|Y1982|Y1983|Y1984|Y1985|Y1986|Y1987|Y1988|Y1989|Y1990|Y1991|Y1992|Y1993|Y1994|Y1995|Y1996|Y1997|Y1998|Y1999|Y2000|Y2001|Y2002|Y2003|Y2004|Y2005|Y2006|Y2007|Y2008|Y2009|Y2010|Y2011|Y2012|Y2013|Area_indexed|Element_indexed|\n",
      "+-----------+--------------------+-------+-----+-----+-----+-----+-----+-----+-----+-----+-----+-----+-----+-----+-----+-----+-----+-----+-----+-----+-----+-----+-----+-----+-----+-----+-----+-----+-----+-----+-----+-----+-----+-----+-----+-----+-----+-----+-----+-----+-----+-----+-----+-----+-----+-----+-----+-----+-----+-----+-----+-----+-----+-----+-----+------------+---------------+\n",
      "|Afghanistan|  Wheat and products|   Food| 1928| 1904| 1666| 1950| 2001| 1808| 2053| 2045| 2154| 1819| 1963| 2215| 2310| 2335| 2434| 2512| 2282| 2454| 2443| 2129| 2133| 2068| 1994| 1851| 1791| 1683| 2194| 1801| 1754| 1640| 1539| 1582| 1840| 1855| 1853| 2177| 2343| 2407| 2463| 2600| 2668| 2776| 3095| 3249| 3486| 3704| 4164| 4252| 4538| 4605| 4711| 4810| 4895|       172.0|            0.0|\n",
      "|Afghanistan|Rice (Milled Equi...|   Food|  183|  183|  182|  220|  220|  195|  231|  235|  238|  213|  205|  233|  246|  246|  255|  263|  235|  254|  270|  259|  248|  217|  217|  197|  186|  200|  193|  202|  191|  199|  197|  249|  218|  260|  319|  254|  326|  347|  270|  372|  411|  448|  460|  419|  445|  546|  455|  490|  415|  442|  476|  425|  422|       172.0|            0.0|\n",
      "|Afghanistan| Barley and products|   Feed|   76|   76|   76|   76|   76|   75|   71|   72|   73|   74|   71|   70|   72|   76|   77|   80|   60|   65|   64|   64|   60|   55|   53|   51|   48|   46|   46|   47|   46|   43|   43|   40|   50|   46|   41|   44|   50|   48|   43|   26|   29|   70|   48|   58|  236|  262|  263|  230|  379|  315|  203|  367|  360|       172.0|            1.0|\n",
      "|Afghanistan| Barley and products|   Food|  237|  237|  237|  238|  238|  237|  225|  227|  230|  234|  223|  219|  225|  240|  244|  255|  185|  203|  198|  202|  189|  174|  167|  160|  151|  145|  145|  148|  145|  135|  132|  120|  155|  143|  125|  138|  159|  154|  141|   84|   83|  122|  144|  185|   43|   44|   48|   62|   55|   60|   72|   78|   89|       172.0|            0.0|\n",
      "|Afghanistan|  Maize and products|   Feed|  210|  210|  214|  216|  216|  216|  235|  232|  236|  200|  201|  216|  228|  231|  234|  240|  228|  234|  228|  226|  210|  199|  192|  182|  173|  170|  154|  148|  137|  144|  126|   90|  141|  150|  159|  108|   90|   99|   72|   35|   48|   89|   63|  120|  208|  233|  249|  247|  195|  178|  191|  200|  200|       172.0|            1.0|\n",
      "|Afghanistan|  Maize and products|   Food|  403|  403|  410|  415|  415|  413|  454|  448|  455|  383|  386|  416|  439|  445|  451|  463|  439|  451|  440|  437|  407|  384|  371|  353|  334|  330|  298|  287|  265|  279|  245|  170|  272|  289|  310|  209|  173|  192|  141|   66|   93|  170|  117|  231|   67|   82|   67|   69|   71|   82|   73|   77|   76|       172.0|            0.0|\n",
      "|Afghanistan| Millet and products|   Food|   17|   18|   19|   20|   21|   22|   23|   24|   25|   26|   26|   27|   27|   28|   29|   37|   32|   33|   31|   31|   29|   27|   28|   26|   25|   23|   23|   23|   23|   24|   24|   18|   22|   20|   21|   17|   20|   21|   17|   20|   20|   18|   16|   15|   21|   11|   19|   21|   18|   14|   14|   14|   12|       172.0|            0.0|\n",
      "|Afghanistan|      Cereals, Other|   Food|    0|    0|    0|    0|    0|    0|    0|    0|    0|    0|    0|    0|    0|    0|    0|    0|    0|    0|    0|    0|    0|    0|    0|    0|    0|    0|    0|    0|    0|    0|    0|    0|    0|    0|    0|    0|    0|    0|    0|    0|    0|    0|    1|    2|    1|    1|    0|    0|    0|    0|    0|    0|    0|       172.0|            0.0|\n",
      "|Afghanistan|Potatoes and prod...|   Food|  111|   97|  103|  110|  113|  117|  128|  130|  134|  125|  147|  138|  143|  160|  169|  324|  176|  225|  232|  240|  247|  248|  242|  235|  226|  217|  196|  198|  184|  205|  203|  210|  210|  211|  212|  213|  214|  214|  217|  219|  215|  217|  347|  276|  294|  294|  260|  242|  250|  192|  169|  196|  230|       172.0|            0.0|\n",
      "|Afghanistan|          Sugar cane|   Feed|   45|   45|   45|   45|   31|   14|   19|   30|   34|   15|    0|    0|   28|   32|   20|   28|   24|   24|   34|   61|   50|   43|   38|   46|   23|   25|    3|   45|   54|   47|   29|   29|   29|   29|   29|   29|   28|   28|   28|   29|   29|   29|   51|   50|   29|   61|   65|   54|  114|   83|   83|   69|   81|       172.0|            1.0|\n",
      "|Afghanistan|          Sugar beet|   Feed|    0|    0|    0|    0|    0|   16|   23|   31|   28|    9|   13|   13|    6|    0|    0|   10|   16|   13|    6|   15|    0|    0|    0|    0|    0|    0|    0|    0|    0|    0|    0|    0|    0|    0|    0|    0|    0|    0|    0|    0|    0|    0|    0|    0|    0|    0|    0|    0|    0|    0|    0|    0|    0|       172.0|            1.0|\n",
      "|Afghanistan|Sugar (Raw Equiva...|   Food|   45|   41|   43|   52|   55|   58|   62|   65|   54|   73|   63|   60|   60|   63|   65|   70|   75|   80|   90|   94|   76|   90|  109|  100|   80|   80|   80|   80|   56|   40|   41|   50|   47|   46|   50|   45|   51|   55|   60|   61|   61|   71|   92|  124|  152|  169|  192|  217|  231|  240|  240|  250|  255|       172.0|            0.0|\n",
      "|Afghanistan|   Sweeteners, Other|   Food|    0|    0|    0|    0|    0|    0|    0|    0|    0|    0|    0|    0|    0|    0|    0|    0|    0|    0|    0|    0|    0|    0|    0|    0|    0|    0|    0|    0|    0|    0|    0|    0|    0|    0|    0|    0|    0|    0|    0|    0|    0|    1|    6|    9|   15|   12|    6|   11|    2|    9|   21|   24|   16|       172.0|            0.0|\n",
      "|Afghanistan|               Honey|   Food|    2|    2|    2|    2|    3|    3|    3|    3|    3|    3|    3|    3|    3|    3|    3|    3|    3|    4|    4|    3|    3|    3|    3|    3|    3|    3|    3|    3|    3|    3|    3|    4|    4|    4|    4|    4|    4|    4|    4|    5|    5|    4|    5|    3|    3|    3|    3|    3|    3|    3|    2|    2|    2|       172.0|            0.0|\n",
      "|Afghanistan|Pulses, Other and...|   Feed|    1|    1|    1|    1|    1|    1|    2|    1|    1|    1|    1|    1|    2|    2|    2|    2|    2|    2|    2|    2|    2|    2|    2|    2|    2|    2|    2|    2|    1|    2|    2|    2|    2|    2|    3|    3|    3|    2|    2|    3|    3|    3|    3|    3|    2|    3|    3|    3|    5|    4|    5|    4|    4|       172.0|            1.0|\n",
      "|Afghanistan|Pulses, Other and...|   Food|   15|   16|   17|   18|   18|   20|   26|   21|   22|   23|   24|   24|   26|   27|   27|   29|   30|   31|   31|   33|   26|   26|   25|   24|   23|   24|   24|   27|   24|   23|   27|   29|   36|   42|   31|   31|   28|   33|   25|   22|   39|   23|   23|   17|   35|   37|   40|   54|   80|   66|   81|   63|   74|       172.0|            0.0|\n",
      "|Afghanistan|   Nuts and products|   Food|    2|    3|    1|    1|    2|    2|    1|    1|    0|    3|    1|    5|    5|    6|    4|    7|    4|    4|    7|   20|   17|   21|   19|   12|   13|   15|   11|    7|   11|   13|   14|   17|   16|   16|   16|   16|   15|   12|   17|   13|   12|   13|   10|   11|   13|   24|   34|   42|   28|   66|   71|   70|   44|       172.0|            0.0|\n",
      "|Afghanistan|Coconuts - Incl C...|   Food|    0|    0|    0|    0|    0|    0|    0|    0|    0|    0|    0|    0|    0|    0|    0|    0|    0|    0|    0|    0|    0|    0|    0|    0|    0|    0|    0|    0|    0|    0|    1|    0|    0|    0|    0|    0|    1|    0|    0|    0|    0|    0|    0|    0|    0|    0|    0|    0|    0|    0|    0|    0|    0|       172.0|            0.0|\n",
      "|Afghanistan|         Sesame seed|   Food|   10|   10|   10|   10|   10|   11|   11|   11|   11|   11|    8|   11|   13|   12|   12|   12|   11|   11|   13|   13|   13|   14|   14|   14|   14|   14|   13|   13|   13|   12|   12|   14|   12|   13|   12|   11|   11|   11|   12|   12|   12|   12|   15|   16|   16|   13|   16|   16|   16|   19|   17|   16|   16|       172.0|            0.0|\n",
      "|Afghanistan|Olives (including...|   Food|    0|    0|    0|    0|    0|    0|    0|    0|    0|    0|    0|    0|    0|    0|    0|    0|    0|    0|    0|    0|    0|    0|    0|    0|    0|    1|    0|    0|    0|    0|    0|    0|    0|    0|    0|    0|    0|    0|    0|    0|    0|    0|    1|    1|    1|    0|    0|    2|    3|    2|    2|    2|    2|       172.0|            0.0|\n",
      "+-----------+--------------------+-------+-----+-----+-----+-----+-----+-----+-----+-----+-----+-----+-----+-----+-----+-----+-----+-----+-----+-----+-----+-----+-----+-----+-----+-----+-----+-----+-----+-----+-----+-----+-----+-----+-----+-----+-----+-----+-----+-----+-----+-----+-----+-----+-----+-----+-----+-----+-----+-----+-----+-----+-----+-----+-----+------------+---------------+\n",
      "only showing top 20 rows\n",
      "\n"
     ]
    }
   ],
   "source": [
    "indexer = StringIndexer(inputCol = \"Element\",outputCol = 'Element_indexed')\n",
    "df_fao1 = indexer.fit(df_fao1).transform(df_fao1)\n",
    "df_fao1.show()"
   ]
  },
  {
   "cell_type": "code",
   "execution_count": 29,
   "metadata": {
    "scrolled": true
   },
   "outputs": [
    {
     "name": "stdout",
     "output_type": "stream",
     "text": [
      "+-----------+--------------------+-------+-----+-----+-----+-----+-----+-----+-----+-----+-----+-----+-----+-----+-----+-----+-----+-----+-----+-----+-----+-----+-----+-----+-----+-----+-----+-----+-----+-----+-----+-----+-----+-----+-----+-----+-----+-----+-----+-----+-----+-----+-----+-----+-----+-----+-----+-----+-----+-----+-----+-----+-----+-----+-----+------------+---------------+------------+\n",
      "|       Area|                Item|Element|Y1961|Y1962|Y1963|Y1964|Y1965|Y1966|Y1967|Y1968|Y1969|Y1970|Y1971|Y1972|Y1973|Y1974|Y1975|Y1976|Y1977|Y1978|Y1979|Y1980|Y1981|Y1982|Y1983|Y1984|Y1985|Y1986|Y1987|Y1988|Y1989|Y1990|Y1991|Y1992|Y1993|Y1994|Y1995|Y1996|Y1997|Y1998|Y1999|Y2000|Y2001|Y2002|Y2003|Y2004|Y2005|Y2006|Y2007|Y2008|Y2009|Y2010|Y2011|Y2012|Y2013|Area_indexed|Element_indexed|Item_indexed|\n",
      "+-----------+--------------------+-------+-----+-----+-----+-----+-----+-----+-----+-----+-----+-----+-----+-----+-----+-----+-----+-----+-----+-----+-----+-----+-----+-----+-----+-----+-----+-----+-----+-----+-----+-----+-----+-----+-----+-----+-----+-----+-----+-----+-----+-----+-----+-----+-----+-----+-----+-----+-----+-----+-----+-----+-----+-----+-----+------------+---------------+------------+\n",
      "|Afghanistan|  Wheat and products|   Food| 1928| 1904| 1666| 1950| 2001| 1808| 2053| 2045| 2154| 1819| 1963| 2215| 2310| 2335| 2434| 2512| 2282| 2454| 2443| 2129| 2133| 2068| 1994| 1851| 1791| 1683| 2194| 1801| 1754| 1640| 1539| 1582| 1840| 1855| 1853| 2177| 2343| 2407| 2463| 2600| 2668| 2776| 3095| 3249| 3486| 3704| 4164| 4252| 4538| 4605| 4711| 4810| 4895|       172.0|            0.0|        12.0|\n",
      "|Afghanistan|Rice (Milled Equi...|   Food|  183|  183|  182|  220|  220|  195|  231|  235|  238|  213|  205|  233|  246|  246|  255|  263|  235|  254|  270|  259|  248|  217|  217|  197|  186|  200|  193|  202|  191|  199|  197|  249|  218|  260|  319|  254|  326|  347|  270|  372|  411|  448|  460|  419|  445|  546|  455|  490|  415|  442|  476|  425|  422|       172.0|            0.0|        17.0|\n",
      "|Afghanistan| Barley and products|   Feed|   76|   76|   76|   76|   76|   75|   71|   72|   73|   74|   71|   70|   72|   76|   77|   80|   60|   65|   64|   64|   60|   55|   53|   51|   48|   46|   46|   47|   46|   43|   43|   40|   50|   46|   41|   44|   50|   48|   43|   26|   29|   70|   48|   58|  236|  262|  263|  230|  379|  315|  203|  367|  360|       172.0|            1.0|        11.0|\n",
      "|Afghanistan| Barley and products|   Food|  237|  237|  237|  238|  238|  237|  225|  227|  230|  234|  223|  219|  225|  240|  244|  255|  185|  203|  198|  202|  189|  174|  167|  160|  151|  145|  145|  148|  145|  135|  132|  120|  155|  143|  125|  138|  159|  154|  141|   84|   83|  122|  144|  185|   43|   44|   48|   62|   55|   60|   72|   78|   89|       172.0|            0.0|        11.0|\n",
      "|Afghanistan|  Maize and products|   Feed|  210|  210|  214|  216|  216|  216|  235|  232|  236|  200|  201|  216|  228|  231|  234|  240|  228|  234|  228|  226|  210|  199|  192|  182|  173|  170|  154|  148|  137|  144|  126|   90|  141|  150|  159|  108|   90|   99|   72|   35|   48|   89|   63|  120|  208|  233|  249|  247|  195|  178|  191|  200|  200|       172.0|            1.0|         4.0|\n",
      "|Afghanistan|  Maize and products|   Food|  403|  403|  410|  415|  415|  413|  454|  448|  455|  383|  386|  416|  439|  445|  451|  463|  439|  451|  440|  437|  407|  384|  371|  353|  334|  330|  298|  287|  265|  279|  245|  170|  272|  289|  310|  209|  173|  192|  141|   66|   93|  170|  117|  231|   67|   82|   67|   69|   71|   82|   73|   77|   76|       172.0|            0.0|         4.0|\n",
      "|Afghanistan| Millet and products|   Food|   17|   18|   19|   20|   21|   22|   23|   24|   25|   26|   26|   27|   27|   28|   29|   37|   32|   33|   31|   31|   29|   27|   28|   26|   25|   23|   23|   23|   23|   24|   24|   18|   22|   20|   21|   17|   20|   21|   17|   20|   20|   18|   16|   15|   21|   11|   19|   21|   18|   14|   14|   14|   12|       172.0|            0.0|        42.0|\n",
      "|Afghanistan|      Cereals, Other|   Food|    0|    0|    0|    0|    0|    0|    0|    0|    0|    0|    0|    0|    0|    0|    0|    0|    0|    0|    0|    0|    0|    0|    0|    0|    0|    0|    0|    0|    0|    0|    0|    0|    0|    0|    0|    0|    0|    0|    0|    0|    0|    0|    1|    2|    1|    1|    0|    0|    0|    0|    0|    0|    0|       172.0|            0.0|         8.0|\n",
      "|Afghanistan|Potatoes and prod...|   Food|  111|   97|  103|  110|  113|  117|  128|  130|  134|  125|  147|  138|  143|  160|  169|  324|  176|  225|  232|  240|  247|  248|  242|  235|  226|  217|  196|  198|  184|  205|  203|  210|  210|  211|  212|  213|  214|  214|  217|  219|  215|  217|  347|  276|  294|  294|  260|  242|  250|  192|  169|  196|  230|       172.0|            0.0|        19.0|\n",
      "|Afghanistan|          Sugar cane|   Feed|   45|   45|   45|   45|   31|   14|   19|   30|   34|   15|    0|    0|   28|   32|   20|   28|   24|   24|   34|   61|   50|   43|   38|   46|   23|   25|    3|   45|   54|   47|   29|   29|   29|   29|   29|   29|   28|   28|   28|   29|   29|   29|   51|   50|   29|   61|   65|   54|  114|   83|   83|   69|   81|       172.0|            1.0|       108.0|\n",
      "|Afghanistan|          Sugar beet|   Feed|    0|    0|    0|    0|    0|   16|   23|   31|   28|    9|   13|   13|    6|    0|    0|   10|   16|   13|    6|   15|    0|    0|    0|    0|    0|    0|    0|    0|    0|    0|    0|    0|    0|    0|    0|    0|    0|    0|    0|    0|    0|    0|    0|    0|    0|    0|    0|    0|    0|    0|    0|    0|    0|       172.0|            1.0|       109.0|\n",
      "|Afghanistan|Sugar (Raw Equiva...|   Food|   45|   41|   43|   52|   55|   58|   62|   65|   54|   73|   63|   60|   60|   63|   65|   70|   75|   80|   90|   94|   76|   90|  109|  100|   80|   80|   80|   80|   56|   40|   41|   50|   47|   46|   50|   45|   51|   55|   60|   61|   61|   71|   92|  124|  152|  169|  192|  217|  231|  240|  240|  250|  255|       172.0|            0.0|        31.0|\n",
      "|Afghanistan|   Sweeteners, Other|   Food|    0|    0|    0|    0|    0|    0|    0|    0|    0|    0|    0|    0|    0|    0|    0|    0|    0|    0|    0|    0|    0|    0|    0|    0|    0|    0|    0|    0|    0|    0|    0|    0|    0|    0|    0|    0|    0|    0|    0|    0|    0|    1|    6|    9|   15|   12|    6|   11|    2|    9|   21|   24|   16|       172.0|            0.0|        48.0|\n",
      "|Afghanistan|               Honey|   Food|    2|    2|    2|    2|    3|    3|    3|    3|    3|    3|    3|    3|    3|    3|    3|    3|    3|    4|    4|    3|    3|    3|    3|    3|    3|    3|    3|    3|    3|    3|    3|    4|    4|    4|    4|    4|    4|    4|    4|    5|    5|    4|    5|    3|    3|    3|    3|    3|    3|    3|    2|    2|    2|       172.0|            0.0|        73.0|\n",
      "|Afghanistan|Pulses, Other and...|   Feed|    1|    1|    1|    1|    1|    1|    2|    1|    1|    1|    1|    1|    2|    2|    2|    2|    2|    2|    2|    2|    2|    2|    2|    2|    2|    2|    2|    2|    1|    2|    2|    2|    2|    2|    3|    3|    3|    2|    2|    3|    3|    3|    3|    3|    2|    3|    3|    3|    5|    4|    5|    4|    4|       172.0|            1.0|        18.0|\n",
      "|Afghanistan|Pulses, Other and...|   Food|   15|   16|   17|   18|   18|   20|   26|   21|   22|   23|   24|   24|   26|   27|   27|   29|   30|   31|   31|   33|   26|   26|   25|   24|   23|   24|   24|   27|   24|   23|   27|   29|   36|   42|   31|   31|   28|   33|   25|   22|   39|   23|   23|   17|   35|   37|   40|   54|   80|   66|   81|   63|   74|       172.0|            0.0|        18.0|\n",
      "|Afghanistan|   Nuts and products|   Food|    2|    3|    1|    1|    2|    2|    1|    1|    0|    3|    1|    5|    5|    6|    4|    7|    4|    4|    7|   20|   17|   21|   19|   12|   13|   15|   11|    7|   11|   13|   14|   17|   16|   16|   16|   16|   15|   12|   17|   13|   12|   13|   10|   11|   13|   24|   34|   42|   28|   66|   71|   70|   44|       172.0|            0.0|        64.0|\n",
      "|Afghanistan|Coconuts - Incl C...|   Food|    0|    0|    0|    0|    0|    0|    0|    0|    0|    0|    0|    0|    0|    0|    0|    0|    0|    0|    0|    0|    0|    0|    0|    0|    0|    0|    0|    0|    0|    0|    1|    0|    0|    0|    0|    0|    1|    0|    0|    0|    0|    0|    0|    0|    0|    0|    0|    0|    0|    0|    0|    0|    0|       172.0|            0.0|        57.0|\n",
      "|Afghanistan|         Sesame seed|   Food|   10|   10|   10|   10|   10|   11|   11|   11|   11|   11|    8|   11|   13|   12|   12|   12|   11|   11|   13|   13|   13|   14|   14|   14|   14|   14|   13|   13|   13|   12|   12|   14|   12|   13|   12|   11|   11|   11|   12|   12|   12|   12|   15|   16|   16|   13|   16|   16|   16|   19|   17|   16|   16|       172.0|            0.0|       101.0|\n",
      "|Afghanistan|Olives (including...|   Food|    0|    0|    0|    0|    0|    0|    0|    0|    0|    0|    0|    0|    0|    0|    0|    0|    0|    0|    0|    0|    0|    0|    0|    0|    0|    1|    0|    0|    0|    0|    0|    0|    0|    0|    0|    0|    0|    0|    0|    0|    0|    0|    1|    1|    1|    0|    0|    2|    3|    2|    2|    2|    2|       172.0|            0.0|        91.0|\n",
      "+-----------+--------------------+-------+-----+-----+-----+-----+-----+-----+-----+-----+-----+-----+-----+-----+-----+-----+-----+-----+-----+-----+-----+-----+-----+-----+-----+-----+-----+-----+-----+-----+-----+-----+-----+-----+-----+-----+-----+-----+-----+-----+-----+-----+-----+-----+-----+-----+-----+-----+-----+-----+-----+-----+-----+-----+-----+------------+---------------+------------+\n",
      "only showing top 20 rows\n",
      "\n"
     ]
    }
   ],
   "source": [
    "indexer = StringIndexer(inputCol = \"Item\",outputCol = 'Item_indexed')\n",
    "df_fao1 = indexer.fit(df_fao1).transform(df_fao1)\n",
    "df_fao1.show()\n",
    "\n"
   ]
  },
  {
   "cell_type": "code",
   "execution_count": 30,
   "metadata": {},
   "outputs": [
    {
     "name": "stdout",
     "output_type": "stream",
     "text": [
      "+-----------+--------------------+-------+-----+-----+-----+-----+-----+-----+-----+-----+-----+-----+-----+-----+-----+-----+-----+-----+-----+-----+-----+-----+-----+-----+-----+-----+-----+-----+-----+-----+-----+-----+-----+-----+-----+-----+-----+-----+-----+-----+-----+-----+-----+-----+-----+-----+-----+-----+-----+-----+-----+-----+-----+-----+-----+------------+---------------+------------+-----+\n",
      "|       Area|                Item|Element|Y1961|Y1962|Y1963|Y1964|Y1965|Y1966|Y1967|Y1968|Y1969|Y1970|Y1971|Y1972|Y1973|Y1974|Y1975|Y1976|Y1977|Y1978|Y1979|Y1980|Y1981|Y1982|Y1983|Y1984|Y1985|Y1986|Y1987|Y1988|Y1989|Y1990|Y1991|Y1992|Y1993|Y1994|Y1995|Y1996|Y1997|Y1998|Y1999|Y2000|Y2001|Y2002|Y2003|Y2004|Y2005|Y2006|Y2007|Y2008|Y2009|Y2010|Y2011|Y2012|Y2013|Area_indexed|Element_indexed|Item_indexed| 1961|\n",
      "+-----------+--------------------+-------+-----+-----+-----+-----+-----+-----+-----+-----+-----+-----+-----+-----+-----+-----+-----+-----+-----+-----+-----+-----+-----+-----+-----+-----+-----+-----+-----+-----+-----+-----+-----+-----+-----+-----+-----+-----+-----+-----+-----+-----+-----+-----+-----+-----+-----+-----+-----+-----+-----+-----+-----+-----+-----+------------+---------------+------------+-----+\n",
      "|Afghanistan|  Wheat and products|   Food| 1928| 1904| 1666| 1950| 2001| 1808| 2053| 2045| 2154| 1819| 1963| 2215| 2310| 2335| 2434| 2512| 2282| 2454| 2443| 2129| 2133| 2068| 1994| 1851| 1791| 1683| 2194| 1801| 1754| 1640| 1539| 1582| 1840| 1855| 1853| 2177| 2343| 2407| 2463| 2600| 2668| 2776| 3095| 3249| 3486| 3704| 4164| 4252| 4538| 4605| 4711| 4810| 4895|       172.0|            0.0|        12.0|582.0|\n",
      "|Afghanistan|Rice (Milled Equi...|   Food|  183|  183|  182|  220|  220|  195|  231|  235|  238|  213|  205|  233|  246|  246|  255|  263|  235|  254|  270|  259|  248|  217|  217|  197|  186|  200|  193|  202|  191|  199|  197|  249|  218|  260|  319|  254|  326|  347|  270|  372|  411|  448|  460|  419|  445|  546|  455|  490|  415|  442|  476|  425|  422|       172.0|            0.0|        17.0|182.0|\n",
      "|Afghanistan| Barley and products|   Feed|   76|   76|   76|   76|   76|   75|   71|   72|   73|   74|   71|   70|   72|   76|   77|   80|   60|   65|   64|   64|   60|   55|   53|   51|   48|   46|   46|   47|   46|   43|   43|   40|   50|   46|   41|   44|   50|   48|   43|   26|   29|   70|   48|   58|  236|  262|  263|  230|  379|  315|  203|  367|  360|       172.0|            1.0|        11.0| 68.0|\n",
      "|Afghanistan| Barley and products|   Food|  237|  237|  237|  238|  238|  237|  225|  227|  230|  234|  223|  219|  225|  240|  244|  255|  185|  203|  198|  202|  189|  174|  167|  160|  151|  145|  145|  148|  145|  135|  132|  120|  155|  143|  125|  138|  159|  154|  141|   84|   83|  122|  144|  185|   43|   44|   48|   62|   55|   60|   72|   78|   89|       172.0|            0.0|        11.0|112.0|\n",
      "|Afghanistan|  Maize and products|   Feed|  210|  210|  214|  216|  216|  216|  235|  232|  236|  200|  201|  216|  228|  231|  234|  240|  228|  234|  228|  226|  210|  199|  192|  182|  173|  170|  154|  148|  137|  144|  126|   90|  141|  150|  159|  108|   90|   99|   72|   35|   48|   89|   63|  120|  208|  233|  249|  247|  195|  178|  191|  200|  200|       172.0|            1.0|         4.0|501.0|\n",
      "+-----------+--------------------+-------+-----+-----+-----+-----+-----+-----+-----+-----+-----+-----+-----+-----+-----+-----+-----+-----+-----+-----+-----+-----+-----+-----+-----+-----+-----+-----+-----+-----+-----+-----+-----+-----+-----+-----+-----+-----+-----+-----+-----+-----+-----+-----+-----+-----+-----+-----+-----+-----+-----+-----+-----+-----+-----+------------+---------------+------------+-----+\n",
      "only showing top 5 rows\n",
      "\n"
     ]
    }
   ],
   "source": [
    "indexer = StringIndexer(inputCol = \"Y1961\",outputCol = '1961')\n",
    "df_fao1 = indexer.fit(df_fao1).transform(df_fao1)\n",
    "df_fao1.show(5)\n"
   ]
  },
  {
   "cell_type": "code",
   "execution_count": 31,
   "metadata": {},
   "outputs": [
    {
     "name": "stdout",
     "output_type": "stream",
     "text": [
      "+-----------+--------------------+-------+-----+-----+-----+-----+-----+-----+-----+-----+-----+-----+-----+-----+-----+-----+-----+-----+-----+-----+-----+-----+-----+-----+-----+-----+-----+-----+-----+-----+-----+-----+-----+-----+-----+-----+-----+-----+-----+-----+-----+-----+-----+-----+-----+-----+-----+-----+-----+-----+-----+-----+-----+-----+-----+------------+---------------+------------+-----+------+\n",
      "|       Area|                Item|Element|Y1961|Y1962|Y1963|Y1964|Y1965|Y1966|Y1967|Y1968|Y1969|Y1970|Y1971|Y1972|Y1973|Y1974|Y1975|Y1976|Y1977|Y1978|Y1979|Y1980|Y1981|Y1982|Y1983|Y1984|Y1985|Y1986|Y1987|Y1988|Y1989|Y1990|Y1991|Y1992|Y1993|Y1994|Y1995|Y1996|Y1997|Y1998|Y1999|Y2000|Y2001|Y2002|Y2003|Y2004|Y2005|Y2006|Y2007|Y2008|Y2009|Y2010|Y2011|Y2012|Y2013|Area_indexed|Element_indexed|Item_indexed| 1961|  1962|\n",
      "+-----------+--------------------+-------+-----+-----+-----+-----+-----+-----+-----+-----+-----+-----+-----+-----+-----+-----+-----+-----+-----+-----+-----+-----+-----+-----+-----+-----+-----+-----+-----+-----+-----+-----+-----+-----+-----+-----+-----+-----+-----+-----+-----+-----+-----+-----+-----+-----+-----+-----+-----+-----+-----+-----+-----+-----+-----+------------+---------------+------------+-----+------+\n",
      "|Afghanistan|  Wheat and products|   Food| 1928| 1904| 1666| 1950| 2001| 1808| 2053| 2045| 2154| 1819| 1963| 2215| 2310| 2335| 2434| 2512| 2282| 2454| 2443| 2129| 2133| 2068| 1994| 1851| 1791| 1683| 2194| 1801| 1754| 1640| 1539| 1582| 1840| 1855| 1853| 2177| 2343| 2407| 2463| 2600| 2668| 2776| 3095| 3249| 3486| 3704| 4164| 4252| 4538| 4605| 4711| 4810| 4895|       172.0|            0.0|        12.0|582.0|1056.0|\n",
      "|Afghanistan|Rice (Milled Equi...|   Food|  183|  183|  182|  220|  220|  195|  231|  235|  238|  213|  205|  233|  246|  246|  255|  263|  235|  254|  270|  259|  248|  217|  217|  197|  186|  200|  193|  202|  191|  199|  197|  249|  218|  260|  319|  254|  326|  347|  270|  372|  411|  448|  460|  419|  445|  546|  455|  490|  415|  442|  476|  425|  422|       172.0|            0.0|        17.0|182.0| 176.0|\n",
      "|Afghanistan| Barley and products|   Feed|   76|   76|   76|   76|   76|   75|   71|   72|   73|   74|   71|   70|   72|   76|   77|   80|   60|   65|   64|   64|   60|   55|   53|   51|   48|   46|   46|   47|   46|   43|   43|   40|   50|   46|   41|   44|   50|   48|   43|   26|   29|   70|   48|   58|  236|  262|  263|  230|  379|  315|  203|  367|  360|       172.0|            1.0|        11.0| 68.0|  84.0|\n",
      "|Afghanistan| Barley and products|   Food|  237|  237|  237|  238|  238|  237|  225|  227|  230|  234|  223|  219|  225|  240|  244|  255|  185|  203|  198|  202|  189|  174|  167|  160|  151|  145|  145|  148|  145|  135|  132|  120|  155|  143|  125|  138|  159|  154|  141|   84|   83|  122|  144|  185|   43|   44|   48|   62|   55|   60|   72|   78|   89|       172.0|            0.0|        11.0|112.0| 227.0|\n",
      "|Afghanistan|  Maize and products|   Feed|  210|  210|  214|  216|  216|  216|  235|  232|  236|  200|  201|  216|  228|  231|  234|  240|  228|  234|  228|  226|  210|  199|  192|  182|  173|  170|  154|  148|  137|  144|  126|   90|  141|  150|  159|  108|   90|   99|   72|   35|   48|   89|   63|  120|  208|  233|  249|  247|  195|  178|  191|  200|  200|       172.0|            1.0|         4.0|501.0| 320.0|\n",
      "+-----------+--------------------+-------+-----+-----+-----+-----+-----+-----+-----+-----+-----+-----+-----+-----+-----+-----+-----+-----+-----+-----+-----+-----+-----+-----+-----+-----+-----+-----+-----+-----+-----+-----+-----+-----+-----+-----+-----+-----+-----+-----+-----+-----+-----+-----+-----+-----+-----+-----+-----+-----+-----+-----+-----+-----+-----+------------+---------------+------------+-----+------+\n",
      "only showing top 5 rows\n",
      "\n"
     ]
    }
   ],
   "source": [
    "indexer = StringIndexer(inputCol = \"Y1962\",outputCol = '1962')\n",
    "df_fao1 = indexer.fit(df_fao1).transform(df_fao1)\n",
    "df_fao1.show(5)\n"
   ]
  },
  {
   "cell_type": "code",
   "execution_count": 32,
   "metadata": {},
   "outputs": [
    {
     "name": "stdout",
     "output_type": "stream",
     "text": [
      "+-----------+--------------------+-------+-----+-----+-----+-----+-----+-----+-----+-----+-----+-----+-----+-----+-----+-----+-----+-----+-----+-----+-----+-----+-----+-----+-----+-----+-----+-----+-----+-----+-----+-----+-----+-----+-----+-----+-----+-----+-----+-----+-----+-----+-----+-----+-----+-----+-----+-----+-----+-----+-----+-----+-----+-----+-----+------------+---------------+------------+-----+------+-----+\n",
      "|       Area|                Item|Element|Y1961|Y1962|Y1963|Y1964|Y1965|Y1966|Y1967|Y1968|Y1969|Y1970|Y1971|Y1972|Y1973|Y1974|Y1975|Y1976|Y1977|Y1978|Y1979|Y1980|Y1981|Y1982|Y1983|Y1984|Y1985|Y1986|Y1987|Y1988|Y1989|Y1990|Y1991|Y1992|Y1993|Y1994|Y1995|Y1996|Y1997|Y1998|Y1999|Y2000|Y2001|Y2002|Y2003|Y2004|Y2005|Y2006|Y2007|Y2008|Y2009|Y2010|Y2011|Y2012|Y2013|Area_indexed|Element_indexed|Item_indexed| 1961|  1962| 1963|\n",
      "+-----------+--------------------+-------+-----+-----+-----+-----+-----+-----+-----+-----+-----+-----+-----+-----+-----+-----+-----+-----+-----+-----+-----+-----+-----+-----+-----+-----+-----+-----+-----+-----+-----+-----+-----+-----+-----+-----+-----+-----+-----+-----+-----+-----+-----+-----+-----+-----+-----+-----+-----+-----+-----+-----+-----+-----+-----+------------+---------------+------------+-----+------+-----+\n",
      "|Afghanistan|  Wheat and products|   Food| 1928| 1904| 1666| 1950| 2001| 1808| 2053| 2045| 2154| 1819| 1963| 2215| 2310| 2335| 2434| 2512| 2282| 2454| 2443| 2129| 2133| 2068| 1994| 1851| 1791| 1683| 2194| 1801| 1754| 1640| 1539| 1582| 1840| 1855| 1853| 2177| 2343| 2407| 2463| 2600| 2668| 2776| 3095| 3249| 3486| 3704| 4164| 4252| 4538| 4605| 4711| 4810| 4895|       172.0|            0.0|        12.0|582.0|1056.0|590.0|\n",
      "|Afghanistan|Rice (Milled Equi...|   Food|  183|  183|  182|  220|  220|  195|  231|  235|  238|  213|  205|  233|  246|  246|  255|  263|  235|  254|  270|  259|  248|  217|  217|  197|  186|  200|  193|  202|  191|  199|  197|  249|  218|  260|  319|  254|  326|  347|  270|  372|  411|  448|  460|  419|  445|  546|  455|  490|  415|  442|  476|  425|  422|       172.0|            0.0|        17.0|182.0| 176.0|229.0|\n",
      "|Afghanistan| Barley and products|   Feed|   76|   76|   76|   76|   76|   75|   71|   72|   73|   74|   71|   70|   72|   76|   77|   80|   60|   65|   64|   64|   60|   55|   53|   51|   48|   46|   46|   47|   46|   43|   43|   40|   50|   46|   41|   44|   50|   48|   43|   26|   29|   70|   48|   58|  236|  262|  263|  230|  379|  315|  203|  367|  360|       172.0|            1.0|        11.0| 68.0|  84.0| 69.0|\n",
      "|Afghanistan| Barley and products|   Food|  237|  237|  237|  238|  238|  237|  225|  227|  230|  234|  223|  219|  225|  240|  244|  255|  185|  203|  198|  202|  189|  174|  167|  160|  151|  145|  145|  148|  145|  135|  132|  120|  155|  143|  125|  138|  159|  154|  141|   84|   83|  122|  144|  185|   43|   44|   48|   62|   55|   60|   72|   78|   89|       172.0|            0.0|        11.0|112.0| 227.0|303.0|\n",
      "|Afghanistan|  Maize and products|   Feed|  210|  210|  214|  216|  216|  216|  235|  232|  236|  200|  201|  216|  228|  231|  234|  240|  228|  234|  228|  226|  210|  199|  192|  182|  173|  170|  154|  148|  137|  144|  126|   90|  141|  150|  159|  108|   90|   99|   72|   35|   48|   89|   63|  120|  208|  233|  249|  247|  195|  178|  191|  200|  200|       172.0|            1.0|         4.0|501.0| 320.0|256.0|\n",
      "+-----------+--------------------+-------+-----+-----+-----+-----+-----+-----+-----+-----+-----+-----+-----+-----+-----+-----+-----+-----+-----+-----+-----+-----+-----+-----+-----+-----+-----+-----+-----+-----+-----+-----+-----+-----+-----+-----+-----+-----+-----+-----+-----+-----+-----+-----+-----+-----+-----+-----+-----+-----+-----+-----+-----+-----+-----+------------+---------------+------------+-----+------+-----+\n",
      "only showing top 5 rows\n",
      "\n"
     ]
    }
   ],
   "source": [
    "indexer = StringIndexer(inputCol = \"Y1963\",outputCol = '1963')\n",
    "df_fao1 = indexer.fit(df_fao1).transform(df_fao1)\n",
    "df_fao1.show(5)\n"
   ]
  },
  {
   "cell_type": "code",
   "execution_count": 33,
   "metadata": {},
   "outputs": [
    {
     "name": "stdout",
     "output_type": "stream",
     "text": [
      "+-----------+--------------------+-------+-----+-----+-----+-----+-----+-----+-----+-----+-----+-----+-----+-----+-----+-----+-----+-----+-----+-----+-----+-----+-----+-----+-----+-----+-----+-----+-----+-----+-----+-----+-----+-----+-----+-----+-----+-----+-----+-----+-----+-----+-----+-----+-----+-----+-----+-----+-----+-----+-----+-----+-----+-----+-----+------------+---------------+------------+-----+------+-----+-----+\n",
      "|       Area|                Item|Element|Y1961|Y1962|Y1963|Y1964|Y1965|Y1966|Y1967|Y1968|Y1969|Y1970|Y1971|Y1972|Y1973|Y1974|Y1975|Y1976|Y1977|Y1978|Y1979|Y1980|Y1981|Y1982|Y1983|Y1984|Y1985|Y1986|Y1987|Y1988|Y1989|Y1990|Y1991|Y1992|Y1993|Y1994|Y1995|Y1996|Y1997|Y1998|Y1999|Y2000|Y2001|Y2002|Y2003|Y2004|Y2005|Y2006|Y2007|Y2008|Y2009|Y2010|Y2011|Y2012|Y2013|Area_indexed|Element_indexed|Item_indexed| 1961|  1962| 1963| 1964|\n",
      "+-----------+--------------------+-------+-----+-----+-----+-----+-----+-----+-----+-----+-----+-----+-----+-----+-----+-----+-----+-----+-----+-----+-----+-----+-----+-----+-----+-----+-----+-----+-----+-----+-----+-----+-----+-----+-----+-----+-----+-----+-----+-----+-----+-----+-----+-----+-----+-----+-----+-----+-----+-----+-----+-----+-----+-----+-----+------------+---------------+------------+-----+------+-----+-----+\n",
      "|Afghanistan|  Wheat and products|   Food| 1928| 1904| 1666| 1950| 2001| 1808| 2053| 2045| 2154| 1819| 1963| 2215| 2310| 2335| 2434| 2512| 2282| 2454| 2443| 2129| 2133| 2068| 1994| 1851| 1791| 1683| 2194| 1801| 1754| 1640| 1539| 1582| 1840| 1855| 1853| 2177| 2343| 2407| 2463| 2600| 2668| 2776| 3095| 3249| 3486| 3704| 4164| 4252| 4538| 4605| 4711| 4810| 4895|       172.0|            0.0|        12.0|582.0|1056.0|590.0|606.0|\n",
      "|Afghanistan|Rice (Milled Equi...|   Food|  183|  183|  182|  220|  220|  195|  231|  235|  238|  213|  205|  233|  246|  246|  255|  263|  235|  254|  270|  259|  248|  217|  217|  197|  186|  200|  193|  202|  191|  199|  197|  249|  218|  260|  319|  254|  326|  347|  270|  372|  411|  448|  460|  419|  445|  546|  455|  490|  415|  442|  476|  425|  422|       172.0|            0.0|        17.0|182.0| 176.0|229.0|155.0|\n",
      "+-----------+--------------------+-------+-----+-----+-----+-----+-----+-----+-----+-----+-----+-----+-----+-----+-----+-----+-----+-----+-----+-----+-----+-----+-----+-----+-----+-----+-----+-----+-----+-----+-----+-----+-----+-----+-----+-----+-----+-----+-----+-----+-----+-----+-----+-----+-----+-----+-----+-----+-----+-----+-----+-----+-----+-----+-----+------------+---------------+------------+-----+------+-----+-----+\n",
      "only showing top 2 rows\n",
      "\n"
     ]
    }
   ],
   "source": [
    "indexer = StringIndexer(inputCol = \"Y1964\",outputCol = '1964')\n",
    "df_fao1 = indexer.fit(df_fao1).transform(df_fao1)\n",
    "df_fao1.show(2)\n"
   ]
  },
  {
   "cell_type": "code",
   "execution_count": 34,
   "metadata": {},
   "outputs": [
    {
     "name": "stdout",
     "output_type": "stream",
     "text": [
      "+-----------+--------------------+-------+-----+-----+-----+-----+-----+-----+-----+-----+-----+-----+-----+-----+-----+-----+-----+-----+-----+-----+-----+-----+-----+-----+-----+-----+-----+-----+-----+-----+-----+-----+-----+-----+-----+-----+-----+-----+-----+-----+-----+-----+-----+-----+-----+-----+-----+-----+-----+-----+-----+-----+-----+-----+-----+------------+---------------+------------+-----+------+-----+-----+-----+\n",
      "|       Area|                Item|Element|Y1961|Y1962|Y1963|Y1964|Y1965|Y1966|Y1967|Y1968|Y1969|Y1970|Y1971|Y1972|Y1973|Y1974|Y1975|Y1976|Y1977|Y1978|Y1979|Y1980|Y1981|Y1982|Y1983|Y1984|Y1985|Y1986|Y1987|Y1988|Y1989|Y1990|Y1991|Y1992|Y1993|Y1994|Y1995|Y1996|Y1997|Y1998|Y1999|Y2000|Y2001|Y2002|Y2003|Y2004|Y2005|Y2006|Y2007|Y2008|Y2009|Y2010|Y2011|Y2012|Y2013|Area_indexed|Element_indexed|Item_indexed| 1961|  1962| 1963| 1964| 1965|\n",
      "+-----------+--------------------+-------+-----+-----+-----+-----+-----+-----+-----+-----+-----+-----+-----+-----+-----+-----+-----+-----+-----+-----+-----+-----+-----+-----+-----+-----+-----+-----+-----+-----+-----+-----+-----+-----+-----+-----+-----+-----+-----+-----+-----+-----+-----+-----+-----+-----+-----+-----+-----+-----+-----+-----+-----+-----+-----+------------+---------------+------------+-----+------+-----+-----+-----+\n",
      "|Afghanistan|  Wheat and products|   Food| 1928| 1904| 1666| 1950| 2001| 1808| 2053| 2045| 2154| 1819| 1963| 2215| 2310| 2335| 2434| 2512| 2282| 2454| 2443| 2129| 2133| 2068| 1994| 1851| 1791| 1683| 2194| 1801| 1754| 1640| 1539| 1582| 1840| 1855| 1853| 2177| 2343| 2407| 2463| 2600| 2668| 2776| 3095| 3249| 3486| 3704| 4164| 4252| 4538| 4605| 4711| 4810| 4895|       172.0|            0.0|        12.0|582.0|1056.0|590.0|606.0|881.0|\n",
      "|Afghanistan|Rice (Milled Equi...|   Food|  183|  183|  182|  220|  220|  195|  231|  235|  238|  213|  205|  233|  246|  246|  255|  263|  235|  254|  270|  259|  248|  217|  217|  197|  186|  200|  193|  202|  191|  199|  197|  249|  218|  260|  319|  254|  326|  347|  270|  372|  411|  448|  460|  419|  445|  546|  455|  490|  415|  442|  476|  425|  422|       172.0|            0.0|        17.0|182.0| 176.0|229.0|155.0|272.0|\n",
      "+-----------+--------------------+-------+-----+-----+-----+-----+-----+-----+-----+-----+-----+-----+-----+-----+-----+-----+-----+-----+-----+-----+-----+-----+-----+-----+-----+-----+-----+-----+-----+-----+-----+-----+-----+-----+-----+-----+-----+-----+-----+-----+-----+-----+-----+-----+-----+-----+-----+-----+-----+-----+-----+-----+-----+-----+-----+------------+---------------+------------+-----+------+-----+-----+-----+\n",
      "only showing top 2 rows\n",
      "\n"
     ]
    }
   ],
   "source": [
    "indexer = StringIndexer(inputCol = \"Y1965\",outputCol = '1965')\n",
    "df_fao1 = indexer.fit(df_fao1).transform(df_fao1)\n",
    "df_fao1.show(2)\n"
   ]
  },
  {
   "cell_type": "code",
   "execution_count": 35,
   "metadata": {},
   "outputs": [
    {
     "name": "stdout",
     "output_type": "stream",
     "text": [
      "+-----------+--------------------+-------+-----+-----+-----+-----+-----+-----+-----+-----+-----+-----+-----+-----+-----+-----+-----+-----+-----+-----+-----+-----+-----+-----+-----+-----+-----+-----+-----+-----+-----+-----+-----+-----+-----+-----+-----+-----+-----+-----+-----+-----+-----+-----+-----+-----+-----+-----+-----+-----+-----+-----+-----+-----+-----+------------+---------------+------------+-----+------+-----+-----+-----+-----+\n",
      "|       Area|                Item|Element|Y1961|Y1962|Y1963|Y1964|Y1965|Y1966|Y1967|Y1968|Y1969|Y1970|Y1971|Y1972|Y1973|Y1974|Y1975|Y1976|Y1977|Y1978|Y1979|Y1980|Y1981|Y1982|Y1983|Y1984|Y1985|Y1986|Y1987|Y1988|Y1989|Y1990|Y1991|Y1992|Y1993|Y1994|Y1995|Y1996|Y1997|Y1998|Y1999|Y2000|Y2001|Y2002|Y2003|Y2004|Y2005|Y2006|Y2007|Y2008|Y2009|Y2010|Y2011|Y2012|Y2013|Area_indexed|Element_indexed|Item_indexed| 1961|  1962| 1963| 1964| 1965| 1966|\n",
      "+-----------+--------------------+-------+-----+-----+-----+-----+-----+-----+-----+-----+-----+-----+-----+-----+-----+-----+-----+-----+-----+-----+-----+-----+-----+-----+-----+-----+-----+-----+-----+-----+-----+-----+-----+-----+-----+-----+-----+-----+-----+-----+-----+-----+-----+-----+-----+-----+-----+-----+-----+-----+-----+-----+-----+-----+-----+------------+---------------+------------+-----+------+-----+-----+-----+-----+\n",
      "|Afghanistan|  Wheat and products|   Food| 1928| 1904| 1666| 1950| 2001| 1808| 2053| 2045| 2154| 1819| 1963| 2215| 2310| 2335| 2434| 2512| 2282| 2454| 2443| 2129| 2133| 2068| 1994| 1851| 1791| 1683| 2194| 1801| 1754| 1640| 1539| 1582| 1840| 1855| 1853| 2177| 2343| 2407| 2463| 2600| 2668| 2776| 3095| 3249| 3486| 3704| 4164| 4252| 4538| 4605| 4711| 4810| 4895|       172.0|            0.0|        12.0|582.0|1056.0|590.0|606.0|881.0|809.0|\n",
      "|Afghanistan|Rice (Milled Equi...|   Food|  183|  183|  182|  220|  220|  195|  231|  235|  238|  213|  205|  233|  246|  246|  255|  263|  235|  254|  270|  259|  248|  217|  217|  197|  186|  200|  193|  202|  191|  199|  197|  249|  218|  260|  319|  254|  326|  347|  270|  372|  411|  448|  460|  419|  445|  546|  455|  490|  415|  442|  476|  425|  422|       172.0|            0.0|        17.0|182.0| 176.0|229.0|155.0|272.0|148.0|\n",
      "+-----------+--------------------+-------+-----+-----+-----+-----+-----+-----+-----+-----+-----+-----+-----+-----+-----+-----+-----+-----+-----+-----+-----+-----+-----+-----+-----+-----+-----+-----+-----+-----+-----+-----+-----+-----+-----+-----+-----+-----+-----+-----+-----+-----+-----+-----+-----+-----+-----+-----+-----+-----+-----+-----+-----+-----+-----+------------+---------------+------------+-----+------+-----+-----+-----+-----+\n",
      "only showing top 2 rows\n",
      "\n"
     ]
    }
   ],
   "source": [
    "indexer = StringIndexer(inputCol = \"Y1966\",outputCol = '1966')\n",
    "df_fao1 = indexer.fit(df_fao1).transform(df_fao1)\n",
    "df_fao1.show(2)\n"
   ]
  },
  {
   "cell_type": "code",
   "execution_count": 36,
   "metadata": {},
   "outputs": [
    {
     "name": "stdout",
     "output_type": "stream",
     "text": [
      "+-----------+--------------------+-------+-----+-----+-----+-----+-----+-----+-----+-----+-----+-----+-----+-----+-----+-----+-----+-----+-----+-----+-----+-----+-----+-----+-----+-----+-----+-----+-----+-----+-----+-----+-----+-----+-----+-----+-----+-----+-----+-----+-----+-----+-----+-----+-----+-----+-----+-----+-----+-----+-----+-----+-----+-----+-----+------------+---------------+------------+-----+------+-----+-----+-----+-----+------+\n",
      "|       Area|                Item|Element|Y1961|Y1962|Y1963|Y1964|Y1965|Y1966|Y1967|Y1968|Y1969|Y1970|Y1971|Y1972|Y1973|Y1974|Y1975|Y1976|Y1977|Y1978|Y1979|Y1980|Y1981|Y1982|Y1983|Y1984|Y1985|Y1986|Y1987|Y1988|Y1989|Y1990|Y1991|Y1992|Y1993|Y1994|Y1995|Y1996|Y1997|Y1998|Y1999|Y2000|Y2001|Y2002|Y2003|Y2004|Y2005|Y2006|Y2007|Y2008|Y2009|Y2010|Y2011|Y2012|Y2013|Area_indexed|Element_indexed|Item_indexed| 1961|  1962| 1963| 1964| 1965| 1966|  1967|\n",
      "+-----------+--------------------+-------+-----+-----+-----+-----+-----+-----+-----+-----+-----+-----+-----+-----+-----+-----+-----+-----+-----+-----+-----+-----+-----+-----+-----+-----+-----+-----+-----+-----+-----+-----+-----+-----+-----+-----+-----+-----+-----+-----+-----+-----+-----+-----+-----+-----+-----+-----+-----+-----+-----+-----+-----+-----+-----+------------+---------------+------------+-----+------+-----+-----+-----+-----+------+\n",
      "|Afghanistan|  Wheat and products|   Food| 1928| 1904| 1666| 1950| 2001| 1808| 2053| 2045| 2154| 1819| 1963| 2215| 2310| 2335| 2434| 2512| 2282| 2454| 2443| 2129| 2133| 2068| 1994| 1851| 1791| 1683| 2194| 1801| 1754| 1640| 1539| 1582| 1840| 1855| 1853| 2177| 2343| 2407| 2463| 2600| 2668| 2776| 3095| 3249| 3486| 3704| 4164| 4252| 4538| 4605| 4711| 4810| 4895|       172.0|            0.0|        12.0|582.0|1056.0|590.0|606.0|881.0|809.0|1282.0|\n",
      "|Afghanistan|Rice (Milled Equi...|   Food|  183|  183|  182|  220|  220|  195|  231|  235|  238|  213|  205|  233|  246|  246|  255|  263|  235|  254|  270|  259|  248|  217|  217|  197|  186|  200|  193|  202|  191|  199|  197|  249|  218|  260|  319|  254|  326|  347|  270|  372|  411|  448|  460|  419|  445|  546|  455|  490|  415|  442|  476|  425|  422|       172.0|            0.0|        17.0|182.0| 176.0|229.0|155.0|272.0|148.0| 154.0|\n",
      "+-----------+--------------------+-------+-----+-----+-----+-----+-----+-----+-----+-----+-----+-----+-----+-----+-----+-----+-----+-----+-----+-----+-----+-----+-----+-----+-----+-----+-----+-----+-----+-----+-----+-----+-----+-----+-----+-----+-----+-----+-----+-----+-----+-----+-----+-----+-----+-----+-----+-----+-----+-----+-----+-----+-----+-----+-----+------------+---------------+------------+-----+------+-----+-----+-----+-----+------+\n",
      "only showing top 2 rows\n",
      "\n"
     ]
    }
   ],
   "source": [
    "indexer = StringIndexer(inputCol = \"Y1967\",outputCol = '1967')\n",
    "df_fao1 = indexer.fit(df_fao1).transform(df_fao1)\n",
    "df_fao1.show(2)\n"
   ]
  },
  {
   "cell_type": "code",
   "execution_count": 37,
   "metadata": {},
   "outputs": [
    {
     "name": "stdout",
     "output_type": "stream",
     "text": [
      "+-----------+--------------------+-------+-----+-----+-----+-----+-----+-----+-----+-----+-----+-----+-----+-----+-----+-----+-----+-----+-----+-----+-----+-----+-----+-----+-----+-----+-----+-----+-----+-----+-----+-----+-----+-----+-----+-----+-----+-----+-----+-----+-----+-----+-----+-----+-----+-----+-----+-----+-----+-----+-----+-----+-----+-----+-----+------------+---------------+------------+-----+------+-----+-----+-----+-----+------+-----+\n",
      "|       Area|                Item|Element|Y1961|Y1962|Y1963|Y1964|Y1965|Y1966|Y1967|Y1968|Y1969|Y1970|Y1971|Y1972|Y1973|Y1974|Y1975|Y1976|Y1977|Y1978|Y1979|Y1980|Y1981|Y1982|Y1983|Y1984|Y1985|Y1986|Y1987|Y1988|Y1989|Y1990|Y1991|Y1992|Y1993|Y1994|Y1995|Y1996|Y1997|Y1998|Y1999|Y2000|Y2001|Y2002|Y2003|Y2004|Y2005|Y2006|Y2007|Y2008|Y2009|Y2010|Y2011|Y2012|Y2013|Area_indexed|Element_indexed|Item_indexed| 1961|  1962| 1963| 1964| 1965| 1966|  1967| 1968|\n",
      "+-----------+--------------------+-------+-----+-----+-----+-----+-----+-----+-----+-----+-----+-----+-----+-----+-----+-----+-----+-----+-----+-----+-----+-----+-----+-----+-----+-----+-----+-----+-----+-----+-----+-----+-----+-----+-----+-----+-----+-----+-----+-----+-----+-----+-----+-----+-----+-----+-----+-----+-----+-----+-----+-----+-----+-----+-----+------------+---------------+------------+-----+------+-----+-----+-----+-----+------+-----+\n",
      "|Afghanistan|  Wheat and products|   Food| 1928| 1904| 1666| 1950| 2001| 1808| 2053| 2045| 2154| 1819| 1963| 2215| 2310| 2335| 2434| 2512| 2282| 2454| 2443| 2129| 2133| 2068| 1994| 1851| 1791| 1683| 2194| 1801| 1754| 1640| 1539| 1582| 1840| 1855| 1853| 2177| 2343| 2407| 2463| 2600| 2668| 2776| 3095| 3249| 3486| 3704| 4164| 4252| 4538| 4605| 4711| 4810| 4895|       172.0|            0.0|        12.0|582.0|1056.0|590.0|606.0|881.0|809.0|1282.0|750.0|\n",
      "|Afghanistan|Rice (Milled Equi...|   Food|  183|  183|  182|  220|  220|  195|  231|  235|  238|  213|  205|  233|  246|  246|  255|  263|  235|  254|  270|  259|  248|  217|  217|  197|  186|  200|  193|  202|  191|  199|  197|  249|  218|  260|  319|  254|  326|  347|  270|  372|  411|  448|  460|  419|  445|  546|  455|  490|  415|  442|  476|  425|  422|       172.0|            0.0|        17.0|182.0| 176.0|229.0|155.0|272.0|148.0| 154.0|164.0|\n",
      "+-----------+--------------------+-------+-----+-----+-----+-----+-----+-----+-----+-----+-----+-----+-----+-----+-----+-----+-----+-----+-----+-----+-----+-----+-----+-----+-----+-----+-----+-----+-----+-----+-----+-----+-----+-----+-----+-----+-----+-----+-----+-----+-----+-----+-----+-----+-----+-----+-----+-----+-----+-----+-----+-----+-----+-----+-----+------------+---------------+------------+-----+------+-----+-----+-----+-----+------+-----+\n",
      "only showing top 2 rows\n",
      "\n"
     ]
    }
   ],
   "source": [
    "indexer = StringIndexer(inputCol = \"Y1968\",outputCol = '1968')\n",
    "df_fao1 = indexer.fit(df_fao1).transform(df_fao1)\n",
    "df_fao1.show(2)\n"
   ]
  },
  {
   "cell_type": "code",
   "execution_count": 38,
   "metadata": {},
   "outputs": [
    {
     "name": "stdout",
     "output_type": "stream",
     "text": [
      "+-----------+--------------------+-------+-----+-----+-----+-----+-----+-----+-----+-----+-----+-----+-----+-----+-----+-----+-----+-----+-----+-----+-----+-----+-----+-----+-----+-----+-----+-----+-----+-----+-----+-----+-----+-----+-----+-----+-----+-----+-----+-----+-----+-----+-----+-----+-----+-----+-----+-----+-----+-----+-----+-----+-----+-----+-----+------------+---------------+------------+-----+------+-----+-----+-----+-----+------+-----+------+\n",
      "|       Area|                Item|Element|Y1961|Y1962|Y1963|Y1964|Y1965|Y1966|Y1967|Y1968|Y1969|Y1970|Y1971|Y1972|Y1973|Y1974|Y1975|Y1976|Y1977|Y1978|Y1979|Y1980|Y1981|Y1982|Y1983|Y1984|Y1985|Y1986|Y1987|Y1988|Y1989|Y1990|Y1991|Y1992|Y1993|Y1994|Y1995|Y1996|Y1997|Y1998|Y1999|Y2000|Y2001|Y2002|Y2003|Y2004|Y2005|Y2006|Y2007|Y2008|Y2009|Y2010|Y2011|Y2012|Y2013|Area_indexed|Element_indexed|Item_indexed| 1961|  1962| 1963| 1964| 1965| 1966|  1967| 1968|  1969|\n",
      "+-----------+--------------------+-------+-----+-----+-----+-----+-----+-----+-----+-----+-----+-----+-----+-----+-----+-----+-----+-----+-----+-----+-----+-----+-----+-----+-----+-----+-----+-----+-----+-----+-----+-----+-----+-----+-----+-----+-----+-----+-----+-----+-----+-----+-----+-----+-----+-----+-----+-----+-----+-----+-----+-----+-----+-----+-----+------------+---------------+------------+-----+------+-----+-----+-----+-----+------+-----+------+\n",
      "|Afghanistan|  Wheat and products|   Food| 1928| 1904| 1666| 1950| 2001| 1808| 2053| 2045| 2154| 1819| 1963| 2215| 2310| 2335| 2434| 2512| 2282| 2454| 2443| 2129| 2133| 2068| 1994| 1851| 1791| 1683| 2194| 1801| 1754| 1640| 1539| 1582| 1840| 1855| 1853| 2177| 2343| 2407| 2463| 2600| 2668| 2776| 3095| 3249| 3486| 3704| 4164| 4252| 4538| 4605| 4711| 4810| 4895|       172.0|            0.0|        12.0|582.0|1056.0|590.0|606.0|881.0|809.0|1282.0|750.0|1259.0|\n",
      "|Afghanistan|Rice (Milled Equi...|   Food|  183|  183|  182|  220|  220|  195|  231|  235|  238|  213|  205|  233|  246|  246|  255|  263|  235|  254|  270|  259|  248|  217|  217|  197|  186|  200|  193|  202|  191|  199|  197|  249|  218|  260|  319|  254|  326|  347|  270|  372|  411|  448|  460|  419|  445|  546|  455|  490|  415|  442|  476|  425|  422|       172.0|            0.0|        17.0|182.0| 176.0|229.0|155.0|272.0|148.0| 154.0|164.0| 112.0|\n",
      "+-----------+--------------------+-------+-----+-----+-----+-----+-----+-----+-----+-----+-----+-----+-----+-----+-----+-----+-----+-----+-----+-----+-----+-----+-----+-----+-----+-----+-----+-----+-----+-----+-----+-----+-----+-----+-----+-----+-----+-----+-----+-----+-----+-----+-----+-----+-----+-----+-----+-----+-----+-----+-----+-----+-----+-----+-----+------------+---------------+------------+-----+------+-----+-----+-----+-----+------+-----+------+\n",
      "only showing top 2 rows\n",
      "\n"
     ]
    }
   ],
   "source": [
    "indexer = StringIndexer(inputCol = \"Y1969\",outputCol = '1969')\n",
    "df_fao1 = indexer.fit(df_fao1).transform(df_fao1)\n",
    "df_fao1.show(2)\n"
   ]
  },
  {
   "cell_type": "code",
   "execution_count": 39,
   "metadata": {},
   "outputs": [
    {
     "name": "stdout",
     "output_type": "stream",
     "text": [
      "+-----------+--------------------+-------+-----+-----+-----+-----+-----+-----+-----+-----+-----+-----+-----+-----+-----+-----+-----+-----+-----+-----+-----+-----+-----+-----+-----+-----+-----+-----+-----+-----+-----+-----+-----+-----+-----+-----+-----+-----+-----+-----+-----+-----+-----+-----+-----+-----+-----+-----+-----+-----+-----+-----+-----+-----+-----+------------+---------------+------------+-----+------+-----+-----+-----+-----+------+-----+------+-----+\n",
      "|       Area|                Item|Element|Y1961|Y1962|Y1963|Y1964|Y1965|Y1966|Y1967|Y1968|Y1969|Y1970|Y1971|Y1972|Y1973|Y1974|Y1975|Y1976|Y1977|Y1978|Y1979|Y1980|Y1981|Y1982|Y1983|Y1984|Y1985|Y1986|Y1987|Y1988|Y1989|Y1990|Y1991|Y1992|Y1993|Y1994|Y1995|Y1996|Y1997|Y1998|Y1999|Y2000|Y2001|Y2002|Y2003|Y2004|Y2005|Y2006|Y2007|Y2008|Y2009|Y2010|Y2011|Y2012|Y2013|Area_indexed|Element_indexed|Item_indexed| 1961|  1962| 1963| 1964| 1965| 1966|  1967| 1968|  1969| 1970|\n",
      "+-----------+--------------------+-------+-----+-----+-----+-----+-----+-----+-----+-----+-----+-----+-----+-----+-----+-----+-----+-----+-----+-----+-----+-----+-----+-----+-----+-----+-----+-----+-----+-----+-----+-----+-----+-----+-----+-----+-----+-----+-----+-----+-----+-----+-----+-----+-----+-----+-----+-----+-----+-----+-----+-----+-----+-----+-----+------------+---------------+------------+-----+------+-----+-----+-----+-----+------+-----+------+-----+\n",
      "|Afghanistan|  Wheat and products|   Food| 1928| 1904| 1666| 1950| 2001| 1808| 2053| 2045| 2154| 1819| 1963| 2215| 2310| 2335| 2434| 2512| 2282| 2454| 2443| 2129| 2133| 2068| 1994| 1851| 1791| 1683| 2194| 1801| 1754| 1640| 1539| 1582| 1840| 1855| 1853| 2177| 2343| 2407| 2463| 2600| 2668| 2776| 3095| 3249| 3486| 3704| 4164| 4252| 4538| 4605| 4711| 4810| 4895|       172.0|            0.0|        12.0|582.0|1056.0|590.0|606.0|881.0|809.0|1282.0|750.0|1259.0|371.0|\n",
      "|Afghanistan|Rice (Milled Equi...|   Food|  183|  183|  182|  220|  220|  195|  231|  235|  238|  213|  205|  233|  246|  246|  255|  263|  235|  254|  270|  259|  248|  217|  217|  197|  186|  200|  193|  202|  191|  199|  197|  249|  218|  260|  319|  254|  326|  347|  270|  372|  411|  448|  460|  419|  445|  546|  455|  490|  415|  442|  476|  425|  422|       172.0|            0.0|        17.0|182.0| 176.0|229.0|155.0|272.0|148.0| 154.0|164.0| 112.0|220.0|\n",
      "+-----------+--------------------+-------+-----+-----+-----+-----+-----+-----+-----+-----+-----+-----+-----+-----+-----+-----+-----+-----+-----+-----+-----+-----+-----+-----+-----+-----+-----+-----+-----+-----+-----+-----+-----+-----+-----+-----+-----+-----+-----+-----+-----+-----+-----+-----+-----+-----+-----+-----+-----+-----+-----+-----+-----+-----+-----+------------+---------------+------------+-----+------+-----+-----+-----+-----+------+-----+------+-----+\n",
      "only showing top 2 rows\n",
      "\n"
     ]
    }
   ],
   "source": [
    "indexer = StringIndexer(inputCol = \"Y1970\",outputCol = '1970')\n",
    "df_fao1 = indexer.fit(df_fao1).transform(df_fao1)\n",
    "df_fao1.show(2)\n"
   ]
  },
  {
   "cell_type": "code",
   "execution_count": 40,
   "metadata": {},
   "outputs": [
    {
     "name": "stdout",
     "output_type": "stream",
     "text": [
      "+-----------+--------------------+-------+-----+-----+-----+-----+-----+-----+-----+-----+-----+-----+-----+-----+-----+-----+-----+-----+-----+-----+-----+-----+-----+-----+-----+-----+-----+-----+-----+-----+-----+-----+-----+-----+-----+-----+-----+-----+-----+-----+-----+-----+-----+-----+-----+-----+-----+-----+-----+-----+-----+-----+-----+-----+-----+------------+---------------+------------+-----+------+-----+-----+-----+-----+------+-----+------+-----+------+\n",
      "|       Area|                Item|Element|Y1961|Y1962|Y1963|Y1964|Y1965|Y1966|Y1967|Y1968|Y1969|Y1970|Y1971|Y1972|Y1973|Y1974|Y1975|Y1976|Y1977|Y1978|Y1979|Y1980|Y1981|Y1982|Y1983|Y1984|Y1985|Y1986|Y1987|Y1988|Y1989|Y1990|Y1991|Y1992|Y1993|Y1994|Y1995|Y1996|Y1997|Y1998|Y1999|Y2000|Y2001|Y2002|Y2003|Y2004|Y2005|Y2006|Y2007|Y2008|Y2009|Y2010|Y2011|Y2012|Y2013|Area_indexed|Element_indexed|Item_indexed| 1961|  1962| 1963| 1964| 1965| 1966|  1967| 1968|  1969| 1970|  1971|\n",
      "+-----------+--------------------+-------+-----+-----+-----+-----+-----+-----+-----+-----+-----+-----+-----+-----+-----+-----+-----+-----+-----+-----+-----+-----+-----+-----+-----+-----+-----+-----+-----+-----+-----+-----+-----+-----+-----+-----+-----+-----+-----+-----+-----+-----+-----+-----+-----+-----+-----+-----+-----+-----+-----+-----+-----+-----+-----+------------+---------------+------------+-----+------+-----+-----+-----+-----+------+-----+------+-----+------+\n",
      "|Afghanistan|  Wheat and products|   Food| 1928| 1904| 1666| 1950| 2001| 1808| 2053| 2045| 2154| 1819| 1963| 2215| 2310| 2335| 2434| 2512| 2282| 2454| 2443| 2129| 2133| 2068| 1994| 1851| 1791| 1683| 2194| 1801| 1754| 1640| 1539| 1582| 1840| 1855| 1853| 2177| 2343| 2407| 2463| 2600| 2668| 2776| 3095| 3249| 3486| 3704| 4164| 4252| 4538| 4605| 4711| 4810| 4895|       172.0|            0.0|        12.0|582.0|1056.0|590.0|606.0|881.0|809.0|1282.0|750.0|1259.0|371.0|1144.0|\n",
      "|Afghanistan|Rice (Milled Equi...|   Food|  183|  183|  182|  220|  220|  195|  231|  235|  238|  213|  205|  233|  246|  246|  255|  263|  235|  254|  270|  259|  248|  217|  217|  197|  186|  200|  193|  202|  191|  199|  197|  249|  218|  260|  319|  254|  326|  347|  270|  372|  411|  448|  460|  419|  445|  546|  455|  490|  415|  442|  476|  425|  422|       172.0|            0.0|        17.0|182.0| 176.0|229.0|155.0|272.0|148.0| 154.0|164.0| 112.0|220.0| 178.0|\n",
      "+-----------+--------------------+-------+-----+-----+-----+-----+-----+-----+-----+-----+-----+-----+-----+-----+-----+-----+-----+-----+-----+-----+-----+-----+-----+-----+-----+-----+-----+-----+-----+-----+-----+-----+-----+-----+-----+-----+-----+-----+-----+-----+-----+-----+-----+-----+-----+-----+-----+-----+-----+-----+-----+-----+-----+-----+-----+------------+---------------+------------+-----+------+-----+-----+-----+-----+------+-----+------+-----+------+\n",
      "only showing top 2 rows\n",
      "\n"
     ]
    }
   ],
   "source": [
    "indexer = StringIndexer(inputCol = \"Y1971\",outputCol = '1971')\n",
    "df_fao1 = indexer.fit(df_fao1).transform(df_fao1)\n",
    "df_fao1.show(2)\n"
   ]
  },
  {
   "cell_type": "code",
   "execution_count": 41,
   "metadata": {},
   "outputs": [
    {
     "name": "stdout",
     "output_type": "stream",
     "text": [
      "+-----------+--------------------+-------+-----+-----+-----+-----+-----+-----+-----+-----+-----+-----+-----+-----+-----+-----+-----+-----+-----+-----+-----+-----+-----+-----+-----+-----+-----+-----+-----+-----+-----+-----+-----+-----+-----+-----+-----+-----+-----+-----+-----+-----+-----+-----+-----+-----+-----+-----+-----+-----+-----+-----+-----+-----+-----+------------+---------------+------------+-----+------+-----+-----+-----+-----+------+-----+------+-----+------+------+\n",
      "|       Area|                Item|Element|Y1961|Y1962|Y1963|Y1964|Y1965|Y1966|Y1967|Y1968|Y1969|Y1970|Y1971|Y1972|Y1973|Y1974|Y1975|Y1976|Y1977|Y1978|Y1979|Y1980|Y1981|Y1982|Y1983|Y1984|Y1985|Y1986|Y1987|Y1988|Y1989|Y1990|Y1991|Y1992|Y1993|Y1994|Y1995|Y1996|Y1997|Y1998|Y1999|Y2000|Y2001|Y2002|Y2003|Y2004|Y2005|Y2006|Y2007|Y2008|Y2009|Y2010|Y2011|Y2012|Y2013|Area_indexed|Element_indexed|Item_indexed| 1961|  1962| 1963| 1964| 1965| 1966|  1967| 1968|  1969| 1970|  1971|  1972|\n",
      "+-----------+--------------------+-------+-----+-----+-----+-----+-----+-----+-----+-----+-----+-----+-----+-----+-----+-----+-----+-----+-----+-----+-----+-----+-----+-----+-----+-----+-----+-----+-----+-----+-----+-----+-----+-----+-----+-----+-----+-----+-----+-----+-----+-----+-----+-----+-----+-----+-----+-----+-----+-----+-----+-----+-----+-----+-----+------------+---------------+------------+-----+------+-----+-----+-----+-----+------+-----+------+-----+------+------+\n",
      "|Afghanistan|  Wheat and products|   Food| 1928| 1904| 1666| 1950| 2001| 1808| 2053| 2045| 2154| 1819| 1963| 2215| 2310| 2335| 2434| 2512| 2282| 2454| 2443| 2129| 2133| 2068| 1994| 1851| 1791| 1683| 2194| 1801| 1754| 1640| 1539| 1582| 1840| 1855| 1853| 2177| 2343| 2407| 2463| 2600| 2668| 2776| 3095| 3249| 3486| 3704| 4164| 4252| 4538| 4605| 4711| 4810| 4895|       172.0|            0.0|        12.0|582.0|1056.0|590.0|606.0|881.0|809.0|1282.0|750.0|1259.0|371.0|1144.0|1101.0|\n",
      "|Afghanistan|Rice (Milled Equi...|   Food|  183|  183|  182|  220|  220|  195|  231|  235|  238|  213|  205|  233|  246|  246|  255|  263|  235|  254|  270|  259|  248|  217|  217|  197|  186|  200|  193|  202|  191|  199|  197|  249|  218|  260|  319|  254|  326|  347|  270|  372|  411|  448|  460|  419|  445|  546|  455|  490|  415|  442|  476|  425|  422|       172.0|            0.0|        17.0|182.0| 176.0|229.0|155.0|272.0|148.0| 154.0|164.0| 112.0|220.0| 178.0| 190.0|\n",
      "+-----------+--------------------+-------+-----+-----+-----+-----+-----+-----+-----+-----+-----+-----+-----+-----+-----+-----+-----+-----+-----+-----+-----+-----+-----+-----+-----+-----+-----+-----+-----+-----+-----+-----+-----+-----+-----+-----+-----+-----+-----+-----+-----+-----+-----+-----+-----+-----+-----+-----+-----+-----+-----+-----+-----+-----+-----+------------+---------------+------------+-----+------+-----+-----+-----+-----+------+-----+------+-----+------+------+\n",
      "only showing top 2 rows\n",
      "\n"
     ]
    }
   ],
   "source": [
    "indexer = StringIndexer(inputCol = \"Y1972\",outputCol = '1972')\n",
    "df_fao1 = indexer.fit(df_fao1).transform(df_fao1)\n",
    "df_fao1.show(2)"
   ]
  },
  {
   "cell_type": "code",
   "execution_count": 42,
   "metadata": {},
   "outputs": [
    {
     "name": "stdout",
     "output_type": "stream",
     "text": [
      "+-----------+--------------------+-------+-----+-----+-----+-----+-----+-----+-----+-----+-----+-----+-----+-----+-----+-----+-----+-----+-----+-----+-----+-----+-----+-----+-----+-----+-----+-----+-----+-----+-----+-----+-----+-----+-----+-----+-----+-----+-----+-----+-----+-----+-----+-----+-----+-----+-----+-----+-----+-----+-----+-----+-----+-----+-----+------------+---------------+------------+-----+------+-----+-----+-----+-----+------+-----+------+-----+------+------+------+\n",
      "|       Area|                Item|Element|Y1961|Y1962|Y1963|Y1964|Y1965|Y1966|Y1967|Y1968|Y1969|Y1970|Y1971|Y1972|Y1973|Y1974|Y1975|Y1976|Y1977|Y1978|Y1979|Y1980|Y1981|Y1982|Y1983|Y1984|Y1985|Y1986|Y1987|Y1988|Y1989|Y1990|Y1991|Y1992|Y1993|Y1994|Y1995|Y1996|Y1997|Y1998|Y1999|Y2000|Y2001|Y2002|Y2003|Y2004|Y2005|Y2006|Y2007|Y2008|Y2009|Y2010|Y2011|Y2012|Y2013|Area_indexed|Element_indexed|Item_indexed| 1961|  1962| 1963| 1964| 1965| 1966|  1967| 1968|  1969| 1970|  1971|  1972|  1973|\n",
      "+-----------+--------------------+-------+-----+-----+-----+-----+-----+-----+-----+-----+-----+-----+-----+-----+-----+-----+-----+-----+-----+-----+-----+-----+-----+-----+-----+-----+-----+-----+-----+-----+-----+-----+-----+-----+-----+-----+-----+-----+-----+-----+-----+-----+-----+-----+-----+-----+-----+-----+-----+-----+-----+-----+-----+-----+-----+------------+---------------+------------+-----+------+-----+-----+-----+-----+------+-----+------+-----+------+------+------+\n",
      "|Afghanistan|  Wheat and products|   Food| 1928| 1904| 1666| 1950| 2001| 1808| 2053| 2045| 2154| 1819| 1963| 2215| 2310| 2335| 2434| 2512| 2282| 2454| 2443| 2129| 2133| 2068| 1994| 1851| 1791| 1683| 2194| 1801| 1754| 1640| 1539| 1582| 1840| 1855| 1853| 2177| 2343| 2407| 2463| 2600| 2668| 2776| 3095| 3249| 3486| 3704| 4164| 4252| 4538| 4605| 4711| 4810| 4895|       172.0|            0.0|        12.0|582.0|1056.0|590.0|606.0|881.0|809.0|1282.0|750.0|1259.0|371.0|1144.0|1101.0|1018.0|\n",
      "|Afghanistan|Rice (Milled Equi...|   Food|  183|  183|  182|  220|  220|  195|  231|  235|  238|  213|  205|  233|  246|  246|  255|  263|  235|  254|  270|  259|  248|  217|  217|  197|  186|  200|  193|  202|  191|  199|  197|  249|  218|  260|  319|  254|  326|  347|  270|  372|  411|  448|  460|  419|  445|  546|  455|  490|  415|  442|  476|  425|  422|       172.0|            0.0|        17.0|182.0| 176.0|229.0|155.0|272.0|148.0| 154.0|164.0| 112.0|220.0| 178.0| 190.0| 205.0|\n",
      "+-----------+--------------------+-------+-----+-----+-----+-----+-----+-----+-----+-----+-----+-----+-----+-----+-----+-----+-----+-----+-----+-----+-----+-----+-----+-----+-----+-----+-----+-----+-----+-----+-----+-----+-----+-----+-----+-----+-----+-----+-----+-----+-----+-----+-----+-----+-----+-----+-----+-----+-----+-----+-----+-----+-----+-----+-----+------------+---------------+------------+-----+------+-----+-----+-----+-----+------+-----+------+-----+------+------+------+\n",
      "only showing top 2 rows\n",
      "\n"
     ]
    }
   ],
   "source": [
    "indexer = StringIndexer(inputCol = \"Y1973\",outputCol = '1973')\n",
    "df_fao1 = indexer.fit(df_fao1).transform(df_fao1)\n",
    "df_fao1.show(2)"
   ]
  },
  {
   "cell_type": "code",
   "execution_count": 43,
   "metadata": {},
   "outputs": [
    {
     "name": "stdout",
     "output_type": "stream",
     "text": [
      "+-----------+--------------------+-------+-----+-----+-----+-----+-----+-----+-----+-----+-----+-----+-----+-----+-----+-----+-----+-----+-----+-----+-----+-----+-----+-----+-----+-----+-----+-----+-----+-----+-----+-----+-----+-----+-----+-----+-----+-----+-----+-----+-----+-----+-----+-----+-----+-----+-----+-----+-----+-----+-----+-----+-----+-----+-----+------------+---------------+------------+-----+------+-----+-----+-----+-----+------+-----+------+-----+------+------+------+-----+\n",
      "|       Area|                Item|Element|Y1961|Y1962|Y1963|Y1964|Y1965|Y1966|Y1967|Y1968|Y1969|Y1970|Y1971|Y1972|Y1973|Y1974|Y1975|Y1976|Y1977|Y1978|Y1979|Y1980|Y1981|Y1982|Y1983|Y1984|Y1985|Y1986|Y1987|Y1988|Y1989|Y1990|Y1991|Y1992|Y1993|Y1994|Y1995|Y1996|Y1997|Y1998|Y1999|Y2000|Y2001|Y2002|Y2003|Y2004|Y2005|Y2006|Y2007|Y2008|Y2009|Y2010|Y2011|Y2012|Y2013|Area_indexed|Element_indexed|Item_indexed| 1961|  1962| 1963| 1964| 1965| 1966|  1967| 1968|  1969| 1970|  1971|  1972|  1973| 1974|\n",
      "+-----------+--------------------+-------+-----+-----+-----+-----+-----+-----+-----+-----+-----+-----+-----+-----+-----+-----+-----+-----+-----+-----+-----+-----+-----+-----+-----+-----+-----+-----+-----+-----+-----+-----+-----+-----+-----+-----+-----+-----+-----+-----+-----+-----+-----+-----+-----+-----+-----+-----+-----+-----+-----+-----+-----+-----+-----+------------+---------------+------------+-----+------+-----+-----+-----+-----+------+-----+------+-----+------+------+------+-----+\n",
      "|Afghanistan|  Wheat and products|   Food| 1928| 1904| 1666| 1950| 2001| 1808| 2053| 2045| 2154| 1819| 1963| 2215| 2310| 2335| 2434| 2512| 2282| 2454| 2443| 2129| 2133| 2068| 1994| 1851| 1791| 1683| 2194| 1801| 1754| 1640| 1539| 1582| 1840| 1855| 1853| 2177| 2343| 2407| 2463| 2600| 2668| 2776| 3095| 3249| 3486| 3704| 4164| 4252| 4538| 4605| 4711| 4810| 4895|       172.0|            0.0|        12.0|582.0|1056.0|590.0|606.0|881.0|809.0|1282.0|750.0|1259.0|371.0|1144.0|1101.0|1018.0|647.0|\n",
      "|Afghanistan|Rice (Milled Equi...|   Food|  183|  183|  182|  220|  220|  195|  231|  235|  238|  213|  205|  233|  246|  246|  255|  263|  235|  254|  270|  259|  248|  217|  217|  197|  186|  200|  193|  202|  191|  199|  197|  249|  218|  260|  319|  254|  326|  347|  270|  372|  411|  448|  460|  419|  445|  546|  455|  490|  415|  442|  476|  425|  422|       172.0|            0.0|        17.0|182.0| 176.0|229.0|155.0|272.0|148.0| 154.0|164.0| 112.0|220.0| 178.0| 190.0| 205.0|282.0|\n",
      "+-----------+--------------------+-------+-----+-----+-----+-----+-----+-----+-----+-----+-----+-----+-----+-----+-----+-----+-----+-----+-----+-----+-----+-----+-----+-----+-----+-----+-----+-----+-----+-----+-----+-----+-----+-----+-----+-----+-----+-----+-----+-----+-----+-----+-----+-----+-----+-----+-----+-----+-----+-----+-----+-----+-----+-----+-----+------------+---------------+------------+-----+------+-----+-----+-----+-----+------+-----+------+-----+------+------+------+-----+\n",
      "only showing top 2 rows\n",
      "\n"
     ]
    }
   ],
   "source": [
    "indexer = StringIndexer(inputCol = \"Y1974\",outputCol = '1974')\n",
    "df_fao1 = indexer.fit(df_fao1).transform(df_fao1)\n",
    "df_fao1.show(2)"
   ]
  },
  {
   "cell_type": "code",
   "execution_count": 44,
   "metadata": {},
   "outputs": [
    {
     "name": "stdout",
     "output_type": "stream",
     "text": [
      "+-----------+--------------------+-------+-----+-----+-----+-----+-----+-----+-----+-----+-----+-----+-----+-----+-----+-----+-----+-----+-----+-----+-----+-----+-----+-----+-----+-----+-----+-----+-----+-----+-----+-----+-----+-----+-----+-----+-----+-----+-----+-----+-----+-----+-----+-----+-----+-----+-----+-----+-----+-----+-----+-----+-----+-----+-----+------------+---------------+------------+-----+------+-----+-----+-----+-----+------+-----+------+-----+------+------+------+-----+------+\n",
      "|       Area|                Item|Element|Y1961|Y1962|Y1963|Y1964|Y1965|Y1966|Y1967|Y1968|Y1969|Y1970|Y1971|Y1972|Y1973|Y1974|Y1975|Y1976|Y1977|Y1978|Y1979|Y1980|Y1981|Y1982|Y1983|Y1984|Y1985|Y1986|Y1987|Y1988|Y1989|Y1990|Y1991|Y1992|Y1993|Y1994|Y1995|Y1996|Y1997|Y1998|Y1999|Y2000|Y2001|Y2002|Y2003|Y2004|Y2005|Y2006|Y2007|Y2008|Y2009|Y2010|Y2011|Y2012|Y2013|Area_indexed|Element_indexed|Item_indexed| 1961|  1962| 1963| 1964| 1965| 1966|  1967| 1968|  1969| 1970|  1971|  1972|  1973| 1974|  1975|\n",
      "+-----------+--------------------+-------+-----+-----+-----+-----+-----+-----+-----+-----+-----+-----+-----+-----+-----+-----+-----+-----+-----+-----+-----+-----+-----+-----+-----+-----+-----+-----+-----+-----+-----+-----+-----+-----+-----+-----+-----+-----+-----+-----+-----+-----+-----+-----+-----+-----+-----+-----+-----+-----+-----+-----+-----+-----+-----+------------+---------------+------------+-----+------+-----+-----+-----+-----+------+-----+------+-----+------+------+------+-----+------+\n",
      "|Afghanistan|  Wheat and products|   Food| 1928| 1904| 1666| 1950| 2001| 1808| 2053| 2045| 2154| 1819| 1963| 2215| 2310| 2335| 2434| 2512| 2282| 2454| 2443| 2129| 2133| 2068| 1994| 1851| 1791| 1683| 2194| 1801| 1754| 1640| 1539| 1582| 1840| 1855| 1853| 2177| 2343| 2407| 2463| 2600| 2668| 2776| 3095| 3249| 3486| 3704| 4164| 4252| 4538| 4605| 4711| 4810| 4895|       172.0|            0.0|        12.0|582.0|1056.0|590.0|606.0|881.0|809.0|1282.0|750.0|1259.0|371.0|1144.0|1101.0|1018.0|647.0|1222.0|\n",
      "|Afghanistan|Rice (Milled Equi...|   Food|  183|  183|  182|  220|  220|  195|  231|  235|  238|  213|  205|  233|  246|  246|  255|  263|  235|  254|  270|  259|  248|  217|  217|  197|  186|  200|  193|  202|  191|  199|  197|  249|  218|  260|  319|  254|  326|  347|  270|  372|  411|  448|  460|  419|  445|  546|  455|  490|  415|  442|  476|  425|  422|       172.0|            0.0|        17.0|182.0| 176.0|229.0|155.0|272.0|148.0| 154.0|164.0| 112.0|220.0| 178.0| 190.0| 205.0|282.0| 169.0|\n",
      "+-----------+--------------------+-------+-----+-----+-----+-----+-----+-----+-----+-----+-----+-----+-----+-----+-----+-----+-----+-----+-----+-----+-----+-----+-----+-----+-----+-----+-----+-----+-----+-----+-----+-----+-----+-----+-----+-----+-----+-----+-----+-----+-----+-----+-----+-----+-----+-----+-----+-----+-----+-----+-----+-----+-----+-----+-----+------------+---------------+------------+-----+------+-----+-----+-----+-----+------+-----+------+-----+------+------+------+-----+------+\n",
      "only showing top 2 rows\n",
      "\n"
     ]
    }
   ],
   "source": [
    "indexer = StringIndexer(inputCol = \"Y1975\",outputCol = '1975')\n",
    "df_fao1 = indexer.fit(df_fao1).transform(df_fao1)\n",
    "df_fao1.show(2)"
   ]
  },
  {
   "cell_type": "code",
   "execution_count": 45,
   "metadata": {},
   "outputs": [
    {
     "name": "stdout",
     "output_type": "stream",
     "text": [
      "+-----------+--------------------+-------+-----+-----+-----+-----+-----+-----+-----+-----+-----+-----+-----+-----+-----+-----+-----+-----+-----+-----+-----+-----+-----+-----+-----+-----+-----+-----+-----+-----+-----+-----+-----+-----+-----+-----+-----+-----+-----+-----+-----+-----+-----+-----+-----+-----+-----+-----+-----+-----+-----+-----+-----+-----+-----+------------+---------------+------------+-----+------+-----+-----+-----+-----+------+-----+------+-----+------+------+------+-----+------+------+\n",
      "|       Area|                Item|Element|Y1961|Y1962|Y1963|Y1964|Y1965|Y1966|Y1967|Y1968|Y1969|Y1970|Y1971|Y1972|Y1973|Y1974|Y1975|Y1976|Y1977|Y1978|Y1979|Y1980|Y1981|Y1982|Y1983|Y1984|Y1985|Y1986|Y1987|Y1988|Y1989|Y1990|Y1991|Y1992|Y1993|Y1994|Y1995|Y1996|Y1997|Y1998|Y1999|Y2000|Y2001|Y2002|Y2003|Y2004|Y2005|Y2006|Y2007|Y2008|Y2009|Y2010|Y2011|Y2012|Y2013|Area_indexed|Element_indexed|Item_indexed| 1961|  1962| 1963| 1964| 1965| 1966|  1967| 1968|  1969| 1970|  1971|  1972|  1973| 1974|  1975|  1976|\n",
      "+-----------+--------------------+-------+-----+-----+-----+-----+-----+-----+-----+-----+-----+-----+-----+-----+-----+-----+-----+-----+-----+-----+-----+-----+-----+-----+-----+-----+-----+-----+-----+-----+-----+-----+-----+-----+-----+-----+-----+-----+-----+-----+-----+-----+-----+-----+-----+-----+-----+-----+-----+-----+-----+-----+-----+-----+-----+------------+---------------+------------+-----+------+-----+-----+-----+-----+------+-----+------+-----+------+------+------+-----+------+------+\n",
      "|Afghanistan|  Wheat and products|   Food| 1928| 1904| 1666| 1950| 2001| 1808| 2053| 2045| 2154| 1819| 1963| 2215| 2310| 2335| 2434| 2512| 2282| 2454| 2443| 2129| 2133| 2068| 1994| 1851| 1791| 1683| 2194| 1801| 1754| 1640| 1539| 1582| 1840| 1855| 1853| 2177| 2343| 2407| 2463| 2600| 2668| 2776| 3095| 3249| 3486| 3704| 4164| 4252| 4538| 4605| 4711| 4810| 4895|       172.0|            0.0|        12.0|582.0|1056.0|590.0|606.0|881.0|809.0|1282.0|750.0|1259.0|371.0|1144.0|1101.0|1018.0|647.0|1222.0|1407.0|\n",
      "|Afghanistan|Rice (Milled Equi...|   Food|  183|  183|  182|  220|  220|  195|  231|  235|  238|  213|  205|  233|  246|  246|  255|  263|  235|  254|  270|  259|  248|  217|  217|  197|  186|  200|  193|  202|  191|  199|  197|  249|  218|  260|  319|  254|  326|  347|  270|  372|  411|  448|  460|  419|  445|  546|  455|  490|  415|  442|  476|  425|  422|       172.0|            0.0|        17.0|182.0| 176.0|229.0|155.0|272.0|148.0| 154.0|164.0| 112.0|220.0| 178.0| 190.0| 205.0|282.0| 169.0| 207.0|\n",
      "+-----------+--------------------+-------+-----+-----+-----+-----+-----+-----+-----+-----+-----+-----+-----+-----+-----+-----+-----+-----+-----+-----+-----+-----+-----+-----+-----+-----+-----+-----+-----+-----+-----+-----+-----+-----+-----+-----+-----+-----+-----+-----+-----+-----+-----+-----+-----+-----+-----+-----+-----+-----+-----+-----+-----+-----+-----+------------+---------------+------------+-----+------+-----+-----+-----+-----+------+-----+------+-----+------+------+------+-----+------+------+\n",
      "only showing top 2 rows\n",
      "\n"
     ]
    }
   ],
   "source": [
    "indexer = StringIndexer(inputCol = \"Y1976\",outputCol = '1976')\n",
    "df_fao1 = indexer.fit(df_fao1).transform(df_fao1)\n",
    "df_fao1.show(2)"
   ]
  },
  {
   "cell_type": "code",
   "execution_count": 46,
   "metadata": {},
   "outputs": [
    {
     "name": "stdout",
     "output_type": "stream",
     "text": [
      "+-----------+--------------------+-------+-----+-----+-----+-----+-----+-----+-----+-----+-----+-----+-----+-----+-----+-----+-----+-----+-----+-----+-----+-----+-----+-----+-----+-----+-----+-----+-----+-----+-----+-----+-----+-----+-----+-----+-----+-----+-----+-----+-----+-----+-----+-----+-----+-----+-----+-----+-----+-----+-----+-----+-----+-----+-----+------------+---------------+------------+-----+------+-----+-----+-----+-----+------+-----+------+-----+------+------+------+-----+------+------+------+\n",
      "|       Area|                Item|Element|Y1961|Y1962|Y1963|Y1964|Y1965|Y1966|Y1967|Y1968|Y1969|Y1970|Y1971|Y1972|Y1973|Y1974|Y1975|Y1976|Y1977|Y1978|Y1979|Y1980|Y1981|Y1982|Y1983|Y1984|Y1985|Y1986|Y1987|Y1988|Y1989|Y1990|Y1991|Y1992|Y1993|Y1994|Y1995|Y1996|Y1997|Y1998|Y1999|Y2000|Y2001|Y2002|Y2003|Y2004|Y2005|Y2006|Y2007|Y2008|Y2009|Y2010|Y2011|Y2012|Y2013|Area_indexed|Element_indexed|Item_indexed| 1961|  1962| 1963| 1964| 1965| 1966|  1967| 1968|  1969| 1970|  1971|  1972|  1973| 1974|  1975|  1976|  1977|\n",
      "+-----------+--------------------+-------+-----+-----+-----+-----+-----+-----+-----+-----+-----+-----+-----+-----+-----+-----+-----+-----+-----+-----+-----+-----+-----+-----+-----+-----+-----+-----+-----+-----+-----+-----+-----+-----+-----+-----+-----+-----+-----+-----+-----+-----+-----+-----+-----+-----+-----+-----+-----+-----+-----+-----+-----+-----+-----+------------+---------------+------------+-----+------+-----+-----+-----+-----+------+-----+------+-----+------+------+------+-----+------+------+------+\n",
      "|Afghanistan|  Wheat and products|   Food| 1928| 1904| 1666| 1950| 2001| 1808| 2053| 2045| 2154| 1819| 1963| 2215| 2310| 2335| 2434| 2512| 2282| 2454| 2443| 2129| 2133| 2068| 1994| 1851| 1791| 1683| 2194| 1801| 1754| 1640| 1539| 1582| 1840| 1855| 1853| 2177| 2343| 2407| 2463| 2600| 2668| 2776| 3095| 3249| 3486| 3704| 4164| 4252| 4538| 4605| 4711| 4810| 4895|       172.0|            0.0|        12.0|582.0|1056.0|590.0|606.0|881.0|809.0|1282.0|750.0|1259.0|371.0|1144.0|1101.0|1018.0|647.0|1222.0|1407.0|1159.0|\n",
      "|Afghanistan|Rice (Milled Equi...|   Food|  183|  183|  182|  220|  220|  195|  231|  235|  238|  213|  205|  233|  246|  246|  255|  263|  235|  254|  270|  259|  248|  217|  217|  197|  186|  200|  193|  202|  191|  199|  197|  249|  218|  260|  319|  254|  326|  347|  270|  372|  411|  448|  460|  419|  445|  546|  455|  490|  415|  442|  476|  425|  422|       172.0|            0.0|        17.0|182.0| 176.0|229.0|155.0|272.0|148.0| 154.0|164.0| 112.0|220.0| 178.0| 190.0| 205.0|282.0| 169.0| 207.0| 606.0|\n",
      "+-----------+--------------------+-------+-----+-----+-----+-----+-----+-----+-----+-----+-----+-----+-----+-----+-----+-----+-----+-----+-----+-----+-----+-----+-----+-----+-----+-----+-----+-----+-----+-----+-----+-----+-----+-----+-----+-----+-----+-----+-----+-----+-----+-----+-----+-----+-----+-----+-----+-----+-----+-----+-----+-----+-----+-----+-----+------------+---------------+------------+-----+------+-----+-----+-----+-----+------+-----+------+-----+------+------+------+-----+------+------+------+\n",
      "only showing top 2 rows\n",
      "\n"
     ]
    }
   ],
   "source": [
    "indexer = StringIndexer(inputCol = \"Y1977\",outputCol = '1977')\n",
    "df_fao1 = indexer.fit(df_fao1).transform(df_fao1)\n",
    "df_fao1.show(2)"
   ]
  },
  {
   "cell_type": "code",
   "execution_count": 47,
   "metadata": {},
   "outputs": [
    {
     "name": "stdout",
     "output_type": "stream",
     "text": [
      "+-----------+--------------------+-------+-----+-----+-----+-----+-----+-----+-----+-----+-----+-----+-----+-----+-----+-----+-----+-----+-----+-----+-----+-----+-----+-----+-----+-----+-----+-----+-----+-----+-----+-----+-----+-----+-----+-----+-----+-----+-----+-----+-----+-----+-----+-----+-----+-----+-----+-----+-----+-----+-----+-----+-----+-----+-----+------------+---------------+------------+-----+------+-----+-----+-----+-----+------+-----+------+-----+------+------+------+-----+------+------+------+-----+\n",
      "|       Area|                Item|Element|Y1961|Y1962|Y1963|Y1964|Y1965|Y1966|Y1967|Y1968|Y1969|Y1970|Y1971|Y1972|Y1973|Y1974|Y1975|Y1976|Y1977|Y1978|Y1979|Y1980|Y1981|Y1982|Y1983|Y1984|Y1985|Y1986|Y1987|Y1988|Y1989|Y1990|Y1991|Y1992|Y1993|Y1994|Y1995|Y1996|Y1997|Y1998|Y1999|Y2000|Y2001|Y2002|Y2003|Y2004|Y2005|Y2006|Y2007|Y2008|Y2009|Y2010|Y2011|Y2012|Y2013|Area_indexed|Element_indexed|Item_indexed| 1961|  1962| 1963| 1964| 1965| 1966|  1967| 1968|  1969| 1970|  1971|  1972|  1973| 1974|  1975|  1976|  1977| 1978|\n",
      "+-----------+--------------------+-------+-----+-----+-----+-----+-----+-----+-----+-----+-----+-----+-----+-----+-----+-----+-----+-----+-----+-----+-----+-----+-----+-----+-----+-----+-----+-----+-----+-----+-----+-----+-----+-----+-----+-----+-----+-----+-----+-----+-----+-----+-----+-----+-----+-----+-----+-----+-----+-----+-----+-----+-----+-----+-----+------------+---------------+------------+-----+------+-----+-----+-----+-----+------+-----+------+-----+------+------+------+-----+------+------+------+-----+\n",
      "|Afghanistan|  Wheat and products|   Food| 1928| 1904| 1666| 1950| 2001| 1808| 2053| 2045| 2154| 1819| 1963| 2215| 2310| 2335| 2434| 2512| 2282| 2454| 2443| 2129| 2133| 2068| 1994| 1851| 1791| 1683| 2194| 1801| 1754| 1640| 1539| 1582| 1840| 1855| 1853| 2177| 2343| 2407| 2463| 2600| 2668| 2776| 3095| 3249| 3486| 3704| 4164| 4252| 4538| 4605| 4711| 4810| 4895|       172.0|            0.0|        12.0|582.0|1056.0|590.0|606.0|881.0|809.0|1282.0|750.0|1259.0|371.0|1144.0|1101.0|1018.0|647.0|1222.0|1407.0|1159.0|364.0|\n",
      "|Afghanistan|Rice (Milled Equi...|   Food|  183|  183|  182|  220|  220|  195|  231|  235|  238|  213|  205|  233|  246|  246|  255|  263|  235|  254|  270|  259|  248|  217|  217|  197|  186|  200|  193|  202|  191|  199|  197|  249|  218|  260|  319|  254|  326|  347|  270|  372|  411|  448|  460|  419|  445|  546|  455|  490|  415|  442|  476|  425|  422|       172.0|            0.0|        17.0|182.0| 176.0|229.0|155.0|272.0|148.0| 154.0|164.0| 112.0|220.0| 178.0| 190.0| 205.0|282.0| 169.0| 207.0| 606.0|311.0|\n",
      "+-----------+--------------------+-------+-----+-----+-----+-----+-----+-----+-----+-----+-----+-----+-----+-----+-----+-----+-----+-----+-----+-----+-----+-----+-----+-----+-----+-----+-----+-----+-----+-----+-----+-----+-----+-----+-----+-----+-----+-----+-----+-----+-----+-----+-----+-----+-----+-----+-----+-----+-----+-----+-----+-----+-----+-----+-----+------------+---------------+------------+-----+------+-----+-----+-----+-----+------+-----+------+-----+------+------+------+-----+------+------+------+-----+\n",
      "only showing top 2 rows\n",
      "\n"
     ]
    }
   ],
   "source": [
    "indexer = StringIndexer(inputCol = \"Y1978\",outputCol = '1978')\n",
    "df_fao1 = indexer.fit(df_fao1).transform(df_fao1)\n",
    "df_fao1.show(2)"
   ]
  },
  {
   "cell_type": "code",
   "execution_count": 48,
   "metadata": {},
   "outputs": [
    {
     "name": "stdout",
     "output_type": "stream",
     "text": [
      "+-----------+--------------------+-------+-----+-----+-----+-----+-----+-----+-----+-----+-----+-----+-----+-----+-----+-----+-----+-----+-----+-----+-----+-----+-----+-----+-----+-----+-----+-----+-----+-----+-----+-----+-----+-----+-----+-----+-----+-----+-----+-----+-----+-----+-----+-----+-----+-----+-----+-----+-----+-----+-----+-----+-----+-----+-----+------------+---------------+------------+-----+------+-----+-----+-----+-----+------+-----+------+-----+------+------+------+-----+------+------+------+-----+------+\n",
      "|       Area|                Item|Element|Y1961|Y1962|Y1963|Y1964|Y1965|Y1966|Y1967|Y1968|Y1969|Y1970|Y1971|Y1972|Y1973|Y1974|Y1975|Y1976|Y1977|Y1978|Y1979|Y1980|Y1981|Y1982|Y1983|Y1984|Y1985|Y1986|Y1987|Y1988|Y1989|Y1990|Y1991|Y1992|Y1993|Y1994|Y1995|Y1996|Y1997|Y1998|Y1999|Y2000|Y2001|Y2002|Y2003|Y2004|Y2005|Y2006|Y2007|Y2008|Y2009|Y2010|Y2011|Y2012|Y2013|Area_indexed|Element_indexed|Item_indexed| 1961|  1962| 1963| 1964| 1965| 1966|  1967| 1968|  1969| 1970|  1971|  1972|  1973| 1974|  1975|  1976|  1977| 1978|  1979|\n",
      "+-----------+--------------------+-------+-----+-----+-----+-----+-----+-----+-----+-----+-----+-----+-----+-----+-----+-----+-----+-----+-----+-----+-----+-----+-----+-----+-----+-----+-----+-----+-----+-----+-----+-----+-----+-----+-----+-----+-----+-----+-----+-----+-----+-----+-----+-----+-----+-----+-----+-----+-----+-----+-----+-----+-----+-----+-----+------------+---------------+------------+-----+------+-----+-----+-----+-----+------+-----+------+-----+------+------+------+-----+------+------+------+-----+------+\n",
      "|Afghanistan|  Wheat and products|   Food| 1928| 1904| 1666| 1950| 2001| 1808| 2053| 2045| 2154| 1819| 1963| 2215| 2310| 2335| 2434| 2512| 2282| 2454| 2443| 2129| 2133| 2068| 1994| 1851| 1791| 1683| 2194| 1801| 1754| 1640| 1539| 1582| 1840| 1855| 1853| 2177| 2343| 2407| 2463| 2600| 2668| 2776| 3095| 3249| 3486| 3704| 4164| 4252| 4538| 4605| 4711| 4810| 4895|       172.0|            0.0|        12.0|582.0|1056.0|590.0|606.0|881.0|809.0|1282.0|750.0|1259.0|371.0|1144.0|1101.0|1018.0|647.0|1222.0|1407.0|1159.0|364.0|1255.0|\n",
      "|Afghanistan|Rice (Milled Equi...|   Food|  183|  183|  182|  220|  220|  195|  231|  235|  238|  213|  205|  233|  246|  246|  255|  263|  235|  254|  270|  259|  248|  217|  217|  197|  186|  200|  193|  202|  191|  199|  197|  249|  218|  260|  319|  254|  326|  347|  270|  372|  411|  448|  460|  419|  445|  546|  455|  490|  415|  442|  476|  425|  422|       172.0|            0.0|        17.0|182.0| 176.0|229.0|155.0|272.0|148.0| 154.0|164.0| 112.0|220.0| 178.0| 190.0| 205.0|282.0| 169.0| 207.0| 606.0|311.0| 179.0|\n",
      "+-----------+--------------------+-------+-----+-----+-----+-----+-----+-----+-----+-----+-----+-----+-----+-----+-----+-----+-----+-----+-----+-----+-----+-----+-----+-----+-----+-----+-----+-----+-----+-----+-----+-----+-----+-----+-----+-----+-----+-----+-----+-----+-----+-----+-----+-----+-----+-----+-----+-----+-----+-----+-----+-----+-----+-----+-----+------------+---------------+------------+-----+------+-----+-----+-----+-----+------+-----+------+-----+------+------+------+-----+------+------+------+-----+------+\n",
      "only showing top 2 rows\n",
      "\n"
     ]
    }
   ],
   "source": [
    "indexer = StringIndexer(inputCol = \"Y1979\",outputCol = '1979')\n",
    "df_fao1 = indexer.fit(df_fao1).transform(df_fao1)\n",
    "df_fao1.show(2)"
   ]
  },
  {
   "cell_type": "code",
   "execution_count": 49,
   "metadata": {},
   "outputs": [
    {
     "name": "stdout",
     "output_type": "stream",
     "text": [
      "+-----------+--------------------+-------+-----+-----+-----+-----+-----+-----+-----+-----+-----+-----+-----+-----+-----+-----+-----+-----+-----+-----+-----+-----+-----+-----+-----+-----+-----+-----+-----+-----+-----+-----+-----+-----+-----+-----+-----+-----+-----+-----+-----+-----+-----+-----+-----+-----+-----+-----+-----+-----+-----+-----+-----+-----+-----+------------+---------------+------------+-----+------+-----+-----+-----+-----+------+-----+------+-----+------+------+------+-----+------+------+------+-----+------+------+\n",
      "|       Area|                Item|Element|Y1961|Y1962|Y1963|Y1964|Y1965|Y1966|Y1967|Y1968|Y1969|Y1970|Y1971|Y1972|Y1973|Y1974|Y1975|Y1976|Y1977|Y1978|Y1979|Y1980|Y1981|Y1982|Y1983|Y1984|Y1985|Y1986|Y1987|Y1988|Y1989|Y1990|Y1991|Y1992|Y1993|Y1994|Y1995|Y1996|Y1997|Y1998|Y1999|Y2000|Y2001|Y2002|Y2003|Y2004|Y2005|Y2006|Y2007|Y2008|Y2009|Y2010|Y2011|Y2012|Y2013|Area_indexed|Element_indexed|Item_indexed| 1961|  1962| 1963| 1964| 1965| 1966|  1967| 1968|  1969| 1970|  1971|  1972|  1973| 1974|  1975|  1976|  1977| 1978|  1979|  1980|\n",
      "+-----------+--------------------+-------+-----+-----+-----+-----+-----+-----+-----+-----+-----+-----+-----+-----+-----+-----+-----+-----+-----+-----+-----+-----+-----+-----+-----+-----+-----+-----+-----+-----+-----+-----+-----+-----+-----+-----+-----+-----+-----+-----+-----+-----+-----+-----+-----+-----+-----+-----+-----+-----+-----+-----+-----+-----+-----+------------+---------------+------------+-----+------+-----+-----+-----+-----+------+-----+------+-----+------+------+------+-----+------+------+------+-----+------+------+\n",
      "|Afghanistan|  Wheat and products|   Food| 1928| 1904| 1666| 1950| 2001| 1808| 2053| 2045| 2154| 1819| 1963| 2215| 2310| 2335| 2434| 2512| 2282| 2454| 2443| 2129| 2133| 2068| 1994| 1851| 1791| 1683| 2194| 1801| 1754| 1640| 1539| 1582| 1840| 1855| 1853| 2177| 2343| 2407| 2463| 2600| 2668| 2776| 3095| 3249| 3486| 3704| 4164| 4252| 4538| 4605| 4711| 4810| 4895|       172.0|            0.0|        12.0|582.0|1056.0|590.0|606.0|881.0|809.0|1282.0|750.0|1259.0|371.0|1144.0|1101.0|1018.0|647.0|1222.0|1407.0|1159.0|364.0|1255.0|1292.0|\n",
      "|Afghanistan|Rice (Milled Equi...|   Food|  183|  183|  182|  220|  220|  195|  231|  235|  238|  213|  205|  233|  246|  246|  255|  263|  235|  254|  270|  259|  248|  217|  217|  197|  186|  200|  193|  202|  191|  199|  197|  249|  218|  260|  319|  254|  326|  347|  270|  372|  411|  448|  460|  419|  445|  546|  455|  490|  415|  442|  476|  425|  422|       172.0|            0.0|        17.0|182.0| 176.0|229.0|155.0|272.0|148.0| 154.0|164.0| 112.0|220.0| 178.0| 190.0| 205.0|282.0| 169.0| 207.0| 606.0|311.0| 179.0| 177.0|\n",
      "+-----------+--------------------+-------+-----+-----+-----+-----+-----+-----+-----+-----+-----+-----+-----+-----+-----+-----+-----+-----+-----+-----+-----+-----+-----+-----+-----+-----+-----+-----+-----+-----+-----+-----+-----+-----+-----+-----+-----+-----+-----+-----+-----+-----+-----+-----+-----+-----+-----+-----+-----+-----+-----+-----+-----+-----+-----+------------+---------------+------------+-----+------+-----+-----+-----+-----+------+-----+------+-----+------+------+------+-----+------+------+------+-----+------+------+\n",
      "only showing top 2 rows\n",
      "\n"
     ]
    }
   ],
   "source": [
    "indexer = StringIndexer(inputCol = \"Y1980\",outputCol = '1980')\n",
    "df_fao1 = indexer.fit(df_fao1).transform(df_fao1)\n",
    "df_fao1.show(2)"
   ]
  },
  {
   "cell_type": "code",
   "execution_count": 50,
   "metadata": {},
   "outputs": [
    {
     "name": "stdout",
     "output_type": "stream",
     "text": [
      "+-----------+--------------------+-------+-----+-----+-----+-----+-----+-----+-----+-----+-----+-----+-----+-----+-----+-----+-----+-----+-----+-----+-----+-----+-----+-----+-----+-----+-----+-----+-----+-----+-----+-----+-----+-----+-----+-----+-----+-----+-----+-----+-----+-----+-----+-----+-----+-----+-----+-----+-----+-----+-----+-----+-----+-----+-----+------------+---------------+------------+-----+------+-----+-----+-----+-----+------+-----+------+-----+------+------+------+-----+------+------+------+-----+------+------+------+\n",
      "|       Area|                Item|Element|Y1961|Y1962|Y1963|Y1964|Y1965|Y1966|Y1967|Y1968|Y1969|Y1970|Y1971|Y1972|Y1973|Y1974|Y1975|Y1976|Y1977|Y1978|Y1979|Y1980|Y1981|Y1982|Y1983|Y1984|Y1985|Y1986|Y1987|Y1988|Y1989|Y1990|Y1991|Y1992|Y1993|Y1994|Y1995|Y1996|Y1997|Y1998|Y1999|Y2000|Y2001|Y2002|Y2003|Y2004|Y2005|Y2006|Y2007|Y2008|Y2009|Y2010|Y2011|Y2012|Y2013|Area_indexed|Element_indexed|Item_indexed| 1961|  1962| 1963| 1964| 1965| 1966|  1967| 1968|  1969| 1970|  1971|  1972|  1973| 1974|  1975|  1976|  1977| 1978|  1979|  1980|  1981|\n",
      "+-----------+--------------------+-------+-----+-----+-----+-----+-----+-----+-----+-----+-----+-----+-----+-----+-----+-----+-----+-----+-----+-----+-----+-----+-----+-----+-----+-----+-----+-----+-----+-----+-----+-----+-----+-----+-----+-----+-----+-----+-----+-----+-----+-----+-----+-----+-----+-----+-----+-----+-----+-----+-----+-----+-----+-----+-----+------------+---------------+------------+-----+------+-----+-----+-----+-----+------+-----+------+-----+------+------+------+-----+------+------+------+-----+------+------+------+\n",
      "|Afghanistan|  Wheat and products|   Food| 1928| 1904| 1666| 1950| 2001| 1808| 2053| 2045| 2154| 1819| 1963| 2215| 2310| 2335| 2434| 2512| 2282| 2454| 2443| 2129| 2133| 2068| 1994| 1851| 1791| 1683| 2194| 1801| 1754| 1640| 1539| 1582| 1840| 1855| 1853| 2177| 2343| 2407| 2463| 2600| 2668| 2776| 3095| 3249| 3486| 3704| 4164| 4252| 4538| 4605| 4711| 4810| 4895|       172.0|            0.0|        12.0|582.0|1056.0|590.0|606.0|881.0|809.0|1282.0|750.0|1259.0|371.0|1144.0|1101.0|1018.0|647.0|1222.0|1407.0|1159.0|364.0|1255.0|1292.0|1087.0|\n",
      "|Afghanistan|Rice (Milled Equi...|   Food|  183|  183|  182|  220|  220|  195|  231|  235|  238|  213|  205|  233|  246|  246|  255|  263|  235|  254|  270|  259|  248|  217|  217|  197|  186|  200|  193|  202|  191|  199|  197|  249|  218|  260|  319|  254|  326|  347|  270|  372|  411|  448|  460|  419|  445|  546|  455|  490|  415|  442|  476|  425|  422|       172.0|            0.0|        17.0|182.0| 176.0|229.0|155.0|272.0|148.0| 154.0|164.0| 112.0|220.0| 178.0| 190.0| 205.0|282.0| 169.0| 207.0| 606.0|311.0| 179.0| 177.0| 191.0|\n",
      "+-----------+--------------------+-------+-----+-----+-----+-----+-----+-----+-----+-----+-----+-----+-----+-----+-----+-----+-----+-----+-----+-----+-----+-----+-----+-----+-----+-----+-----+-----+-----+-----+-----+-----+-----+-----+-----+-----+-----+-----+-----+-----+-----+-----+-----+-----+-----+-----+-----+-----+-----+-----+-----+-----+-----+-----+-----+------------+---------------+------------+-----+------+-----+-----+-----+-----+------+-----+------+-----+------+------+------+-----+------+------+------+-----+------+------+------+\n",
      "only showing top 2 rows\n",
      "\n"
     ]
    }
   ],
   "source": [
    "indexer = StringIndexer(inputCol = \"Y1981\",outputCol = '1981')\n",
    "df_fao1 = indexer.fit(df_fao1).transform(df_fao1)\n",
    "df_fao1.show(2)"
   ]
  },
  {
   "cell_type": "code",
   "execution_count": 51,
   "metadata": {},
   "outputs": [
    {
     "name": "stdout",
     "output_type": "stream",
     "text": [
      "+-----------+--------------------+-------+-----+-----+-----+-----+-----+-----+-----+-----+-----+-----+-----+-----+-----+-----+-----+-----+-----+-----+-----+-----+-----+-----+-----+-----+-----+-----+-----+-----+-----+-----+-----+-----+-----+-----+-----+-----+-----+-----+-----+-----+-----+-----+-----+-----+-----+-----+-----+-----+-----+-----+-----+-----+-----+------------+---------------+------------+-----+------+-----+-----+-----+-----+------+-----+------+-----+------+------+------+-----+------+------+------+-----+------+------+------+------+\n",
      "|       Area|                Item|Element|Y1961|Y1962|Y1963|Y1964|Y1965|Y1966|Y1967|Y1968|Y1969|Y1970|Y1971|Y1972|Y1973|Y1974|Y1975|Y1976|Y1977|Y1978|Y1979|Y1980|Y1981|Y1982|Y1983|Y1984|Y1985|Y1986|Y1987|Y1988|Y1989|Y1990|Y1991|Y1992|Y1993|Y1994|Y1995|Y1996|Y1997|Y1998|Y1999|Y2000|Y2001|Y2002|Y2003|Y2004|Y2005|Y2006|Y2007|Y2008|Y2009|Y2010|Y2011|Y2012|Y2013|Area_indexed|Element_indexed|Item_indexed| 1961|  1962| 1963| 1964| 1965| 1966|  1967| 1968|  1969| 1970|  1971|  1972|  1973| 1974|  1975|  1976|  1977| 1978|  1979|  1980|  1981|  1982|\n",
      "+-----------+--------------------+-------+-----+-----+-----+-----+-----+-----+-----+-----+-----+-----+-----+-----+-----+-----+-----+-----+-----+-----+-----+-----+-----+-----+-----+-----+-----+-----+-----+-----+-----+-----+-----+-----+-----+-----+-----+-----+-----+-----+-----+-----+-----+-----+-----+-----+-----+-----+-----+-----+-----+-----+-----+-----+-----+------------+---------------+------------+-----+------+-----+-----+-----+-----+------+-----+------+-----+------+------+------+-----+------+------+------+-----+------+------+------+------+\n",
      "|Afghanistan|  Wheat and products|   Food| 1928| 1904| 1666| 1950| 2001| 1808| 2053| 2045| 2154| 1819| 1963| 2215| 2310| 2335| 2434| 2512| 2282| 2454| 2443| 2129| 2133| 2068| 1994| 1851| 1791| 1683| 2194| 1801| 1754| 1640| 1539| 1582| 1840| 1855| 1853| 2177| 2343| 2407| 2463| 2600| 2668| 2776| 3095| 3249| 3486| 3704| 4164| 4252| 4538| 4605| 4711| 4810| 4895|       172.0|            0.0|        12.0|582.0|1056.0|590.0|606.0|881.0|809.0|1282.0|750.0|1259.0|371.0|1144.0|1101.0|1018.0|647.0|1222.0|1407.0|1159.0|364.0|1255.0|1292.0|1087.0|1436.0|\n",
      "|Afghanistan|Rice (Milled Equi...|   Food|  183|  183|  182|  220|  220|  195|  231|  235|  238|  213|  205|  233|  246|  246|  255|  263|  235|  254|  270|  259|  248|  217|  217|  197|  186|  200|  193|  202|  191|  199|  197|  249|  218|  260|  319|  254|  326|  347|  270|  372|  411|  448|  460|  419|  445|  546|  455|  490|  415|  442|  476|  425|  422|       172.0|            0.0|        17.0|182.0| 176.0|229.0|155.0|272.0|148.0| 154.0|164.0| 112.0|220.0| 178.0| 190.0| 205.0|282.0| 169.0| 207.0| 606.0|311.0| 179.0| 177.0| 191.0| 364.0|\n",
      "+-----------+--------------------+-------+-----+-----+-----+-----+-----+-----+-----+-----+-----+-----+-----+-----+-----+-----+-----+-----+-----+-----+-----+-----+-----+-----+-----+-----+-----+-----+-----+-----+-----+-----+-----+-----+-----+-----+-----+-----+-----+-----+-----+-----+-----+-----+-----+-----+-----+-----+-----+-----+-----+-----+-----+-----+-----+------------+---------------+------------+-----+------+-----+-----+-----+-----+------+-----+------+-----+------+------+------+-----+------+------+------+-----+------+------+------+------+\n",
      "only showing top 2 rows\n",
      "\n"
     ]
    }
   ],
   "source": [
    "indexer = StringIndexer(inputCol = \"Y1982\",outputCol = '1982')\n",
    "df_fao1 = indexer.fit(df_fao1).transform(df_fao1)\n",
    "df_fao1.show(2)"
   ]
  },
  {
   "cell_type": "code",
   "execution_count": 52,
   "metadata": {},
   "outputs": [
    {
     "name": "stdout",
     "output_type": "stream",
     "text": [
      "+-----------+--------------------+-------+-----+-----+-----+-----+-----+-----+-----+-----+-----+-----+-----+-----+-----+-----+-----+-----+-----+-----+-----+-----+-----+-----+-----+-----+-----+-----+-----+-----+-----+-----+-----+-----+-----+-----+-----+-----+-----+-----+-----+-----+-----+-----+-----+-----+-----+-----+-----+-----+-----+-----+-----+-----+-----+------------+---------------+------------+-----+------+-----+-----+-----+-----+------+-----+------+-----+------+------+------+-----+------+------+------+-----+------+------+------+------+------+\n",
      "|       Area|                Item|Element|Y1961|Y1962|Y1963|Y1964|Y1965|Y1966|Y1967|Y1968|Y1969|Y1970|Y1971|Y1972|Y1973|Y1974|Y1975|Y1976|Y1977|Y1978|Y1979|Y1980|Y1981|Y1982|Y1983|Y1984|Y1985|Y1986|Y1987|Y1988|Y1989|Y1990|Y1991|Y1992|Y1993|Y1994|Y1995|Y1996|Y1997|Y1998|Y1999|Y2000|Y2001|Y2002|Y2003|Y2004|Y2005|Y2006|Y2007|Y2008|Y2009|Y2010|Y2011|Y2012|Y2013|Area_indexed|Element_indexed|Item_indexed| 1961|  1962| 1963| 1964| 1965| 1966|  1967| 1968|  1969| 1970|  1971|  1972|  1973| 1974|  1975|  1976|  1977| 1978|  1979|  1980|  1981|  1982|  1983|\n",
      "+-----------+--------------------+-------+-----+-----+-----+-----+-----+-----+-----+-----+-----+-----+-----+-----+-----+-----+-----+-----+-----+-----+-----+-----+-----+-----+-----+-----+-----+-----+-----+-----+-----+-----+-----+-----+-----+-----+-----+-----+-----+-----+-----+-----+-----+-----+-----+-----+-----+-----+-----+-----+-----+-----+-----+-----+-----+------------+---------------+------------+-----+------+-----+-----+-----+-----+------+-----+------+-----+------+------+------+-----+------+------+------+-----+------+------+------+------+------+\n",
      "|Afghanistan|  Wheat and products|   Food| 1928| 1904| 1666| 1950| 2001| 1808| 2053| 2045| 2154| 1819| 1963| 2215| 2310| 2335| 2434| 2512| 2282| 2454| 2443| 2129| 2133| 2068| 1994| 1851| 1791| 1683| 2194| 1801| 1754| 1640| 1539| 1582| 1840| 1855| 1853| 2177| 2343| 2407| 2463| 2600| 2668| 2776| 3095| 3249| 3486| 3704| 4164| 4252| 4538| 4605| 4711| 4810| 4895|       172.0|            0.0|        12.0|582.0|1056.0|590.0|606.0|881.0|809.0|1282.0|750.0|1259.0|371.0|1144.0|1101.0|1018.0|647.0|1222.0|1407.0|1159.0|364.0|1255.0|1292.0|1087.0|1436.0|1489.0|\n",
      "|Afghanistan|Rice (Milled Equi...|   Food|  183|  183|  182|  220|  220|  195|  231|  235|  238|  213|  205|  233|  246|  246|  255|  263|  235|  254|  270|  259|  248|  217|  217|  197|  186|  200|  193|  202|  191|  199|  197|  249|  218|  260|  319|  254|  326|  347|  270|  372|  411|  448|  460|  419|  445|  546|  455|  490|  415|  442|  476|  425|  422|       172.0|            0.0|        17.0|182.0| 176.0|229.0|155.0|272.0|148.0| 154.0|164.0| 112.0|220.0| 178.0| 190.0| 205.0|282.0| 169.0| 207.0| 606.0|311.0| 179.0| 177.0| 191.0| 364.0| 159.0|\n",
      "+-----------+--------------------+-------+-----+-----+-----+-----+-----+-----+-----+-----+-----+-----+-----+-----+-----+-----+-----+-----+-----+-----+-----+-----+-----+-----+-----+-----+-----+-----+-----+-----+-----+-----+-----+-----+-----+-----+-----+-----+-----+-----+-----+-----+-----+-----+-----+-----+-----+-----+-----+-----+-----+-----+-----+-----+-----+------------+---------------+------------+-----+------+-----+-----+-----+-----+------+-----+------+-----+------+------+------+-----+------+------+------+-----+------+------+------+------+------+\n",
      "only showing top 2 rows\n",
      "\n"
     ]
    }
   ],
   "source": [
    "indexer = StringIndexer(inputCol = \"Y1983\",outputCol = '1983')\n",
    "df_fao1 = indexer.fit(df_fao1).transform(df_fao1)\n",
    "df_fao1.show(2)"
   ]
  },
  {
   "cell_type": "code",
   "execution_count": 53,
   "metadata": {},
   "outputs": [
    {
     "name": "stdout",
     "output_type": "stream",
     "text": [
      "+-----------+--------------------+-------+-----+-----+-----+-----+-----+-----+-----+-----+-----+-----+-----+-----+-----+-----+-----+-----+-----+-----+-----+-----+-----+-----+-----+-----+-----+-----+-----+-----+-----+-----+-----+-----+-----+-----+-----+-----+-----+-----+-----+-----+-----+-----+-----+-----+-----+-----+-----+-----+-----+-----+-----+-----+-----+------------+---------------+------------+-----+------+-----+-----+-----+-----+------+-----+------+-----+------+------+------+-----+------+------+------+-----+------+------+------+------+------+------+\n",
      "|       Area|                Item|Element|Y1961|Y1962|Y1963|Y1964|Y1965|Y1966|Y1967|Y1968|Y1969|Y1970|Y1971|Y1972|Y1973|Y1974|Y1975|Y1976|Y1977|Y1978|Y1979|Y1980|Y1981|Y1982|Y1983|Y1984|Y1985|Y1986|Y1987|Y1988|Y1989|Y1990|Y1991|Y1992|Y1993|Y1994|Y1995|Y1996|Y1997|Y1998|Y1999|Y2000|Y2001|Y2002|Y2003|Y2004|Y2005|Y2006|Y2007|Y2008|Y2009|Y2010|Y2011|Y2012|Y2013|Area_indexed|Element_indexed|Item_indexed| 1961|  1962| 1963| 1964| 1965| 1966|  1967| 1968|  1969| 1970|  1971|  1972|  1973| 1974|  1975|  1976|  1977| 1978|  1979|  1980|  1981|  1982|  1983|  1984|\n",
      "+-----------+--------------------+-------+-----+-----+-----+-----+-----+-----+-----+-----+-----+-----+-----+-----+-----+-----+-----+-----+-----+-----+-----+-----+-----+-----+-----+-----+-----+-----+-----+-----+-----+-----+-----+-----+-----+-----+-----+-----+-----+-----+-----+-----+-----+-----+-----+-----+-----+-----+-----+-----+-----+-----+-----+-----+-----+------------+---------------+------------+-----+------+-----+-----+-----+-----+------+-----+------+-----+------+------+------+-----+------+------+------+-----+------+------+------+------+------+------+\n",
      "|Afghanistan|  Wheat and products|   Food| 1928| 1904| 1666| 1950| 2001| 1808| 2053| 2045| 2154| 1819| 1963| 2215| 2310| 2335| 2434| 2512| 2282| 2454| 2443| 2129| 2133| 2068| 1994| 1851| 1791| 1683| 2194| 1801| 1754| 1640| 1539| 1582| 1840| 1855| 1853| 2177| 2343| 2407| 2463| 2600| 2668| 2776| 3095| 3249| 3486| 3704| 4164| 4252| 4538| 4605| 4711| 4810| 4895|       172.0|            0.0|        12.0|582.0|1056.0|590.0|606.0|881.0|809.0|1282.0|750.0|1259.0|371.0|1144.0|1101.0|1018.0|647.0|1222.0|1407.0|1159.0|364.0|1255.0|1292.0|1087.0|1436.0|1489.0|1301.0|\n",
      "|Afghanistan|Rice (Milled Equi...|   Food|  183|  183|  182|  220|  220|  195|  231|  235|  238|  213|  205|  233|  246|  246|  255|  263|  235|  254|  270|  259|  248|  217|  217|  197|  186|  200|  193|  202|  191|  199|  197|  249|  218|  260|  319|  254|  326|  347|  270|  372|  411|  448|  460|  419|  445|  546|  455|  490|  415|  442|  476|  425|  422|       172.0|            0.0|        17.0|182.0| 176.0|229.0|155.0|272.0|148.0| 154.0|164.0| 112.0|220.0| 178.0| 190.0| 205.0|282.0| 169.0| 207.0| 606.0|311.0| 179.0| 177.0| 191.0| 364.0| 159.0| 183.0|\n",
      "+-----------+--------------------+-------+-----+-----+-----+-----+-----+-----+-----+-----+-----+-----+-----+-----+-----+-----+-----+-----+-----+-----+-----+-----+-----+-----+-----+-----+-----+-----+-----+-----+-----+-----+-----+-----+-----+-----+-----+-----+-----+-----+-----+-----+-----+-----+-----+-----+-----+-----+-----+-----+-----+-----+-----+-----+-----+------------+---------------+------------+-----+------+-----+-----+-----+-----+------+-----+------+-----+------+------+------+-----+------+------+------+-----+------+------+------+------+------+------+\n",
      "only showing top 2 rows\n",
      "\n"
     ]
    }
   ],
   "source": [
    "indexer = StringIndexer(inputCol = \"Y1984\",outputCol = '1984')\n",
    "df_fao1 = indexer.fit(df_fao1).transform(df_fao1)\n",
    "df_fao1.show(2)"
   ]
  },
  {
   "cell_type": "code",
   "execution_count": 54,
   "metadata": {},
   "outputs": [
    {
     "name": "stdout",
     "output_type": "stream",
     "text": [
      "+-----------+--------------------+-------+-----+-----+-----+-----+-----+-----+-----+-----+-----+-----+-----+-----+-----+-----+-----+-----+-----+-----+-----+-----+-----+-----+-----+-----+-----+-----+-----+-----+-----+-----+-----+-----+-----+-----+-----+-----+-----+-----+-----+-----+-----+-----+-----+-----+-----+-----+-----+-----+-----+-----+-----+-----+-----+------------+---------------+------------+-----+------+-----+-----+-----+-----+------+-----+------+-----+------+------+------+-----+------+------+------+-----+------+------+------+------+------+------+------+\n",
      "|       Area|                Item|Element|Y1961|Y1962|Y1963|Y1964|Y1965|Y1966|Y1967|Y1968|Y1969|Y1970|Y1971|Y1972|Y1973|Y1974|Y1975|Y1976|Y1977|Y1978|Y1979|Y1980|Y1981|Y1982|Y1983|Y1984|Y1985|Y1986|Y1987|Y1988|Y1989|Y1990|Y1991|Y1992|Y1993|Y1994|Y1995|Y1996|Y1997|Y1998|Y1999|Y2000|Y2001|Y2002|Y2003|Y2004|Y2005|Y2006|Y2007|Y2008|Y2009|Y2010|Y2011|Y2012|Y2013|Area_indexed|Element_indexed|Item_indexed| 1961|  1962| 1963| 1964| 1965| 1966|  1967| 1968|  1969| 1970|  1971|  1972|  1973| 1974|  1975|  1976|  1977| 1978|  1979|  1980|  1981|  1982|  1983|  1984|  1985|\n",
      "+-----------+--------------------+-------+-----+-----+-----+-----+-----+-----+-----+-----+-----+-----+-----+-----+-----+-----+-----+-----+-----+-----+-----+-----+-----+-----+-----+-----+-----+-----+-----+-----+-----+-----+-----+-----+-----+-----+-----+-----+-----+-----+-----+-----+-----+-----+-----+-----+-----+-----+-----+-----+-----+-----+-----+-----+-----+------------+---------------+------------+-----+------+-----+-----+-----+-----+------+-----+------+-----+------+------+------+-----+------+------+------+-----+------+------+------+------+------+------+------+\n",
      "|Afghanistan|  Wheat and products|   Food| 1928| 1904| 1666| 1950| 2001| 1808| 2053| 2045| 2154| 1819| 1963| 2215| 2310| 2335| 2434| 2512| 2282| 2454| 2443| 2129| 2133| 2068| 1994| 1851| 1791| 1683| 2194| 1801| 1754| 1640| 1539| 1582| 1840| 1855| 1853| 2177| 2343| 2407| 2463| 2600| 2668| 2776| 3095| 3249| 3486| 3704| 4164| 4252| 4538| 4605| 4711| 4810| 4895|       172.0|            0.0|        12.0|582.0|1056.0|590.0|606.0|881.0|809.0|1282.0|750.0|1259.0|371.0|1144.0|1101.0|1018.0|647.0|1222.0|1407.0|1159.0|364.0|1255.0|1292.0|1087.0|1436.0|1489.0|1301.0|1000.0|\n",
      "|Afghanistan|Rice (Milled Equi...|   Food|  183|  183|  182|  220|  220|  195|  231|  235|  238|  213|  205|  233|  246|  246|  255|  263|  235|  254|  270|  259|  248|  217|  217|  197|  186|  200|  193|  202|  191|  199|  197|  249|  218|  260|  319|  254|  326|  347|  270|  372|  411|  448|  460|  419|  445|  546|  455|  490|  415|  442|  476|  425|  422|       172.0|            0.0|        17.0|182.0| 176.0|229.0|155.0|272.0|148.0| 154.0|164.0| 112.0|220.0| 178.0| 190.0| 205.0|282.0| 169.0| 207.0| 606.0|311.0| 179.0| 177.0| 191.0| 364.0| 159.0| 183.0| 239.0|\n",
      "+-----------+--------------------+-------+-----+-----+-----+-----+-----+-----+-----+-----+-----+-----+-----+-----+-----+-----+-----+-----+-----+-----+-----+-----+-----+-----+-----+-----+-----+-----+-----+-----+-----+-----+-----+-----+-----+-----+-----+-----+-----+-----+-----+-----+-----+-----+-----+-----+-----+-----+-----+-----+-----+-----+-----+-----+-----+------------+---------------+------------+-----+------+-----+-----+-----+-----+------+-----+------+-----+------+------+------+-----+------+------+------+-----+------+------+------+------+------+------+------+\n",
      "only showing top 2 rows\n",
      "\n"
     ]
    }
   ],
   "source": [
    "indexer = StringIndexer(inputCol = \"Y1985\",outputCol = '1985')\n",
    "df_fao1 = indexer.fit(df_fao1).transform(df_fao1)\n",
    "df_fao1.show(2)"
   ]
  },
  {
   "cell_type": "code",
   "execution_count": 55,
   "metadata": {},
   "outputs": [
    {
     "name": "stdout",
     "output_type": "stream",
     "text": [
      "+-----------+--------------------+-------+-----+-----+-----+-----+-----+-----+-----+-----+-----+-----+-----+-----+-----+-----+-----+-----+-----+-----+-----+-----+-----+-----+-----+-----+-----+-----+-----+-----+-----+-----+-----+-----+-----+-----+-----+-----+-----+-----+-----+-----+-----+-----+-----+-----+-----+-----+-----+-----+-----+-----+-----+-----+-----+------------+---------------+------------+-----+------+-----+-----+-----+-----+------+-----+------+-----+------+------+------+-----+------+------+------+-----+------+------+------+------+------+------+------+-----+\n",
      "|       Area|                Item|Element|Y1961|Y1962|Y1963|Y1964|Y1965|Y1966|Y1967|Y1968|Y1969|Y1970|Y1971|Y1972|Y1973|Y1974|Y1975|Y1976|Y1977|Y1978|Y1979|Y1980|Y1981|Y1982|Y1983|Y1984|Y1985|Y1986|Y1987|Y1988|Y1989|Y1990|Y1991|Y1992|Y1993|Y1994|Y1995|Y1996|Y1997|Y1998|Y1999|Y2000|Y2001|Y2002|Y2003|Y2004|Y2005|Y2006|Y2007|Y2008|Y2009|Y2010|Y2011|Y2012|Y2013|Area_indexed|Element_indexed|Item_indexed| 1961|  1962| 1963| 1964| 1965| 1966|  1967| 1968|  1969| 1970|  1971|  1972|  1973| 1974|  1975|  1976|  1977| 1978|  1979|  1980|  1981|  1982|  1983|  1984|  1985| 1986|\n",
      "+-----------+--------------------+-------+-----+-----+-----+-----+-----+-----+-----+-----+-----+-----+-----+-----+-----+-----+-----+-----+-----+-----+-----+-----+-----+-----+-----+-----+-----+-----+-----+-----+-----+-----+-----+-----+-----+-----+-----+-----+-----+-----+-----+-----+-----+-----+-----+-----+-----+-----+-----+-----+-----+-----+-----+-----+-----+------------+---------------+------------+-----+------+-----+-----+-----+-----+------+-----+------+-----+------+------+------+-----+------+------+------+-----+------+------+------+------+------+------+------+-----+\n",
      "|Afghanistan|  Wheat and products|   Food| 1928| 1904| 1666| 1950| 2001| 1808| 2053| 2045| 2154| 1819| 1963| 2215| 2310| 2335| 2434| 2512| 2282| 2454| 2443| 2129| 2133| 2068| 1994| 1851| 1791| 1683| 2194| 1801| 1754| 1640| 1539| 1582| 1840| 1855| 1853| 2177| 2343| 2407| 2463| 2600| 2668| 2776| 3095| 3249| 3486| 3704| 4164| 4252| 4538| 4605| 4711| 4810| 4895|       172.0|            0.0|        12.0|582.0|1056.0|590.0|606.0|881.0|809.0|1282.0|750.0|1259.0|371.0|1144.0|1101.0|1018.0|647.0|1222.0|1407.0|1159.0|364.0|1255.0|1292.0|1087.0|1436.0|1489.0|1301.0|1000.0|927.0|\n",
      "|Afghanistan|Rice (Milled Equi...|   Food|  183|  183|  182|  220|  220|  195|  231|  235|  238|  213|  205|  233|  246|  246|  255|  263|  235|  254|  270|  259|  248|  217|  217|  197|  186|  200|  193|  202|  191|  199|  197|  249|  218|  260|  319|  254|  326|  347|  270|  372|  411|  448|  460|  419|  445|  546|  455|  490|  415|  442|  476|  425|  422|       172.0|            0.0|        17.0|182.0| 176.0|229.0|155.0|272.0|148.0| 154.0|164.0| 112.0|220.0| 178.0| 190.0| 205.0|282.0| 169.0| 207.0| 606.0|311.0| 179.0| 177.0| 191.0| 364.0| 159.0| 183.0| 239.0|134.0|\n",
      "+-----------+--------------------+-------+-----+-----+-----+-----+-----+-----+-----+-----+-----+-----+-----+-----+-----+-----+-----+-----+-----+-----+-----+-----+-----+-----+-----+-----+-----+-----+-----+-----+-----+-----+-----+-----+-----+-----+-----+-----+-----+-----+-----+-----+-----+-----+-----+-----+-----+-----+-----+-----+-----+-----+-----+-----+-----+------------+---------------+------------+-----+------+-----+-----+-----+-----+------+-----+------+-----+------+------+------+-----+------+------+------+-----+------+------+------+------+------+------+------+-----+\n",
      "only showing top 2 rows\n",
      "\n"
     ]
    }
   ],
   "source": [
    "\n",
    "indexer = StringIndexer(inputCol = \"Y1986\",outputCol = '1986')\n",
    "df_fao1 = indexer.fit(df_fao1).transform(df_fao1)\n",
    "df_fao1.show(2)"
   ]
  },
  {
   "cell_type": "code",
   "execution_count": 56,
   "metadata": {},
   "outputs": [
    {
     "name": "stdout",
     "output_type": "stream",
     "text": [
      "+-----------+--------------------+-------+-----+-----+-----+-----+-----+-----+-----+-----+-----+-----+-----+-----+-----+-----+-----+-----+-----+-----+-----+-----+-----+-----+-----+-----+-----+-----+-----+-----+-----+-----+-----+-----+-----+-----+-----+-----+-----+-----+-----+-----+-----+-----+-----+-----+-----+-----+-----+-----+-----+-----+-----+-----+-----+------------+---------------+------------+-----+------+-----+-----+-----+-----+------+-----+------+-----+------+------+------+-----+------+------+------+-----+------+------+------+------+------+------+------+-----+------+\n",
      "|       Area|                Item|Element|Y1961|Y1962|Y1963|Y1964|Y1965|Y1966|Y1967|Y1968|Y1969|Y1970|Y1971|Y1972|Y1973|Y1974|Y1975|Y1976|Y1977|Y1978|Y1979|Y1980|Y1981|Y1982|Y1983|Y1984|Y1985|Y1986|Y1987|Y1988|Y1989|Y1990|Y1991|Y1992|Y1993|Y1994|Y1995|Y1996|Y1997|Y1998|Y1999|Y2000|Y2001|Y2002|Y2003|Y2004|Y2005|Y2006|Y2007|Y2008|Y2009|Y2010|Y2011|Y2012|Y2013|Area_indexed|Element_indexed|Item_indexed| 1961|  1962| 1963| 1964| 1965| 1966|  1967| 1968|  1969| 1970|  1971|  1972|  1973| 1974|  1975|  1976|  1977| 1978|  1979|  1980|  1981|  1982|  1983|  1984|  1985| 1986|  1987|\n",
      "+-----------+--------------------+-------+-----+-----+-----+-----+-----+-----+-----+-----+-----+-----+-----+-----+-----+-----+-----+-----+-----+-----+-----+-----+-----+-----+-----+-----+-----+-----+-----+-----+-----+-----+-----+-----+-----+-----+-----+-----+-----+-----+-----+-----+-----+-----+-----+-----+-----+-----+-----+-----+-----+-----+-----+-----+-----+------------+---------------+------------+-----+------+-----+-----+-----+-----+------+-----+------+-----+------+------+------+-----+------+------+------+-----+------+------+------+------+------+------+------+-----+------+\n",
      "|Afghanistan|  Wheat and products|   Food| 1928| 1904| 1666| 1950| 2001| 1808| 2053| 2045| 2154| 1819| 1963| 2215| 2310| 2335| 2434| 2512| 2282| 2454| 2443| 2129| 2133| 2068| 1994| 1851| 1791| 1683| 2194| 1801| 1754| 1640| 1539| 1582| 1840| 1855| 1853| 2177| 2343| 2407| 2463| 2600| 2668| 2776| 3095| 3249| 3486| 3704| 4164| 4252| 4538| 4605| 4711| 4810| 4895|       172.0|            0.0|        12.0|582.0|1056.0|590.0|606.0|881.0|809.0|1282.0|750.0|1259.0|371.0|1144.0|1101.0|1018.0|647.0|1222.0|1407.0|1159.0|364.0|1255.0|1292.0|1087.0|1436.0|1489.0|1301.0|1000.0|927.0|1039.0|\n",
      "|Afghanistan|Rice (Milled Equi...|   Food|  183|  183|  182|  220|  220|  195|  231|  235|  238|  213|  205|  233|  246|  246|  255|  263|  235|  254|  270|  259|  248|  217|  217|  197|  186|  200|  193|  202|  191|  199|  197|  249|  218|  260|  319|  254|  326|  347|  270|  372|  411|  448|  460|  419|  445|  546|  455|  490|  415|  442|  476|  425|  422|       172.0|            0.0|        17.0|182.0| 176.0|229.0|155.0|272.0|148.0| 154.0|164.0| 112.0|220.0| 178.0| 190.0| 205.0|282.0| 169.0| 207.0| 606.0|311.0| 179.0| 177.0| 191.0| 364.0| 159.0| 183.0| 239.0|134.0| 127.0|\n",
      "+-----------+--------------------+-------+-----+-----+-----+-----+-----+-----+-----+-----+-----+-----+-----+-----+-----+-----+-----+-----+-----+-----+-----+-----+-----+-----+-----+-----+-----+-----+-----+-----+-----+-----+-----+-----+-----+-----+-----+-----+-----+-----+-----+-----+-----+-----+-----+-----+-----+-----+-----+-----+-----+-----+-----+-----+-----+------------+---------------+------------+-----+------+-----+-----+-----+-----+------+-----+------+-----+------+------+------+-----+------+------+------+-----+------+------+------+------+------+------+------+-----+------+\n",
      "only showing top 2 rows\n",
      "\n"
     ]
    }
   ],
   "source": [
    "indexer = StringIndexer(inputCol = \"Y1987\",outputCol = '1987')\n",
    "df_fao1 = indexer.fit(df_fao1).transform(df_fao1)\n",
    "df_fao1.show(2)"
   ]
  },
  {
   "cell_type": "code",
   "execution_count": 57,
   "metadata": {},
   "outputs": [
    {
     "name": "stdout",
     "output_type": "stream",
     "text": [
      "+-----------+--------------------+-------+-----+-----+-----+-----+-----+-----+-----+-----+-----+-----+-----+-----+-----+-----+-----+-----+-----+-----+-----+-----+-----+-----+-----+-----+-----+-----+-----+-----+-----+-----+-----+-----+-----+-----+-----+-----+-----+-----+-----+-----+-----+-----+-----+-----+-----+-----+-----+-----+-----+-----+-----+-----+-----+------------+---------------+------------+-----+------+-----+-----+-----+-----+------+-----+------+-----+------+------+------+-----+------+------+------+-----+------+------+------+------+------+------+------+-----+------+-----+\n",
      "|       Area|                Item|Element|Y1961|Y1962|Y1963|Y1964|Y1965|Y1966|Y1967|Y1968|Y1969|Y1970|Y1971|Y1972|Y1973|Y1974|Y1975|Y1976|Y1977|Y1978|Y1979|Y1980|Y1981|Y1982|Y1983|Y1984|Y1985|Y1986|Y1987|Y1988|Y1989|Y1990|Y1991|Y1992|Y1993|Y1994|Y1995|Y1996|Y1997|Y1998|Y1999|Y2000|Y2001|Y2002|Y2003|Y2004|Y2005|Y2006|Y2007|Y2008|Y2009|Y2010|Y2011|Y2012|Y2013|Area_indexed|Element_indexed|Item_indexed| 1961|  1962| 1963| 1964| 1965| 1966|  1967| 1968|  1969| 1970|  1971|  1972|  1973| 1974|  1975|  1976|  1977| 1978|  1979|  1980|  1981|  1982|  1983|  1984|  1985| 1986|  1987| 1988|\n",
      "+-----------+--------------------+-------+-----+-----+-----+-----+-----+-----+-----+-----+-----+-----+-----+-----+-----+-----+-----+-----+-----+-----+-----+-----+-----+-----+-----+-----+-----+-----+-----+-----+-----+-----+-----+-----+-----+-----+-----+-----+-----+-----+-----+-----+-----+-----+-----+-----+-----+-----+-----+-----+-----+-----+-----+-----+-----+------------+---------------+------------+-----+------+-----+-----+-----+-----+------+-----+------+-----+------+------+------+-----+------+------+------+-----+------+------+------+------+------+------+------+-----+------+-----+\n",
      "|Afghanistan|  Wheat and products|   Food| 1928| 1904| 1666| 1950| 2001| 1808| 2053| 2045| 2154| 1819| 1963| 2215| 2310| 2335| 2434| 2512| 2282| 2454| 2443| 2129| 2133| 2068| 1994| 1851| 1791| 1683| 2194| 1801| 1754| 1640| 1539| 1582| 1840| 1855| 1853| 2177| 2343| 2407| 2463| 2600| 2668| 2776| 3095| 3249| 3486| 3704| 4164| 4252| 4538| 4605| 4711| 4810| 4895|       172.0|            0.0|        12.0|582.0|1056.0|590.0|606.0|881.0|809.0|1282.0|750.0|1259.0|371.0|1144.0|1101.0|1018.0|647.0|1222.0|1407.0|1159.0|364.0|1255.0|1292.0|1087.0|1436.0|1489.0|1301.0|1000.0|927.0|1039.0|984.0|\n",
      "|Afghanistan|Rice (Milled Equi...|   Food|  183|  183|  182|  220|  220|  195|  231|  235|  238|  213|  205|  233|  246|  246|  255|  263|  235|  254|  270|  259|  248|  217|  217|  197|  186|  200|  193|  202|  191|  199|  197|  249|  218|  260|  319|  254|  326|  347|  270|  372|  411|  448|  460|  419|  445|  546|  455|  490|  415|  442|  476|  425|  422|       172.0|            0.0|        17.0|182.0| 176.0|229.0|155.0|272.0|148.0| 154.0|164.0| 112.0|220.0| 178.0| 190.0| 205.0|282.0| 169.0| 207.0| 606.0|311.0| 179.0| 177.0| 191.0| 364.0| 159.0| 183.0| 239.0|134.0| 127.0|398.0|\n",
      "+-----------+--------------------+-------+-----+-----+-----+-----+-----+-----+-----+-----+-----+-----+-----+-----+-----+-----+-----+-----+-----+-----+-----+-----+-----+-----+-----+-----+-----+-----+-----+-----+-----+-----+-----+-----+-----+-----+-----+-----+-----+-----+-----+-----+-----+-----+-----+-----+-----+-----+-----+-----+-----+-----+-----+-----+-----+------------+---------------+------------+-----+------+-----+-----+-----+-----+------+-----+------+-----+------+------+------+-----+------+------+------+-----+------+------+------+------+------+------+------+-----+------+-----+\n",
      "only showing top 2 rows\n",
      "\n"
     ]
    }
   ],
   "source": [
    "indexer = StringIndexer(inputCol = \"Y1988\",outputCol = '1988')\n",
    "df_fao1 = indexer.fit(df_fao1).transform(df_fao1)\n",
    "df_fao1.show(2)"
   ]
  },
  {
   "cell_type": "code",
   "execution_count": 58,
   "metadata": {},
   "outputs": [
    {
     "name": "stdout",
     "output_type": "stream",
     "text": [
      "+-----------+--------------------+-------+-----+-----+-----+-----+-----+-----+-----+-----+-----+-----+-----+-----+-----+-----+-----+-----+-----+-----+-----+-----+-----+-----+-----+-----+-----+-----+-----+-----+-----+-----+-----+-----+-----+-----+-----+-----+-----+-----+-----+-----+-----+-----+-----+-----+-----+-----+-----+-----+-----+-----+-----+-----+-----+------------+---------------+------------+-----+------+-----+-----+-----+-----+------+-----+------+-----+------+------+------+-----+------+------+------+-----+------+------+------+------+------+------+------+-----+------+-----+------+\n",
      "|       Area|                Item|Element|Y1961|Y1962|Y1963|Y1964|Y1965|Y1966|Y1967|Y1968|Y1969|Y1970|Y1971|Y1972|Y1973|Y1974|Y1975|Y1976|Y1977|Y1978|Y1979|Y1980|Y1981|Y1982|Y1983|Y1984|Y1985|Y1986|Y1987|Y1988|Y1989|Y1990|Y1991|Y1992|Y1993|Y1994|Y1995|Y1996|Y1997|Y1998|Y1999|Y2000|Y2001|Y2002|Y2003|Y2004|Y2005|Y2006|Y2007|Y2008|Y2009|Y2010|Y2011|Y2012|Y2013|Area_indexed|Element_indexed|Item_indexed| 1961|  1962| 1963| 1964| 1965| 1966|  1967| 1968|  1969| 1970|  1971|  1972|  1973| 1974|  1975|  1976|  1977| 1978|  1979|  1980|  1981|  1982|  1983|  1984|  1985| 1986|  1987| 1988|  1989|\n",
      "+-----------+--------------------+-------+-----+-----+-----+-----+-----+-----+-----+-----+-----+-----+-----+-----+-----+-----+-----+-----+-----+-----+-----+-----+-----+-----+-----+-----+-----+-----+-----+-----+-----+-----+-----+-----+-----+-----+-----+-----+-----+-----+-----+-----+-----+-----+-----+-----+-----+-----+-----+-----+-----+-----+-----+-----+-----+------------+---------------+------------+-----+------+-----+-----+-----+-----+------+-----+------+-----+------+------+------+-----+------+------+------+-----+------+------+------+------+------+------+------+-----+------+-----+------+\n",
      "|Afghanistan|  Wheat and products|   Food| 1928| 1904| 1666| 1950| 2001| 1808| 2053| 2045| 2154| 1819| 1963| 2215| 2310| 2335| 2434| 2512| 2282| 2454| 2443| 2129| 2133| 2068| 1994| 1851| 1791| 1683| 2194| 1801| 1754| 1640| 1539| 1582| 1840| 1855| 1853| 2177| 2343| 2407| 2463| 2600| 2668| 2776| 3095| 3249| 3486| 3704| 4164| 4252| 4538| 4605| 4711| 4810| 4895|       172.0|            0.0|        12.0|582.0|1056.0|590.0|606.0|881.0|809.0|1282.0|750.0|1259.0|371.0|1144.0|1101.0|1018.0|647.0|1222.0|1407.0|1159.0|364.0|1255.0|1292.0|1087.0|1436.0|1489.0|1301.0|1000.0|927.0|1039.0|984.0|1361.0|\n",
      "|Afghanistan|Rice (Milled Equi...|   Food|  183|  183|  182|  220|  220|  195|  231|  235|  238|  213|  205|  233|  246|  246|  255|  263|  235|  254|  270|  259|  248|  217|  217|  197|  186|  200|  193|  202|  191|  199|  197|  249|  218|  260|  319|  254|  326|  347|  270|  372|  411|  448|  460|  419|  445|  546|  455|  490|  415|  442|  476|  425|  422|       172.0|            0.0|        17.0|182.0| 176.0|229.0|155.0|272.0|148.0| 154.0|164.0| 112.0|220.0| 178.0| 190.0| 205.0|282.0| 169.0| 207.0| 606.0|311.0| 179.0| 177.0| 191.0| 364.0| 159.0| 183.0| 239.0|134.0| 127.0|398.0| 101.0|\n",
      "+-----------+--------------------+-------+-----+-----+-----+-----+-----+-----+-----+-----+-----+-----+-----+-----+-----+-----+-----+-----+-----+-----+-----+-----+-----+-----+-----+-----+-----+-----+-----+-----+-----+-----+-----+-----+-----+-----+-----+-----+-----+-----+-----+-----+-----+-----+-----+-----+-----+-----+-----+-----+-----+-----+-----+-----+-----+------------+---------------+------------+-----+------+-----+-----+-----+-----+------+-----+------+-----+------+------+------+-----+------+------+------+-----+------+------+------+------+------+------+------+-----+------+-----+------+\n",
      "only showing top 2 rows\n",
      "\n"
     ]
    }
   ],
   "source": [
    "indexer = StringIndexer(inputCol = \"Y1989\",outputCol = '1989')\n",
    "df_fao1 = indexer.fit(df_fao1).transform(df_fao1)\n",
    "df_fao1.show(2)"
   ]
  },
  {
   "cell_type": "code",
   "execution_count": 59,
   "metadata": {},
   "outputs": [
    {
     "name": "stdout",
     "output_type": "stream",
     "text": [
      "+-----------+--------------------+-------+-----+-----+-----+-----+-----+-----+-----+-----+-----+-----+-----+-----+-----+-----+-----+-----+-----+-----+-----+-----+-----+-----+-----+-----+-----+-----+-----+-----+-----+-----+-----+-----+-----+-----+-----+-----+-----+-----+-----+-----+-----+-----+-----+-----+-----+-----+-----+-----+-----+-----+-----+-----+-----+------------+---------------+------------+-----+------+-----+-----+-----+-----+------+-----+------+-----+------+------+------+-----+------+------+------+-----+------+------+------+------+------+------+------+-----+------+-----+------+-----+\n",
      "|       Area|                Item|Element|Y1961|Y1962|Y1963|Y1964|Y1965|Y1966|Y1967|Y1968|Y1969|Y1970|Y1971|Y1972|Y1973|Y1974|Y1975|Y1976|Y1977|Y1978|Y1979|Y1980|Y1981|Y1982|Y1983|Y1984|Y1985|Y1986|Y1987|Y1988|Y1989|Y1990|Y1991|Y1992|Y1993|Y1994|Y1995|Y1996|Y1997|Y1998|Y1999|Y2000|Y2001|Y2002|Y2003|Y2004|Y2005|Y2006|Y2007|Y2008|Y2009|Y2010|Y2011|Y2012|Y2013|Area_indexed|Element_indexed|Item_indexed| 1961|  1962| 1963| 1964| 1965| 1966|  1967| 1968|  1969| 1970|  1971|  1972|  1973| 1974|  1975|  1976|  1977| 1978|  1979|  1980|  1981|  1982|  1983|  1984|  1985| 1986|  1987| 1988|  1989| 1990|\n",
      "+-----------+--------------------+-------+-----+-----+-----+-----+-----+-----+-----+-----+-----+-----+-----+-----+-----+-----+-----+-----+-----+-----+-----+-----+-----+-----+-----+-----+-----+-----+-----+-----+-----+-----+-----+-----+-----+-----+-----+-----+-----+-----+-----+-----+-----+-----+-----+-----+-----+-----+-----+-----+-----+-----+-----+-----+-----+------------+---------------+------------+-----+------+-----+-----+-----+-----+------+-----+------+-----+------+------+------+-----+------+------+------+-----+------+------+------+------+------+------+------+-----+------+-----+------+-----+\n",
      "|Afghanistan|  Wheat and products|   Food| 1928| 1904| 1666| 1950| 2001| 1808| 2053| 2045| 2154| 1819| 1963| 2215| 2310| 2335| 2434| 2512| 2282| 2454| 2443| 2129| 2133| 2068| 1994| 1851| 1791| 1683| 2194| 1801| 1754| 1640| 1539| 1582| 1840| 1855| 1853| 2177| 2343| 2407| 2463| 2600| 2668| 2776| 3095| 3249| 3486| 3704| 4164| 4252| 4538| 4605| 4711| 4810| 4895|       172.0|            0.0|        12.0|582.0|1056.0|590.0|606.0|881.0|809.0|1282.0|750.0|1259.0|371.0|1144.0|1101.0|1018.0|647.0|1222.0|1407.0|1159.0|364.0|1255.0|1292.0|1087.0|1436.0|1489.0|1301.0|1000.0|927.0|1039.0|984.0|1361.0|725.0|\n",
      "|Afghanistan|Rice (Milled Equi...|   Food|  183|  183|  182|  220|  220|  195|  231|  235|  238|  213|  205|  233|  246|  246|  255|  263|  235|  254|  270|  259|  248|  217|  217|  197|  186|  200|  193|  202|  191|  199|  197|  249|  218|  260|  319|  254|  326|  347|  270|  372|  411|  448|  460|  419|  445|  546|  455|  490|  415|  442|  476|  425|  422|       172.0|            0.0|        17.0|182.0| 176.0|229.0|155.0|272.0|148.0| 154.0|164.0| 112.0|220.0| 178.0| 190.0| 205.0|282.0| 169.0| 207.0| 606.0|311.0| 179.0| 177.0| 191.0| 364.0| 159.0| 183.0| 239.0|134.0| 127.0|398.0| 101.0|257.0|\n",
      "+-----------+--------------------+-------+-----+-----+-----+-----+-----+-----+-----+-----+-----+-----+-----+-----+-----+-----+-----+-----+-----+-----+-----+-----+-----+-----+-----+-----+-----+-----+-----+-----+-----+-----+-----+-----+-----+-----+-----+-----+-----+-----+-----+-----+-----+-----+-----+-----+-----+-----+-----+-----+-----+-----+-----+-----+-----+------------+---------------+------------+-----+------+-----+-----+-----+-----+------+-----+------+-----+------+------+------+-----+------+------+------+-----+------+------+------+------+------+------+------+-----+------+-----+------+-----+\n",
      "only showing top 2 rows\n",
      "\n"
     ]
    }
   ],
   "source": [
    "indexer = StringIndexer(inputCol = \"Y1990\",outputCol = '1990')\n",
    "df_fao1 = indexer.fit(df_fao1).transform(df_fao1)\n",
    "df_fao1.show(2)"
   ]
  },
  {
   "cell_type": "code",
   "execution_count": 60,
   "metadata": {},
   "outputs": [
    {
     "name": "stdout",
     "output_type": "stream",
     "text": [
      "+-----------+--------------------+-------+-----+-----+-----+-----+-----+-----+-----+-----+-----+-----+-----+-----+-----+-----+-----+-----+-----+-----+-----+-----+-----+-----+-----+-----+-----+-----+-----+-----+-----+-----+-----+-----+-----+-----+-----+-----+-----+-----+-----+-----+-----+-----+-----+-----+-----+-----+-----+-----+-----+-----+-----+-----+-----+------------+---------------+------------+-----+------+-----+-----+-----+-----+------+-----+------+-----+------+------+------+-----+------+------+------+-----+------+------+------+------+------+------+------+-----+------+-----+------+-----+------+\n",
      "|       Area|                Item|Element|Y1961|Y1962|Y1963|Y1964|Y1965|Y1966|Y1967|Y1968|Y1969|Y1970|Y1971|Y1972|Y1973|Y1974|Y1975|Y1976|Y1977|Y1978|Y1979|Y1980|Y1981|Y1982|Y1983|Y1984|Y1985|Y1986|Y1987|Y1988|Y1989|Y1990|Y1991|Y1992|Y1993|Y1994|Y1995|Y1996|Y1997|Y1998|Y1999|Y2000|Y2001|Y2002|Y2003|Y2004|Y2005|Y2006|Y2007|Y2008|Y2009|Y2010|Y2011|Y2012|Y2013|Area_indexed|Element_indexed|Item_indexed| 1961|  1962| 1963| 1964| 1965| 1966|  1967| 1968|  1969| 1970|  1971|  1972|  1973| 1974|  1975|  1976|  1977| 1978|  1979|  1980|  1981|  1982|  1983|  1984|  1985| 1986|  1987| 1988|  1989| 1990|  1991|\n",
      "+-----------+--------------------+-------+-----+-----+-----+-----+-----+-----+-----+-----+-----+-----+-----+-----+-----+-----+-----+-----+-----+-----+-----+-----+-----+-----+-----+-----+-----+-----+-----+-----+-----+-----+-----+-----+-----+-----+-----+-----+-----+-----+-----+-----+-----+-----+-----+-----+-----+-----+-----+-----+-----+-----+-----+-----+-----+------------+---------------+------------+-----+------+-----+-----+-----+-----+------+-----+------+-----+------+------+------+-----+------+------+------+-----+------+------+------+------+------+------+------+-----+------+-----+------+-----+------+\n",
      "|Afghanistan|  Wheat and products|   Food| 1928| 1904| 1666| 1950| 2001| 1808| 2053| 2045| 2154| 1819| 1963| 2215| 2310| 2335| 2434| 2512| 2282| 2454| 2443| 2129| 2133| 2068| 1994| 1851| 1791| 1683| 2194| 1801| 1754| 1640| 1539| 1582| 1840| 1855| 1853| 2177| 2343| 2407| 2463| 2600| 2668| 2776| 3095| 3249| 3486| 3704| 4164| 4252| 4538| 4605| 4711| 4810| 4895|       172.0|            0.0|        12.0|582.0|1056.0|590.0|606.0|881.0|809.0|1282.0|750.0|1259.0|371.0|1144.0|1101.0|1018.0|647.0|1222.0|1407.0|1159.0|364.0|1255.0|1292.0|1087.0|1436.0|1489.0|1301.0|1000.0|927.0|1039.0|984.0|1361.0|725.0|1431.0|\n",
      "|Afghanistan|Rice (Milled Equi...|   Food|  183|  183|  182|  220|  220|  195|  231|  235|  238|  213|  205|  233|  246|  246|  255|  263|  235|  254|  270|  259|  248|  217|  217|  197|  186|  200|  193|  202|  191|  199|  197|  249|  218|  260|  319|  254|  326|  347|  270|  372|  411|  448|  460|  419|  445|  546|  455|  490|  415|  442|  476|  425|  422|       172.0|            0.0|        17.0|182.0| 176.0|229.0|155.0|272.0|148.0| 154.0|164.0| 112.0|220.0| 178.0| 190.0| 205.0|282.0| 169.0| 207.0| 606.0|311.0| 179.0| 177.0| 191.0| 364.0| 159.0| 183.0| 239.0|134.0| 127.0|398.0| 101.0|257.0| 190.0|\n",
      "+-----------+--------------------+-------+-----+-----+-----+-----+-----+-----+-----+-----+-----+-----+-----+-----+-----+-----+-----+-----+-----+-----+-----+-----+-----+-----+-----+-----+-----+-----+-----+-----+-----+-----+-----+-----+-----+-----+-----+-----+-----+-----+-----+-----+-----+-----+-----+-----+-----+-----+-----+-----+-----+-----+-----+-----+-----+------------+---------------+------------+-----+------+-----+-----+-----+-----+------+-----+------+-----+------+------+------+-----+------+------+------+-----+------+------+------+------+------+------+------+-----+------+-----+------+-----+------+\n",
      "only showing top 2 rows\n",
      "\n"
     ]
    }
   ],
   "source": [
    "indexer = StringIndexer(inputCol = \"Y1991\",outputCol = '1991')\n",
    "df_fao1 = indexer.fit(df_fao1).transform(df_fao1)\n",
    "df_fao1.show(2)"
   ]
  },
  {
   "cell_type": "code",
   "execution_count": 61,
   "metadata": {},
   "outputs": [
    {
     "name": "stdout",
     "output_type": "stream",
     "text": [
      "+-----------+--------------------+-------+-----+-----+-----+-----+-----+-----+-----+-----+-----+-----+-----+-----+-----+-----+-----+-----+-----+-----+-----+-----+-----+-----+-----+-----+-----+-----+-----+-----+-----+-----+-----+-----+-----+-----+-----+-----+-----+-----+-----+-----+-----+-----+-----+-----+-----+-----+-----+-----+-----+-----+-----+-----+-----+------------+---------------+------------+-----+------+-----+-----+-----+-----+------+-----+------+-----+------+------+------+-----+------+------+------+-----+------+------+------+------+------+------+------+-----+------+-----+------+-----+------+-----+\n",
      "|       Area|                Item|Element|Y1961|Y1962|Y1963|Y1964|Y1965|Y1966|Y1967|Y1968|Y1969|Y1970|Y1971|Y1972|Y1973|Y1974|Y1975|Y1976|Y1977|Y1978|Y1979|Y1980|Y1981|Y1982|Y1983|Y1984|Y1985|Y1986|Y1987|Y1988|Y1989|Y1990|Y1991|Y1992|Y1993|Y1994|Y1995|Y1996|Y1997|Y1998|Y1999|Y2000|Y2001|Y2002|Y2003|Y2004|Y2005|Y2006|Y2007|Y2008|Y2009|Y2010|Y2011|Y2012|Y2013|Area_indexed|Element_indexed|Item_indexed| 1961|  1962| 1963| 1964| 1965| 1966|  1967| 1968|  1969| 1970|  1971|  1972|  1973| 1974|  1975|  1976|  1977| 1978|  1979|  1980|  1981|  1982|  1983|  1984|  1985| 1986|  1987| 1988|  1989| 1990|  1991| 1992|\n",
      "+-----------+--------------------+-------+-----+-----+-----+-----+-----+-----+-----+-----+-----+-----+-----+-----+-----+-----+-----+-----+-----+-----+-----+-----+-----+-----+-----+-----+-----+-----+-----+-----+-----+-----+-----+-----+-----+-----+-----+-----+-----+-----+-----+-----+-----+-----+-----+-----+-----+-----+-----+-----+-----+-----+-----+-----+-----+------------+---------------+------------+-----+------+-----+-----+-----+-----+------+-----+------+-----+------+------+------+-----+------+------+------+-----+------+------+------+------+------+------+------+-----+------+-----+------+-----+------+-----+\n",
      "|Afghanistan|  Wheat and products|   Food| 1928| 1904| 1666| 1950| 2001| 1808| 2053| 2045| 2154| 1819| 1963| 2215| 2310| 2335| 2434| 2512| 2282| 2454| 2443| 2129| 2133| 2068| 1994| 1851| 1791| 1683| 2194| 1801| 1754| 1640| 1539| 1582| 1840| 1855| 1853| 2177| 2343| 2407| 2463| 2600| 2668| 2776| 3095| 3249| 3486| 3704| 4164| 4252| 4538| 4605| 4711| 4810| 4895|       172.0|            0.0|        12.0|582.0|1056.0|590.0|606.0|881.0|809.0|1282.0|750.0|1259.0|371.0|1144.0|1101.0|1018.0|647.0|1222.0|1407.0|1159.0|364.0|1255.0|1292.0|1087.0|1436.0|1489.0|1301.0|1000.0|927.0|1039.0|984.0|1361.0|725.0|1431.0|857.0|\n",
      "|Afghanistan|Rice (Milled Equi...|   Food|  183|  183|  182|  220|  220|  195|  231|  235|  238|  213|  205|  233|  246|  246|  255|  263|  235|  254|  270|  259|  248|  217|  217|  197|  186|  200|  193|  202|  191|  199|  197|  249|  218|  260|  319|  254|  326|  347|  270|  372|  411|  448|  460|  419|  445|  546|  455|  490|  415|  442|  476|  425|  422|       172.0|            0.0|        17.0|182.0| 176.0|229.0|155.0|272.0|148.0| 154.0|164.0| 112.0|220.0| 178.0| 190.0| 205.0|282.0| 169.0| 207.0| 606.0|311.0| 179.0| 177.0| 191.0| 364.0| 159.0| 183.0| 239.0|134.0| 127.0|398.0| 101.0|257.0| 190.0|304.0|\n",
      "+-----------+--------------------+-------+-----+-----+-----+-----+-----+-----+-----+-----+-----+-----+-----+-----+-----+-----+-----+-----+-----+-----+-----+-----+-----+-----+-----+-----+-----+-----+-----+-----+-----+-----+-----+-----+-----+-----+-----+-----+-----+-----+-----+-----+-----+-----+-----+-----+-----+-----+-----+-----+-----+-----+-----+-----+-----+------------+---------------+------------+-----+------+-----+-----+-----+-----+------+-----+------+-----+------+------+------+-----+------+------+------+-----+------+------+------+------+------+------+------+-----+------+-----+------+-----+------+-----+\n",
      "only showing top 2 rows\n",
      "\n"
     ]
    }
   ],
   "source": [
    "indexer = StringIndexer(inputCol = \"Y1992\",outputCol = '1992')\n",
    "df_fao1 = indexer.fit(df_fao1).transform(df_fao1)\n",
    "df_fao1.show(2)"
   ]
  },
  {
   "cell_type": "code",
   "execution_count": 62,
   "metadata": {},
   "outputs": [
    {
     "name": "stdout",
     "output_type": "stream",
     "text": [
      "+-----------+--------------------+-------+-----+-----+-----+-----+-----+-----+-----+-----+-----+-----+-----+-----+-----+-----+-----+-----+-----+-----+-----+-----+-----+-----+-----+-----+-----+-----+-----+-----+-----+-----+-----+-----+-----+-----+-----+-----+-----+-----+-----+-----+-----+-----+-----+-----+-----+-----+-----+-----+-----+-----+-----+-----+-----+------------+---------------+------------+-----+------+-----+-----+-----+-----+------+-----+------+-----+------+------+------+-----+------+------+------+-----+------+------+------+------+------+------+------+-----+------+-----+------+-----+------+-----+------+\n",
      "|       Area|                Item|Element|Y1961|Y1962|Y1963|Y1964|Y1965|Y1966|Y1967|Y1968|Y1969|Y1970|Y1971|Y1972|Y1973|Y1974|Y1975|Y1976|Y1977|Y1978|Y1979|Y1980|Y1981|Y1982|Y1983|Y1984|Y1985|Y1986|Y1987|Y1988|Y1989|Y1990|Y1991|Y1992|Y1993|Y1994|Y1995|Y1996|Y1997|Y1998|Y1999|Y2000|Y2001|Y2002|Y2003|Y2004|Y2005|Y2006|Y2007|Y2008|Y2009|Y2010|Y2011|Y2012|Y2013|Area_indexed|Element_indexed|Item_indexed| 1961|  1962| 1963| 1964| 1965| 1966|  1967| 1968|  1969| 1970|  1971|  1972|  1973| 1974|  1975|  1976|  1977| 1978|  1979|  1980|  1981|  1982|  1983|  1984|  1985| 1986|  1987| 1988|  1989| 1990|  1991| 1992|  1993|\n",
      "+-----------+--------------------+-------+-----+-----+-----+-----+-----+-----+-----+-----+-----+-----+-----+-----+-----+-----+-----+-----+-----+-----+-----+-----+-----+-----+-----+-----+-----+-----+-----+-----+-----+-----+-----+-----+-----+-----+-----+-----+-----+-----+-----+-----+-----+-----+-----+-----+-----+-----+-----+-----+-----+-----+-----+-----+-----+------------+---------------+------------+-----+------+-----+-----+-----+-----+------+-----+------+-----+------+------+------+-----+------+------+------+-----+------+------+------+------+------+------+------+-----+------+-----+------+-----+------+-----+------+\n",
      "|Afghanistan|  Wheat and products|   Food| 1928| 1904| 1666| 1950| 2001| 1808| 2053| 2045| 2154| 1819| 1963| 2215| 2310| 2335| 2434| 2512| 2282| 2454| 2443| 2129| 2133| 2068| 1994| 1851| 1791| 1683| 2194| 1801| 1754| 1640| 1539| 1582| 1840| 1855| 1853| 2177| 2343| 2407| 2463| 2600| 2668| 2776| 3095| 3249| 3486| 3704| 4164| 4252| 4538| 4605| 4711| 4810| 4895|       172.0|            0.0|        12.0|582.0|1056.0|590.0|606.0|881.0|809.0|1282.0|750.0|1259.0|371.0|1144.0|1101.0|1018.0|647.0|1222.0|1407.0|1159.0|364.0|1255.0|1292.0|1087.0|1436.0|1489.0|1301.0|1000.0|927.0|1039.0|984.0|1361.0|725.0|1431.0|857.0|1384.0|\n",
      "|Afghanistan|Rice (Milled Equi...|   Food|  183|  183|  182|  220|  220|  195|  231|  235|  238|  213|  205|  233|  246|  246|  255|  263|  235|  254|  270|  259|  248|  217|  217|  197|  186|  200|  193|  202|  191|  199|  197|  249|  218|  260|  319|  254|  326|  347|  270|  372|  411|  448|  460|  419|  445|  546|  455|  490|  415|  442|  476|  425|  422|       172.0|            0.0|        17.0|182.0| 176.0|229.0|155.0|272.0|148.0| 154.0|164.0| 112.0|220.0| 178.0| 190.0| 205.0|282.0| 169.0| 207.0| 606.0|311.0| 179.0| 177.0| 191.0| 364.0| 159.0| 183.0| 239.0|134.0| 127.0|398.0| 101.0|257.0| 190.0|304.0| 310.0|\n",
      "+-----------+--------------------+-------+-----+-----+-----+-----+-----+-----+-----+-----+-----+-----+-----+-----+-----+-----+-----+-----+-----+-----+-----+-----+-----+-----+-----+-----+-----+-----+-----+-----+-----+-----+-----+-----+-----+-----+-----+-----+-----+-----+-----+-----+-----+-----+-----+-----+-----+-----+-----+-----+-----+-----+-----+-----+-----+------------+---------------+------------+-----+------+-----+-----+-----+-----+------+-----+------+-----+------+------+------+-----+------+------+------+-----+------+------+------+------+------+------+------+-----+------+-----+------+-----+------+-----+------+\n",
      "only showing top 2 rows\n",
      "\n"
     ]
    }
   ],
   "source": [
    "indexer = StringIndexer(inputCol = \"Y1993\",outputCol = '1993')\n",
    "df_fao1 = indexer.fit(df_fao1).transform(df_fao1)\n",
    "df_fao1.show(2)"
   ]
  },
  {
   "cell_type": "code",
   "execution_count": 63,
   "metadata": {},
   "outputs": [
    {
     "name": "stdout",
     "output_type": "stream",
     "text": [
      "+-----------+--------------------+-------+-----+-----+-----+-----+-----+-----+-----+-----+-----+-----+-----+-----+-----+-----+-----+-----+-----+-----+-----+-----+-----+-----+-----+-----+-----+-----+-----+-----+-----+-----+-----+-----+-----+-----+-----+-----+-----+-----+-----+-----+-----+-----+-----+-----+-----+-----+-----+-----+-----+-----+-----+-----+-----+------------+---------------+------------+-----+------+-----+-----+-----+-----+------+-----+------+-----+------+------+------+-----+------+------+------+-----+------+------+------+------+------+------+------+-----+------+-----+------+-----+------+-----+------+------+\n",
      "|       Area|                Item|Element|Y1961|Y1962|Y1963|Y1964|Y1965|Y1966|Y1967|Y1968|Y1969|Y1970|Y1971|Y1972|Y1973|Y1974|Y1975|Y1976|Y1977|Y1978|Y1979|Y1980|Y1981|Y1982|Y1983|Y1984|Y1985|Y1986|Y1987|Y1988|Y1989|Y1990|Y1991|Y1992|Y1993|Y1994|Y1995|Y1996|Y1997|Y1998|Y1999|Y2000|Y2001|Y2002|Y2003|Y2004|Y2005|Y2006|Y2007|Y2008|Y2009|Y2010|Y2011|Y2012|Y2013|Area_indexed|Element_indexed|Item_indexed| 1961|  1962| 1963| 1964| 1965| 1966|  1967| 1968|  1969| 1970|  1971|  1972|  1973| 1974|  1975|  1976|  1977| 1978|  1979|  1980|  1981|  1982|  1983|  1984|  1985| 1986|  1987| 1988|  1989| 1990|  1991| 1992|  1993|  1994|\n",
      "+-----------+--------------------+-------+-----+-----+-----+-----+-----+-----+-----+-----+-----+-----+-----+-----+-----+-----+-----+-----+-----+-----+-----+-----+-----+-----+-----+-----+-----+-----+-----+-----+-----+-----+-----+-----+-----+-----+-----+-----+-----+-----+-----+-----+-----+-----+-----+-----+-----+-----+-----+-----+-----+-----+-----+-----+-----+------------+---------------+------------+-----+------+-----+-----+-----+-----+------+-----+------+-----+------+------+------+-----+------+------+------+-----+------+------+------+------+------+------+------+-----+------+-----+------+-----+------+-----+------+------+\n",
      "|Afghanistan|  Wheat and products|   Food| 1928| 1904| 1666| 1950| 2001| 1808| 2053| 2045| 2154| 1819| 1963| 2215| 2310| 2335| 2434| 2512| 2282| 2454| 2443| 2129| 2133| 2068| 1994| 1851| 1791| 1683| 2194| 1801| 1754| 1640| 1539| 1582| 1840| 1855| 1853| 2177| 2343| 2407| 2463| 2600| 2668| 2776| 3095| 3249| 3486| 3704| 4164| 4252| 4538| 4605| 4711| 4810| 4895|       172.0|            0.0|        12.0|582.0|1056.0|590.0|606.0|881.0|809.0|1282.0|750.0|1259.0|371.0|1144.0|1101.0|1018.0|647.0|1222.0|1407.0|1159.0|364.0|1255.0|1292.0|1087.0|1436.0|1489.0|1301.0|1000.0|927.0|1039.0|984.0|1361.0|725.0|1431.0|857.0|1384.0|1220.0|\n",
      "|Afghanistan|Rice (Milled Equi...|   Food|  183|  183|  182|  220|  220|  195|  231|  235|  238|  213|  205|  233|  246|  246|  255|  263|  235|  254|  270|  259|  248|  217|  217|  197|  186|  200|  193|  202|  191|  199|  197|  249|  218|  260|  319|  254|  326|  347|  270|  372|  411|  448|  460|  419|  445|  546|  455|  490|  415|  442|  476|  425|  422|       172.0|            0.0|        17.0|182.0| 176.0|229.0|155.0|272.0|148.0| 154.0|164.0| 112.0|220.0| 178.0| 190.0| 205.0|282.0| 169.0| 207.0| 606.0|311.0| 179.0| 177.0| 191.0| 364.0| 159.0| 183.0| 239.0|134.0| 127.0|398.0| 101.0|257.0| 190.0|304.0| 310.0| 188.0|\n",
      "+-----------+--------------------+-------+-----+-----+-----+-----+-----+-----+-----+-----+-----+-----+-----+-----+-----+-----+-----+-----+-----+-----+-----+-----+-----+-----+-----+-----+-----+-----+-----+-----+-----+-----+-----+-----+-----+-----+-----+-----+-----+-----+-----+-----+-----+-----+-----+-----+-----+-----+-----+-----+-----+-----+-----+-----+-----+------------+---------------+------------+-----+------+-----+-----+-----+-----+------+-----+------+-----+------+------+------+-----+------+------+------+-----+------+------+------+------+------+------+------+-----+------+-----+------+-----+------+-----+------+------+\n",
      "only showing top 2 rows\n",
      "\n"
     ]
    }
   ],
   "source": [
    "indexer = StringIndexer(inputCol = \"Y1994\",outputCol = '1994')\n",
    "df_fao1 = indexer.fit(df_fao1).transform(df_fao1)\n",
    "df_fao1.show(2)"
   ]
  },
  {
   "cell_type": "code",
   "execution_count": 64,
   "metadata": {},
   "outputs": [
    {
     "name": "stdout",
     "output_type": "stream",
     "text": [
      "+-----------+--------------------+-------+-----+-----+-----+-----+-----+-----+-----+-----+-----+-----+-----+-----+-----+-----+-----+-----+-----+-----+-----+-----+-----+-----+-----+-----+-----+-----+-----+-----+-----+-----+-----+-----+-----+-----+-----+-----+-----+-----+-----+-----+-----+-----+-----+-----+-----+-----+-----+-----+-----+-----+-----+-----+-----+------------+---------------+------------+-----+------+-----+-----+-----+-----+------+-----+------+-----+------+------+------+-----+------+------+------+-----+------+------+------+------+------+------+------+-----+------+-----+------+-----+------+-----+------+------+-----+\n",
      "|       Area|                Item|Element|Y1961|Y1962|Y1963|Y1964|Y1965|Y1966|Y1967|Y1968|Y1969|Y1970|Y1971|Y1972|Y1973|Y1974|Y1975|Y1976|Y1977|Y1978|Y1979|Y1980|Y1981|Y1982|Y1983|Y1984|Y1985|Y1986|Y1987|Y1988|Y1989|Y1990|Y1991|Y1992|Y1993|Y1994|Y1995|Y1996|Y1997|Y1998|Y1999|Y2000|Y2001|Y2002|Y2003|Y2004|Y2005|Y2006|Y2007|Y2008|Y2009|Y2010|Y2011|Y2012|Y2013|Area_indexed|Element_indexed|Item_indexed| 1961|  1962| 1963| 1964| 1965| 1966|  1967| 1968|  1969| 1970|  1971|  1972|  1973| 1974|  1975|  1976|  1977| 1978|  1979|  1980|  1981|  1982|  1983|  1984|  1985| 1986|  1987| 1988|  1989| 1990|  1991| 1992|  1993|  1994| 1995|\n",
      "+-----------+--------------------+-------+-----+-----+-----+-----+-----+-----+-----+-----+-----+-----+-----+-----+-----+-----+-----+-----+-----+-----+-----+-----+-----+-----+-----+-----+-----+-----+-----+-----+-----+-----+-----+-----+-----+-----+-----+-----+-----+-----+-----+-----+-----+-----+-----+-----+-----+-----+-----+-----+-----+-----+-----+-----+-----+------------+---------------+------------+-----+------+-----+-----+-----+-----+------+-----+------+-----+------+------+------+-----+------+------+------+-----+------+------+------+------+------+------+------+-----+------+-----+------+-----+------+-----+------+------+-----+\n",
      "|Afghanistan|  Wheat and products|   Food| 1928| 1904| 1666| 1950| 2001| 1808| 2053| 2045| 2154| 1819| 1963| 2215| 2310| 2335| 2434| 2512| 2282| 2454| 2443| 2129| 2133| 2068| 1994| 1851| 1791| 1683| 2194| 1801| 1754| 1640| 1539| 1582| 1840| 1855| 1853| 2177| 2343| 2407| 2463| 2600| 2668| 2776| 3095| 3249| 3486| 3704| 4164| 4252| 4538| 4605| 4711| 4810| 4895|       172.0|            0.0|        12.0|582.0|1056.0|590.0|606.0|881.0|809.0|1282.0|750.0|1259.0|371.0|1144.0|1101.0|1018.0|647.0|1222.0|1407.0|1159.0|364.0|1255.0|1292.0|1087.0|1436.0|1489.0|1301.0|1000.0|927.0|1039.0|984.0|1361.0|725.0|1431.0|857.0|1384.0|1220.0|850.0|\n",
      "|Afghanistan|Rice (Milled Equi...|   Food|  183|  183|  182|  220|  220|  195|  231|  235|  238|  213|  205|  233|  246|  246|  255|  263|  235|  254|  270|  259|  248|  217|  217|  197|  186|  200|  193|  202|  191|  199|  197|  249|  218|  260|  319|  254|  326|  347|  270|  372|  411|  448|  460|  419|  445|  546|  455|  490|  415|  442|  476|  425|  422|       172.0|            0.0|        17.0|182.0| 176.0|229.0|155.0|272.0|148.0| 154.0|164.0| 112.0|220.0| 178.0| 190.0| 205.0|282.0| 169.0| 207.0| 606.0|311.0| 179.0| 177.0| 191.0| 364.0| 159.0| 183.0| 239.0|134.0| 127.0|398.0| 101.0|257.0| 190.0|304.0| 310.0| 188.0|512.0|\n",
      "+-----------+--------------------+-------+-----+-----+-----+-----+-----+-----+-----+-----+-----+-----+-----+-----+-----+-----+-----+-----+-----+-----+-----+-----+-----+-----+-----+-----+-----+-----+-----+-----+-----+-----+-----+-----+-----+-----+-----+-----+-----+-----+-----+-----+-----+-----+-----+-----+-----+-----+-----+-----+-----+-----+-----+-----+-----+------------+---------------+------------+-----+------+-----+-----+-----+-----+------+-----+------+-----+------+------+------+-----+------+------+------+-----+------+------+------+------+------+------+------+-----+------+-----+------+-----+------+-----+------+------+-----+\n",
      "only showing top 2 rows\n",
      "\n"
     ]
    }
   ],
   "source": [
    "indexer = StringIndexer(inputCol = \"Y1995\",outputCol = '1995')\n",
    "df_fao1 = indexer.fit(df_fao1).transform(df_fao1)\n",
    "df_fao1.show(2)"
   ]
  },
  {
   "cell_type": "code",
   "execution_count": 65,
   "metadata": {},
   "outputs": [
    {
     "name": "stdout",
     "output_type": "stream",
     "text": [
      "+-----------+--------------------+-------+-----+-----+-----+-----+-----+-----+-----+-----+-----+-----+-----+-----+-----+-----+-----+-----+-----+-----+-----+-----+-----+-----+-----+-----+-----+-----+-----+-----+-----+-----+-----+-----+-----+-----+-----+-----+-----+-----+-----+-----+-----+-----+-----+-----+-----+-----+-----+-----+-----+-----+-----+-----+-----+------------+---------------+------------+-----+------+-----+-----+-----+-----+------+-----+------+-----+------+------+------+-----+------+------+------+-----+------+------+------+------+------+------+------+-----+------+-----+------+-----+------+-----+------+------+-----+------+\n",
      "|       Area|                Item|Element|Y1961|Y1962|Y1963|Y1964|Y1965|Y1966|Y1967|Y1968|Y1969|Y1970|Y1971|Y1972|Y1973|Y1974|Y1975|Y1976|Y1977|Y1978|Y1979|Y1980|Y1981|Y1982|Y1983|Y1984|Y1985|Y1986|Y1987|Y1988|Y1989|Y1990|Y1991|Y1992|Y1993|Y1994|Y1995|Y1996|Y1997|Y1998|Y1999|Y2000|Y2001|Y2002|Y2003|Y2004|Y2005|Y2006|Y2007|Y2008|Y2009|Y2010|Y2011|Y2012|Y2013|Area_indexed|Element_indexed|Item_indexed| 1961|  1962| 1963| 1964| 1965| 1966|  1967| 1968|  1969| 1970|  1971|  1972|  1973| 1974|  1975|  1976|  1977| 1978|  1979|  1980|  1981|  1982|  1983|  1984|  1985| 1986|  1987| 1988|  1989| 1990|  1991| 1992|  1993|  1994| 1995|  1996|\n",
      "+-----------+--------------------+-------+-----+-----+-----+-----+-----+-----+-----+-----+-----+-----+-----+-----+-----+-----+-----+-----+-----+-----+-----+-----+-----+-----+-----+-----+-----+-----+-----+-----+-----+-----+-----+-----+-----+-----+-----+-----+-----+-----+-----+-----+-----+-----+-----+-----+-----+-----+-----+-----+-----+-----+-----+-----+-----+------------+---------------+------------+-----+------+-----+-----+-----+-----+------+-----+------+-----+------+------+------+-----+------+------+------+-----+------+------+------+------+------+------+------+-----+------+-----+------+-----+------+-----+------+------+-----+------+\n",
      "|Afghanistan|  Wheat and products|   Food| 1928| 1904| 1666| 1950| 2001| 1808| 2053| 2045| 2154| 1819| 1963| 2215| 2310| 2335| 2434| 2512| 2282| 2454| 2443| 2129| 2133| 2068| 1994| 1851| 1791| 1683| 2194| 1801| 1754| 1640| 1539| 1582| 1840| 1855| 1853| 2177| 2343| 2407| 2463| 2600| 2668| 2776| 3095| 3249| 3486| 3704| 4164| 4252| 4538| 4605| 4711| 4810| 4895|       172.0|            0.0|        12.0|582.0|1056.0|590.0|606.0|881.0|809.0|1282.0|750.0|1259.0|371.0|1144.0|1101.0|1018.0|647.0|1222.0|1407.0|1159.0|364.0|1255.0|1292.0|1087.0|1436.0|1489.0|1301.0|1000.0|927.0|1039.0|984.0|1361.0|725.0|1431.0|857.0|1384.0|1220.0|850.0|1400.0|\n",
      "|Afghanistan|Rice (Milled Equi...|   Food|  183|  183|  182|  220|  220|  195|  231|  235|  238|  213|  205|  233|  246|  246|  255|  263|  235|  254|  270|  259|  248|  217|  217|  197|  186|  200|  193|  202|  191|  199|  197|  249|  218|  260|  319|  254|  326|  347|  270|  372|  411|  448|  460|  419|  445|  546|  455|  490|  415|  442|  476|  425|  422|       172.0|            0.0|        17.0|182.0| 176.0|229.0|155.0|272.0|148.0| 154.0|164.0| 112.0|220.0| 178.0| 190.0| 205.0|282.0| 169.0| 207.0| 606.0|311.0| 179.0| 177.0| 191.0| 364.0| 159.0| 183.0| 239.0|134.0| 127.0|398.0| 101.0|257.0| 190.0|304.0| 310.0| 188.0|512.0| 245.0|\n",
      "+-----------+--------------------+-------+-----+-----+-----+-----+-----+-----+-----+-----+-----+-----+-----+-----+-----+-----+-----+-----+-----+-----+-----+-----+-----+-----+-----+-----+-----+-----+-----+-----+-----+-----+-----+-----+-----+-----+-----+-----+-----+-----+-----+-----+-----+-----+-----+-----+-----+-----+-----+-----+-----+-----+-----+-----+-----+------------+---------------+------------+-----+------+-----+-----+-----+-----+------+-----+------+-----+------+------+------+-----+------+------+------+-----+------+------+------+------+------+------+------+-----+------+-----+------+-----+------+-----+------+------+-----+------+\n",
      "only showing top 2 rows\n",
      "\n"
     ]
    }
   ],
   "source": [
    "indexer = StringIndexer(inputCol = \"Y1996\",outputCol = '1996')\n",
    "df_fao1 = indexer.fit(df_fao1).transform(df_fao1)\n",
    "df_fao1.show(2)"
   ]
  },
  {
   "cell_type": "code",
   "execution_count": 66,
   "metadata": {},
   "outputs": [
    {
     "name": "stdout",
     "output_type": "stream",
     "text": [
      "+-----------+--------------------+-------+-----+-----+-----+-----+-----+-----+-----+-----+-----+-----+-----+-----+-----+-----+-----+-----+-----+-----+-----+-----+-----+-----+-----+-----+-----+-----+-----+-----+-----+-----+-----+-----+-----+-----+-----+-----+-----+-----+-----+-----+-----+-----+-----+-----+-----+-----+-----+-----+-----+-----+-----+-----+-----+------------+---------------+------------+-----+------+-----+-----+-----+-----+------+-----+------+-----+------+------+------+-----+------+------+------+-----+------+------+------+------+------+------+------+-----+------+-----+------+-----+------+-----+------+------+-----+------+------+\n",
      "|       Area|                Item|Element|Y1961|Y1962|Y1963|Y1964|Y1965|Y1966|Y1967|Y1968|Y1969|Y1970|Y1971|Y1972|Y1973|Y1974|Y1975|Y1976|Y1977|Y1978|Y1979|Y1980|Y1981|Y1982|Y1983|Y1984|Y1985|Y1986|Y1987|Y1988|Y1989|Y1990|Y1991|Y1992|Y1993|Y1994|Y1995|Y1996|Y1997|Y1998|Y1999|Y2000|Y2001|Y2002|Y2003|Y2004|Y2005|Y2006|Y2007|Y2008|Y2009|Y2010|Y2011|Y2012|Y2013|Area_indexed|Element_indexed|Item_indexed| 1961|  1962| 1963| 1964| 1965| 1966|  1967| 1968|  1969| 1970|  1971|  1972|  1973| 1974|  1975|  1976|  1977| 1978|  1979|  1980|  1981|  1982|  1983|  1984|  1985| 1986|  1987| 1988|  1989| 1990|  1991| 1992|  1993|  1994| 1995|  1996|  1997|\n",
      "+-----------+--------------------+-------+-----+-----+-----+-----+-----+-----+-----+-----+-----+-----+-----+-----+-----+-----+-----+-----+-----+-----+-----+-----+-----+-----+-----+-----+-----+-----+-----+-----+-----+-----+-----+-----+-----+-----+-----+-----+-----+-----+-----+-----+-----+-----+-----+-----+-----+-----+-----+-----+-----+-----+-----+-----+-----+------------+---------------+------------+-----+------+-----+-----+-----+-----+------+-----+------+-----+------+------+------+-----+------+------+------+-----+------+------+------+------+------+------+------+-----+------+-----+------+-----+------+-----+------+------+-----+------+------+\n",
      "|Afghanistan|  Wheat and products|   Food| 1928| 1904| 1666| 1950| 2001| 1808| 2053| 2045| 2154| 1819| 1963| 2215| 2310| 2335| 2434| 2512| 2282| 2454| 2443| 2129| 2133| 2068| 1994| 1851| 1791| 1683| 2194| 1801| 1754| 1640| 1539| 1582| 1840| 1855| 1853| 2177| 2343| 2407| 2463| 2600| 2668| 2776| 3095| 3249| 3486| 3704| 4164| 4252| 4538| 4605| 4711| 4810| 4895|       172.0|            0.0|        12.0|582.0|1056.0|590.0|606.0|881.0|809.0|1282.0|750.0|1259.0|371.0|1144.0|1101.0|1018.0|647.0|1222.0|1407.0|1159.0|364.0|1255.0|1292.0|1087.0|1436.0|1489.0|1301.0|1000.0|927.0|1039.0|984.0|1361.0|725.0|1431.0|857.0|1384.0|1220.0|850.0|1400.0|1494.0|\n",
      "|Afghanistan|Rice (Milled Equi...|   Food|  183|  183|  182|  220|  220|  195|  231|  235|  238|  213|  205|  233|  246|  246|  255|  263|  235|  254|  270|  259|  248|  217|  217|  197|  186|  200|  193|  202|  191|  199|  197|  249|  218|  260|  319|  254|  326|  347|  270|  372|  411|  448|  460|  419|  445|  546|  455|  490|  415|  442|  476|  425|  422|       172.0|            0.0|        17.0|182.0| 176.0|229.0|155.0|272.0|148.0| 154.0|164.0| 112.0|220.0| 178.0| 190.0| 205.0|282.0| 169.0| 207.0| 606.0|311.0| 179.0| 177.0| 191.0| 364.0| 159.0| 183.0| 239.0|134.0| 127.0|398.0| 101.0|257.0| 190.0|304.0| 310.0| 188.0|512.0| 245.0| 268.0|\n",
      "+-----------+--------------------+-------+-----+-----+-----+-----+-----+-----+-----+-----+-----+-----+-----+-----+-----+-----+-----+-----+-----+-----+-----+-----+-----+-----+-----+-----+-----+-----+-----+-----+-----+-----+-----+-----+-----+-----+-----+-----+-----+-----+-----+-----+-----+-----+-----+-----+-----+-----+-----+-----+-----+-----+-----+-----+-----+------------+---------------+------------+-----+------+-----+-----+-----+-----+------+-----+------+-----+------+------+------+-----+------+------+------+-----+------+------+------+------+------+------+------+-----+------+-----+------+-----+------+-----+------+------+-----+------+------+\n",
      "only showing top 2 rows\n",
      "\n"
     ]
    }
   ],
   "source": [
    "\n",
    "indexer = StringIndexer(inputCol = \"Y1997\",outputCol = '1997')\n",
    "df_fao1 = indexer.fit(df_fao1).transform(df_fao1)\n",
    "df_fao1.show(2)"
   ]
  },
  {
   "cell_type": "code",
   "execution_count": 67,
   "metadata": {},
   "outputs": [
    {
     "name": "stdout",
     "output_type": "stream",
     "text": [
      "+-----------+--------------------+-------+-----+-----+-----+-----+-----+-----+-----+-----+-----+-----+-----+-----+-----+-----+-----+-----+-----+-----+-----+-----+-----+-----+-----+-----+-----+-----+-----+-----+-----+-----+-----+-----+-----+-----+-----+-----+-----+-----+-----+-----+-----+-----+-----+-----+-----+-----+-----+-----+-----+-----+-----+-----+-----+------------+---------------+------------+-----+------+-----+-----+-----+-----+------+-----+------+-----+------+------+------+-----+------+------+------+-----+------+------+------+------+------+------+------+-----+------+-----+------+-----+------+-----+------+------+-----+------+------+-----+\n",
      "|       Area|                Item|Element|Y1961|Y1962|Y1963|Y1964|Y1965|Y1966|Y1967|Y1968|Y1969|Y1970|Y1971|Y1972|Y1973|Y1974|Y1975|Y1976|Y1977|Y1978|Y1979|Y1980|Y1981|Y1982|Y1983|Y1984|Y1985|Y1986|Y1987|Y1988|Y1989|Y1990|Y1991|Y1992|Y1993|Y1994|Y1995|Y1996|Y1997|Y1998|Y1999|Y2000|Y2001|Y2002|Y2003|Y2004|Y2005|Y2006|Y2007|Y2008|Y2009|Y2010|Y2011|Y2012|Y2013|Area_indexed|Element_indexed|Item_indexed| 1961|  1962| 1963| 1964| 1965| 1966|  1967| 1968|  1969| 1970|  1971|  1972|  1973| 1974|  1975|  1976|  1977| 1978|  1979|  1980|  1981|  1982|  1983|  1984|  1985| 1986|  1987| 1988|  1989| 1990|  1991| 1992|  1993|  1994| 1995|  1996|  1997| 1998|\n",
      "+-----------+--------------------+-------+-----+-----+-----+-----+-----+-----+-----+-----+-----+-----+-----+-----+-----+-----+-----+-----+-----+-----+-----+-----+-----+-----+-----+-----+-----+-----+-----+-----+-----+-----+-----+-----+-----+-----+-----+-----+-----+-----+-----+-----+-----+-----+-----+-----+-----+-----+-----+-----+-----+-----+-----+-----+-----+------------+---------------+------------+-----+------+-----+-----+-----+-----+------+-----+------+-----+------+------+------+-----+------+------+------+-----+------+------+------+------+------+------+------+-----+------+-----+------+-----+------+-----+------+------+-----+------+------+-----+\n",
      "|Afghanistan|  Wheat and products|   Food| 1928| 1904| 1666| 1950| 2001| 1808| 2053| 2045| 2154| 1819| 1963| 2215| 2310| 2335| 2434| 2512| 2282| 2454| 2443| 2129| 2133| 2068| 1994| 1851| 1791| 1683| 2194| 1801| 1754| 1640| 1539| 1582| 1840| 1855| 1853| 2177| 2343| 2407| 2463| 2600| 2668| 2776| 3095| 3249| 3486| 3704| 4164| 4252| 4538| 4605| 4711| 4810| 4895|       172.0|            0.0|        12.0|582.0|1056.0|590.0|606.0|881.0|809.0|1282.0|750.0|1259.0|371.0|1144.0|1101.0|1018.0|647.0|1222.0|1407.0|1159.0|364.0|1255.0|1292.0|1087.0|1436.0|1489.0|1301.0|1000.0|927.0|1039.0|984.0|1361.0|725.0|1431.0|857.0|1384.0|1220.0|850.0|1400.0|1494.0|941.0|\n",
      "|Afghanistan|Rice (Milled Equi...|   Food|  183|  183|  182|  220|  220|  195|  231|  235|  238|  213|  205|  233|  246|  246|  255|  263|  235|  254|  270|  259|  248|  217|  217|  197|  186|  200|  193|  202|  191|  199|  197|  249|  218|  260|  319|  254|  326|  347|  270|  372|  411|  448|  460|  419|  445|  546|  455|  490|  415|  442|  476|  425|  422|       172.0|            0.0|        17.0|182.0| 176.0|229.0|155.0|272.0|148.0| 154.0|164.0| 112.0|220.0| 178.0| 190.0| 205.0|282.0| 169.0| 207.0| 606.0|311.0| 179.0| 177.0| 191.0| 364.0| 159.0| 183.0| 239.0|134.0| 127.0|398.0| 101.0|257.0| 190.0|304.0| 310.0| 188.0|512.0| 245.0| 268.0|466.0|\n",
      "+-----------+--------------------+-------+-----+-----+-----+-----+-----+-----+-----+-----+-----+-----+-----+-----+-----+-----+-----+-----+-----+-----+-----+-----+-----+-----+-----+-----+-----+-----+-----+-----+-----+-----+-----+-----+-----+-----+-----+-----+-----+-----+-----+-----+-----+-----+-----+-----+-----+-----+-----+-----+-----+-----+-----+-----+-----+------------+---------------+------------+-----+------+-----+-----+-----+-----+------+-----+------+-----+------+------+------+-----+------+------+------+-----+------+------+------+------+------+------+------+-----+------+-----+------+-----+------+-----+------+------+-----+------+------+-----+\n",
      "only showing top 2 rows\n",
      "\n"
     ]
    }
   ],
   "source": [
    "indexer = StringIndexer(inputCol = \"Y1998\",outputCol = '1998')\n",
    "df_fao1 = indexer.fit(df_fao1).transform(df_fao1)\n",
    "df_fao1.show(2)"
   ]
  },
  {
   "cell_type": "code",
   "execution_count": 68,
   "metadata": {},
   "outputs": [
    {
     "name": "stdout",
     "output_type": "stream",
     "text": [
      "+-----------+--------------------+-------+-----+-----+-----+-----+-----+-----+-----+-----+-----+-----+-----+-----+-----+-----+-----+-----+-----+-----+-----+-----+-----+-----+-----+-----+-----+-----+-----+-----+-----+-----+-----+-----+-----+-----+-----+-----+-----+-----+-----+-----+-----+-----+-----+-----+-----+-----+-----+-----+-----+-----+-----+-----+-----+------------+---------------+------------+-----+------+-----+-----+-----+-----+------+-----+------+-----+------+------+------+-----+------+------+------+-----+------+------+------+------+------+------+------+-----+------+-----+------+-----+------+-----+------+------+-----+------+------+-----+------+\n",
      "|       Area|                Item|Element|Y1961|Y1962|Y1963|Y1964|Y1965|Y1966|Y1967|Y1968|Y1969|Y1970|Y1971|Y1972|Y1973|Y1974|Y1975|Y1976|Y1977|Y1978|Y1979|Y1980|Y1981|Y1982|Y1983|Y1984|Y1985|Y1986|Y1987|Y1988|Y1989|Y1990|Y1991|Y1992|Y1993|Y1994|Y1995|Y1996|Y1997|Y1998|Y1999|Y2000|Y2001|Y2002|Y2003|Y2004|Y2005|Y2006|Y2007|Y2008|Y2009|Y2010|Y2011|Y2012|Y2013|Area_indexed|Element_indexed|Item_indexed| 1961|  1962| 1963| 1964| 1965| 1966|  1967| 1968|  1969| 1970|  1971|  1972|  1973| 1974|  1975|  1976|  1977| 1978|  1979|  1980|  1981|  1982|  1983|  1984|  1985| 1986|  1987| 1988|  1989| 1990|  1991| 1992|  1993|  1994| 1995|  1996|  1997| 1998|  1999|\n",
      "+-----------+--------------------+-------+-----+-----+-----+-----+-----+-----+-----+-----+-----+-----+-----+-----+-----+-----+-----+-----+-----+-----+-----+-----+-----+-----+-----+-----+-----+-----+-----+-----+-----+-----+-----+-----+-----+-----+-----+-----+-----+-----+-----+-----+-----+-----+-----+-----+-----+-----+-----+-----+-----+-----+-----+-----+-----+------------+---------------+------------+-----+------+-----+-----+-----+-----+------+-----+------+-----+------+------+------+-----+------+------+------+-----+------+------+------+------+------+------+------+-----+------+-----+------+-----+------+-----+------+------+-----+------+------+-----+------+\n",
      "|Afghanistan|  Wheat and products|   Food| 1928| 1904| 1666| 1950| 2001| 1808| 2053| 2045| 2154| 1819| 1963| 2215| 2310| 2335| 2434| 2512| 2282| 2454| 2443| 2129| 2133| 2068| 1994| 1851| 1791| 1683| 2194| 1801| 1754| 1640| 1539| 1582| 1840| 1855| 1853| 2177| 2343| 2407| 2463| 2600| 2668| 2776| 3095| 3249| 3486| 3704| 4164| 4252| 4538| 4605| 4711| 4810| 4895|       172.0|            0.0|        12.0|582.0|1056.0|590.0|606.0|881.0|809.0|1282.0|750.0|1259.0|371.0|1144.0|1101.0|1018.0|647.0|1222.0|1407.0|1159.0|364.0|1255.0|1292.0|1087.0|1436.0|1489.0|1301.0|1000.0|927.0|1039.0|984.0|1361.0|725.0|1431.0|857.0|1384.0|1220.0|850.0|1400.0|1494.0|941.0|1757.0|\n",
      "|Afghanistan|Rice (Milled Equi...|   Food|  183|  183|  182|  220|  220|  195|  231|  235|  238|  213|  205|  233|  246|  246|  255|  263|  235|  254|  270|  259|  248|  217|  217|  197|  186|  200|  193|  202|  191|  199|  197|  249|  218|  260|  319|  254|  326|  347|  270|  372|  411|  448|  460|  419|  445|  546|  455|  490|  415|  442|  476|  425|  422|       172.0|            0.0|        17.0|182.0| 176.0|229.0|155.0|272.0|148.0| 154.0|164.0| 112.0|220.0| 178.0| 190.0| 205.0|282.0| 169.0| 207.0| 606.0|311.0| 179.0| 177.0| 191.0| 364.0| 159.0| 183.0| 239.0|134.0| 127.0|398.0| 101.0|257.0| 190.0|304.0| 310.0| 188.0|512.0| 245.0| 268.0|466.0| 307.0|\n",
      "+-----------+--------------------+-------+-----+-----+-----+-----+-----+-----+-----+-----+-----+-----+-----+-----+-----+-----+-----+-----+-----+-----+-----+-----+-----+-----+-----+-----+-----+-----+-----+-----+-----+-----+-----+-----+-----+-----+-----+-----+-----+-----+-----+-----+-----+-----+-----+-----+-----+-----+-----+-----+-----+-----+-----+-----+-----+------------+---------------+------------+-----+------+-----+-----+-----+-----+------+-----+------+-----+------+------+------+-----+------+------+------+-----+------+------+------+------+------+------+------+-----+------+-----+------+-----+------+-----+------+------+-----+------+------+-----+------+\n",
      "only showing top 2 rows\n",
      "\n"
     ]
    }
   ],
   "source": [
    "indexer = StringIndexer(inputCol = \"Y1999\",outputCol = '1999')\n",
    "df_fao1 = indexer.fit(df_fao1).transform(df_fao1)\n",
    "df_fao1.show(2)"
   ]
  },
  {
   "cell_type": "code",
   "execution_count": 69,
   "metadata": {},
   "outputs": [
    {
     "name": "stdout",
     "output_type": "stream",
     "text": [
      "+-----------+--------------------+-------+-----+-----+-----+-----+-----+-----+-----+-----+-----+-----+-----+-----+-----+-----+-----+-----+-----+-----+-----+-----+-----+-----+-----+-----+-----+-----+-----+-----+-----+-----+-----+-----+-----+-----+-----+-----+-----+-----+-----+-----+-----+-----+-----+-----+-----+-----+-----+-----+-----+-----+-----+-----+-----+------------+---------------+------------+-----+------+-----+-----+-----+-----+------+-----+------+-----+------+------+------+-----+------+------+------+-----+------+------+------+------+------+------+------+-----+------+-----+------+-----+------+-----+------+------+-----+------+------+-----+------+------+\n",
      "|       Area|                Item|Element|Y1961|Y1962|Y1963|Y1964|Y1965|Y1966|Y1967|Y1968|Y1969|Y1970|Y1971|Y1972|Y1973|Y1974|Y1975|Y1976|Y1977|Y1978|Y1979|Y1980|Y1981|Y1982|Y1983|Y1984|Y1985|Y1986|Y1987|Y1988|Y1989|Y1990|Y1991|Y1992|Y1993|Y1994|Y1995|Y1996|Y1997|Y1998|Y1999|Y2000|Y2001|Y2002|Y2003|Y2004|Y2005|Y2006|Y2007|Y2008|Y2009|Y2010|Y2011|Y2012|Y2013|Area_indexed|Element_indexed|Item_indexed| 1961|  1962| 1963| 1964| 1965| 1966|  1967| 1968|  1969| 1970|  1971|  1972|  1973| 1974|  1975|  1976|  1977| 1978|  1979|  1980|  1981|  1982|  1983|  1984|  1985| 1986|  1987| 1988|  1989| 1990|  1991| 1992|  1993|  1994| 1995|  1996|  1997| 1998|  1999|  2000|\n",
      "+-----------+--------------------+-------+-----+-----+-----+-----+-----+-----+-----+-----+-----+-----+-----+-----+-----+-----+-----+-----+-----+-----+-----+-----+-----+-----+-----+-----+-----+-----+-----+-----+-----+-----+-----+-----+-----+-----+-----+-----+-----+-----+-----+-----+-----+-----+-----+-----+-----+-----+-----+-----+-----+-----+-----+-----+-----+------------+---------------+------------+-----+------+-----+-----+-----+-----+------+-----+------+-----+------+------+------+-----+------+------+------+-----+------+------+------+------+------+------+------+-----+------+-----+------+-----+------+-----+------+------+-----+------+------+-----+------+------+\n",
      "|Afghanistan|  Wheat and products|   Food| 1928| 1904| 1666| 1950| 2001| 1808| 2053| 2045| 2154| 1819| 1963| 2215| 2310| 2335| 2434| 2512| 2282| 2454| 2443| 2129| 2133| 2068| 1994| 1851| 1791| 1683| 2194| 1801| 1754| 1640| 1539| 1582| 1840| 1855| 1853| 2177| 2343| 2407| 2463| 2600| 2668| 2776| 3095| 3249| 3486| 3704| 4164| 4252| 4538| 4605| 4711| 4810| 4895|       172.0|            0.0|        12.0|582.0|1056.0|590.0|606.0|881.0|809.0|1282.0|750.0|1259.0|371.0|1144.0|1101.0|1018.0|647.0|1222.0|1407.0|1159.0|364.0|1255.0|1292.0|1087.0|1436.0|1489.0|1301.0|1000.0|927.0|1039.0|984.0|1361.0|725.0|1431.0|857.0|1384.0|1220.0|850.0|1400.0|1494.0|941.0|1757.0|1678.0|\n",
      "|Afghanistan|Rice (Milled Equi...|   Food|  183|  183|  182|  220|  220|  195|  231|  235|  238|  213|  205|  233|  246|  246|  255|  263|  235|  254|  270|  259|  248|  217|  217|  197|  186|  200|  193|  202|  191|  199|  197|  249|  218|  260|  319|  254|  326|  347|  270|  372|  411|  448|  460|  419|  445|  546|  455|  490|  415|  442|  476|  425|  422|       172.0|            0.0|        17.0|182.0| 176.0|229.0|155.0|272.0|148.0| 154.0|164.0| 112.0|220.0| 178.0| 190.0| 205.0|282.0| 169.0| 207.0| 606.0|311.0| 179.0| 177.0| 191.0| 364.0| 159.0| 183.0| 239.0|134.0| 127.0|398.0| 101.0|257.0| 190.0|304.0| 310.0| 188.0|512.0| 245.0| 268.0|466.0| 307.0| 200.0|\n",
      "+-----------+--------------------+-------+-----+-----+-----+-----+-----+-----+-----+-----+-----+-----+-----+-----+-----+-----+-----+-----+-----+-----+-----+-----+-----+-----+-----+-----+-----+-----+-----+-----+-----+-----+-----+-----+-----+-----+-----+-----+-----+-----+-----+-----+-----+-----+-----+-----+-----+-----+-----+-----+-----+-----+-----+-----+-----+------------+---------------+------------+-----+------+-----+-----+-----+-----+------+-----+------+-----+------+------+------+-----+------+------+------+-----+------+------+------+------+------+------+------+-----+------+-----+------+-----+------+-----+------+------+-----+------+------+-----+------+------+\n",
      "only showing top 2 rows\n",
      "\n"
     ]
    }
   ],
   "source": [
    "\n",
    "\n",
    "indexer = StringIndexer(inputCol = \"Y2000\",outputCol = '2000')\n",
    "df_fao1 = indexer.fit(df_fao1).transform(df_fao1)\n",
    "df_fao1.show(2)"
   ]
  },
  {
   "cell_type": "code",
   "execution_count": 70,
   "metadata": {},
   "outputs": [
    {
     "name": "stdout",
     "output_type": "stream",
     "text": [
      "+-----------+--------------------+-------+-----+-----+-----+-----+-----+-----+-----+-----+-----+-----+-----+-----+-----+-----+-----+-----+-----+-----+-----+-----+-----+-----+-----+-----+-----+-----+-----+-----+-----+-----+-----+-----+-----+-----+-----+-----+-----+-----+-----+-----+-----+-----+-----+-----+-----+-----+-----+-----+-----+-----+-----+-----+-----+------------+---------------+------------+-----+------+-----+-----+-----+-----+------+-----+------+-----+------+------+------+-----+------+------+------+-----+------+------+------+------+------+------+------+-----+------+-----+------+-----+------+-----+------+------+-----+------+------+-----+------+------+------+\n",
      "|       Area|                Item|Element|Y1961|Y1962|Y1963|Y1964|Y1965|Y1966|Y1967|Y1968|Y1969|Y1970|Y1971|Y1972|Y1973|Y1974|Y1975|Y1976|Y1977|Y1978|Y1979|Y1980|Y1981|Y1982|Y1983|Y1984|Y1985|Y1986|Y1987|Y1988|Y1989|Y1990|Y1991|Y1992|Y1993|Y1994|Y1995|Y1996|Y1997|Y1998|Y1999|Y2000|Y2001|Y2002|Y2003|Y2004|Y2005|Y2006|Y2007|Y2008|Y2009|Y2010|Y2011|Y2012|Y2013|Area_indexed|Element_indexed|Item_indexed| 1961|  1962| 1963| 1964| 1965| 1966|  1967| 1968|  1969| 1970|  1971|  1972|  1973| 1974|  1975|  1976|  1977| 1978|  1979|  1980|  1981|  1982|  1983|  1984|  1985| 1986|  1987| 1988|  1989| 1990|  1991| 1992|  1993|  1994| 1995|  1996|  1997| 1998|  1999|  2000|  2001|\n",
      "+-----------+--------------------+-------+-----+-----+-----+-----+-----+-----+-----+-----+-----+-----+-----+-----+-----+-----+-----+-----+-----+-----+-----+-----+-----+-----+-----+-----+-----+-----+-----+-----+-----+-----+-----+-----+-----+-----+-----+-----+-----+-----+-----+-----+-----+-----+-----+-----+-----+-----+-----+-----+-----+-----+-----+-----+-----+------------+---------------+------------+-----+------+-----+-----+-----+-----+------+-----+------+-----+------+------+------+-----+------+------+------+-----+------+------+------+------+------+------+------+-----+------+-----+------+-----+------+-----+------+------+-----+------+------+-----+------+------+------+\n",
      "|Afghanistan|  Wheat and products|   Food| 1928| 1904| 1666| 1950| 2001| 1808| 2053| 2045| 2154| 1819| 1963| 2215| 2310| 2335| 2434| 2512| 2282| 2454| 2443| 2129| 2133| 2068| 1994| 1851| 1791| 1683| 2194| 1801| 1754| 1640| 1539| 1582| 1840| 1855| 1853| 2177| 2343| 2407| 2463| 2600| 2668| 2776| 3095| 3249| 3486| 3704| 4164| 4252| 4538| 4605| 4711| 4810| 4895|       172.0|            0.0|        12.0|582.0|1056.0|590.0|606.0|881.0|809.0|1282.0|750.0|1259.0|371.0|1144.0|1101.0|1018.0|647.0|1222.0|1407.0|1159.0|364.0|1255.0|1292.0|1087.0|1436.0|1489.0|1301.0|1000.0|927.0|1039.0|984.0|1361.0|725.0|1431.0|857.0|1384.0|1220.0|850.0|1400.0|1494.0|941.0|1757.0|1678.0|1250.0|\n",
      "|Afghanistan|Rice (Milled Equi...|   Food|  183|  183|  182|  220|  220|  195|  231|  235|  238|  213|  205|  233|  246|  246|  255|  263|  235|  254|  270|  259|  248|  217|  217|  197|  186|  200|  193|  202|  191|  199|  197|  249|  218|  260|  319|  254|  326|  347|  270|  372|  411|  448|  460|  419|  445|  546|  455|  490|  415|  442|  476|  425|  422|       172.0|            0.0|        17.0|182.0| 176.0|229.0|155.0|272.0|148.0| 154.0|164.0| 112.0|220.0| 178.0| 190.0| 205.0|282.0| 169.0| 207.0| 606.0|311.0| 179.0| 177.0| 191.0| 364.0| 159.0| 183.0| 239.0|134.0| 127.0|398.0| 101.0|257.0| 190.0|304.0| 310.0| 188.0|512.0| 245.0| 268.0|466.0| 307.0| 200.0| 224.0|\n",
      "+-----------+--------------------+-------+-----+-----+-----+-----+-----+-----+-----+-----+-----+-----+-----+-----+-----+-----+-----+-----+-----+-----+-----+-----+-----+-----+-----+-----+-----+-----+-----+-----+-----+-----+-----+-----+-----+-----+-----+-----+-----+-----+-----+-----+-----+-----+-----+-----+-----+-----+-----+-----+-----+-----+-----+-----+-----+------------+---------------+------------+-----+------+-----+-----+-----+-----+------+-----+------+-----+------+------+------+-----+------+------+------+-----+------+------+------+------+------+------+------+-----+------+-----+------+-----+------+-----+------+------+-----+------+------+-----+------+------+------+\n",
      "only showing top 2 rows\n",
      "\n"
     ]
    }
   ],
   "source": [
    "indexer = StringIndexer(inputCol = \"Y2001\",outputCol = '2001')\n",
    "df_fao1 = indexer.fit(df_fao1).transform(df_fao1)\n",
    "df_fao1.show(2)"
   ]
  },
  {
   "cell_type": "code",
   "execution_count": 71,
   "metadata": {},
   "outputs": [
    {
     "name": "stdout",
     "output_type": "stream",
     "text": [
      "+-----------+--------------------+-------+-----+-----+-----+-----+-----+-----+-----+-----+-----+-----+-----+-----+-----+-----+-----+-----+-----+-----+-----+-----+-----+-----+-----+-----+-----+-----+-----+-----+-----+-----+-----+-----+-----+-----+-----+-----+-----+-----+-----+-----+-----+-----+-----+-----+-----+-----+-----+-----+-----+-----+-----+-----+-----+------------+---------------+------------+-----+------+-----+-----+-----+-----+------+-----+------+-----+------+------+------+-----+------+------+------+-----+------+------+------+------+------+------+------+-----+------+-----+------+-----+------+-----+------+------+-----+------+------+-----+------+------+------+-----+\n",
      "|       Area|                Item|Element|Y1961|Y1962|Y1963|Y1964|Y1965|Y1966|Y1967|Y1968|Y1969|Y1970|Y1971|Y1972|Y1973|Y1974|Y1975|Y1976|Y1977|Y1978|Y1979|Y1980|Y1981|Y1982|Y1983|Y1984|Y1985|Y1986|Y1987|Y1988|Y1989|Y1990|Y1991|Y1992|Y1993|Y1994|Y1995|Y1996|Y1997|Y1998|Y1999|Y2000|Y2001|Y2002|Y2003|Y2004|Y2005|Y2006|Y2007|Y2008|Y2009|Y2010|Y2011|Y2012|Y2013|Area_indexed|Element_indexed|Item_indexed| 1961|  1962| 1963| 1964| 1965| 1966|  1967| 1968|  1969| 1970|  1971|  1972|  1973| 1974|  1975|  1976|  1977| 1978|  1979|  1980|  1981|  1982|  1983|  1984|  1985| 1986|  1987| 1988|  1989| 1990|  1991| 1992|  1993|  1994| 1995|  1996|  1997| 1998|  1999|  2000|  2001| 2002|\n",
      "+-----------+--------------------+-------+-----+-----+-----+-----+-----+-----+-----+-----+-----+-----+-----+-----+-----+-----+-----+-----+-----+-----+-----+-----+-----+-----+-----+-----+-----+-----+-----+-----+-----+-----+-----+-----+-----+-----+-----+-----+-----+-----+-----+-----+-----+-----+-----+-----+-----+-----+-----+-----+-----+-----+-----+-----+-----+------------+---------------+------------+-----+------+-----+-----+-----+-----+------+-----+------+-----+------+------+------+-----+------+------+------+-----+------+------+------+------+------+------+------+-----+------+-----+------+-----+------+-----+------+------+-----+------+------+-----+------+------+------+-----+\n",
      "|Afghanistan|  Wheat and products|   Food| 1928| 1904| 1666| 1950| 2001| 1808| 2053| 2045| 2154| 1819| 1963| 2215| 2310| 2335| 2434| 2512| 2282| 2454| 2443| 2129| 2133| 2068| 1994| 1851| 1791| 1683| 2194| 1801| 1754| 1640| 1539| 1582| 1840| 1855| 1853| 2177| 2343| 2407| 2463| 2600| 2668| 2776| 3095| 3249| 3486| 3704| 4164| 4252| 4538| 4605| 4711| 4810| 4895|       172.0|            0.0|        12.0|582.0|1056.0|590.0|606.0|881.0|809.0|1282.0|750.0|1259.0|371.0|1144.0|1101.0|1018.0|647.0|1222.0|1407.0|1159.0|364.0|1255.0|1292.0|1087.0|1436.0|1489.0|1301.0|1000.0|927.0|1039.0|984.0|1361.0|725.0|1431.0|857.0|1384.0|1220.0|850.0|1400.0|1494.0|941.0|1757.0|1678.0|1250.0|698.0|\n",
      "|Afghanistan|Rice (Milled Equi...|   Food|  183|  183|  182|  220|  220|  195|  231|  235|  238|  213|  205|  233|  246|  246|  255|  263|  235|  254|  270|  259|  248|  217|  217|  197|  186|  200|  193|  202|  191|  199|  197|  249|  218|  260|  319|  254|  326|  347|  270|  372|  411|  448|  460|  419|  445|  546|  455|  490|  415|  442|  476|  425|  422|       172.0|            0.0|        17.0|182.0| 176.0|229.0|155.0|272.0|148.0| 154.0|164.0| 112.0|220.0| 178.0| 190.0| 205.0|282.0| 169.0| 207.0| 606.0|311.0| 179.0| 177.0| 191.0| 364.0| 159.0| 183.0| 239.0|134.0| 127.0|398.0| 101.0|257.0| 190.0|304.0| 310.0| 188.0|512.0| 245.0| 268.0|466.0| 307.0| 200.0| 224.0|292.0|\n",
      "+-----------+--------------------+-------+-----+-----+-----+-----+-----+-----+-----+-----+-----+-----+-----+-----+-----+-----+-----+-----+-----+-----+-----+-----+-----+-----+-----+-----+-----+-----+-----+-----+-----+-----+-----+-----+-----+-----+-----+-----+-----+-----+-----+-----+-----+-----+-----+-----+-----+-----+-----+-----+-----+-----+-----+-----+-----+------------+---------------+------------+-----+------+-----+-----+-----+-----+------+-----+------+-----+------+------+------+-----+------+------+------+-----+------+------+------+------+------+------+------+-----+------+-----+------+-----+------+-----+------+------+-----+------+------+-----+------+------+------+-----+\n",
      "only showing top 2 rows\n",
      "\n"
     ]
    }
   ],
   "source": [
    "\n",
    "\n",
    "indexer = StringIndexer(inputCol = \"Y2002\",outputCol = '2002')\n",
    "df_fao1 = indexer.fit(df_fao1).transform(df_fao1)\n",
    "df_fao1.show(2)"
   ]
  },
  {
   "cell_type": "code",
   "execution_count": 72,
   "metadata": {},
   "outputs": [
    {
     "name": "stdout",
     "output_type": "stream",
     "text": [
      "+-----------+--------------------+-------+-----+-----+-----+-----+-----+-----+-----+-----+-----+-----+-----+-----+-----+-----+-----+-----+-----+-----+-----+-----+-----+-----+-----+-----+-----+-----+-----+-----+-----+-----+-----+-----+-----+-----+-----+-----+-----+-----+-----+-----+-----+-----+-----+-----+-----+-----+-----+-----+-----+-----+-----+-----+-----+------------+---------------+------------+-----+------+-----+-----+-----+-----+------+-----+------+-----+------+------+------+-----+------+------+------+-----+------+------+------+------+------+------+------+-----+------+-----+------+-----+------+-----+------+------+-----+------+------+-----+------+------+------+-----+------+\n",
      "|       Area|                Item|Element|Y1961|Y1962|Y1963|Y1964|Y1965|Y1966|Y1967|Y1968|Y1969|Y1970|Y1971|Y1972|Y1973|Y1974|Y1975|Y1976|Y1977|Y1978|Y1979|Y1980|Y1981|Y1982|Y1983|Y1984|Y1985|Y1986|Y1987|Y1988|Y1989|Y1990|Y1991|Y1992|Y1993|Y1994|Y1995|Y1996|Y1997|Y1998|Y1999|Y2000|Y2001|Y2002|Y2003|Y2004|Y2005|Y2006|Y2007|Y2008|Y2009|Y2010|Y2011|Y2012|Y2013|Area_indexed|Element_indexed|Item_indexed| 1961|  1962| 1963| 1964| 1965| 1966|  1967| 1968|  1969| 1970|  1971|  1972|  1973| 1974|  1975|  1976|  1977| 1978|  1979|  1980|  1981|  1982|  1983|  1984|  1985| 1986|  1987| 1988|  1989| 1990|  1991| 1992|  1993|  1994| 1995|  1996|  1997| 1998|  1999|  2000|  2001| 2002|  2003|\n",
      "+-----------+--------------------+-------+-----+-----+-----+-----+-----+-----+-----+-----+-----+-----+-----+-----+-----+-----+-----+-----+-----+-----+-----+-----+-----+-----+-----+-----+-----+-----+-----+-----+-----+-----+-----+-----+-----+-----+-----+-----+-----+-----+-----+-----+-----+-----+-----+-----+-----+-----+-----+-----+-----+-----+-----+-----+-----+------------+---------------+------------+-----+------+-----+-----+-----+-----+------+-----+------+-----+------+------+------+-----+------+------+------+-----+------+------+------+------+------+------+------+-----+------+-----+------+-----+------+-----+------+------+-----+------+------+-----+------+------+------+-----+------+\n",
      "|Afghanistan|  Wheat and products|   Food| 1928| 1904| 1666| 1950| 2001| 1808| 2053| 2045| 2154| 1819| 1963| 2215| 2310| 2335| 2434| 2512| 2282| 2454| 2443| 2129| 2133| 2068| 1994| 1851| 1791| 1683| 2194| 1801| 1754| 1640| 1539| 1582| 1840| 1855| 1853| 2177| 2343| 2407| 2463| 2600| 2668| 2776| 3095| 3249| 3486| 3704| 4164| 4252| 4538| 4605| 4711| 4810| 4895|       172.0|            0.0|        12.0|582.0|1056.0|590.0|606.0|881.0|809.0|1282.0|750.0|1259.0|371.0|1144.0|1101.0|1018.0|647.0|1222.0|1407.0|1159.0|364.0|1255.0|1292.0|1087.0|1436.0|1489.0|1301.0|1000.0|927.0|1039.0|984.0|1361.0|725.0|1431.0|857.0|1384.0|1220.0|850.0|1400.0|1494.0|941.0|1757.0|1678.0|1250.0|698.0|1598.0|\n",
      "|Afghanistan|Rice (Milled Equi...|   Food|  183|  183|  182|  220|  220|  195|  231|  235|  238|  213|  205|  233|  246|  246|  255|  263|  235|  254|  270|  259|  248|  217|  217|  197|  186|  200|  193|  202|  191|  199|  197|  249|  218|  260|  319|  254|  326|  347|  270|  372|  411|  448|  460|  419|  445|  546|  455|  490|  415|  442|  476|  425|  422|       172.0|            0.0|        17.0|182.0| 176.0|229.0|155.0|272.0|148.0| 154.0|164.0| 112.0|220.0| 178.0| 190.0| 205.0|282.0| 169.0| 207.0| 606.0|311.0| 179.0| 177.0| 191.0| 364.0| 159.0| 183.0| 239.0|134.0| 127.0|398.0| 101.0|257.0| 190.0|304.0| 310.0| 188.0|512.0| 245.0| 268.0|466.0| 307.0| 200.0| 224.0|292.0| 179.0|\n",
      "+-----------+--------------------+-------+-----+-----+-----+-----+-----+-----+-----+-----+-----+-----+-----+-----+-----+-----+-----+-----+-----+-----+-----+-----+-----+-----+-----+-----+-----+-----+-----+-----+-----+-----+-----+-----+-----+-----+-----+-----+-----+-----+-----+-----+-----+-----+-----+-----+-----+-----+-----+-----+-----+-----+-----+-----+-----+------------+---------------+------------+-----+------+-----+-----+-----+-----+------+-----+------+-----+------+------+------+-----+------+------+------+-----+------+------+------+------+------+------+------+-----+------+-----+------+-----+------+-----+------+------+-----+------+------+-----+------+------+------+-----+------+\n",
      "only showing top 2 rows\n",
      "\n"
     ]
    }
   ],
   "source": [
    "\n",
    "indexer = StringIndexer(inputCol = \"Y2003\",outputCol = '2003')\n",
    "df_fao1 = indexer.fit(df_fao1).transform(df_fao1)\n",
    "df_fao1.show(2)"
   ]
  },
  {
   "cell_type": "code",
   "execution_count": 73,
   "metadata": {},
   "outputs": [
    {
     "name": "stdout",
     "output_type": "stream",
     "text": [
      "+-----------+--------------------+-------+-----+-----+-----+-----+-----+-----+-----+-----+-----+-----+-----+-----+-----+-----+-----+-----+-----+-----+-----+-----+-----+-----+-----+-----+-----+-----+-----+-----+-----+-----+-----+-----+-----+-----+-----+-----+-----+-----+-----+-----+-----+-----+-----+-----+-----+-----+-----+-----+-----+-----+-----+-----+-----+------------+---------------+------------+-----+------+-----+-----+-----+-----+------+-----+------+-----+------+------+------+-----+------+------+------+-----+------+------+------+------+------+------+------+-----+------+-----+------+-----+------+-----+------+------+-----+------+------+-----+------+------+------+-----+------+------+\n",
      "|       Area|                Item|Element|Y1961|Y1962|Y1963|Y1964|Y1965|Y1966|Y1967|Y1968|Y1969|Y1970|Y1971|Y1972|Y1973|Y1974|Y1975|Y1976|Y1977|Y1978|Y1979|Y1980|Y1981|Y1982|Y1983|Y1984|Y1985|Y1986|Y1987|Y1988|Y1989|Y1990|Y1991|Y1992|Y1993|Y1994|Y1995|Y1996|Y1997|Y1998|Y1999|Y2000|Y2001|Y2002|Y2003|Y2004|Y2005|Y2006|Y2007|Y2008|Y2009|Y2010|Y2011|Y2012|Y2013|Area_indexed|Element_indexed|Item_indexed| 1961|  1962| 1963| 1964| 1965| 1966|  1967| 1968|  1969| 1970|  1971|  1972|  1973| 1974|  1975|  1976|  1977| 1978|  1979|  1980|  1981|  1982|  1983|  1984|  1985| 1986|  1987| 1988|  1989| 1990|  1991| 1992|  1993|  1994| 1995|  1996|  1997| 1998|  1999|  2000|  2001| 2002|  2003|  2004|\n",
      "+-----------+--------------------+-------+-----+-----+-----+-----+-----+-----+-----+-----+-----+-----+-----+-----+-----+-----+-----+-----+-----+-----+-----+-----+-----+-----+-----+-----+-----+-----+-----+-----+-----+-----+-----+-----+-----+-----+-----+-----+-----+-----+-----+-----+-----+-----+-----+-----+-----+-----+-----+-----+-----+-----+-----+-----+-----+------------+---------------+------------+-----+------+-----+-----+-----+-----+------+-----+------+-----+------+------+------+-----+------+------+------+-----+------+------+------+------+------+------+------+-----+------+-----+------+-----+------+-----+------+------+-----+------+------+-----+------+------+------+-----+------+------+\n",
      "|Afghanistan|  Wheat and products|   Food| 1928| 1904| 1666| 1950| 2001| 1808| 2053| 2045| 2154| 1819| 1963| 2215| 2310| 2335| 2434| 2512| 2282| 2454| 2443| 2129| 2133| 2068| 1994| 1851| 1791| 1683| 2194| 1801| 1754| 1640| 1539| 1582| 1840| 1855| 1853| 2177| 2343| 2407| 2463| 2600| 2668| 2776| 3095| 3249| 3486| 3704| 4164| 4252| 4538| 4605| 4711| 4810| 4895|       172.0|            0.0|        12.0|582.0|1056.0|590.0|606.0|881.0|809.0|1282.0|750.0|1259.0|371.0|1144.0|1101.0|1018.0|647.0|1222.0|1407.0|1159.0|364.0|1255.0|1292.0|1087.0|1436.0|1489.0|1301.0|1000.0|927.0|1039.0|984.0|1361.0|725.0|1431.0|857.0|1384.0|1220.0|850.0|1400.0|1494.0|941.0|1757.0|1678.0|1250.0|698.0|1598.0|1152.0|\n",
      "|Afghanistan|Rice (Milled Equi...|   Food|  183|  183|  182|  220|  220|  195|  231|  235|  238|  213|  205|  233|  246|  246|  255|  263|  235|  254|  270|  259|  248|  217|  217|  197|  186|  200|  193|  202|  191|  199|  197|  249|  218|  260|  319|  254|  326|  347|  270|  372|  411|  448|  460|  419|  445|  546|  455|  490|  415|  442|  476|  425|  422|       172.0|            0.0|        17.0|182.0| 176.0|229.0|155.0|272.0|148.0| 154.0|164.0| 112.0|220.0| 178.0| 190.0| 205.0|282.0| 169.0| 207.0| 606.0|311.0| 179.0| 177.0| 191.0| 364.0| 159.0| 183.0| 239.0|134.0| 127.0|398.0| 101.0|257.0| 190.0|304.0| 310.0| 188.0|512.0| 245.0| 268.0|466.0| 307.0| 200.0| 224.0|292.0| 179.0| 480.0|\n",
      "+-----------+--------------------+-------+-----+-----+-----+-----+-----+-----+-----+-----+-----+-----+-----+-----+-----+-----+-----+-----+-----+-----+-----+-----+-----+-----+-----+-----+-----+-----+-----+-----+-----+-----+-----+-----+-----+-----+-----+-----+-----+-----+-----+-----+-----+-----+-----+-----+-----+-----+-----+-----+-----+-----+-----+-----+-----+------------+---------------+------------+-----+------+-----+-----+-----+-----+------+-----+------+-----+------+------+------+-----+------+------+------+-----+------+------+------+------+------+------+------+-----+------+-----+------+-----+------+-----+------+------+-----+------+------+-----+------+------+------+-----+------+------+\n",
      "only showing top 2 rows\n",
      "\n"
     ]
    }
   ],
   "source": [
    "indexer = StringIndexer(inputCol = \"Y2004\",outputCol = '2004')\n",
    "df_fao1 = indexer.fit(df_fao1).transform(df_fao1)\n",
    "df_fao1.show(2)"
   ]
  },
  {
   "cell_type": "code",
   "execution_count": 74,
   "metadata": {},
   "outputs": [
    {
     "name": "stdout",
     "output_type": "stream",
     "text": [
      "+-----------+--------------------+-------+-----+-----+-----+-----+-----+-----+-----+-----+-----+-----+-----+-----+-----+-----+-----+-----+-----+-----+-----+-----+-----+-----+-----+-----+-----+-----+-----+-----+-----+-----+-----+-----+-----+-----+-----+-----+-----+-----+-----+-----+-----+-----+-----+-----+-----+-----+-----+-----+-----+-----+-----+-----+-----+------------+---------------+------------+-----+------+-----+-----+-----+-----+------+-----+------+-----+------+------+------+-----+------+------+------+-----+------+------+------+------+------+------+------+-----+------+-----+------+-----+------+-----+------+------+-----+------+------+-----+------+------+------+-----+------+------+------+\n",
      "|       Area|                Item|Element|Y1961|Y1962|Y1963|Y1964|Y1965|Y1966|Y1967|Y1968|Y1969|Y1970|Y1971|Y1972|Y1973|Y1974|Y1975|Y1976|Y1977|Y1978|Y1979|Y1980|Y1981|Y1982|Y1983|Y1984|Y1985|Y1986|Y1987|Y1988|Y1989|Y1990|Y1991|Y1992|Y1993|Y1994|Y1995|Y1996|Y1997|Y1998|Y1999|Y2000|Y2001|Y2002|Y2003|Y2004|Y2005|Y2006|Y2007|Y2008|Y2009|Y2010|Y2011|Y2012|Y2013|Area_indexed|Element_indexed|Item_indexed| 1961|  1962| 1963| 1964| 1965| 1966|  1967| 1968|  1969| 1970|  1971|  1972|  1973| 1974|  1975|  1976|  1977| 1978|  1979|  1980|  1981|  1982|  1983|  1984|  1985| 1986|  1987| 1988|  1989| 1990|  1991| 1992|  1993|  1994| 1995|  1996|  1997| 1998|  1999|  2000|  2001| 2002|  2003|  2004|  2005|\n",
      "+-----------+--------------------+-------+-----+-----+-----+-----+-----+-----+-----+-----+-----+-----+-----+-----+-----+-----+-----+-----+-----+-----+-----+-----+-----+-----+-----+-----+-----+-----+-----+-----+-----+-----+-----+-----+-----+-----+-----+-----+-----+-----+-----+-----+-----+-----+-----+-----+-----+-----+-----+-----+-----+-----+-----+-----+-----+------------+---------------+------------+-----+------+-----+-----+-----+-----+------+-----+------+-----+------+------+------+-----+------+------+------+-----+------+------+------+------+------+------+------+-----+------+-----+------+-----+------+-----+------+------+-----+------+------+-----+------+------+------+-----+------+------+------+\n",
      "|Afghanistan|  Wheat and products|   Food| 1928| 1904| 1666| 1950| 2001| 1808| 2053| 2045| 2154| 1819| 1963| 2215| 2310| 2335| 2434| 2512| 2282| 2454| 2443| 2129| 2133| 2068| 1994| 1851| 1791| 1683| 2194| 1801| 1754| 1640| 1539| 1582| 1840| 1855| 1853| 2177| 2343| 2407| 2463| 2600| 2668| 2776| 3095| 3249| 3486| 3704| 4164| 4252| 4538| 4605| 4711| 4810| 4895|       172.0|            0.0|        12.0|582.0|1056.0|590.0|606.0|881.0|809.0|1282.0|750.0|1259.0|371.0|1144.0|1101.0|1018.0|647.0|1222.0|1407.0|1159.0|364.0|1255.0|1292.0|1087.0|1436.0|1489.0|1301.0|1000.0|927.0|1039.0|984.0|1361.0|725.0|1431.0|857.0|1384.0|1220.0|850.0|1400.0|1494.0|941.0|1757.0|1678.0|1250.0|698.0|1598.0|1152.0|1127.0|\n",
      "|Afghanistan|Rice (Milled Equi...|   Food|  183|  183|  182|  220|  220|  195|  231|  235|  238|  213|  205|  233|  246|  246|  255|  263|  235|  254|  270|  259|  248|  217|  217|  197|  186|  200|  193|  202|  191|  199|  197|  249|  218|  260|  319|  254|  326|  347|  270|  372|  411|  448|  460|  419|  445|  546|  455|  490|  415|  442|  476|  425|  422|       172.0|            0.0|        17.0|182.0| 176.0|229.0|155.0|272.0|148.0| 154.0|164.0| 112.0|220.0| 178.0| 190.0| 205.0|282.0| 169.0| 207.0| 606.0|311.0| 179.0| 177.0| 191.0| 364.0| 159.0| 183.0| 239.0|134.0| 127.0|398.0| 101.0|257.0| 190.0|304.0| 310.0| 188.0|512.0| 245.0| 268.0|466.0| 307.0| 200.0| 224.0|292.0| 179.0| 480.0| 756.0|\n",
      "+-----------+--------------------+-------+-----+-----+-----+-----+-----+-----+-----+-----+-----+-----+-----+-----+-----+-----+-----+-----+-----+-----+-----+-----+-----+-----+-----+-----+-----+-----+-----+-----+-----+-----+-----+-----+-----+-----+-----+-----+-----+-----+-----+-----+-----+-----+-----+-----+-----+-----+-----+-----+-----+-----+-----+-----+-----+------------+---------------+------------+-----+------+-----+-----+-----+-----+------+-----+------+-----+------+------+------+-----+------+------+------+-----+------+------+------+------+------+------+------+-----+------+-----+------+-----+------+-----+------+------+-----+------+------+-----+------+------+------+-----+------+------+------+\n",
      "only showing top 2 rows\n",
      "\n"
     ]
    }
   ],
   "source": [
    "indexer = StringIndexer(inputCol = \"Y2005\",outputCol = '2005')\n",
    "df_fao1 = indexer.fit(df_fao1).transform(df_fao1)\n",
    "df_fao1.show(2)"
   ]
  },
  {
   "cell_type": "code",
   "execution_count": 75,
   "metadata": {},
   "outputs": [
    {
     "name": "stdout",
     "output_type": "stream",
     "text": [
      "+-----------+--------------------+-------+-----+-----+-----+-----+-----+-----+-----+-----+-----+-----+-----+-----+-----+-----+-----+-----+-----+-----+-----+-----+-----+-----+-----+-----+-----+-----+-----+-----+-----+-----+-----+-----+-----+-----+-----+-----+-----+-----+-----+-----+-----+-----+-----+-----+-----+-----+-----+-----+-----+-----+-----+-----+-----+------------+---------------+------------+-----+------+-----+-----+-----+-----+------+-----+------+-----+------+------+------+-----+------+------+------+-----+------+------+------+------+------+------+------+-----+------+-----+------+-----+------+-----+------+------+-----+------+------+-----+------+------+------+-----+------+------+------+------+\n",
      "|       Area|                Item|Element|Y1961|Y1962|Y1963|Y1964|Y1965|Y1966|Y1967|Y1968|Y1969|Y1970|Y1971|Y1972|Y1973|Y1974|Y1975|Y1976|Y1977|Y1978|Y1979|Y1980|Y1981|Y1982|Y1983|Y1984|Y1985|Y1986|Y1987|Y1988|Y1989|Y1990|Y1991|Y1992|Y1993|Y1994|Y1995|Y1996|Y1997|Y1998|Y1999|Y2000|Y2001|Y2002|Y2003|Y2004|Y2005|Y2006|Y2007|Y2008|Y2009|Y2010|Y2011|Y2012|Y2013|Area_indexed|Element_indexed|Item_indexed| 1961|  1962| 1963| 1964| 1965| 1966|  1967| 1968|  1969| 1970|  1971|  1972|  1973| 1974|  1975|  1976|  1977| 1978|  1979|  1980|  1981|  1982|  1983|  1984|  1985| 1986|  1987| 1988|  1989| 1990|  1991| 1992|  1993|  1994| 1995|  1996|  1997| 1998|  1999|  2000|  2001| 2002|  2003|  2004|  2005|  2006|\n",
      "+-----------+--------------------+-------+-----+-----+-----+-----+-----+-----+-----+-----+-----+-----+-----+-----+-----+-----+-----+-----+-----+-----+-----+-----+-----+-----+-----+-----+-----+-----+-----+-----+-----+-----+-----+-----+-----+-----+-----+-----+-----+-----+-----+-----+-----+-----+-----+-----+-----+-----+-----+-----+-----+-----+-----+-----+-----+------------+---------------+------------+-----+------+-----+-----+-----+-----+------+-----+------+-----+------+------+------+-----+------+------+------+-----+------+------+------+------+------+------+------+-----+------+-----+------+-----+------+-----+------+------+-----+------+------+-----+------+------+------+-----+------+------+------+------+\n",
      "|Afghanistan|  Wheat and products|   Food| 1928| 1904| 1666| 1950| 2001| 1808| 2053| 2045| 2154| 1819| 1963| 2215| 2310| 2335| 2434| 2512| 2282| 2454| 2443| 2129| 2133| 2068| 1994| 1851| 1791| 1683| 2194| 1801| 1754| 1640| 1539| 1582| 1840| 1855| 1853| 2177| 2343| 2407| 2463| 2600| 2668| 2776| 3095| 3249| 3486| 3704| 4164| 4252| 4538| 4605| 4711| 4810| 4895|       172.0|            0.0|        12.0|582.0|1056.0|590.0|606.0|881.0|809.0|1282.0|750.0|1259.0|371.0|1144.0|1101.0|1018.0|647.0|1222.0|1407.0|1159.0|364.0|1255.0|1292.0|1087.0|1436.0|1489.0|1301.0|1000.0|927.0|1039.0|984.0|1361.0|725.0|1431.0|857.0|1384.0|1220.0|850.0|1400.0|1494.0|941.0|1757.0|1678.0|1250.0|698.0|1598.0|1152.0|1127.0|1796.0|\n",
      "|Afghanistan|Rice (Milled Equi...|   Food|  183|  183|  182|  220|  220|  195|  231|  235|  238|  213|  205|  233|  246|  246|  255|  263|  235|  254|  270|  259|  248|  217|  217|  197|  186|  200|  193|  202|  191|  199|  197|  249|  218|  260|  319|  254|  326|  347|  270|  372|  411|  448|  460|  419|  445|  546|  455|  490|  415|  442|  476|  425|  422|       172.0|            0.0|        17.0|182.0| 176.0|229.0|155.0|272.0|148.0| 154.0|164.0| 112.0|220.0| 178.0| 190.0| 205.0|282.0| 169.0| 207.0| 606.0|311.0| 179.0| 177.0| 191.0| 364.0| 159.0| 183.0| 239.0|134.0| 127.0|398.0| 101.0|257.0| 190.0|304.0| 310.0| 188.0|512.0| 245.0| 268.0|466.0| 307.0| 200.0| 224.0|292.0| 179.0| 480.0| 756.0| 797.0|\n",
      "+-----------+--------------------+-------+-----+-----+-----+-----+-----+-----+-----+-----+-----+-----+-----+-----+-----+-----+-----+-----+-----+-----+-----+-----+-----+-----+-----+-----+-----+-----+-----+-----+-----+-----+-----+-----+-----+-----+-----+-----+-----+-----+-----+-----+-----+-----+-----+-----+-----+-----+-----+-----+-----+-----+-----+-----+-----+------------+---------------+------------+-----+------+-----+-----+-----+-----+------+-----+------+-----+------+------+------+-----+------+------+------+-----+------+------+------+------+------+------+------+-----+------+-----+------+-----+------+-----+------+------+-----+------+------+-----+------+------+------+-----+------+------+------+------+\n",
      "only showing top 2 rows\n",
      "\n"
     ]
    }
   ],
   "source": [
    "indexer = StringIndexer(inputCol = \"Y2006\",outputCol = '2006')\n",
    "df_fao1 = indexer.fit(df_fao1).transform(df_fao1)\n",
    "df_fao1.show(2)"
   ]
  },
  {
   "cell_type": "code",
   "execution_count": 76,
   "metadata": {},
   "outputs": [
    {
     "name": "stdout",
     "output_type": "stream",
     "text": [
      "+-----------+--------------------+-------+-----+-----+-----+-----+-----+-----+-----+-----+-----+-----+-----+-----+-----+-----+-----+-----+-----+-----+-----+-----+-----+-----+-----+-----+-----+-----+-----+-----+-----+-----+-----+-----+-----+-----+-----+-----+-----+-----+-----+-----+-----+-----+-----+-----+-----+-----+-----+-----+-----+-----+-----+-----+-----+------------+---------------+------------+-----+------+-----+-----+-----+-----+------+-----+------+-----+------+------+------+-----+------+------+------+-----+------+------+------+------+------+------+------+-----+------+-----+------+-----+------+-----+------+------+-----+------+------+-----+------+------+------+-----+------+------+------+------+-----+\n",
      "|       Area|                Item|Element|Y1961|Y1962|Y1963|Y1964|Y1965|Y1966|Y1967|Y1968|Y1969|Y1970|Y1971|Y1972|Y1973|Y1974|Y1975|Y1976|Y1977|Y1978|Y1979|Y1980|Y1981|Y1982|Y1983|Y1984|Y1985|Y1986|Y1987|Y1988|Y1989|Y1990|Y1991|Y1992|Y1993|Y1994|Y1995|Y1996|Y1997|Y1998|Y1999|Y2000|Y2001|Y2002|Y2003|Y2004|Y2005|Y2006|Y2007|Y2008|Y2009|Y2010|Y2011|Y2012|Y2013|Area_indexed|Element_indexed|Item_indexed| 1961|  1962| 1963| 1964| 1965| 1966|  1967| 1968|  1969| 1970|  1971|  1972|  1973| 1974|  1975|  1976|  1977| 1978|  1979|  1980|  1981|  1982|  1983|  1984|  1985| 1986|  1987| 1988|  1989| 1990|  1991| 1992|  1993|  1994| 1995|  1996|  1997| 1998|  1999|  2000|  2001| 2002|  2003|  2004|  2005|  2006| 2007|\n",
      "+-----------+--------------------+-------+-----+-----+-----+-----+-----+-----+-----+-----+-----+-----+-----+-----+-----+-----+-----+-----+-----+-----+-----+-----+-----+-----+-----+-----+-----+-----+-----+-----+-----+-----+-----+-----+-----+-----+-----+-----+-----+-----+-----+-----+-----+-----+-----+-----+-----+-----+-----+-----+-----+-----+-----+-----+-----+------------+---------------+------------+-----+------+-----+-----+-----+-----+------+-----+------+-----+------+------+------+-----+------+------+------+-----+------+------+------+------+------+------+------+-----+------+-----+------+-----+------+-----+------+------+-----+------+------+-----+------+------+------+-----+------+------+------+------+-----+\n",
      "|Afghanistan|  Wheat and products|   Food| 1928| 1904| 1666| 1950| 2001| 1808| 2053| 2045| 2154| 1819| 1963| 2215| 2310| 2335| 2434| 2512| 2282| 2454| 2443| 2129| 2133| 2068| 1994| 1851| 1791| 1683| 2194| 1801| 1754| 1640| 1539| 1582| 1840| 1855| 1853| 2177| 2343| 2407| 2463| 2600| 2668| 2776| 3095| 3249| 3486| 3704| 4164| 4252| 4538| 4605| 4711| 4810| 4895|       172.0|            0.0|        12.0|582.0|1056.0|590.0|606.0|881.0|809.0|1282.0|750.0|1259.0|371.0|1144.0|1101.0|1018.0|647.0|1222.0|1407.0|1159.0|364.0|1255.0|1292.0|1087.0|1436.0|1489.0|1301.0|1000.0|927.0|1039.0|984.0|1361.0|725.0|1431.0|857.0|1384.0|1220.0|850.0|1400.0|1494.0|941.0|1757.0|1678.0|1250.0|698.0|1598.0|1152.0|1127.0|1796.0|719.0|\n",
      "|Afghanistan|Rice (Milled Equi...|   Food|  183|  183|  182|  220|  220|  195|  231|  235|  238|  213|  205|  233|  246|  246|  255|  263|  235|  254|  270|  259|  248|  217|  217|  197|  186|  200|  193|  202|  191|  199|  197|  249|  218|  260|  319|  254|  326|  347|  270|  372|  411|  448|  460|  419|  445|  546|  455|  490|  415|  442|  476|  425|  422|       172.0|            0.0|        17.0|182.0| 176.0|229.0|155.0|272.0|148.0| 154.0|164.0| 112.0|220.0| 178.0| 190.0| 205.0|282.0| 169.0| 207.0| 606.0|311.0| 179.0| 177.0| 191.0| 364.0| 159.0| 183.0| 239.0|134.0| 127.0|398.0| 101.0|257.0| 190.0|304.0| 310.0| 188.0|512.0| 245.0| 268.0|466.0| 307.0| 200.0| 224.0|292.0| 179.0| 480.0| 756.0| 797.0|960.0|\n",
      "+-----------+--------------------+-------+-----+-----+-----+-----+-----+-----+-----+-----+-----+-----+-----+-----+-----+-----+-----+-----+-----+-----+-----+-----+-----+-----+-----+-----+-----+-----+-----+-----+-----+-----+-----+-----+-----+-----+-----+-----+-----+-----+-----+-----+-----+-----+-----+-----+-----+-----+-----+-----+-----+-----+-----+-----+-----+------------+---------------+------------+-----+------+-----+-----+-----+-----+------+-----+------+-----+------+------+------+-----+------+------+------+-----+------+------+------+------+------+------+------+-----+------+-----+------+-----+------+-----+------+------+-----+------+------+-----+------+------+------+-----+------+------+------+------+-----+\n",
      "only showing top 2 rows\n",
      "\n"
     ]
    }
   ],
   "source": [
    "indexer = StringIndexer(inputCol = \"Y2007\",outputCol = '2007')\n",
    "df_fao1 = indexer.fit(df_fao1).transform(df_fao1)\n",
    "df_fao1.show(2)"
   ]
  },
  {
   "cell_type": "code",
   "execution_count": 77,
   "metadata": {},
   "outputs": [
    {
     "name": "stdout",
     "output_type": "stream",
     "text": [
      "+-----------+--------------------+-------+-----+-----+-----+-----+-----+-----+-----+-----+-----+-----+-----+-----+-----+-----+-----+-----+-----+-----+-----+-----+-----+-----+-----+-----+-----+-----+-----+-----+-----+-----+-----+-----+-----+-----+-----+-----+-----+-----+-----+-----+-----+-----+-----+-----+-----+-----+-----+-----+-----+-----+-----+-----+-----+------------+---------------+------------+-----+------+-----+-----+-----+-----+------+-----+------+-----+------+------+------+-----+------+------+------+-----+------+------+------+------+------+------+------+-----+------+-----+------+-----+------+-----+------+------+-----+------+------+-----+------+------+------+-----+------+------+------+------+-----+-----+\n",
      "|       Area|                Item|Element|Y1961|Y1962|Y1963|Y1964|Y1965|Y1966|Y1967|Y1968|Y1969|Y1970|Y1971|Y1972|Y1973|Y1974|Y1975|Y1976|Y1977|Y1978|Y1979|Y1980|Y1981|Y1982|Y1983|Y1984|Y1985|Y1986|Y1987|Y1988|Y1989|Y1990|Y1991|Y1992|Y1993|Y1994|Y1995|Y1996|Y1997|Y1998|Y1999|Y2000|Y2001|Y2002|Y2003|Y2004|Y2005|Y2006|Y2007|Y2008|Y2009|Y2010|Y2011|Y2012|Y2013|Area_indexed|Element_indexed|Item_indexed| 1961|  1962| 1963| 1964| 1965| 1966|  1967| 1968|  1969| 1970|  1971|  1972|  1973| 1974|  1975|  1976|  1977| 1978|  1979|  1980|  1981|  1982|  1983|  1984|  1985| 1986|  1987| 1988|  1989| 1990|  1991| 1992|  1993|  1994| 1995|  1996|  1997| 1998|  1999|  2000|  2001| 2002|  2003|  2004|  2005|  2006| 2007| 2008|\n",
      "+-----------+--------------------+-------+-----+-----+-----+-----+-----+-----+-----+-----+-----+-----+-----+-----+-----+-----+-----+-----+-----+-----+-----+-----+-----+-----+-----+-----+-----+-----+-----+-----+-----+-----+-----+-----+-----+-----+-----+-----+-----+-----+-----+-----+-----+-----+-----+-----+-----+-----+-----+-----+-----+-----+-----+-----+-----+------------+---------------+------------+-----+------+-----+-----+-----+-----+------+-----+------+-----+------+------+------+-----+------+------+------+-----+------+------+------+------+------+------+------+-----+------+-----+------+-----+------+-----+------+------+-----+------+------+-----+------+------+------+-----+------+------+------+------+-----+-----+\n",
      "|Afghanistan|  Wheat and products|   Food| 1928| 1904| 1666| 1950| 2001| 1808| 2053| 2045| 2154| 1819| 1963| 2215| 2310| 2335| 2434| 2512| 2282| 2454| 2443| 2129| 2133| 2068| 1994| 1851| 1791| 1683| 2194| 1801| 1754| 1640| 1539| 1582| 1840| 1855| 1853| 2177| 2343| 2407| 2463| 2600| 2668| 2776| 3095| 3249| 3486| 3704| 4164| 4252| 4538| 4605| 4711| 4810| 4895|       172.0|            0.0|        12.0|582.0|1056.0|590.0|606.0|881.0|809.0|1282.0|750.0|1259.0|371.0|1144.0|1101.0|1018.0|647.0|1222.0|1407.0|1159.0|364.0|1255.0|1292.0|1087.0|1436.0|1489.0|1301.0|1000.0|927.0|1039.0|984.0|1361.0|725.0|1431.0|857.0|1384.0|1220.0|850.0|1400.0|1494.0|941.0|1757.0|1678.0|1250.0|698.0|1598.0|1152.0|1127.0|1796.0|719.0|971.0|\n",
      "|Afghanistan|Rice (Milled Equi...|   Food|  183|  183|  182|  220|  220|  195|  231|  235|  238|  213|  205|  233|  246|  246|  255|  263|  235|  254|  270|  259|  248|  217|  217|  197|  186|  200|  193|  202|  191|  199|  197|  249|  218|  260|  319|  254|  326|  347|  270|  372|  411|  448|  460|  419|  445|  546|  455|  490|  415|  442|  476|  425|  422|       172.0|            0.0|        17.0|182.0| 176.0|229.0|155.0|272.0|148.0| 154.0|164.0| 112.0|220.0| 178.0| 190.0| 205.0|282.0| 169.0| 207.0| 606.0|311.0| 179.0| 177.0| 191.0| 364.0| 159.0| 183.0| 239.0|134.0| 127.0|398.0| 101.0|257.0| 190.0|304.0| 310.0| 188.0|512.0| 245.0| 268.0|466.0| 307.0| 200.0| 224.0|292.0| 179.0| 480.0| 756.0| 797.0|960.0|222.0|\n",
      "+-----------+--------------------+-------+-----+-----+-----+-----+-----+-----+-----+-----+-----+-----+-----+-----+-----+-----+-----+-----+-----+-----+-----+-----+-----+-----+-----+-----+-----+-----+-----+-----+-----+-----+-----+-----+-----+-----+-----+-----+-----+-----+-----+-----+-----+-----+-----+-----+-----+-----+-----+-----+-----+-----+-----+-----+-----+------------+---------------+------------+-----+------+-----+-----+-----+-----+------+-----+------+-----+------+------+------+-----+------+------+------+-----+------+------+------+------+------+------+------+-----+------+-----+------+-----+------+-----+------+------+-----+------+------+-----+------+------+------+-----+------+------+------+------+-----+-----+\n",
      "only showing top 2 rows\n",
      "\n"
     ]
    }
   ],
   "source": [
    "indexer = StringIndexer(inputCol = \"Y2008\",outputCol = '2008')\n",
    "df_fao1 = indexer.fit(df_fao1).transform(df_fao1)\n",
    "df_fao1.show(2)"
   ]
  },
  {
   "cell_type": "code",
   "execution_count": 78,
   "metadata": {},
   "outputs": [
    {
     "name": "stdout",
     "output_type": "stream",
     "text": [
      "+-----------+--------------------+-------+-----+-----+-----+-----+-----+-----+-----+-----+-----+-----+-----+-----+-----+-----+-----+-----+-----+-----+-----+-----+-----+-----+-----+-----+-----+-----+-----+-----+-----+-----+-----+-----+-----+-----+-----+-----+-----+-----+-----+-----+-----+-----+-----+-----+-----+-----+-----+-----+-----+-----+-----+-----+-----+------------+---------------+------------+-----+------+-----+-----+-----+-----+------+-----+------+-----+------+------+------+-----+------+------+------+-----+------+------+------+------+------+------+------+-----+------+-----+------+-----+------+-----+------+------+-----+------+------+-----+------+------+------+-----+------+------+------+------+-----+-----+------+\n",
      "|       Area|                Item|Element|Y1961|Y1962|Y1963|Y1964|Y1965|Y1966|Y1967|Y1968|Y1969|Y1970|Y1971|Y1972|Y1973|Y1974|Y1975|Y1976|Y1977|Y1978|Y1979|Y1980|Y1981|Y1982|Y1983|Y1984|Y1985|Y1986|Y1987|Y1988|Y1989|Y1990|Y1991|Y1992|Y1993|Y1994|Y1995|Y1996|Y1997|Y1998|Y1999|Y2000|Y2001|Y2002|Y2003|Y2004|Y2005|Y2006|Y2007|Y2008|Y2009|Y2010|Y2011|Y2012|Y2013|Area_indexed|Element_indexed|Item_indexed| 1961|  1962| 1963| 1964| 1965| 1966|  1967| 1968|  1969| 1970|  1971|  1972|  1973| 1974|  1975|  1976|  1977| 1978|  1979|  1980|  1981|  1982|  1983|  1984|  1985| 1986|  1987| 1988|  1989| 1990|  1991| 1992|  1993|  1994| 1995|  1996|  1997| 1998|  1999|  2000|  2001| 2002|  2003|  2004|  2005|  2006| 2007| 2008|  2009|\n",
      "+-----------+--------------------+-------+-----+-----+-----+-----+-----+-----+-----+-----+-----+-----+-----+-----+-----+-----+-----+-----+-----+-----+-----+-----+-----+-----+-----+-----+-----+-----+-----+-----+-----+-----+-----+-----+-----+-----+-----+-----+-----+-----+-----+-----+-----+-----+-----+-----+-----+-----+-----+-----+-----+-----+-----+-----+-----+------------+---------------+------------+-----+------+-----+-----+-----+-----+------+-----+------+-----+------+------+------+-----+------+------+------+-----+------+------+------+------+------+------+------+-----+------+-----+------+-----+------+-----+------+------+-----+------+------+-----+------+------+------+-----+------+------+------+------+-----+-----+------+\n",
      "|Afghanistan|  Wheat and products|   Food| 1928| 1904| 1666| 1950| 2001| 1808| 2053| 2045| 2154| 1819| 1963| 2215| 2310| 2335| 2434| 2512| 2282| 2454| 2443| 2129| 2133| 2068| 1994| 1851| 1791| 1683| 2194| 1801| 1754| 1640| 1539| 1582| 1840| 1855| 1853| 2177| 2343| 2407| 2463| 2600| 2668| 2776| 3095| 3249| 3486| 3704| 4164| 4252| 4538| 4605| 4711| 4810| 4895|       172.0|            0.0|        12.0|582.0|1056.0|590.0|606.0|881.0|809.0|1282.0|750.0|1259.0|371.0|1144.0|1101.0|1018.0|647.0|1222.0|1407.0|1159.0|364.0|1255.0|1292.0|1087.0|1436.0|1489.0|1301.0|1000.0|927.0|1039.0|984.0|1361.0|725.0|1431.0|857.0|1384.0|1220.0|850.0|1400.0|1494.0|941.0|1757.0|1678.0|1250.0|698.0|1598.0|1152.0|1127.0|1796.0|719.0|971.0|1008.0|\n",
      "|Afghanistan|Rice (Milled Equi...|   Food|  183|  183|  182|  220|  220|  195|  231|  235|  238|  213|  205|  233|  246|  246|  255|  263|  235|  254|  270|  259|  248|  217|  217|  197|  186|  200|  193|  202|  191|  199|  197|  249|  218|  260|  319|  254|  326|  347|  270|  372|  411|  448|  460|  419|  445|  546|  455|  490|  415|  442|  476|  425|  422|       172.0|            0.0|        17.0|182.0| 176.0|229.0|155.0|272.0|148.0| 154.0|164.0| 112.0|220.0| 178.0| 190.0| 205.0|282.0| 169.0| 207.0| 606.0|311.0| 179.0| 177.0| 191.0| 364.0| 159.0| 183.0| 239.0|134.0| 127.0|398.0| 101.0|257.0| 190.0|304.0| 310.0| 188.0|512.0| 245.0| 268.0|466.0| 307.0| 200.0| 224.0|292.0| 179.0| 480.0| 756.0| 797.0|960.0|222.0| 311.0|\n",
      "+-----------+--------------------+-------+-----+-----+-----+-----+-----+-----+-----+-----+-----+-----+-----+-----+-----+-----+-----+-----+-----+-----+-----+-----+-----+-----+-----+-----+-----+-----+-----+-----+-----+-----+-----+-----+-----+-----+-----+-----+-----+-----+-----+-----+-----+-----+-----+-----+-----+-----+-----+-----+-----+-----+-----+-----+-----+------------+---------------+------------+-----+------+-----+-----+-----+-----+------+-----+------+-----+------+------+------+-----+------+------+------+-----+------+------+------+------+------+------+------+-----+------+-----+------+-----+------+-----+------+------+-----+------+------+-----+------+------+------+-----+------+------+------+------+-----+-----+------+\n",
      "only showing top 2 rows\n",
      "\n"
     ]
    }
   ],
   "source": [
    "indexer = StringIndexer(inputCol = \"Y2009\",outputCol = '2009')\n",
    "df_fao1 = indexer.fit(df_fao1).transform(df_fao1)\n",
    "df_fao1.show(2)"
   ]
  },
  {
   "cell_type": "code",
   "execution_count": 79,
   "metadata": {},
   "outputs": [
    {
     "name": "stdout",
     "output_type": "stream",
     "text": [
      "+-----------+--------------------+-------+-----+-----+-----+-----+-----+-----+-----+-----+-----+-----+-----+-----+-----+-----+-----+-----+-----+-----+-----+-----+-----+-----+-----+-----+-----+-----+-----+-----+-----+-----+-----+-----+-----+-----+-----+-----+-----+-----+-----+-----+-----+-----+-----+-----+-----+-----+-----+-----+-----+-----+-----+-----+-----+------------+---------------+------------+-----+------+-----+-----+-----+-----+------+-----+------+-----+------+------+------+-----+------+------+------+-----+------+------+------+------+------+------+------+-----+------+-----+------+-----+------+-----+------+------+-----+------+------+-----+------+------+------+-----+------+------+------+------+-----+-----+------+------+\n",
      "|       Area|                Item|Element|Y1961|Y1962|Y1963|Y1964|Y1965|Y1966|Y1967|Y1968|Y1969|Y1970|Y1971|Y1972|Y1973|Y1974|Y1975|Y1976|Y1977|Y1978|Y1979|Y1980|Y1981|Y1982|Y1983|Y1984|Y1985|Y1986|Y1987|Y1988|Y1989|Y1990|Y1991|Y1992|Y1993|Y1994|Y1995|Y1996|Y1997|Y1998|Y1999|Y2000|Y2001|Y2002|Y2003|Y2004|Y2005|Y2006|Y2007|Y2008|Y2009|Y2010|Y2011|Y2012|Y2013|Area_indexed|Element_indexed|Item_indexed| 1961|  1962| 1963| 1964| 1965| 1966|  1967| 1968|  1969| 1970|  1971|  1972|  1973| 1974|  1975|  1976|  1977| 1978|  1979|  1980|  1981|  1982|  1983|  1984|  1985| 1986|  1987| 1988|  1989| 1990|  1991| 1992|  1993|  1994| 1995|  1996|  1997| 1998|  1999|  2000|  2001| 2002|  2003|  2004|  2005|  2006| 2007| 2008|  2009|  2010|\n",
      "+-----------+--------------------+-------+-----+-----+-----+-----+-----+-----+-----+-----+-----+-----+-----+-----+-----+-----+-----+-----+-----+-----+-----+-----+-----+-----+-----+-----+-----+-----+-----+-----+-----+-----+-----+-----+-----+-----+-----+-----+-----+-----+-----+-----+-----+-----+-----+-----+-----+-----+-----+-----+-----+-----+-----+-----+-----+------------+---------------+------------+-----+------+-----+-----+-----+-----+------+-----+------+-----+------+------+------+-----+------+------+------+-----+------+------+------+------+------+------+------+-----+------+-----+------+-----+------+-----+------+------+-----+------+------+-----+------+------+------+-----+------+------+------+------+-----+-----+------+------+\n",
      "|Afghanistan|  Wheat and products|   Food| 1928| 1904| 1666| 1950| 2001| 1808| 2053| 2045| 2154| 1819| 1963| 2215| 2310| 2335| 2434| 2512| 2282| 2454| 2443| 2129| 2133| 2068| 1994| 1851| 1791| 1683| 2194| 1801| 1754| 1640| 1539| 1582| 1840| 1855| 1853| 2177| 2343| 2407| 2463| 2600| 2668| 2776| 3095| 3249| 3486| 3704| 4164| 4252| 4538| 4605| 4711| 4810| 4895|       172.0|            0.0|        12.0|582.0|1056.0|590.0|606.0|881.0|809.0|1282.0|750.0|1259.0|371.0|1144.0|1101.0|1018.0|647.0|1222.0|1407.0|1159.0|364.0|1255.0|1292.0|1087.0|1436.0|1489.0|1301.0|1000.0|927.0|1039.0|984.0|1361.0|725.0|1431.0|857.0|1384.0|1220.0|850.0|1400.0|1494.0|941.0|1757.0|1678.0|1250.0|698.0|1598.0|1152.0|1127.0|1796.0|719.0|971.0|1008.0|1697.0|\n",
      "|Afghanistan|Rice (Milled Equi...|   Food|  183|  183|  182|  220|  220|  195|  231|  235|  238|  213|  205|  233|  246|  246|  255|  263|  235|  254|  270|  259|  248|  217|  217|  197|  186|  200|  193|  202|  191|  199|  197|  249|  218|  260|  319|  254|  326|  347|  270|  372|  411|  448|  460|  419|  445|  546|  455|  490|  415|  442|  476|  425|  422|       172.0|            0.0|        17.0|182.0| 176.0|229.0|155.0|272.0|148.0| 154.0|164.0| 112.0|220.0| 178.0| 190.0| 205.0|282.0| 169.0| 207.0| 606.0|311.0| 179.0| 177.0| 191.0| 364.0| 159.0| 183.0| 239.0|134.0| 127.0|398.0| 101.0|257.0| 190.0|304.0| 310.0| 188.0|512.0| 245.0| 268.0|466.0| 307.0| 200.0| 224.0|292.0| 179.0| 480.0| 756.0| 797.0|960.0|222.0| 311.0| 340.0|\n",
      "+-----------+--------------------+-------+-----+-----+-----+-----+-----+-----+-----+-----+-----+-----+-----+-----+-----+-----+-----+-----+-----+-----+-----+-----+-----+-----+-----+-----+-----+-----+-----+-----+-----+-----+-----+-----+-----+-----+-----+-----+-----+-----+-----+-----+-----+-----+-----+-----+-----+-----+-----+-----+-----+-----+-----+-----+-----+------------+---------------+------------+-----+------+-----+-----+-----+-----+------+-----+------+-----+------+------+------+-----+------+------+------+-----+------+------+------+------+------+------+------+-----+------+-----+------+-----+------+-----+------+------+-----+------+------+-----+------+------+------+-----+------+------+------+------+-----+-----+------+------+\n",
      "only showing top 2 rows\n",
      "\n"
     ]
    }
   ],
   "source": [
    "indexer = StringIndexer(inputCol = \"Y2010\",outputCol = '2010')\n",
    "df_fao1 = indexer.fit(df_fao1).transform(df_fao1)\n",
    "df_fao1.show(2)"
   ]
  },
  {
   "cell_type": "code",
   "execution_count": 80,
   "metadata": {},
   "outputs": [
    {
     "name": "stdout",
     "output_type": "stream",
     "text": [
      "+-----------+--------------------+-------+-----+-----+-----+-----+-----+-----+-----+-----+-----+-----+-----+-----+-----+-----+-----+-----+-----+-----+-----+-----+-----+-----+-----+-----+-----+-----+-----+-----+-----+-----+-----+-----+-----+-----+-----+-----+-----+-----+-----+-----+-----+-----+-----+-----+-----+-----+-----+-----+-----+-----+-----+-----+-----+------------+---------------+------------+-----+------+-----+-----+-----+-----+------+-----+------+-----+------+------+------+-----+------+------+------+-----+------+------+------+------+------+------+------+-----+------+-----+------+-----+------+-----+------+------+-----+------+------+-----+------+------+------+-----+------+------+------+------+-----+-----+------+------+------+\n",
      "|       Area|                Item|Element|Y1961|Y1962|Y1963|Y1964|Y1965|Y1966|Y1967|Y1968|Y1969|Y1970|Y1971|Y1972|Y1973|Y1974|Y1975|Y1976|Y1977|Y1978|Y1979|Y1980|Y1981|Y1982|Y1983|Y1984|Y1985|Y1986|Y1987|Y1988|Y1989|Y1990|Y1991|Y1992|Y1993|Y1994|Y1995|Y1996|Y1997|Y1998|Y1999|Y2000|Y2001|Y2002|Y2003|Y2004|Y2005|Y2006|Y2007|Y2008|Y2009|Y2010|Y2011|Y2012|Y2013|Area_indexed|Element_indexed|Item_indexed| 1961|  1962| 1963| 1964| 1965| 1966|  1967| 1968|  1969| 1970|  1971|  1972|  1973| 1974|  1975|  1976|  1977| 1978|  1979|  1980|  1981|  1982|  1983|  1984|  1985| 1986|  1987| 1988|  1989| 1990|  1991| 1992|  1993|  1994| 1995|  1996|  1997| 1998|  1999|  2000|  2001| 2002|  2003|  2004|  2005|  2006| 2007| 2008|  2009|  2010|  2011|\n",
      "+-----------+--------------------+-------+-----+-----+-----+-----+-----+-----+-----+-----+-----+-----+-----+-----+-----+-----+-----+-----+-----+-----+-----+-----+-----+-----+-----+-----+-----+-----+-----+-----+-----+-----+-----+-----+-----+-----+-----+-----+-----+-----+-----+-----+-----+-----+-----+-----+-----+-----+-----+-----+-----+-----+-----+-----+-----+------------+---------------+------------+-----+------+-----+-----+-----+-----+------+-----+------+-----+------+------+------+-----+------+------+------+-----+------+------+------+------+------+------+------+-----+------+-----+------+-----+------+-----+------+------+-----+------+------+-----+------+------+------+-----+------+------+------+------+-----+-----+------+------+------+\n",
      "|Afghanistan|  Wheat and products|   Food| 1928| 1904| 1666| 1950| 2001| 1808| 2053| 2045| 2154| 1819| 1963| 2215| 2310| 2335| 2434| 2512| 2282| 2454| 2443| 2129| 2133| 2068| 1994| 1851| 1791| 1683| 2194| 1801| 1754| 1640| 1539| 1582| 1840| 1855| 1853| 2177| 2343| 2407| 2463| 2600| 2668| 2776| 3095| 3249| 3486| 3704| 4164| 4252| 4538| 4605| 4711| 4810| 4895|       172.0|            0.0|        12.0|582.0|1056.0|590.0|606.0|881.0|809.0|1282.0|750.0|1259.0|371.0|1144.0|1101.0|1018.0|647.0|1222.0|1407.0|1159.0|364.0|1255.0|1292.0|1087.0|1436.0|1489.0|1301.0|1000.0|927.0|1039.0|984.0|1361.0|725.0|1431.0|857.0|1384.0|1220.0|850.0|1400.0|1494.0|941.0|1757.0|1678.0|1250.0|698.0|1598.0|1152.0|1127.0|1796.0|719.0|971.0|1008.0|1697.0|1805.0|\n",
      "|Afghanistan|Rice (Milled Equi...|   Food|  183|  183|  182|  220|  220|  195|  231|  235|  238|  213|  205|  233|  246|  246|  255|  263|  235|  254|  270|  259|  248|  217|  217|  197|  186|  200|  193|  202|  191|  199|  197|  249|  218|  260|  319|  254|  326|  347|  270|  372|  411|  448|  460|  419|  445|  546|  455|  490|  415|  442|  476|  425|  422|       172.0|            0.0|        17.0|182.0| 176.0|229.0|155.0|272.0|148.0| 154.0|164.0| 112.0|220.0| 178.0| 190.0| 205.0|282.0| 169.0| 207.0| 606.0|311.0| 179.0| 177.0| 191.0| 364.0| 159.0| 183.0| 239.0|134.0| 127.0|398.0| 101.0|257.0| 190.0|304.0| 310.0| 188.0|512.0| 245.0| 268.0|466.0| 307.0| 200.0| 224.0|292.0| 179.0| 480.0| 756.0| 797.0|960.0|222.0| 311.0| 340.0| 282.0|\n",
      "+-----------+--------------------+-------+-----+-----+-----+-----+-----+-----+-----+-----+-----+-----+-----+-----+-----+-----+-----+-----+-----+-----+-----+-----+-----+-----+-----+-----+-----+-----+-----+-----+-----+-----+-----+-----+-----+-----+-----+-----+-----+-----+-----+-----+-----+-----+-----+-----+-----+-----+-----+-----+-----+-----+-----+-----+-----+------------+---------------+------------+-----+------+-----+-----+-----+-----+------+-----+------+-----+------+------+------+-----+------+------+------+-----+------+------+------+------+------+------+------+-----+------+-----+------+-----+------+-----+------+------+-----+------+------+-----+------+------+------+-----+------+------+------+------+-----+-----+------+------+------+\n",
      "only showing top 2 rows\n",
      "\n"
     ]
    }
   ],
   "source": [
    "\n",
    "\n",
    "\n",
    "\n",
    "\n",
    "indexer = StringIndexer(inputCol = \"Y2011\",outputCol = '2011')\n",
    "df_fao1 = indexer.fit(df_fao1).transform(df_fao1)\n",
    "df_fao1.show(2)"
   ]
  },
  {
   "cell_type": "code",
   "execution_count": 81,
   "metadata": {},
   "outputs": [
    {
     "name": "stdout",
     "output_type": "stream",
     "text": [
      "+-----------+--------------------+-------+-----+-----+-----+-----+-----+-----+-----+-----+-----+-----+-----+-----+-----+-----+-----+-----+-----+-----+-----+-----+-----+-----+-----+-----+-----+-----+-----+-----+-----+-----+-----+-----+-----+-----+-----+-----+-----+-----+-----+-----+-----+-----+-----+-----+-----+-----+-----+-----+-----+-----+-----+-----+-----+------------+---------------+------------+-----+------+-----+-----+-----+-----+------+-----+------+-----+------+------+------+-----+------+------+------+-----+------+------+------+------+------+------+------+-----+------+-----+------+-----+------+-----+------+------+-----+------+------+-----+------+------+------+-----+------+------+------+------+-----+-----+------+------+------+-----+\n",
      "|       Area|                Item|Element|Y1961|Y1962|Y1963|Y1964|Y1965|Y1966|Y1967|Y1968|Y1969|Y1970|Y1971|Y1972|Y1973|Y1974|Y1975|Y1976|Y1977|Y1978|Y1979|Y1980|Y1981|Y1982|Y1983|Y1984|Y1985|Y1986|Y1987|Y1988|Y1989|Y1990|Y1991|Y1992|Y1993|Y1994|Y1995|Y1996|Y1997|Y1998|Y1999|Y2000|Y2001|Y2002|Y2003|Y2004|Y2005|Y2006|Y2007|Y2008|Y2009|Y2010|Y2011|Y2012|Y2013|Area_indexed|Element_indexed|Item_indexed| 1961|  1962| 1963| 1964| 1965| 1966|  1967| 1968|  1969| 1970|  1971|  1972|  1973| 1974|  1975|  1976|  1977| 1978|  1979|  1980|  1981|  1982|  1983|  1984|  1985| 1986|  1987| 1988|  1989| 1990|  1991| 1992|  1993|  1994| 1995|  1996|  1997| 1998|  1999|  2000|  2001| 2002|  2003|  2004|  2005|  2006| 2007| 2008|  2009|  2010|  2011| 2012|\n",
      "+-----------+--------------------+-------+-----+-----+-----+-----+-----+-----+-----+-----+-----+-----+-----+-----+-----+-----+-----+-----+-----+-----+-----+-----+-----+-----+-----+-----+-----+-----+-----+-----+-----+-----+-----+-----+-----+-----+-----+-----+-----+-----+-----+-----+-----+-----+-----+-----+-----+-----+-----+-----+-----+-----+-----+-----+-----+------------+---------------+------------+-----+------+-----+-----+-----+-----+------+-----+------+-----+------+------+------+-----+------+------+------+-----+------+------+------+------+------+------+------+-----+------+-----+------+-----+------+-----+------+------+-----+------+------+-----+------+------+------+-----+------+------+------+------+-----+-----+------+------+------+-----+\n",
      "|Afghanistan|  Wheat and products|   Food| 1928| 1904| 1666| 1950| 2001| 1808| 2053| 2045| 2154| 1819| 1963| 2215| 2310| 2335| 2434| 2512| 2282| 2454| 2443| 2129| 2133| 2068| 1994| 1851| 1791| 1683| 2194| 1801| 1754| 1640| 1539| 1582| 1840| 1855| 1853| 2177| 2343| 2407| 2463| 2600| 2668| 2776| 3095| 3249| 3486| 3704| 4164| 4252| 4538| 4605| 4711| 4810| 4895|       172.0|            0.0|        12.0|582.0|1056.0|590.0|606.0|881.0|809.0|1282.0|750.0|1259.0|371.0|1144.0|1101.0|1018.0|647.0|1222.0|1407.0|1159.0|364.0|1255.0|1292.0|1087.0|1436.0|1489.0|1301.0|1000.0|927.0|1039.0|984.0|1361.0|725.0|1431.0|857.0|1384.0|1220.0|850.0|1400.0|1494.0|941.0|1757.0|1678.0|1250.0|698.0|1598.0|1152.0|1127.0|1796.0|719.0|971.0|1008.0|1697.0|1805.0|992.0|\n",
      "|Afghanistan|Rice (Milled Equi...|   Food|  183|  183|  182|  220|  220|  195|  231|  235|  238|  213|  205|  233|  246|  246|  255|  263|  235|  254|  270|  259|  248|  217|  217|  197|  186|  200|  193|  202|  191|  199|  197|  249|  218|  260|  319|  254|  326|  347|  270|  372|  411|  448|  460|  419|  445|  546|  455|  490|  415|  442|  476|  425|  422|       172.0|            0.0|        17.0|182.0| 176.0|229.0|155.0|272.0|148.0| 154.0|164.0| 112.0|220.0| 178.0| 190.0| 205.0|282.0| 169.0| 207.0| 606.0|311.0| 179.0| 177.0| 191.0| 364.0| 159.0| 183.0| 239.0|134.0| 127.0|398.0| 101.0|257.0| 190.0|304.0| 310.0| 188.0|512.0| 245.0| 268.0|466.0| 307.0| 200.0| 224.0|292.0| 179.0| 480.0| 756.0| 797.0|960.0|222.0| 311.0| 340.0| 282.0|277.0|\n",
      "+-----------+--------------------+-------+-----+-----+-----+-----+-----+-----+-----+-----+-----+-----+-----+-----+-----+-----+-----+-----+-----+-----+-----+-----+-----+-----+-----+-----+-----+-----+-----+-----+-----+-----+-----+-----+-----+-----+-----+-----+-----+-----+-----+-----+-----+-----+-----+-----+-----+-----+-----+-----+-----+-----+-----+-----+-----+------------+---------------+------------+-----+------+-----+-----+-----+-----+------+-----+------+-----+------+------+------+-----+------+------+------+-----+------+------+------+------+------+------+------+-----+------+-----+------+-----+------+-----+------+------+-----+------+------+-----+------+------+------+-----+------+------+------+------+-----+-----+------+------+------+-----+\n",
      "only showing top 2 rows\n",
      "\n"
     ]
    }
   ],
   "source": [
    "indexer = StringIndexer(inputCol = \"Y2012\",outputCol = '2012')\n",
    "df_fao1 = indexer.fit(df_fao1).transform(df_fao1)\n",
    "df_fao1.show(2)"
   ]
  },
  {
   "cell_type": "code",
   "execution_count": 82,
   "metadata": {},
   "outputs": [
    {
     "name": "stdout",
     "output_type": "stream",
     "text": [
      "+-----------+--------------------+-------+-----+-----+-----+-----+-----+-----+-----+-----+-----+-----+-----+-----+-----+-----+-----+-----+-----+-----+-----+-----+-----+-----+-----+-----+-----+-----+-----+-----+-----+-----+-----+-----+-----+-----+-----+-----+-----+-----+-----+-----+-----+-----+-----+-----+-----+-----+-----+-----+-----+-----+-----+-----+-----+------------+---------------+------------+-----+------+-----+-----+-----+-----+------+-----+------+-----+------+------+------+-----+------+------+------+-----+------+------+------+------+------+------+------+-----+------+-----+------+-----+------+-----+------+------+-----+------+------+-----+------+------+------+-----+------+------+------+------+-----+-----+------+------+------+-----+------+\n",
      "|       Area|                Item|Element|Y1961|Y1962|Y1963|Y1964|Y1965|Y1966|Y1967|Y1968|Y1969|Y1970|Y1971|Y1972|Y1973|Y1974|Y1975|Y1976|Y1977|Y1978|Y1979|Y1980|Y1981|Y1982|Y1983|Y1984|Y1985|Y1986|Y1987|Y1988|Y1989|Y1990|Y1991|Y1992|Y1993|Y1994|Y1995|Y1996|Y1997|Y1998|Y1999|Y2000|Y2001|Y2002|Y2003|Y2004|Y2005|Y2006|Y2007|Y2008|Y2009|Y2010|Y2011|Y2012|Y2013|Area_indexed|Element_indexed|Item_indexed| 1961|  1962| 1963| 1964| 1965| 1966|  1967| 1968|  1969| 1970|  1971|  1972|  1973| 1974|  1975|  1976|  1977| 1978|  1979|  1980|  1981|  1982|  1983|  1984|  1985| 1986|  1987| 1988|  1989| 1990|  1991| 1992|  1993|  1994| 1995|  1996|  1997| 1998|  1999|  2000|  2001| 2002|  2003|  2004|  2005|  2006| 2007| 2008|  2009|  2010|  2011| 2012|  2013|\n",
      "+-----------+--------------------+-------+-----+-----+-----+-----+-----+-----+-----+-----+-----+-----+-----+-----+-----+-----+-----+-----+-----+-----+-----+-----+-----+-----+-----+-----+-----+-----+-----+-----+-----+-----+-----+-----+-----+-----+-----+-----+-----+-----+-----+-----+-----+-----+-----+-----+-----+-----+-----+-----+-----+-----+-----+-----+-----+------------+---------------+------------+-----+------+-----+-----+-----+-----+------+-----+------+-----+------+------+------+-----+------+------+------+-----+------+------+------+------+------+------+------+-----+------+-----+------+-----+------+-----+------+------+-----+------+------+-----+------+------+------+-----+------+------+------+------+-----+-----+------+------+------+-----+------+\n",
      "|Afghanistan|  Wheat and products|   Food| 1928| 1904| 1666| 1950| 2001| 1808| 2053| 2045| 2154| 1819| 1963| 2215| 2310| 2335| 2434| 2512| 2282| 2454| 2443| 2129| 2133| 2068| 1994| 1851| 1791| 1683| 2194| 1801| 1754| 1640| 1539| 1582| 1840| 1855| 1853| 2177| 2343| 2407| 2463| 2600| 2668| 2776| 3095| 3249| 3486| 3704| 4164| 4252| 4538| 4605| 4711| 4810| 4895|       172.0|            0.0|        12.0|582.0|1056.0|590.0|606.0|881.0|809.0|1282.0|750.0|1259.0|371.0|1144.0|1101.0|1018.0|647.0|1222.0|1407.0|1159.0|364.0|1255.0|1292.0|1087.0|1436.0|1489.0|1301.0|1000.0|927.0|1039.0|984.0|1361.0|725.0|1431.0|857.0|1384.0|1220.0|850.0|1400.0|1494.0|941.0|1757.0|1678.0|1250.0|698.0|1598.0|1152.0|1127.0|1796.0|719.0|971.0|1008.0|1697.0|1805.0|992.0|1554.0|\n",
      "|Afghanistan|Rice (Milled Equi...|   Food|  183|  183|  182|  220|  220|  195|  231|  235|  238|  213|  205|  233|  246|  246|  255|  263|  235|  254|  270|  259|  248|  217|  217|  197|  186|  200|  193|  202|  191|  199|  197|  249|  218|  260|  319|  254|  326|  347|  270|  372|  411|  448|  460|  419|  445|  546|  455|  490|  415|  442|  476|  425|  422|       172.0|            0.0|        17.0|182.0| 176.0|229.0|155.0|272.0|148.0| 154.0|164.0| 112.0|220.0| 178.0| 190.0| 205.0|282.0| 169.0| 207.0| 606.0|311.0| 179.0| 177.0| 191.0| 364.0| 159.0| 183.0| 239.0|134.0| 127.0|398.0| 101.0|257.0| 190.0|304.0| 310.0| 188.0|512.0| 245.0| 268.0|466.0| 307.0| 200.0| 224.0|292.0| 179.0| 480.0| 756.0| 797.0|960.0|222.0| 311.0| 340.0| 282.0|277.0| 283.0|\n",
      "+-----------+--------------------+-------+-----+-----+-----+-----+-----+-----+-----+-----+-----+-----+-----+-----+-----+-----+-----+-----+-----+-----+-----+-----+-----+-----+-----+-----+-----+-----+-----+-----+-----+-----+-----+-----+-----+-----+-----+-----+-----+-----+-----+-----+-----+-----+-----+-----+-----+-----+-----+-----+-----+-----+-----+-----+-----+------------+---------------+------------+-----+------+-----+-----+-----+-----+------+-----+------+-----+------+------+------+-----+------+------+------+-----+------+------+------+------+------+------+------+-----+------+-----+------+-----+------+-----+------+------+-----+------+------+-----+------+------+------+-----+------+------+------+------+-----+-----+------+------+------+-----+------+\n",
      "only showing top 2 rows\n",
      "\n"
     ]
    }
   ],
   "source": [
    "indexer = StringIndexer(inputCol = \"Y2013\",outputCol = '2013')\n",
    "df_fao1 = indexer.fit(df_fao1).transform(df_fao1)\n",
    "df_fao1.show(2)"
   ]
  },
  {
   "cell_type": "code",
   "execution_count": 83,
   "metadata": {},
   "outputs": [
    {
     "data": {
      "text/plain": [
       "['Area',\n",
       " 'Item',\n",
       " 'Element',\n",
       " 'Y1961',\n",
       " 'Y1962',\n",
       " 'Y1963',\n",
       " 'Y1964',\n",
       " 'Y1965',\n",
       " 'Y1966',\n",
       " 'Y1967',\n",
       " 'Y1968',\n",
       " 'Y1969',\n",
       " 'Y1970',\n",
       " 'Y1971',\n",
       " 'Y1972',\n",
       " 'Y1973',\n",
       " 'Y1974',\n",
       " 'Y1975',\n",
       " 'Y1976',\n",
       " 'Y1977',\n",
       " 'Y1978',\n",
       " 'Y1979',\n",
       " 'Y1980',\n",
       " 'Y1981',\n",
       " 'Y1982',\n",
       " 'Y1983',\n",
       " 'Y1984',\n",
       " 'Y1985',\n",
       " 'Y1986',\n",
       " 'Y1987',\n",
       " 'Y1988',\n",
       " 'Y1989',\n",
       " 'Y1990',\n",
       " 'Y1991',\n",
       " 'Y1992',\n",
       " 'Y1993',\n",
       " 'Y1994',\n",
       " 'Y1995',\n",
       " 'Y1996',\n",
       " 'Y1997',\n",
       " 'Y1998',\n",
       " 'Y1999',\n",
       " 'Y2000',\n",
       " 'Y2001',\n",
       " 'Y2002',\n",
       " 'Y2003',\n",
       " 'Y2004',\n",
       " 'Y2005',\n",
       " 'Y2006',\n",
       " 'Y2007',\n",
       " 'Y2008',\n",
       " 'Y2009',\n",
       " 'Y2010',\n",
       " 'Y2011',\n",
       " 'Y2012',\n",
       " 'Y2013',\n",
       " 'Area_indexed',\n",
       " 'Element_indexed',\n",
       " 'Item_indexed',\n",
       " '1961',\n",
       " '1962',\n",
       " '1963',\n",
       " '1964',\n",
       " '1965',\n",
       " '1966',\n",
       " '1967',\n",
       " '1968',\n",
       " '1969',\n",
       " '1970',\n",
       " '1971',\n",
       " '1972',\n",
       " '1973',\n",
       " '1974',\n",
       " '1975',\n",
       " '1976',\n",
       " '1977',\n",
       " '1978',\n",
       " '1979',\n",
       " '1980',\n",
       " '1981',\n",
       " '1982',\n",
       " '1983',\n",
       " '1984',\n",
       " '1985',\n",
       " '1986',\n",
       " '1987',\n",
       " '1988',\n",
       " '1989',\n",
       " '1990',\n",
       " '1991',\n",
       " '1992',\n",
       " '1993',\n",
       " '1994',\n",
       " '1995',\n",
       " '1996',\n",
       " '1997',\n",
       " '1998',\n",
       " '1999',\n",
       " '2000',\n",
       " '2001',\n",
       " '2002',\n",
       " '2003',\n",
       " '2004',\n",
       " '2005',\n",
       " '2006',\n",
       " '2007',\n",
       " '2008',\n",
       " '2009',\n",
       " '2010',\n",
       " '2011',\n",
       " '2012',\n",
       " '2013']"
      ]
     },
     "execution_count": 83,
     "metadata": {},
     "output_type": "execute_result"
    }
   ],
   "source": [
    "df_fao1.columns"
   ]
  },
  {
   "cell_type": "markdown",
   "metadata": {},
   "source": [
    "# Creating a Column of Indexed Features"
   ]
  },
  {
   "cell_type": "code",
   "execution_count": 84,
   "metadata": {},
   "outputs": [],
   "source": [
    "from pyspark.ml.feature import VectorAssembler\n",
    "featureAssembler = VectorAssembler(inputCols=['Area_indexed',\n",
    " 'Element_indexed',\n",
    " 'Item_indexed',\n",
    " '1961',\n",
    " '1962',\n",
    " '1963',\n",
    " '1964',\n",
    " '1965',\n",
    " '1966',\n",
    " '1967',\n",
    " '1968',\n",
    " '1969',\n",
    " '1970',\n",
    " '1971',\n",
    " '1972',\n",
    " '1973',\n",
    " '1974',\n",
    " '1975',\n",
    " '1976',\n",
    " '1977',\n",
    " '1978',\n",
    " '1979',\n",
    " '1980',\n",
    " '1981',\n",
    " '1982',\n",
    " '1983',\n",
    " '1984',\n",
    " '1985',\n",
    " '1986',\n",
    " '1987',\n",
    " '1988',\n",
    " '1989',\n",
    " '1990',\n",
    " '1991',\n",
    " '1992',\n",
    " '1993',\n",
    " '1994',\n",
    " '1995',\n",
    " '1996',\n",
    " '1997',\n",
    " '1998',\n",
    " '1999',\n",
    " '2000',\n",
    " '2001',\n",
    " '2002',\n",
    " '2003',\n",
    " '2004',\n",
    " '2005',\n",
    " '2006',\n",
    " '2007',\n",
    " '2008',\n",
    " '2009',\n",
    " '2010',\n",
    " '2011',\n",
    " '2012',\n",
    " '2013'], outputCol = 'Features')\n",
    "df_fao1 = featureAssembler.transform(df_fao1)"
   ]
  },
  {
   "cell_type": "code",
   "execution_count": 85,
   "metadata": {},
   "outputs": [
    {
     "name": "stdout",
     "output_type": "stream",
     "text": [
      "+--------------------+\n",
      "|            Features|\n",
      "+--------------------+\n",
      "|[172.0,0.0,12.0,5...|\n",
      "|[172.0,0.0,17.0,1...|\n",
      "|[172.0,1.0,11.0,6...|\n",
      "|[172.0,0.0,11.0,1...|\n",
      "|[172.0,1.0,4.0,50...|\n",
      "|[172.0,0.0,4.0,42...|\n",
      "|[172.0,0.0,42.0,2...|\n",
      "|(56,[0,2,45,46,47...|\n",
      "|[172.0,0.0,19.0,9...|\n",
      "|[172.0,1.0,108.0,...|\n",
      "|(56,[0,1,2,8,9,10...|\n",
      "|[172.0,0.0,31.0,4...|\n",
      "|(56,[0,2,44,45,46...|\n",
      "|[172.0,0.0,73.0,3...|\n",
      "|[172.0,1.0,18.0,2...|\n",
      "|[172.0,0.0,18.0,1...|\n",
      "|[172.0,0.0,64.0,3...|\n",
      "|(56,[0,2,33,39],[...|\n",
      "|[172.0,0.0,101.0,...|\n",
      "|(56,[0,2,28,45,46...|\n",
      "+--------------------+\n",
      "only showing top 20 rows\n",
      "\n"
     ]
    }
   ],
   "source": [
    "output = df_fao1.select('Features').show()"
   ]
  },
  {
   "cell_type": "markdown",
   "metadata": {},
   "source": [
    "# EDA\n"
   ]
  },
  {
   "cell_type": "code",
   "execution_count": 86,
   "metadata": {},
   "outputs": [],
   "source": [
    "df_fao = spark.read.option('header','true').option('inferSchema','true').csv(\"FAO.csv\")"
   ]
  },
  {
   "cell_type": "code",
   "execution_count": 87,
   "metadata": {},
   "outputs": [
    {
     "name": "stdout",
     "output_type": "stream",
     "text": [
      "+-------+-----------------+------------------+-----------+------------------+-------------------+-----------------+-------+-----------+-----------------+-----------------+------------------+------------------+-----------------+------------------+------------------+------------------+------------------+------------------+------------------+------------------+------------------+------------------+-----------------+------------------+------------------+------------------+-----------------+------------------+------------------+------------------+------------------+-----------------+------------------+------------------+------------------+------------------+------------------+------------------+------------------+------------------+------------------+------------------+-----------------+-----------------+------------------+-----------------+------------------+-----------------+------------------+-----------------+------------------+------------------+-----------------+------------------+-----------------+------------------+------------------+-----------------+-----------------+-----------------+-----------------+-----------------+-----------------+\n",
      "|summary|Area Abbreviation|         Area Code|       Area|         Item Code|               Item|     Element Code|Element|       Unit|         latitude|        longitude|             Y1961|             Y1962|            Y1963|             Y1964|             Y1965|             Y1966|             Y1967|             Y1968|             Y1969|             Y1970|             Y1971|             Y1972|            Y1973|             Y1974|             Y1975|             Y1976|            Y1977|             Y1978|             Y1979|             Y1980|             Y1981|            Y1982|             Y1983|             Y1984|             Y1985|             Y1986|             Y1987|             Y1988|             Y1989|             Y1990|             Y1991|             Y1992|            Y1993|            Y1994|             Y1995|            Y1996|             Y1997|            Y1998|             Y1999|            Y2000|             Y2001|             Y2002|            Y2003|             Y2004|            Y2005|             Y2006|             Y2007|            Y2008|            Y2009|            Y2010|            Y2011|            Y2012|            Y2013|\n",
      "+-------+-----------------+------------------+-----------+------------------+-------------------+-----------------+-------+-----------+-----------------+-----------------+------------------+------------------+-----------------+------------------+------------------+------------------+------------------+------------------+------------------+------------------+------------------+------------------+-----------------+------------------+------------------+------------------+-----------------+------------------+------------------+------------------+------------------+-----------------+------------------+------------------+------------------+------------------+------------------+------------------+------------------+------------------+------------------+------------------+-----------------+-----------------+------------------+-----------------+------------------+-----------------+------------------+-----------------+------------------+------------------+-----------------+------------------+-----------------+------------------+------------------+-----------------+-----------------+-----------------+-----------------+-----------------+-----------------+\n",
      "|  count|            21477|             21477|      21477|             21477|              21477|            21477|  21477|      21477|            21477|            21477|             17938|             17938|            17938|             17938|             17938|             17938|             17938|             17938|             17938|             17938|             17938|             17938|            17938|             17938|             17938|             17938|            17938|             17938|             17938|             17938|             17938|            17938|             17938|             17938|             17938|             17938|             17938|             17938|             17938|             18062|             18062|             20490|            20865|            20865|             20865|            20865|             20865|            20865|             20865|            21128|             21128|             21128|            21128|             21128|            21128|             21373|             21373|            21373|            21373|            21373|            21373|            21477|            21477|\n",
      "|   mean|             null|125.44941099781161|       null|2694.2115286120033|               null|5211.687153699306|   null|       null| 20.4506127485216|15.79444522046802|195.26206934998328| 200.7822499721262|205.4646002898874|209.92557698740106|217.55675103133015|225.98896198015387|230.41922176385327|238.41548667632958|244.34095216858066| 250.2622365927082|254.23865536849146|257.45467722154086|267.3233359348868|267.12654699520573| 274.4435277065448|276.57336380867434|285.9630951053629|299.79016612777343| 305.8350986732077|305.66607202586687| 311.6564276953952|320.9811573196566|  326.911472850931|339.55786598282975|344.34546772215407|351.74322666963985| 361.9417995317204|363.97636302820825| 372.3516557029769|375.41811538035654|379.44995017163103| 386.0077598828697|389.3093697579679| 397.079606997364|404.49082195063505|415.2619218787443|421.62305295950154|428.8785046728972|441.67701893122455| 451.771819386596|458.72382620219616|465.45896440742143|472.6932979931844| 486.6907421431276|493.1532563422946|496.31932812426896|508.48210358863986|522.8448977682123|524.5819959762317|535.4920694333973|553.3992420343424|560.5692135773153|575.5574800949853|\n",
      "| stddev|             null|  72.8681487490677|       null|148.97340606165656|               null|146.8200788243601|   null|       null|24.62833642462533|66.01210365112169|1864.1243355636907|1884.2655907231747|1861.174738897301|1862.0001160770694| 2014.934333281746|2100.2283536621885|2132.2447172994143| 2189.166883134578|2266.9646265887386|2322.9677332034385| 2372.627182299142|2421.9643218051433|2528.042607857372|2365.4119866942833|2464.3768335976074| 2427.373748918778|2555.249955403878| 2757.473983747133|2768.3743980610316|2730.4339076130263|2774.2650323519765|2931.209477775291|3002.9299139684304|3101.6321490797604|3094.2416894486596|3231.4805971604505|3312.0985948039875| 3236.741120169707|3349.6029113461136|3422.8240694164024| 3453.922037323982|3509.2904471725146|3555.648725868775|3714.324984351477|3754.2819289035187|3962.388447738867|4036.1019053549417|4149.057052106635| 4340.531659735868|4649.579544109052| 4751.597094297741| 4868.625665980099|4911.216237158427|5001.7820077125425|5100.057036284888| 5134.819373164054| 5298.939807127685|5496.697512670683| 5545.93930326087|5721.089425337074|5883.071603767298|6047.950803503936|6218.379479345674|\n",
      "|    min|              AFG|                 1|Afghanistan|              2511|Alcoholic Beverages|             5142|   Feed|1000 tonnes|            -40.9|           -172.1|                 0|                 0|                0|                 0|                 0|                 0|                 0|                 0|                 0|                 0|                 0|                 0|                0|                 0|                 0|                 0|                0|                 0|                 0|                 0|                 0|                0|                 0|                 0|                 0|                 0|                 0|                 0|                 0|                 0|                 0|                 0|                0|                0|                 0|                0|                 0|                0|                 0|                0|                 0|                 0|                0|                 0|                0|                 0|                 0|                0|                0|                0|                0|             -169|             -246|\n",
      "|    max|              ZWE|               276|   Zimbabwe|              2961|               Yams|             5521|   Food|1000 tonnes|            64.96|           179.41|            112227|            109130|           106356|            104234|            119378|            118495|            118725|            127512|            134937|            131871|            143407|            147793|           142439|            118872|            123842|            126359|           128840|            142403|            147401|            151742|            157179|           172222|            182221|            187020|            188438|            189999|            190010|            189180|            192403|            201072|            193224|            197464|           202770|           204581|            208137|           210855|            221456|           229928|            255625|           311110|            327370|            352172|           354850|            360767|           373694|            388100|            402975|           425537|           434724|           451838|           462696|           479028|           489299|\n",
      "+-------+-----------------+------------------+-----------+------------------+-------------------+-----------------+-------+-----------+-----------------+-----------------+------------------+------------------+-----------------+------------------+------------------+------------------+------------------+------------------+------------------+------------------+------------------+------------------+-----------------+------------------+------------------+------------------+-----------------+------------------+------------------+------------------+------------------+-----------------+------------------+------------------+------------------+------------------+------------------+------------------+------------------+------------------+------------------+------------------+-----------------+-----------------+------------------+-----------------+------------------+-----------------+------------------+-----------------+------------------+------------------+-----------------+------------------+-----------------+------------------+------------------+-----------------+-----------------+-----------------+-----------------+-----------------+-----------------+\n",
      "\n"
     ]
    }
   ],
   "source": [
    "df_fao.describe().show()"
   ]
  },
  {
   "cell_type": "code",
   "execution_count": 88,
   "metadata": {},
   "outputs": [
    {
     "name": "stdout",
     "output_type": "stream",
     "text": [
      "+-------+-----------+-------+-------------------+-----------+\n",
      "|summary|       Area|Element|               Item|       Unit|\n",
      "+-------+-----------+-------+-------------------+-----------+\n",
      "|  count|      21477|  21477|              21477|      21477|\n",
      "|   mean|       null|   null|               null|       null|\n",
      "| stddev|       null|   null|               null|       null|\n",
      "|    min|Afghanistan|   Feed|Alcoholic Beverages|1000 tonnes|\n",
      "|    max|   Zimbabwe|   Food|               Yams|1000 tonnes|\n",
      "+-------+-----------+-------+-------------------+-----------+\n",
      "\n"
     ]
    }
   ],
   "source": [
    "Cols = ['Area','Element','Item','Unit']\n",
    "df_fao.select(Cols).describe().show()"
   ]
  },
  {
   "cell_type": "code",
   "execution_count": 89,
   "metadata": {},
   "outputs": [
    {
     "name": "stdout",
     "output_type": "stream",
     "text": [
      "+-------+------------------+-----------------+-----------------+------------------+\n",
      "|summary|         Area Code|Area Abbreviation|     Element Code|         Item Code|\n",
      "+-------+------------------+-----------------+-----------------+------------------+\n",
      "|  count|             21477|            21477|            21477|             21477|\n",
      "|   mean|125.44941099781161|             null|5211.687153699306|2694.2115286120033|\n",
      "| stddev|  72.8681487490677|             null|146.8200788243601|148.97340606165656|\n",
      "|    min|                 1|              AFG|             5142|              2511|\n",
      "|    max|               276|              ZWE|             5521|              2961|\n",
      "+-------+------------------+-----------------+-----------------+------------------+\n",
      "\n"
     ]
    }
   ],
   "source": [
    "Cols = ['Area Code','Area Abbreviation','Element Code','Item Code']\n",
    "df_fao.select(Cols).describe().show()"
   ]
  },
  {
   "cell_type": "code",
   "execution_count": 90,
   "metadata": {},
   "outputs": [
    {
     "name": "stdout",
     "output_type": "stream",
     "text": [
      "+-------+------------------+------------------+-----------------+------------------+------------------+------------------+------------------+------------------+------------------+------------------+------------------+------------------+-----------------+------------------+------------------+------------------+-----------------+------------------+------------------+------------------+------------------+-----------------+------------------+------------------+------------------+------------------+------------------+------------------+------------------+------------------+------------------+------------------+-----------------+-----------------+------------------+-----------------+------------------+-----------------+------------------+-----------------+------------------+------------------+-----------------+------------------+-----------------+------------------+------------------+-----------------+-----------------+-----------------+-----------------+-----------------+-----------------+\n",
      "|summary|             Y1961|             Y1962|            Y1963|             Y1964|             Y1965|             Y1966|             Y1967|             Y1968|             Y1969|             Y1970|             Y1971|             Y1972|            Y1973|             Y1974|             Y1975|             Y1976|            Y1977|             Y1978|             Y1979|             Y1980|             Y1981|            Y1982|             Y1983|             Y1984|             Y1985|             Y1986|             Y1987|             Y1988|             Y1989|             Y1990|             Y1991|             Y1992|            Y1993|            Y1994|             Y1995|            Y1996|             Y1997|            Y1998|             Y1999|            Y2000|             Y2001|             Y2002|            Y2003|             Y2004|            Y2005|             Y2006|             Y2007|            Y2008|            Y2009|            Y2010|            Y2011|            Y2012|            Y2013|\n",
      "+-------+------------------+------------------+-----------------+------------------+------------------+------------------+------------------+------------------+------------------+------------------+------------------+------------------+-----------------+------------------+------------------+------------------+-----------------+------------------+------------------+------------------+------------------+-----------------+------------------+------------------+------------------+------------------+------------------+------------------+------------------+------------------+------------------+------------------+-----------------+-----------------+------------------+-----------------+------------------+-----------------+------------------+-----------------+------------------+------------------+-----------------+------------------+-----------------+------------------+------------------+-----------------+-----------------+-----------------+-----------------+-----------------+-----------------+\n",
      "|  count|             17938|             17938|            17938|             17938|             17938|             17938|             17938|             17938|             17938|             17938|             17938|             17938|            17938|             17938|             17938|             17938|            17938|             17938|             17938|             17938|             17938|            17938|             17938|             17938|             17938|             17938|             17938|             17938|             17938|             18062|             18062|             20490|            20865|            20865|             20865|            20865|             20865|            20865|             20865|            21128|             21128|             21128|            21128|             21128|            21128|             21373|             21373|            21373|            21373|            21373|            21373|            21477|            21477|\n",
      "|   mean|195.26206934998328| 200.7822499721262|205.4646002898874|209.92557698740106|217.55675103133015|225.98896198015387|230.41922176385327|238.41548667632958|244.34095216858066| 250.2622365927082|254.23865536849146|257.45467722154086|267.3233359348868|267.12654699520573| 274.4435277065448|276.57336380867434|285.9630951053629|299.79016612777343| 305.8350986732077|305.66607202586687| 311.6564276953952|320.9811573196566|  326.911472850931|339.55786598282975|344.34546772215407|351.74322666963985| 361.9417995317204|363.97636302820825| 372.3516557029769|375.41811538035654|379.44995017163103| 386.0077598828697|389.3093697579679| 397.079606997364|404.49082195063505|415.2619218787443|421.62305295950154|428.8785046728972|441.67701893122455| 451.771819386596|458.72382620219616|465.45896440742143|472.6932979931844| 486.6907421431276|493.1532563422946|496.31932812426896|508.48210358863986|522.8448977682123|524.5819959762317|535.4920694333973|553.3992420343424|560.5692135773153|575.5574800949853|\n",
      "| stddev|1864.1243355636907|1884.2655907231747|1861.174738897301|1862.0001160770694| 2014.934333281746|2100.2283536621885|2132.2447172994143| 2189.166883134578|2266.9646265887386|2322.9677332034385| 2372.627182299142|2421.9643218051433|2528.042607857372|2365.4119866942833|2464.3768335976074| 2427.373748918778|2555.249955403878| 2757.473983747133|2768.3743980610316|2730.4339076130263|2774.2650323519765|2931.209477775291|3002.9299139684304|3101.6321490797604|3094.2416894486596|3231.4805971604505|3312.0985948039875| 3236.741120169707|3349.6029113461136|3422.8240694164024| 3453.922037323982|3509.2904471725146|3555.648725868775|3714.324984351477|3754.2819289035187|3962.388447738867|4036.1019053549417|4149.057052106635| 4340.531659735868|4649.579544109052| 4751.597094297741| 4868.625665980099|4911.216237158427|5001.7820077125425|5100.057036284888| 5134.819373164054| 5298.939807127685|5496.697512670683| 5545.93930326087|5721.089425337074|5883.071603767298|6047.950803503936|6218.379479345674|\n",
      "|    min|                 0|                 0|                0|                 0|                 0|                 0|                 0|                 0|                 0|                 0|                 0|                 0|                0|                 0|                 0|                 0|                0|                 0|                 0|                 0|                 0|                0|                 0|                 0|                 0|                 0|                 0|                 0|                 0|                 0|                 0|                 0|                0|                0|                 0|                0|                 0|                0|                 0|                0|                 0|                 0|                0|                 0|                0|                 0|                 0|                0|                0|                0|                0|             -169|             -246|\n",
      "|    max|            112227|            109130|           106356|            104234|            119378|            118495|            118725|            127512|            134937|            131871|            143407|            147793|           142439|            118872|            123842|            126359|           128840|            142403|            147401|            151742|            157179|           172222|            182221|            187020|            188438|            189999|            190010|            189180|            192403|            201072|            193224|            197464|           202770|           204581|            208137|           210855|            221456|           229928|            255625|           311110|            327370|            352172|           354850|            360767|           373694|            388100|            402975|           425537|           434724|           451838|           462696|           479028|           489299|\n",
      "+-------+------------------+------------------+-----------------+------------------+------------------+------------------+------------------+------------------+------------------+------------------+------------------+------------------+-----------------+------------------+------------------+------------------+-----------------+------------------+------------------+------------------+------------------+-----------------+------------------+------------------+------------------+------------------+------------------+------------------+------------------+------------------+------------------+------------------+-----------------+-----------------+------------------+-----------------+------------------+-----------------+------------------+-----------------+------------------+------------------+-----------------+------------------+-----------------+------------------+------------------+-----------------+-----------------+-----------------+-----------------+-----------------+-----------------+\n",
      "\n"
     ]
    }
   ],
   "source": [
    "Cols = ['Y1961','Y1962','Y1963','Y1964',\n",
    "'Y1965','Y1966','Y1967','Y1968','Y1969','Y1970','Y1971','Y1972',\n",
    "'Y1973','Y1974','Y1975','Y1976','Y1977','Y1978','Y1979','Y1980','Y1981','Y1982',\n",
    "'Y1983','Y1984','Y1985','Y1986','Y1987','Y1988','Y1989','Y1990','Y1991','Y1992','Y1993','Y1994','Y1995',\n",
    "'Y1996','Y1997','Y1998','Y1999','Y2000','Y2001','Y2002','Y2003','Y2004','Y2005','Y2006','Y2007','Y2008',\n",
    "'Y2009','Y2010','Y2011','Y2012','Y2013']\n",
    "df_fao.select(Cols).describe().show()"
   ]
  },
  {
   "cell_type": "code",
   "execution_count": 91,
   "metadata": {},
   "outputs": [],
   "source": [
    "import pandas as pd\n",
    "import numpy as np\n",
    "import matplotlib.pyplot as plt\n",
    "import seaborn as sns"
   ]
  },
  {
   "cell_type": "code",
   "execution_count": 92,
   "metadata": {},
   "outputs": [
    {
     "name": "stdout",
     "output_type": "stream",
     "text": [
      "Requirement already satisfied: chart_studio in /opt/anaconda3/lib/python3.7/site-packages (1.1.0)\n",
      "Requirement already satisfied: six in /opt/anaconda3/lib/python3.7/site-packages (from chart_studio) (1.14.0)\n",
      "Requirement already satisfied: requests in /opt/anaconda3/lib/python3.7/site-packages (from chart_studio) (2.22.0)\n",
      "Requirement already satisfied: retrying>=1.3.3 in /opt/anaconda3/lib/python3.7/site-packages (from chart_studio) (1.3.3)\n",
      "Requirement already satisfied: plotly in /opt/anaconda3/lib/python3.7/site-packages (from chart_studio) (4.14.3)\n",
      "Requirement already satisfied: idna<2.9,>=2.5 in /opt/anaconda3/lib/python3.7/site-packages (from requests->chart_studio) (2.8)\n",
      "Requirement already satisfied: urllib3!=1.25.0,!=1.25.1,<1.26,>=1.21.1 in /opt/anaconda3/lib/python3.7/site-packages (from requests->chart_studio) (1.25.8)\n",
      "Requirement already satisfied: certifi>=2017.4.17 in /opt/anaconda3/lib/python3.7/site-packages (from requests->chart_studio) (2019.11.28)\n",
      "Requirement already satisfied: chardet<3.1.0,>=3.0.2 in /opt/anaconda3/lib/python3.7/site-packages (from requests->chart_studio) (3.0.4)\n",
      "Note: you may need to restart the kernel to use updated packages.\n"
     ]
    }
   ],
   "source": [
    "pip install chart_studio"
   ]
  },
  {
   "cell_type": "code",
   "execution_count": 93,
   "metadata": {},
   "outputs": [],
   "source": [
    "from pyspark.sql import SQLContext\n",
    "sqlContext = SQLContext(sc)\n",
    "\n",
    "import chart_studio.plotly as py\n",
    "import plotly.graph_objs as go\n",
    "import pandas as pd\n",
    "import requests\n",
    "requests.packages.urllib3.disable_warnings()\n"
   ]
  },
  {
   "cell_type": "code",
   "execution_count": 94,
   "metadata": {},
   "outputs": [
    {
     "data": {
      "text/plain": [
       "[Row(Area Abbreviation='AFG', Area Code=2, Area='Afghanistan', Item Code=2511, Item='Wheat and products', Element Code=5142, Element='Food', Unit='1000 tonnes', latitude=33.94, longitude=67.71, Y1961=1928, Y1962=1904, Y1963=1666, Y1964=1950, Y1965=2001, Y1966=1808, Y1967=2053, Y1968=2045, Y1969=2154, Y1970=1819, Y1971=1963, Y1972=2215, Y1973=2310, Y1974=2335, Y1975=2434, Y1976=2512, Y1977=2282, Y1978=2454, Y1979=2443, Y1980=2129, Y1981=2133, Y1982=2068, Y1983=1994, Y1984=1851, Y1985=1791, Y1986=1683, Y1987=2194, Y1988=1801, Y1989=1754, Y1990=1640, Y1991=1539, Y1992=1582, Y1993=1840, Y1994=1855, Y1995=1853, Y1996=2177, Y1997=2343, Y1998=2407, Y1999=2463, Y2000=2600, Y2001=2668, Y2002=2776, Y2003=3095, Y2004=3249, Y2005=3486, Y2006=3704, Y2007=4164, Y2008=4252, Y2009=4538, Y2010=4605, Y2011=4711, Y2012=4810, Y2013=4895),\n",
       " Row(Area Abbreviation='AFG', Area Code=2, Area='Afghanistan', Item Code=2805, Item='Rice (Milled Equivalent)', Element Code=5142, Element='Food', Unit='1000 tonnes', latitude=33.94, longitude=67.71, Y1961=183, Y1962=183, Y1963=182, Y1964=220, Y1965=220, Y1966=195, Y1967=231, Y1968=235, Y1969=238, Y1970=213, Y1971=205, Y1972=233, Y1973=246, Y1974=246, Y1975=255, Y1976=263, Y1977=235, Y1978=254, Y1979=270, Y1980=259, Y1981=248, Y1982=217, Y1983=217, Y1984=197, Y1985=186, Y1986=200, Y1987=193, Y1988=202, Y1989=191, Y1990=199, Y1991=197, Y1992=249, Y1993=218, Y1994=260, Y1995=319, Y1996=254, Y1997=326, Y1998=347, Y1999=270, Y2000=372, Y2001=411, Y2002=448, Y2003=460, Y2004=419, Y2005=445, Y2006=546, Y2007=455, Y2008=490, Y2009=415, Y2010=442, Y2011=476, Y2012=425, Y2013=422),\n",
       " Row(Area Abbreviation='AFG', Area Code=2, Area='Afghanistan', Item Code=2513, Item='Barley and products', Element Code=5521, Element='Feed', Unit='1000 tonnes', latitude=33.94, longitude=67.71, Y1961=76, Y1962=76, Y1963=76, Y1964=76, Y1965=76, Y1966=75, Y1967=71, Y1968=72, Y1969=73, Y1970=74, Y1971=71, Y1972=70, Y1973=72, Y1974=76, Y1975=77, Y1976=80, Y1977=60, Y1978=65, Y1979=64, Y1980=64, Y1981=60, Y1982=55, Y1983=53, Y1984=51, Y1985=48, Y1986=46, Y1987=46, Y1988=47, Y1989=46, Y1990=43, Y1991=43, Y1992=40, Y1993=50, Y1994=46, Y1995=41, Y1996=44, Y1997=50, Y1998=48, Y1999=43, Y2000=26, Y2001=29, Y2002=70, Y2003=48, Y2004=58, Y2005=236, Y2006=262, Y2007=263, Y2008=230, Y2009=379, Y2010=315, Y2011=203, Y2012=367, Y2013=360)]"
      ]
     },
     "execution_count": 94,
     "metadata": {},
     "output_type": "execute_result"
    }
   ],
   "source": [
    "df_fao.take(3)"
   ]
  },
  {
   "cell_type": "code",
   "execution_count": 95,
   "metadata": {},
   "outputs": [
    {
     "name": "stdout",
     "output_type": "stream",
     "text": [
      "+-----------------+---------+-----------+---------+--------------------+------------+-------+-----------+--------+---------+-----+-----+-----+-----+-----+-----+-----+-----+-----+-----+-----+-----+-----+-----+-----+-----+-----+-----+-----+-----+-----+-----+-----+-----+-----+-----+-----+-----+-----+-----+-----+-----+-----+-----+-----+-----+-----+-----+-----+-----+-----+-----+-----+-----+-----+-----+-----+-----+-----+-----+-----+-----+-----+----------------+\n",
      "|Area Abbreviation|Area Code|       Area|Item Code|                Item|Element Code|Element|       Unit|latitude|longitude|Y1961|Y1962|Y1963|Y1964|Y1965|Y1966|Y1967|Y1968|Y1969|Y1970|Y1971|Y1972|Y1973|Y1974|Y1975|Y1976|Y1977|Y1978|Y1979|Y1980|Y1981|Y1982|Y1983|Y1984|Y1985|Y1986|Y1987|Y1988|Y1989|Y1990|Y1991|Y1992|Y1993|Y1994|Y1995|Y1996|Y1997|Y1998|Y1999|Y2000|Y2001|Y2002|Y2003|Y2004|Y2005|Y2006|Y2007|Y2008|Y2009|Y2010|Y2011|Y2012|Y2013|Total_Production|\n",
      "+-----------------+---------+-----------+---------+--------------------+------------+-------+-----------+--------+---------+-----+-----+-----+-----+-----+-----+-----+-----+-----+-----+-----+-----+-----+-----+-----+-----+-----+-----+-----+-----+-----+-----+-----+-----+-----+-----+-----+-----+-----+-----+-----+-----+-----+-----+-----+-----+-----+-----+-----+-----+-----+-----+-----+-----+-----+-----+-----+-----+-----+-----+-----+-----+-----+----------------+\n",
      "|              AFG|        2|Afghanistan|     2511|  Wheat and products|        5142|   Food|1000 tonnes|   33.94|    67.71| 1928| 1904| 1666| 1950| 2001| 1808| 2053| 2045| 2154| 1819| 1963| 2215| 2310| 2335| 2434| 2512| 2282| 2454| 2443| 2129| 2133| 2068| 1994| 1851| 1791| 1683| 2194| 1801| 1754| 1640| 1539| 1582| 1840| 1855| 1853| 2177| 2343| 2407| 2463| 2600| 2668| 2776| 3095| 3249| 3486| 3704| 4164| 4252| 4538| 4605| 4711| 4810| 4895|          132926|\n",
      "|              AFG|        2|Afghanistan|     2805|Rice (Milled Equi...|        5142|   Food|1000 tonnes|   33.94|    67.71|  183|  183|  182|  220|  220|  195|  231|  235|  238|  213|  205|  233|  246|  246|  255|  263|  235|  254|  270|  259|  248|  217|  217|  197|  186|  200|  193|  202|  191|  199|  197|  249|  218|  260|  319|  254|  326|  347|  270|  372|  411|  448|  460|  419|  445|  546|  455|  490|  415|  442|  476|  425|  422|           15282|\n",
      "|              AFG|        2|Afghanistan|     2513| Barley and products|        5521|   Feed|1000 tonnes|   33.94|    67.71|   76|   76|   76|   76|   76|   75|   71|   72|   73|   74|   71|   70|   72|   76|   77|   80|   60|   65|   64|   64|   60|   55|   53|   51|   48|   46|   46|   47|   46|   43|   43|   40|   50|   46|   41|   44|   50|   48|   43|   26|   29|   70|   48|   58|  236|  262|  263|  230|  379|  315|  203|  367|  360|            5190|\n",
      "|              AFG|        2|Afghanistan|     2513| Barley and products|        5142|   Food|1000 tonnes|   33.94|    67.71|  237|  237|  237|  238|  238|  237|  225|  227|  230|  234|  223|  219|  225|  240|  244|  255|  185|  203|  198|  202|  189|  174|  167|  160|  151|  145|  145|  148|  145|  135|  132|  120|  155|  143|  125|  138|  159|  154|  141|   84|   83|  122|  144|  185|   43|   44|   48|   62|   55|   60|   72|   78|   89|            8529|\n",
      "|              AFG|        2|Afghanistan|     2514|  Maize and products|        5521|   Feed|1000 tonnes|   33.94|    67.71|  210|  210|  214|  216|  216|  216|  235|  232|  236|  200|  201|  216|  228|  231|  234|  240|  228|  234|  228|  226|  210|  199|  192|  182|  173|  170|  154|  148|  137|  144|  126|   90|  141|  150|  159|  108|   90|   99|   72|   35|   48|   89|   63|  120|  208|  233|  249|  247|  195|  178|  191|  200|  200|            9451|\n",
      "+-----------------+---------+-----------+---------+--------------------+------------+-------+-----------+--------+---------+-----+-----+-----+-----+-----+-----+-----+-----+-----+-----+-----+-----+-----+-----+-----+-----+-----+-----+-----+-----+-----+-----+-----+-----+-----+-----+-----+-----+-----+-----+-----+-----+-----+-----+-----+-----+-----+-----+-----+-----+-----+-----+-----+-----+-----+-----+-----+-----+-----+-----+-----+-----+-----+----------------+\n",
      "only showing top 5 rows\n",
      "\n"
     ]
    }
   ],
   "source": [
    "import pyspark.sql.functions as F\n",
    "df_fao_new = df_fao.withColumn(\"Total_Production\", F.col('Y1961') + F.col(\"Y1962\") + F.col('Y1963') \n",
    "                               + F.col(\"Y1964\") + F.col(\"Y1965\") + F.col('Y1966') + F.col(\"Y1967\")+ \n",
    "                               F.col(\"Y1968\") + F.col('Y1969') + F.col(\"Y1970\") + F.col(\"Y1971\") + \n",
    "                               F.col('Y1972') + F.col(\"Y1973\")+ F.col(\"Y1974\") + F.col('Y1975') + \n",
    "                               F.col(\"Y1976\") + F.col(\"Y1977\") + F.col('Y1978') + F.col(\"Y1979\")+ \n",
    "                               F.col(\"Y1980\") + F.col('Y1981') + F.col(\"Y1982\") + F.col(\"Y1983\") + \n",
    "                               F.col('Y1984') + F.col(\"Y1985\")+ F.col(\"Y1986\") + F.col('Y1987') \n",
    "                               + F.col(\"Y1988\") + F.col(\"Y1989\") + F.col('Y1990') + F.col(\"Y1991\")+ F.col(\"Y1992\") \n",
    "                               + F.col(\"Y1993\") + F.col('Y1994') + F.col(\"Y1995\")+ F.col(\"Y1996\") + F.col('Y1997') \n",
    "                               + F.col(\"Y1998\") + F.col(\"Y1999\") + F.col('Y2000') + F.col('Y2001') + \n",
    "                               F.col('Y2002') + F.col('Y2003') + F.col('Y2004') + F.col('Y2005') + \n",
    "                               F.col('Y2006') + F.col('Y2007')+ F.col('Y2008') + F.col('Y2009') + \n",
    "                               F.col('Y2010') + F.col('Y2011') + F.col('Y2012') + F.col('Y2013') )\n",
    "df_fao_new.show(5)"
   ]
  },
  {
   "cell_type": "code",
   "execution_count": 96,
   "metadata": {},
   "outputs": [
    {
     "name": "stdout",
     "output_type": "stream",
     "text": [
      "+-----------------+---------+-----------+---------+------------------+------------+-------+-----------+--------+---------+-----+-----+-----+-----+-----+-----+-----+-----+-----+-----+-----+-----+-----+-----+-----+-----+-----+-----+-----+-----+-----+-----+-----+-----+-----+-----+-----+-----+-----+-----+-----+-----+-----+-----+-----+-----+-----+-----+-----+-----+-----+-----+-----+-----+-----+-----+-----+-----+-----+-----+-----+-----+-----+----------------+\n",
      "|Area Abbreviation|Area Code|       Area|Item Code|              Item|Element Code|Element|       Unit|latitude|longitude|Y1961|Y1962|Y1963|Y1964|Y1965|Y1966|Y1967|Y1968|Y1969|Y1970|Y1971|Y1972|Y1973|Y1974|Y1975|Y1976|Y1977|Y1978|Y1979|Y1980|Y1981|Y1982|Y1983|Y1984|Y1985|Y1986|Y1987|Y1988|Y1989|Y1990|Y1991|Y1992|Y1993|Y1994|Y1995|Y1996|Y1997|Y1998|Y1999|Y2000|Y2001|Y2002|Y2003|Y2004|Y2005|Y2006|Y2007|Y2008|Y2009|Y2010|Y2011|Y2012|Y2013|Total_Production|\n",
      "+-----------------+---------+-----------+---------+------------------+------------+-------+-----------+--------+---------+-----+-----+-----+-----+-----+-----+-----+-----+-----+-----+-----+-----+-----+-----+-----+-----+-----+-----+-----+-----+-----+-----+-----+-----+-----+-----+-----+-----+-----+-----+-----+-----+-----+-----+-----+-----+-----+-----+-----+-----+-----+-----+-----+-----+-----+-----+-----+-----+-----+-----+-----+-----+-----+----------------+\n",
      "|              AFG|        2|Afghanistan|     2511|Wheat and products|        5142|   Food|1000 tonnes|   33.94|    67.71| 1928| 1904| 1666| 1950| 2001| 1808| 2053| 2045| 2154| 1819| 1963| 2215| 2310| 2335| 2434| 2512| 2282| 2454| 2443| 2129| 2133| 2068| 1994| 1851| 1791| 1683| 2194| 1801| 1754| 1640| 1539| 1582| 1840| 1855| 1853| 2177| 2343| 2407| 2463| 2600| 2668| 2776| 3095| 3249| 3486| 3704| 4164| 4252| 4538| 4605| 4711| 4810| 4895|          132926|\n",
      "+-----------------+---------+-----------+---------+------------------+------------+-------+-----------+--------+---------+-----+-----+-----+-----+-----+-----+-----+-----+-----+-----+-----+-----+-----+-----+-----+-----+-----+-----+-----+-----+-----+-----+-----+-----+-----+-----+-----+-----+-----+-----+-----+-----+-----+-----+-----+-----+-----+-----+-----+-----+-----+-----+-----+-----+-----+-----+-----+-----+-----+-----+-----+-----+-----+----------------+\n",
      "only showing top 1 row\n",
      "\n"
     ]
    }
   ],
   "source": [
    "df_food = df_fao_new[df_fao_new['Element']=='Food']\n",
    "df_food.show(1)"
   ]
  },
  {
   "cell_type": "code",
   "execution_count": 97,
   "metadata": {},
   "outputs": [
    {
     "name": "stdout",
     "output_type": "stream",
     "text": [
      "+--------------------+----------------+\n",
      "|                Item|Total_Production|\n",
      "+--------------------+----------------+\n",
      "|  Wheat and products|          132926|\n",
      "|Rice (Milled Equi...|           15282|\n",
      "| Barley and products|            8529|\n",
      "|  Maize and products|           15216|\n",
      "| Millet and products|            1180|\n",
      "|      Cereals, Other|               5|\n",
      "|Potatoes and prod...|           10625|\n",
      "|Sugar (Raw Equiva...|            4859|\n",
      "|   Sweeteners, Other|             132|\n",
      "|               Honey|             169|\n",
      "|Pulses, Other and...|            1660|\n",
      "|   Nuts and products|             808|\n",
      "|Coconuts - Incl C...|               2|\n",
      "|         Sesame seed|             675|\n",
      "|Olives (including...|              17|\n",
      "|        Soyabean Oil|             334|\n",
      "|       Groundnut Oil|               0|\n",
      "|   Sunflowerseed Oil|             296|\n",
      "|Rape and Mustard Oil|              28|\n",
      "|      Cottonseed Oil|             304|\n",
      "+--------------------+----------------+\n",
      "only showing top 20 rows\n",
      "\n"
     ]
    }
   ],
   "source": [
    " df_food.select('Item','Total_Production').show()"
   ]
  },
  {
   "cell_type": "markdown",
   "metadata": {},
   "source": [
    "# BOX AND VIOLIN PLOTS\n"
   ]
  },
  {
   "cell_type": "code",
   "execution_count": 98,
   "metadata": {},
   "outputs": [
    {
     "data": {
      "image/png": "[encoded data removed]",
      "text/plain": [
       "<Figure size 1440x576 with 2 Axes>"
      ]
     },
     "metadata": {
      "needs_background": "light"
     },
     "output_type": "display_data"
    }
   ],
   "source": [
    "x = df_fao.select('Area Code').toPandas()\n",
    "\n",
    "fig = plt.figure(figsize=(20, 8))\n",
    "ax = fig.add_subplot(1, 2, 1)\n",
    "ax = sns.boxplot(data=x)\n",
    "\n",
    "ax = fig.add_subplot(1, 2, 2)\n",
    "ax = sns.violinplot(data=x)"
   ]
  },
  {
   "cell_type": "code",
   "execution_count": 99,
   "metadata": {},
   "outputs": [
    {
     "data": {
      "image/png": "[encoded data removed]",
      "text/plain": [
       "<Figure size 1440x576 with 2 Axes>"
      ]
     },
     "metadata": {
      "needs_background": "light"
     },
     "output_type": "display_data"
    }
   ],
   "source": [
    "x = df_fao.select('Item Code').toPandas()\n",
    "\n",
    "fig = plt.figure(figsize=(20, 8))\n",
    "ax = fig.add_subplot(1, 2, 1)\n",
    "ax = sns.boxplot(data=x)\n",
    "\n",
    "ax = fig.add_subplot(1, 2, 2)\n",
    "ax = sns.violinplot(data=x)"
   ]
  },
  {
   "cell_type": "code",
   "execution_count": 100,
   "metadata": {},
   "outputs": [
    {
     "data": {
      "image/png": "[encoded data removed]",
      "text/plain": [
       "<Figure size 1440x576 with 2 Axes>"
      ]
     },
     "metadata": {
      "needs_background": "light"
     },
     "output_type": "display_data"
    }
   ],
   "source": [
    "x = df_fao.select('Element Code').toPandas()\n",
    "\n",
    "fig = plt.figure(figsize=(20, 8))\n",
    "ax = fig.add_subplot(1, 2, 1)\n",
    "ax = sns.boxplot(data=x)\n",
    "\n",
    "ax = fig.add_subplot(1, 2, 2)\n",
    "ax = sns.violinplot(data=x)"
   ]
  },
  {
   "cell_type": "code",
   "execution_count": 101,
   "metadata": {},
   "outputs": [
    {
     "data": {
      "image/png": "[encoded data removed]",
      "text/plain": [
       "<Figure size 1440x576 with 2 Axes>"
      ]
     },
     "metadata": {
      "needs_background": "light"
     },
     "output_type": "display_data"
    }
   ],
   "source": [
    "x = df_fao.select('Y1961').toPandas()\n",
    "\n",
    "fig = plt.figure(figsize=(20, 8))\n",
    "ax = fig.add_subplot(1, 2, 1)\n",
    "ax = sns.boxplot(data=x)\n",
    "\n",
    "ax = fig.add_subplot(1, 2, 2)\n",
    "ax = sns.violinplot(data=x)"
   ]
  },
  {
   "cell_type": "code",
   "execution_count": 102,
   "metadata": {},
   "outputs": [
    {
     "data": {
      "image/png": "[encoded data removed]",
      "text/plain": [
       "<Figure size 1440x576 with 2 Axes>"
      ]
     },
     "metadata": {
      "needs_background": "light"
     },
     "output_type": "display_data"
    }
   ],
   "source": [
    "x = df_fao.select('Y1961').toPandas()\n",
    "\n",
    "fig = plt.figure(figsize=(20, 8))\n",
    "ax = fig.add_subplot(1, 2, 1)\n",
    "ax = sns.boxplot(data=x)\n",
    "\n",
    "ax = fig.add_subplot(1, 2, 2)\n",
    "ax = sns.violinplot(data=x)"
   ]
  },
  {
   "cell_type": "code",
   "execution_count": 103,
   "metadata": {},
   "outputs": [
    {
     "data": {
      "image/png": "[encoded data removed]",
      "text/plain": [
       "<Figure size 1440x576 with 2 Axes>"
      ]
     },
     "metadata": {
      "needs_background": "light"
     },
     "output_type": "display_data"
    }
   ],
   "source": [
    "x = df_fao.select('Y1971').toPandas()\n",
    "\n",
    "fig = plt.figure(figsize=(20, 8))\n",
    "ax = fig.add_subplot(1, 2, 1)\n",
    "ax = sns.boxplot(data=x)\n",
    "\n",
    "ax = fig.add_subplot(1, 2, 2)\n",
    "ax = sns.violinplot(data=x)"
   ]
  },
  {
   "cell_type": "code",
   "execution_count": 104,
   "metadata": {},
   "outputs": [
    {
     "data": {
      "image/png": "[encoded data removed]",
      "text/plain": [
       "<Figure size 1440x576 with 2 Axes>"
      ]
     },
     "metadata": {
      "needs_background": "light"
     },
     "output_type": "display_data"
    }
   ],
   "source": [
    "x = df_fao.select('Y1981').toPandas()\n",
    "\n",
    "fig = plt.figure(figsize=(20, 8))\n",
    "ax = fig.add_subplot(1, 2, 1)\n",
    "ax = sns.boxplot(data=x)\n",
    "\n",
    "ax = fig.add_subplot(1, 2, 2)\n",
    "ax = sns.violinplot(data=x)"
   ]
  },
  {
   "cell_type": "code",
   "execution_count": 105,
   "metadata": {},
   "outputs": [
    {
     "data": {
      "image/png": "[encoded data removed]",
      "text/plain": [
       "<Figure size 1440x576 with 2 Axes>"
      ]
     },
     "metadata": {
      "needs_background": "light"
     },
     "output_type": "display_data"
    }
   ],
   "source": [
    "x = df_fao.select('Y1991').toPandas()\n",
    "\n",
    "fig = plt.figure(figsize=(20, 8))\n",
    "ax = fig.add_subplot(1, 2, 1)\n",
    "ax = sns.boxplot(data=x)\n",
    "\n",
    "ax = fig.add_subplot(1, 2, 2)\n",
    "ax = sns.violinplot(data=x)"
   ]
  },
  {
   "cell_type": "code",
   "execution_count": 106,
   "metadata": {},
   "outputs": [
    {
     "data": {
      "image/png": "[encoded data removed]",
      "text/plain": [
       "<Figure size 1440x576 with 2 Axes>"
      ]
     },
     "metadata": {
      "needs_background": "light"
     },
     "output_type": "display_data"
    }
   ],
   "source": [
    "x = df_fao.select('Y2001').toPandas()\n",
    "\n",
    "fig = plt.figure(figsize=(20, 8))\n",
    "ax = fig.add_subplot(1, 2, 1)\n",
    "ax = sns.boxplot(data=x)\n",
    "\n",
    "ax = fig.add_subplot(1, 2, 2)\n",
    "ax = sns.violinplot(data=x)"
   ]
  },
  {
   "cell_type": "code",
   "execution_count": 107,
   "metadata": {},
   "outputs": [
    {
     "data": {
      "image/png": "[encoded data removed]",
      "text/plain": [
       "<Figure size 1440x576 with 2 Axes>"
      ]
     },
     "metadata": {
      "needs_background": "light"
     },
     "output_type": "display_data"
    }
   ],
   "source": [
    "x = df_fao.select('Y2011').toPandas()\n",
    "\n",
    "fig = plt.figure(figsize=(20, 8))\n",
    "ax = fig.add_subplot(1, 2, 1)\n",
    "ax = sns.boxplot(data=x)\n",
    "\n",
    "ax = fig.add_subplot(1, 2, 2)\n",
    "ax = sns.violinplot(data=x)"
   ]
  },
  {
   "cell_type": "code",
   "execution_count": 108,
   "metadata": {},
   "outputs": [
    {
     "data": {
      "image/png": "[encoded data removed]",
      "text/plain": [
       "<Figure size 1440x576 with 2 Axes>"
      ]
     },
     "metadata": {
      "needs_background": "light"
     },
     "output_type": "display_data"
    }
   ],
   "source": [
    "x = df_fao.select('Y2013').toPandas()\n",
    "\n",
    "fig = plt.figure(figsize=(20, 8))\n",
    "ax = fig.add_subplot(1, 2, 1)\n",
    "ax = sns.boxplot(data=x)\n",
    "\n",
    "ax = fig.add_subplot(1, 2, 2)\n",
    "ax = sns.violinplot(data=x)"
   ]
  },
  {
   "cell_type": "code",
   "execution_count": 109,
   "metadata": {},
   "outputs": [
    {
     "data": {
      "image/png": "[encoded data removed]",
      "text/plain": [
       "<Figure size 864x720 with 1 Axes>"
      ]
     },
     "metadata": {
      "needs_background": "light"
     },
     "output_type": "display_data"
    }
   ],
   "source": [
    "x = df_fao.toPandas()['Area Code'].values.tolist()\n",
    "bins = np.arange(0, 100, 1)\n",
    "\n",
    "plt.figure(figsize=(12,10))\n",
    "# the histogram of the data\n",
    "plt.hist(x, bins, alpha=0.8, histtype='bar', color='blue',\n",
    "         ec='blue')\n",
    "\n",
    "plt.xlabel(\"Area Code\")\n",
    "plt.ylabel('Percentage')\n",
    "plt.xticks(bins)\n",
    "plt.show()"
   ]
  },
  {
   "cell_type": "code",
   "execution_count": 110,
   "metadata": {},
   "outputs": [
    {
     "data": {
      "image/png": "[encoded data removed]",
      "text/plain": [
       "<Figure size 864x720 with 1 Axes>"
      ]
     },
     "metadata": {
      "needs_background": "light"
     },
     "output_type": "display_data"
    }
   ],
   "source": [
    "x = df_fao.toPandas()['Element Code'].values.tolist()\n",
    "bins = np.arange(0, 100, 1)\n",
    "\n",
    "plt.figure(figsize=(12,10))\n",
    "# the histogram of the data\n",
    "plt.hist(x, bins, alpha=0.8, histtype='bar', color='blue',\n",
    "         ec='blue')\n",
    "\n",
    "plt.xlabel(\"Element Code\")\n",
    "plt.ylabel('Percentage')\n",
    "plt.xticks(bins)\n",
    "plt.show()"
   ]
  },
  {
   "cell_type": "code",
   "execution_count": 111,
   "metadata": {},
   "outputs": [
    {
     "data": {
      "image/png": "[encoded data removed]",
      "text/plain": [
       "<Figure size 864x720 with 1 Axes>"
      ]
     },
     "metadata": {
      "needs_background": "light"
     },
     "output_type": "display_data"
    }
   ],
   "source": [
    "x = df_fao.toPandas()['Item Code'].values.tolist()\n",
    "bins = np.arange(0, 100, 1)\n",
    "\n",
    "plt.figure(figsize=(12,10))\n",
    "# the histogram of the data\n",
    "plt.hist(x, bins, alpha=0.8, histtype='bar', color='blue',\n",
    "         ec='blue')\n",
    "\n",
    "plt.xlabel(\"Item Code\")\n",
    "plt.ylabel('Percentage')\n",
    "plt.xticks(bins)\n",
    "plt.show()"
   ]
  },
  {
   "cell_type": "markdown",
   "metadata": {},
   "source": [
    "# K Means Clustering"
   ]
  },
  {
   "cell_type": "code",
   "execution_count": null,
   "metadata": {},
   "outputs": [],
   "source": [
    "from pyspark.ml.clustering import KMeans\n",
    "from pyspark.ml.evaluation import ClusteringEvaluator"
   ]
  },
  {
   "cell_type": "code",
   "execution_count": null,
   "metadata": {},
   "outputs": [],
   "source": [
    "import numpy as np\n",
    "\n",
    "cost = np.zeros(20)\n",
    "for k in range(2,20):\n",
    "    kmeans = KMeans()\\\n",
    "            .setK(k)\\\n",
    "            .setSeed(1) \\\n",
    "            .setFeaturesCol(\"Features\")\\\n",
    "            .setPredictionCol(\"cluster\")\n",
    "\n",
    "    model = kmeans.fit(df_fao1)\n",
    "    cost[k] = model.computeCost(df_fao1)"
   ]
  },
  {
   "cell_type": "code",
   "execution_count": null,
   "metadata": {},
   "outputs": [],
   "source": [
    "import numpy as np\n",
    "import matplotlib.mlab as mlab\n",
    "import matplotlib.pyplot as plt\n",
    "import seaborn as sbs\n",
    "from matplotlib.ticker import MaxNLocator\n",
    "\n",
    "fig, ax = plt.subplots(1,1, figsize =(8,6))\n",
    "ax.plot(range(2,20),cost[2:20])\n",
    "ax.set_xlabel('k')\n",
    "ax.set_ylabel('cost')\n",
    "ax.xaxis.set_major_locator(MaxNLocator(integer=True))\n",
    "plt.show()\n",
    "\n",
    "\n",
    "\n"
   ]
  },
  {
   "cell_type": "code",
   "execution_count": null,
   "metadata": {},
   "outputs": [],
   "source": [
    "k = 10\n",
    "kmeans = KMeans().setK(k).setSeed(1).setFeaturesCol(\"Features\")\n",
    "model = kmeans.fit(df_fao1)\n",
    "centers = model.clusterCenters()\n",
    "\n",
    "print(\"Cluster Centers: \")\n",
    "for center in centers:\n",
    "    print(center)"
   ]
  },
  {
   "cell_type": "code",
   "execution_count": null,
   "metadata": {},
   "outputs": [],
   "source": [
    "transformed = model.transform(df_fao1).select('Y2013', 'prediction')\n",
    "rows = transformed.collect()\n",
    "print(rows[:3])"
   ]
  },
  {
   "cell_type": "code",
   "execution_count": null,
   "metadata": {},
   "outputs": [],
   "source": []
  },
  {
   "cell_type": "code",
   "execution_count": null,
   "metadata": {},
   "outputs": [],
   "source": []
  },
  {
   "cell_type": "code",
   "execution_count": null,
   "metadata": {},
   "outputs": [],
   "source": []
  },
  {
   "cell_type": "code",
   "execution_count": null,
   "metadata": {},
   "outputs": [],
   "source": []
  }
 ],
 "metadata": {
  "kernelspec": {
   "display_name": "Python 3",
   "language": "python",
   "name": "python3"
  },
  "language_info": {
   "codemirror_mode": {
    "name": "ipython",
    "version": 3
   },
   "file_extension": ".py",
   "mimetype": "text/x-python",
   "name": "python",
   "nbconvert_exporter": "python",
   "pygments_lexer": "ipython3",
   "version": "3.7.6"
  }
 },
 "nbformat": 4,
 "nbformat_minor": 4
}
